{
 "cells": [
  {
   "cell_type": "markdown",
   "metadata": {},
   "source": [
    "### Data Acquisition"
   ]
  },
  {
   "cell_type": "code",
   "execution_count": 1,
   "metadata": {},
   "outputs": [
    {
     "name": "stderr",
     "output_type": "stream",
     "text": [
      "[nltk_data] Downloading package stopwords to C:\\Users\\Annelie\n",
      "[nltk_data]     Schridde\\AppData\\Roaming\\nltk_data...\n",
      "[nltk_data]   Package stopwords is already up-to-date!\n",
      "[nltk_data] Downloading package vader_lexicon to C:\\Users\\Annelie\n",
      "[nltk_data]     Schridde\\AppData\\Roaming\\nltk_data...\n",
      "[nltk_data]   Package vader_lexicon is already up-to-date!\n",
      "[nltk_data] Downloading package punkt to C:\\Users\\Annelie\n",
      "[nltk_data]     Schridde\\AppData\\Roaming\\nltk_data...\n",
      "[nltk_data]   Package punkt is already up-to-date!\n",
      "C:\\Users\\Annelie Schridde\\AppData\\Roaming\\Python\\Python38\\site-packages\\gensim\\similarities\\__init__.py:15: UserWarning: The gensim.similarities.levenshtein submodule is disabled, because the optional Levenshtein package <https://pypi.org/project/python-Levenshtein/> is unavailable. Install Levenhstein (e.g. `pip install python-Levenshtein`) to suppress this warning.\n",
      "  warnings.warn(msg)\n"
     ]
    }
   ],
   "source": [
    "%run my_functions.py"
   ]
  },
  {
   "cell_type": "code",
   "execution_count": 6,
   "metadata": {},
   "outputs": [],
   "source": [
    "def download_data(url:str, destination:str):\n",
    "    if not os.path.exists(destination):\n",
    "        os.makedirs(destination)\n",
    "\n",
    "    filename = url.split('/')[-1].replace(\" \",\"_\")\n",
    "    file_path = os.path.join(destination, filename)\n",
    "\n",
    "    r = requests.get(url, stream = True)\n",
    "    if r.ok:\n",
    "        print(\"saving to\", os.path.abspath(file_path))\n",
    "        with open(file_path, 'wb') as f:\n",
    "            for chunk in r.iter_content(chunk_size=1024*8):\n",
    "                if chunk:\n",
    "                    f.write(chunk)\n",
    "                    f.flush\n",
    "                    os.fsync(f.fileno())\n",
    "    else: \n",
    "        print(\"Download failed! status code {}\\n{}\".format(r.status_code, r.text))\n",
    "\n"
   ]
  },
  {
   "cell_type": "code",
   "execution_count": 8,
   "metadata": {},
   "outputs": [
    {
     "name": "stdout",
     "output_type": "stream",
     "text": [
      "saving to d:\\Master-Thesis\\amazon_files\\amazon_reviews_us_Video_v1_00.tsv.gz\n"
     ]
    }
   ],
   "source": [
    "download_data('https://s3.amazonaws.com/amazon-reviews-pds/tsv/amazon_reviews_us_Books_v1_00.tsv.gz', \"../amazon_files\")"
   ]
  },
  {
   "cell_type": "code",
   "execution_count": 2,
   "metadata": {},
   "outputs": [
    {
     "name": "stderr",
     "output_type": "stream",
     "text": [
      "b'Skipping line 3524: expected 15 fields, saw 22\\nSkipping line 5282: expected 15 fields, saw 22\\nSkipping line 20478: expected 15 fields, saw 22\\nSkipping line 25895: expected 15 fields, saw 22\\nSkipping line 27016: expected 15 fields, saw 22\\nSkipping line 59798: expected 15 fields, saw 22\\n'\n",
      "b'Skipping line 69198: expected 15 fields, saw 22\\nSkipping line 71953: expected 15 fields, saw 22\\nSkipping line 78720: expected 15 fields, saw 22\\nSkipping line 81300: expected 15 fields, saw 22\\nSkipping line 87683: expected 15 fields, saw 22\\nSkipping line 90516: expected 15 fields, saw 22\\nSkipping line 91147: expected 15 fields, saw 22\\nSkipping line 108945: expected 15 fields, saw 22\\nSkipping line 118289: expected 15 fields, saw 22\\nSkipping line 124667: expected 15 fields, saw 22\\nSkipping line 125541: expected 15 fields, saw 22\\n'\n",
      "b'Skipping line 144115: expected 15 fields, saw 22\\nSkipping line 167696: expected 15 fields, saw 22\\nSkipping line 179856: expected 15 fields, saw 22\\nSkipping line 189712: expected 15 fields, saw 22\\nSkipping line 196488: expected 15 fields, saw 22\\n'\n",
      "b'Skipping line 232132: expected 15 fields, saw 22\\nSkipping line 241734: expected 15 fields, saw 22\\n'\n",
      "b'Skipping line 269923: expected 15 fields, saw 22\\nSkipping line 279158: expected 15 fields, saw 22\\nSkipping line 283357: expected 15 fields, saw 22\\nSkipping line 285767: expected 15 fields, saw 22\\nSkipping line 308166: expected 15 fields, saw 22\\nSkipping line 315199: expected 15 fields, saw 22\\nSkipping line 315300: expected 15 fields, saw 22\\nSkipping line 316213: expected 15 fields, saw 22\\nSkipping line 317998: expected 15 fields, saw 22\\n'\n",
      "b'Skipping line 331459: expected 15 fields, saw 22\\nSkipping line 342509: expected 15 fields, saw 22\\nSkipping line 342825: expected 15 fields, saw 22\\nSkipping line 354794: expected 15 fields, saw 22\\nSkipping line 362229: expected 15 fields, saw 22\\nSkipping line 376919: expected 15 fields, saw 22\\nSkipping line 377584: expected 15 fields, saw 22\\nSkipping line 384728: expected 15 fields, saw 22\\n'\n",
      "b'Skipping line 404537: expected 15 fields, saw 22\\nSkipping line 407127: expected 15 fields, saw 22\\nSkipping line 407199: expected 15 fields, saw 22\\nSkipping line 407318: expected 15 fields, saw 22\\nSkipping line 417229: expected 15 fields, saw 22\\nSkipping line 417544: expected 15 fields, saw 22\\nSkipping line 435141: expected 15 fields, saw 22\\nSkipping line 445780: expected 15 fields, saw 22\\nSkipping line 446971: expected 15 fields, saw 22\\nSkipping line 456356: expected 15 fields, saw 22\\n'\n",
      "b'Skipping line 460217: expected 15 fields, saw 22\\nSkipping line 503770: expected 15 fields, saw 22\\nSkipping line 504599: expected 15 fields, saw 22\\n'\n",
      "b'Skipping line 543757: expected 15 fields, saw 22\\nSkipping line 546081: expected 15 fields, saw 22\\nSkipping line 547035: expected 15 fields, saw 22\\nSkipping line 550048: expected 15 fields, saw 22\\nSkipping line 550558: expected 15 fields, saw 22\\nSkipping line 562531: expected 15 fields, saw 22\\nSkipping line 563726: expected 15 fields, saw 22\\n'\n",
      "b'Skipping line 599564: expected 15 fields, saw 22\\nSkipping line 623644: expected 15 fields, saw 22\\nSkipping line 640089: expected 15 fields, saw 22\\nSkipping line 649887: expected 15 fields, saw 22\\nSkipping line 654117: expected 15 fields, saw 22\\n'\n",
      "b'Skipping line 657716: expected 15 fields, saw 22\\nSkipping line 659929: expected 15 fields, saw 22\\nSkipping line 674261: expected 15 fields, saw 22\\nSkipping line 679004: expected 15 fields, saw 22\\nSkipping line 683123: expected 15 fields, saw 22\\nSkipping line 692183: expected 15 fields, saw 22\\nSkipping line 700352: expected 15 fields, saw 22\\nSkipping line 701259: expected 15 fields, saw 22\\n'\n",
      "b'Skipping line 726436: expected 15 fields, saw 22\\nSkipping line 747628: expected 15 fields, saw 22\\nSkipping line 776068: expected 15 fields, saw 22\\n'\n",
      "b'Skipping line 799264: expected 15 fields, saw 22\\nSkipping line 806558: expected 15 fields, saw 22\\nSkipping line 815835: expected 15 fields, saw 22\\nSkipping line 825789: expected 15 fields, saw 22\\nSkipping line 832515: expected 15 fields, saw 22\\nSkipping line 833551: expected 15 fields, saw 22\\nSkipping line 843440: expected 15 fields, saw 22\\nSkipping line 843493: expected 15 fields, saw 22\\nSkipping line 843731: expected 15 fields, saw 22\\n'\n",
      "b'Skipping line 857694: expected 15 fields, saw 22\\nSkipping line 871364: expected 15 fields, saw 22\\nSkipping line 884645: expected 15 fields, saw 22\\nSkipping line 886120: expected 15 fields, saw 22\\nSkipping line 910878: expected 15 fields, saw 22\\n'\n",
      "b'Skipping line 932357: expected 15 fields, saw 22\\nSkipping line 933679: expected 15 fields, saw 22\\nSkipping line 934172: expected 15 fields, saw 22\\nSkipping line 935670: expected 15 fields, saw 22\\nSkipping line 939595: expected 15 fields, saw 22\\nSkipping line 967072: expected 15 fields, saw 22\\n'\n",
      "b'Skipping line 991557: expected 15 fields, saw 22\\nSkipping line 999316: expected 15 fields, saw 22\\nSkipping line 1000034: expected 15 fields, saw 22\\nSkipping line 1008871: expected 15 fields, saw 22\\nSkipping line 1018761: expected 15 fields, saw 22\\n'\n",
      "b'Skipping line 1072693: expected 15 fields, saw 22\\nSkipping line 1105486: expected 15 fields, saw 22\\nSkipping line 1108163: expected 15 fields, saw 22\\n'\n",
      "b'Skipping line 1115210: expected 15 fields, saw 22\\nSkipping line 1135407: expected 15 fields, saw 22\\nSkipping line 1138583: expected 15 fields, saw 22\\nSkipping line 1143289: expected 15 fields, saw 22\\nSkipping line 1145199: expected 15 fields, saw 22\\nSkipping line 1147208: expected 15 fields, saw 22\\nSkipping line 1162162: expected 15 fields, saw 22\\nSkipping line 1165191: expected 15 fields, saw 22\\nSkipping line 1167262: expected 15 fields, saw 22\\nSkipping line 1170422: expected 15 fields, saw 22\\nSkipping line 1175499: expected 15 fields, saw 22\\n'\n",
      "b'Skipping line 1185352: expected 15 fields, saw 22\\nSkipping line 1190771: expected 15 fields, saw 22\\nSkipping line 1191562: expected 15 fields, saw 22\\nSkipping line 1200493: expected 15 fields, saw 22\\nSkipping line 1207009: expected 15 fields, saw 22\\nSkipping line 1210665: expected 15 fields, saw 22\\nSkipping line 1214281: expected 15 fields, saw 22\\nSkipping line 1224195: expected 15 fields, saw 22\\nSkipping line 1228210: expected 15 fields, saw 22\\nSkipping line 1234523: expected 15 fields, saw 22\\nSkipping line 1238400: expected 15 fields, saw 22\\n'\n",
      "b'Skipping line 1254515: expected 15 fields, saw 22\\nSkipping line 1255457: expected 15 fields, saw 22\\nSkipping line 1273387: expected 15 fields, saw 22\\nSkipping line 1286172: expected 15 fields, saw 22\\nSkipping line 1292621: expected 15 fields, saw 22\\nSkipping line 1304301: expected 15 fields, saw 22\\n'\n",
      "b'Skipping line 1315164: expected 15 fields, saw 22\\nSkipping line 1324128: expected 15 fields, saw 22\\nSkipping line 1353674: expected 15 fields, saw 22\\nSkipping line 1373124: expected 15 fields, saw 22\\n'\n",
      "b'Skipping line 1387503: expected 15 fields, saw 22\\nSkipping line 1394693: expected 15 fields, saw 22\\nSkipping line 1403491: expected 15 fields, saw 22\\nSkipping line 1433326: expected 15 fields, saw 22\\n'\n",
      "b'Skipping line 1496234: expected 15 fields, saw 22\\nSkipping line 1498327: expected 15 fields, saw 22\\n'\n",
      "b'Skipping line 1510859: expected 15 fields, saw 22\\nSkipping line 1511601: expected 15 fields, saw 22\\nSkipping line 1528673: expected 15 fields, saw 22\\nSkipping line 1556136: expected 15 fields, saw 22\\nSkipping line 1563375: expected 15 fields, saw 22\\n'\n",
      "b'Skipping line 1574281: expected 15 fields, saw 22\\nSkipping line 1594780: expected 15 fields, saw 22\\nSkipping line 1597538: expected 15 fields, saw 22\\nSkipping line 1610578: expected 15 fields, saw 22\\nSkipping line 1619131: expected 15 fields, saw 22\\n'\n",
      "b'Skipping line 1639356: expected 15 fields, saw 22\\nSkipping line 1673602: expected 15 fields, saw 22\\nSkipping line 1679238: expected 15 fields, saw 22\\nSkipping line 1687574: expected 15 fields, saw 22\\nSkipping line 1691932: expected 15 fields, saw 22\\nSkipping line 1692750: expected 15 fields, saw 22\\nSkipping line 1702697: expected 15 fields, saw 22\\n'\n",
      "b'Skipping line 1719706: expected 15 fields, saw 22\\nSkipping line 1727267: expected 15 fields, saw 22\\nSkipping line 1730634: expected 15 fields, saw 22\\nSkipping line 1732703: expected 15 fields, saw 22\\nSkipping line 1748259: expected 15 fields, saw 22\\nSkipping line 1754840: expected 15 fields, saw 22\\n'\n",
      "b'Skipping line 1771393: expected 15 fields, saw 22\\nSkipping line 1777950: expected 15 fields, saw 22\\nSkipping line 1780429: expected 15 fields, saw 22\\nSkipping line 1783894: expected 15 fields, saw 22\\nSkipping line 1815716: expected 15 fields, saw 22\\n'\n",
      "b'Skipping line 1836542: expected 15 fields, saw 22\\nSkipping line 1837325: expected 15 fields, saw 22\\nSkipping line 1841712: expected 15 fields, saw 22\\nSkipping line 1846462: expected 15 fields, saw 22\\nSkipping line 1875025: expected 15 fields, saw 22\\nSkipping line 1885667: expected 15 fields, saw 22\\nSkipping line 1887273: expected 15 fields, saw 22\\nSkipping line 1894656: expected 15 fields, saw 22\\nSkipping line 1899233: expected 15 fields, saw 22\\n'\n",
      "b'Skipping line 1924326: expected 15 fields, saw 22\\nSkipping line 1952474: expected 15 fields, saw 22\\n'\n",
      "b'Skipping line 1968065: expected 15 fields, saw 22\\nSkipping line 1974616: expected 15 fields, saw 22\\nSkipping line 1975253: expected 15 fields, saw 22\\nSkipping line 1985530: expected 15 fields, saw 22\\nSkipping line 2017510: expected 15 fields, saw 22\\n'\n",
      "b'Skipping line 2054246: expected 15 fields, saw 22\\nSkipping line 2059567: expected 15 fields, saw 22\\nSkipping line 2060366: expected 15 fields, saw 22\\nSkipping line 2084963: expected 15 fields, saw 22\\n'\n",
      "b'Skipping line 2110060: expected 15 fields, saw 22\\nSkipping line 2141255: expected 15 fields, saw 22\\nSkipping line 2150314: expected 15 fields, saw 22\\n'\n",
      "b'Skipping line 2174065: expected 15 fields, saw 22\\nSkipping line 2193567: expected 15 fields, saw 22\\nSkipping line 2194481: expected 15 fields, saw 22\\nSkipping line 2224645: expected 15 fields, saw 22\\n'\n",
      "b'Skipping line 2235625: expected 15 fields, saw 22\\n'\n",
      "b'Skipping line 2315134: expected 15 fields, saw 22\\nSkipping line 2356707: expected 15 fields, saw 22\\n'\n",
      "b'Skipping line 2381237: expected 15 fields, saw 22\\nSkipping line 2408854: expected 15 fields, saw 22\\nSkipping line 2412478: expected 15 fields, saw 22\\n'\n",
      "b'Skipping line 2453919: expected 15 fields, saw 22\\n'\n",
      "b'Skipping line 2600523: expected 15 fields, saw 22\\n'\n",
      "b'Skipping line 2637753: expected 15 fields, saw 22\\nSkipping line 2644735: expected 15 fields, saw 22\\nSkipping line 2660382: expected 15 fields, saw 22\\nSkipping line 2670926: expected 15 fields, saw 22\\nSkipping line 2678831: expected 15 fields, saw 22\\nSkipping line 2681185: expected 15 fields, saw 22\\nSkipping line 2685421: expected 15 fields, saw 22\\n'\n",
      "b'Skipping line 2723748: expected 15 fields, saw 22\\nSkipping line 2741455: expected 15 fields, saw 22\\n'\n",
      "b'Skipping line 2758664: expected 15 fields, saw 22\\nSkipping line 2762152: expected 15 fields, saw 22\\nSkipping line 2775984: expected 15 fields, saw 22\\nSkipping line 2787903: expected 15 fields, saw 22\\nSkipping line 2802792: expected 15 fields, saw 22\\n'\n",
      "b'Skipping line 2830478: expected 15 fields, saw 22\\nSkipping line 2836932: expected 15 fields, saw 22\\nSkipping line 2847277: expected 15 fields, saw 22\\nSkipping line 2870724: expected 15 fields, saw 22\\n'\n",
      "b'Skipping line 2929246: expected 15 fields, saw 22\\nSkipping line 2939718: expected 15 fields, saw 22\\nSkipping line 2944903: expected 15 fields, saw 22\\nSkipping line 2945398: expected 15 fields, saw 22\\nSkipping line 2946680: expected 15 fields, saw 22\\n'\n",
      "b'Skipping line 2953410: expected 15 fields, saw 22\\nSkipping line 2957065: expected 15 fields, saw 22\\nSkipping line 3006213: expected 15 fields, saw 22\\n'\n",
      "b'Skipping line 3028333: expected 15 fields, saw 22\\nSkipping line 3042362: expected 15 fields, saw 22\\n'\n",
      "b'Skipping line 3106324: expected 15 fields, saw 22\\nSkipping line 3140250: expected 15 fields, saw 22\\nSkipping line 3141667: expected 15 fields, saw 22\\nSkipping line 3142917: expected 15 fields, saw 22\\n'\n",
      "b'Skipping line 3156696: expected 15 fields, saw 22\\nSkipping line 3159494: expected 15 fields, saw 22\\nSkipping line 3172832: expected 15 fields, saw 22\\nSkipping line 3190368: expected 15 fields, saw 22\\n'\n",
      "b'Skipping line 3237204: expected 15 fields, saw 22\\nSkipping line 3242114: expected 15 fields, saw 22\\nSkipping line 3243358: expected 15 fields, saw 22\\nSkipping line 3258982: expected 15 fields, saw 22\\nSkipping line 3261494: expected 15 fields, saw 22\\n'\n",
      "b'Skipping line 3285980: expected 15 fields, saw 22\\nSkipping line 3287556: expected 15 fields, saw 22\\nSkipping line 3297734: expected 15 fields, saw 22\\nSkipping line 3314897: expected 15 fields, saw 22\\nSkipping line 3319891: expected 15 fields, saw 22\\n'\n",
      "b'Skipping line 3346701: expected 15 fields, saw 22\\nSkipping line 3350661: expected 15 fields, saw 22\\nSkipping line 3353746: expected 15 fields, saw 22\\nSkipping line 3364196: expected 15 fields, saw 22\\nSkipping line 3383428: expected 15 fields, saw 22\\nSkipping line 3387465: expected 15 fields, saw 22\\n'\n",
      "b'Skipping line 3421118: expected 15 fields, saw 22\\nSkipping line 3423001: expected 15 fields, saw 22\\nSkipping line 3426328: expected 15 fields, saw 22\\nSkipping line 3427522: expected 15 fields, saw 22\\n'\n",
      "b'Skipping line 3477903: expected 15 fields, saw 22\\nSkipping line 3530035: expected 15 fields, saw 22\\nSkipping line 3530375: expected 15 fields, saw 22\\n'\n",
      "b'Skipping line 3542944: expected 15 fields, saw 22\\nSkipping line 3563598: expected 15 fields, saw 22\\nSkipping line 3582657: expected 15 fields, saw 22\\nSkipping line 3585525: expected 15 fields, saw 22\\nSkipping line 3592253: expected 15 fields, saw 22\\nSkipping line 3603659: expected 15 fields, saw 22\\n'\n",
      "b'Skipping line 3624426: expected 15 fields, saw 22\\n'\n",
      "b'Skipping line 3712450: expected 15 fields, saw 22\\n'\n",
      "b'Skipping line 3738960: expected 15 fields, saw 22\\n'\n",
      "b'Skipping line 3868638: expected 15 fields, saw 22\\nSkipping line 3906993: expected 15 fields, saw 22\\n'\n",
      "b'Skipping line 3932658: expected 15 fields, saw 22\\nSkipping line 3946211: expected 15 fields, saw 22\\n'\n",
      "b'Skipping line 4002121: expected 15 fields, saw 22\\nSkipping line 4037794: expected 15 fields, saw 22\\nSkipping line 4055051: expected 15 fields, saw 22\\n'\n",
      "b'Skipping line 4126261: expected 15 fields, saw 22\\n'\n",
      "b'Skipping line 4136235: expected 15 fields, saw 22\\nSkipping line 4186222: expected 15 fields, saw 22\\n'\n",
      "b'Skipping line 4206389: expected 15 fields, saw 22\\nSkipping line 4227217: expected 15 fields, saw 22\\nSkipping line 4246628: expected 15 fields, saw 22\\nSkipping line 4248387: expected 15 fields, saw 22\\n'\n",
      "b'Skipping line 4305738: expected 15 fields, saw 22\\n'\n",
      "b'Skipping line 4332985: expected 15 fields, saw 22\\nSkipping line 4342611: expected 15 fields, saw 22\\nSkipping line 4343614: expected 15 fields, saw 22\\nSkipping line 4360307: expected 15 fields, saw 22\\n'\n",
      "b'Skipping line 4415470: expected 15 fields, saw 22\\nSkipping line 4419078: expected 15 fields, saw 22\\nSkipping line 4446809: expected 15 fields, saw 22\\nSkipping line 4449653: expected 15 fields, saw 22\\n'\n",
      "b'Skipping line 4459302: expected 15 fields, saw 22\\nSkipping line 4477213: expected 15 fields, saw 22\\nSkipping line 4500863: expected 15 fields, saw 22\\n'\n",
      "b'Skipping line 4549886: expected 15 fields, saw 22\\nSkipping line 4552288: expected 15 fields, saw 22\\nSkipping line 4558859: expected 15 fields, saw 22\\nSkipping line 4562251: expected 15 fields, saw 22\\nSkipping line 4567914: expected 15 fields, saw 22\\n'\n",
      "b'Skipping line 4633361: expected 15 fields, saw 22\\nSkipping line 4640817: expected 15 fields, saw 22\\nSkipping line 4644917: expected 15 fields, saw 22\\n'\n",
      "b'Skipping line 4671853: expected 15 fields, saw 22\\nSkipping line 4701154: expected 15 fields, saw 22\\n'\n",
      "b'Skipping line 4721070: expected 15 fields, saw 22\\nSkipping line 4731356: expected 15 fields, saw 22\\nSkipping line 4744855: expected 15 fields, saw 22\\n'\n",
      "b'Skipping line 4939720: expected 15 fields, saw 22\\n'\n",
      "b'Skipping line 5184883: expected 15 fields, saw 22\\n'\n",
      "b'Skipping line 5279520: expected 15 fields, saw 22\\nSkipping line 5303010: expected 15 fields, saw 22\\n'\n",
      "b'Skipping line 5659632: expected 15 fields, saw 22\\n'\n",
      "b'Skipping line 5893492: expected 15 fields, saw 22\\n'\n",
      "b'Skipping line 5906173: expected 15 fields, saw 22\\n'\n",
      "b'Skipping line 6053734: expected 15 fields, saw 22\\n'\n",
      "b'Skipping line 6250800: expected 15 fields, saw 22\\n'\n",
      "b'Skipping line 6525510: expected 15 fields, saw 22\\n'\n",
      "b'Skipping line 6704025: expected 15 fields, saw 22\\n'\n",
      "b'Skipping line 7724708: expected 15 fields, saw 22\\n'\n",
      "b'Skipping line 8647349: expected 15 fields, saw 22\\n'\n",
      "C:\\Program Files\\Python38\\lib\\site-packages\\IPython\\core\\interactiveshell.py:3106: DtypeWarning: Columns (7) have mixed types.Specify dtype option on import or set low_memory=False.\n",
      "  has_raised = await self.run_ast_nodes(code_ast.body, cell_name,\n"
     ]
    }
   ],
   "source": [
    "raw_data = pd.read_csv(r\"..\\amazon_files\\amazon_reviews_us_Books_v1_00.tsv.gz\", sep=\"\\t\", compression = 'gzip', error_bad_lines=False)"
   ]
  },
  {
   "cell_type": "code",
   "execution_count": 3,
   "metadata": {},
   "outputs": [
    {
     "data": {
      "text/plain": [
       "(10236850, 15)"
      ]
     },
     "execution_count": 3,
     "metadata": {},
     "output_type": "execute_result"
    }
   ],
   "source": [
    "raw_data.shape"
   ]
  },
  {
   "cell_type": "code",
   "execution_count": 4,
   "metadata": {},
   "outputs": [
    {
     "name": "stdout",
     "output_type": "stream",
     "text": [
      "<class 'pandas.core.frame.DataFrame'>\n",
      "RangeIndex: 10236850 entries, 0 to 10236849\n",
      "Data columns (total 15 columns):\n",
      " #   Column             Dtype  \n",
      "---  ------             -----  \n",
      " 0   marketplace        object \n",
      " 1   customer_id        int64  \n",
      " 2   review_id          object \n",
      " 3   product_id         object \n",
      " 4   product_parent     int64  \n",
      " 5   product_title      object \n",
      " 6   product_category   object \n",
      " 7   star_rating        object \n",
      " 8   helpful_votes      float64\n",
      " 9   total_votes        float64\n",
      " 10  vine               object \n",
      " 11  verified_purchase  object \n",
      " 12  review_headline    object \n",
      " 13  review_body        object \n",
      " 14  review_date        object \n",
      "dtypes: float64(2), int64(2), object(11)\n",
      "memory usage: 1.1+ GB\n"
     ]
    }
   ],
   "source": [
    "raw_data.info()"
   ]
  },
  {
   "cell_type": "code",
   "execution_count": 5,
   "metadata": {},
   "outputs": [],
   "source": [
    "with open(\"../dataframes/raw_data_Books_00.pkl\", \"wb\") as f:\n",
    "    pickle.dump(raw_data, f)"
   ]
  },
  {
   "cell_type": "code",
   "execution_count": null,
   "metadata": {},
   "outputs": [],
   "source": [
    "df.info()\n"
   ]
  },
  {
   "cell_type": "code",
   "execution_count": null,
   "metadata": {},
   "outputs": [],
   "source": [
    "\n",
    "df.shape\n"
   ]
  },
  {
   "cell_type": "code",
   "execution_count": null,
   "metadata": {},
   "outputs": [],
   "source": [
    "\n",
    "df.describe()\n"
   ]
  },
  {
   "cell_type": "code",
   "execution_count": null,
   "metadata": {},
   "outputs": [],
   "source": [
    "\n",
    "## Verification of Sold Item \n",
    "\n",
    "df.verified_purchase.value_counts()\n",
    "df = df[df[\"verified_purchase\"] == \"Y\"] # use only verified ones\n",
    "df\n"
   ]
  },
  {
   "cell_type": "code",
   "execution_count": null,
   "metadata": {},
   "outputs": [],
   "source": [
    "\n",
    "df[pd.isna(df['review_date']) == True] # data with na values, no date\n"
   ]
  },
  {
   "cell_type": "code",
   "execution_count": null,
   "metadata": {},
   "outputs": [],
   "source": [
    "\n",
    "#shorten data to only rows with a date stamp\n",
    "df = df[pd.isna(df[\"review_date\"]) == False]\n",
    "for date in df[\"review_date\"].astype(\"str\"):\n",
    "        datetime.strptime(date, \"%Y-%M-%d\")\n",
    "print(df)\n"
   ]
  },
  {
   "cell_type": "code",
   "execution_count": null,
   "metadata": {},
   "outputs": [],
   "source": [
    "\n",
    "df = df[df[\"review_date\"] >= \"2015-01-01\"] # only one year of data to reduce data \n"
   ]
  },
  {
   "cell_type": "code",
   "execution_count": null,
   "metadata": {},
   "outputs": [],
   "source": [
    "\n",
    "df.shape\n"
   ]
  },
  {
   "cell_type": "code",
   "execution_count": null,
   "metadata": {},
   "outputs": [],
   "source": [
    "#shuffle data and cut to 100.000 entries\n",
    "# --> easier to work with and faster with topic models later\n",
    "np.random.seed(42)\n",
    "df = df.sample(frac = 1)[:100000]"
   ]
  },
  {
   "cell_type": "code",
   "execution_count": null,
   "metadata": {},
   "outputs": [],
   "source": [
    "\n",
    "with open(\"../dataframes/raw_data_Books_00_short_shuffled.pkl\", \"wb\") as f:\n",
    "    pickle.dump(df, f)"
   ]
  }
 ],
 "metadata": {
  "kernelspec": {
   "display_name": "Python 3.8.2 64-bit",
   "language": "python",
   "name": "python3"
  },
  "language_info": {
   "codemirror_mode": {
    "name": "ipython",
    "version": 3
   },
   "file_extension": ".py",
   "mimetype": "text/x-python",
   "name": "python",
   "nbconvert_exporter": "python",
   "pygments_lexer": "ipython3",
   "version": "3.8.2"
  },
  "orig_nbformat": 4,
  "vscode": {
   "interpreter": {
    "hash": "570feb405e2e27c949193ac68f46852414290d515b0ba6e5d90d076ed2284471"
   }
  }
 },
 "nbformat": 4,
 "nbformat_minor": 2
}
