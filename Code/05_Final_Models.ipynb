{
 "cells": [
  {
   "cell_type": "code",
   "execution_count": 10,
   "metadata": {},
   "outputs": [
    {
     "name": "stderr",
     "output_type": "stream",
     "text": [
      "C:\\Users\\Annelie Schridde\\AppData\\Roaming\\Python\\Python38\\site-packages\\spacy\\util.py:865: UserWarning: [W095] Model 'en_core_web_sm' (3.0.0) was trained with spaCy v3.0 and may not be 100% compatible with the current version (3.4.0). If you see errors or degraded performance, download a newer compatible model or retrain your custom model with the current spaCy version. For more details and available updates, run: python -m spacy validate\n",
      "  warnings.warn(warn_msg)\n",
      "[nltk_data] Downloading package stopwords to C:\\Users\\Annelie\n",
      "[nltk_data]     Schridde\\AppData\\Roaming\\nltk_data...\n",
      "[nltk_data]   Package stopwords is already up-to-date!\n",
      "[nltk_data] Downloading package vader_lexicon to C:\\Users\\Annelie\n",
      "[nltk_data]     Schridde\\AppData\\Roaming\\nltk_data...\n",
      "[nltk_data]   Package vader_lexicon is already up-to-date!\n",
      "[nltk_data] Downloading package punkt to C:\\Users\\Annelie\n",
      "[nltk_data]     Schridde\\AppData\\Roaming\\nltk_data...\n",
      "[nltk_data]   Package punkt is already up-to-date!\n",
      "[nltk_data] Downloading package wordnet to C:\\Users\\Annelie\n",
      "[nltk_data]     Schridde\\AppData\\Roaming\\nltk_data...\n",
      "[nltk_data]   Package wordnet is already up-to-date!\n",
      "[nltk_data] Downloading package averaged_perceptron_tagger to\n",
      "[nltk_data]     C:\\Users\\Annelie Schridde\\AppData\\Roaming\\nltk_data...\n",
      "[nltk_data]   Package averaged_perceptron_tagger is already up-to-\n",
      "[nltk_data]       date!\n"
     ]
    }
   ],
   "source": [
    "%run my_functions.py\n"
   ]
  },
  {
   "cell_type": "code",
   "execution_count": 11,
   "metadata": {},
   "outputs": [],
   "source": [
    "# loading preprocessed dataset\n",
    "with open(\"../dataframes/raw_data_Books_00_clean_and_cut.pkl\", \"rb\") as f:\n",
    "    df = pickle.load(f)\n",
    "df = df[:20000]"
   ]
  },
  {
   "cell_type": "code",
   "execution_count": 12,
   "metadata": {},
   "outputs": [],
   "source": [
    "texts =[]\n",
    "for doc in df.cut_and_clean:\n",
    "        words = tokenizer.tokenize(doc)\n",
    "        texts.append(words)\n",
    "\n",
    "dictionary = Dictionary(texts)\n",
    "dictionary.filter_extremes(no_below=20, no_above=0.8)"
   ]
  },
  {
   "cell_type": "markdown",
   "metadata": {},
   "source": [
    "## 1. Transformers (Bag-of-Words)"
   ]
  },
  {
   "cell_type": "markdown",
   "metadata": {},
   "source": [
    "### 1.1 Count Vectorizer"
   ]
  },
  {
   "cell_type": "code",
   "execution_count": 13,
   "metadata": {},
   "outputs": [],
   "source": [
    "# the vectorizer object will be used to transform text to vector form\n",
    "vectorizer = CountVectorizer(max_df=0.8, min_df=20, token_pattern='\\w+|\\$[\\d\\.]+|\\S+')\n",
    "\n",
    "# apply transformation\n",
    "tf_fit = vectorizer.fit_transform(df['cut_and_clean'])\n",
    "#pickle.dump(tf_fit, open('../models/bow_tf.pkl', 'wb')) #save fitted model\n",
    "tf = tf_fit.toarray()\n",
    "\n",
    "# tf_feature_names tells us what word each column in the matric represents\n",
    "tf_feature_names = vectorizer.get_feature_names()"
   ]
  },
  {
   "cell_type": "markdown",
   "metadata": {},
   "source": [
    "# Non-Negative Matrix Factorization"
   ]
  },
  {
   "cell_type": "code",
   "execution_count": 83,
   "metadata": {},
   "outputs": [],
   "source": [
    "from sklearn.decomposition import NMF\n",
    "nmf_cv = NMF(n_components=8, init= 'nndsvd')\n",
    "nmf_npmi = NMF(n_components=15, init= 'nndsvd')\n",
    "nmf_uci = NMF(n_components=10, init= 'nndsvd')"
   ]
  },
  {
   "cell_type": "markdown",
   "metadata": {},
   "source": [
    "### NMF TF"
   ]
  },
  {
   "cell_type": "code",
   "execution_count": 84,
   "metadata": {},
   "outputs": [],
   "source": [
    "NMF_tf_cv = nmf_cv.fit(tf)\n",
    "NMF_tf_npmi = nmf_npmi.fit(tf)\n",
    "NMF_tf_uci = nmf_uci.fit(tf)\n",
    "display_topics(NMF_tf_cv, tf_feature_names, 10).to_excel(\"../models/nmf_tf8.xlsx\")\n",
    "display_topics(NMF_tf_npmi, tf_feature_names, 10).to_excel(\"../models/nmf_tf15.xlsx\")\n",
    "display_topics(NMF_tf_uci, tf_feature_names, 10).to_excel(\"../models/nmf_tf10.xlsx\")"
   ]
  },
  {
   "cell_type": "code",
   "execution_count": 107,
   "metadata": {},
   "outputs": [
    {
     "name": "stdout",
     "output_type": "stream",
     "text": [
      "\n",
      "Coherence Score CV:  0.5813181284414983\n",
      "\n",
      "Coherence Score UMass:  -2.820633396457637\n",
      "\n",
      "Coherence Score NPMI:  0.03183704242631619\n",
      "\n",
      "Coherence Score UCI:  -0.40862802087196237\n",
      "\n",
      "Silhouette Score:  -0.08901912641548664\n",
      "\n",
      "Calinski-Harabasz Score:  32.81653270919548\n",
      "\n",
      "Davies-Bouldin Score:  7.541319938842041\n"
     ]
    }
   ],
   "source": [
    "# Evaluation Metrics for whole dataset\n",
    "\n",
    "cv_nmf_tf, c_umass_nmf_tf, c_npmi_nmf_tf, c_uci_nmf_tf, sil_score_nmf_tf, ch_index_nmf_tf, db_index_nmf_tf = evaluation(NMF_tf_cv, tf_fit, tf, tf_feature_names, 20, df[\"cut_and_clean\"], dictionary)\n",
    "cv_nmf_tf, c_umass_nmf_tf, c_npmi_nmf_tf, c_uci_nmf_tf, sil_score_nmf_tf, ch_index_nmf_tf, db_index_nmf_tf = evaluation(NMF_tf_npmi, tf_fit, tf, tf_feature_names, 20, df[\"cut_and_clean\"], dictionary)\n",
    "cv_nmf_tf, c_umass_nmf_tf, c_npmi_nmf_tf, c_uci_nmf_tf, sil_score_nmf_tf, ch_index_nmf_tf, db_index_nmf_tf = evaluation(NMF_tf_uci, tf_fit, tf, tf_feature_names, 20, df[\"cut_and_clean\"], dictionary)\n"
   ]
  },
  {
   "cell_type": "code",
   "execution_count": 108,
   "metadata": {},
   "outputs": [
    {
     "data": {
      "application/vnd.plotly.v1+json": {
       "config": {
        "plotlyServerURL": "https://plot.ly"
       },
       "data": [
        {
         "marker": {
          "color": "Blue"
         },
         "orientation": "h",
         "type": "bar",
         "x": [
          3.3,
          2,
          1.8,
          1.7,
          1.6,
          1.6,
          1.6,
          1.5,
          1.5,
          1.5
         ],
         "xaxis": "x",
         "y": [
          "author",
          "day",
          "edition",
          "english",
          "guide",
          "nice",
          "recommend",
          "world",
          "experience",
          "new"
         ],
         "yaxis": "y"
        },
        {
         "marker": {
          "color": "Pink"
         },
         "orientation": "h",
         "type": "bar",
         "x": [
          4.5,
          4.4,
          3.1,
          2.1,
          2,
          1.5,
          1.4,
          1.4,
          1.4,
          1.2
         ],
         "xaxis": "x4",
         "y": [
          "jesus",
          "memory",
          "word",
          "god",
          "man",
          "heal",
          "john",
          "fresh",
          "imagination",
          "therapy"
         ],
         "yaxis": "y4"
        },
        {
         "marker": {
          "color": "SeaGreen"
         },
         "orientation": "h",
         "type": "bar",
         "x": [
          4.3,
          2.4,
          2.1,
          1.8,
          1.7,
          1.6,
          1.6,
          1.4,
          1.1,
          1.1
         ],
         "xaxis": "x7",
         "y": [
          "fine",
          "violence",
          "social",
          "political",
          "world",
          "government",
          "religious",
          "religion",
          "test",
          "anti"
         ],
         "yaxis": "y7"
        },
        {
         "marker": {
          "color": "Orange"
         },
         "orientation": "h",
         "type": "bar",
         "x": [
          6.5,
          5.9,
          0.7,
          0.6,
          0.5,
          0.5,
          0.4,
          0.4,
          0.4,
          0.4
         ],
         "xaxis": "x10",
         "y": [
          "heart",
          "red",
          "fantasy",
          "way",
          "plot",
          "help",
          "overall",
          "previous",
          "world",
          "end"
         ],
         "yaxis": "y10"
        },
        {
         "marker": {
          "color": "Grey"
         },
         "orientation": "h",
         "type": "bar",
         "x": [
          5.7,
          3.1,
          2,
          2,
          1.2,
          1.1,
          0.9,
          0.8,
          0.8,
          0.8
         ],
         "xaxis": "x13",
         "y": [
          "god",
          "universe",
          "science",
          "life",
          "law",
          "evidence",
          "world",
          "scientific",
          "new",
          "sin"
         ],
         "yaxis": "y13"
        },
        {
         "marker": {
          "color": "Purple"
         },
         "orientation": "h",
         "type": "bar",
         "x": [
          3,
          2.8,
          2.3,
          2.1,
          1.9,
          1.7,
          1.4,
          1.4,
          1.3,
          1.3
         ],
         "xaxis": "x2",
         "y": [
          "teacher",
          "practice",
          "education",
          "science",
          "school",
          "research",
          "project",
          "history",
          "classroom",
          "student"
         ],
         "yaxis": "y2"
        },
        {
         "marker": {
          "color": "Red"
         },
         "orientation": "h",
         "type": "bar",
         "x": [
          5.7,
          1.5,
          1.4,
          1.3,
          1.2,
          1,
          0.9,
          0.9,
          0.9,
          0.8
         ],
         "xaxis": "x5",
         "y": [
          "life",
          "japanese",
          "author",
          "war",
          "social",
          "live",
          "day",
          "self",
          "new",
          "society"
         ],
         "yaxis": "y5"
        },
        {
         "marker": {
          "color": "LightBlue"
         },
         "orientation": "h",
         "type": "bar",
         "x": [
          6.8,
          1.8,
          1.4,
          1.3,
          1.2,
          1,
          0.9,
          0.9,
          0.8,
          0.7
         ],
         "xaxis": "x8",
         "y": [
          "character",
          "novel",
          "end",
          "reader",
          "plot",
          "author",
          "man",
          "world",
          "way",
          "scene"
         ],
         "yaxis": "y8"
        },
        {
         "marker": {
          "color": "LightBlue"
         },
         "orientation": "h",
         "type": "bar",
         "x": [
          5.1,
          4.5,
          2.3,
          1.4,
          1,
          1,
          0.9,
          0.8,
          0.8,
          0.7
         ],
         "xaxis": "x11",
         "y": [
          "exercise",
          "chapter",
          "body",
          "strength",
          "recommend",
          "example",
          "job",
          "understand",
          "specific",
          "section"
         ],
         "yaxis": "y11"
        },
        {
         "marker": {
          "color": "LightBlue"
         },
         "orientation": "h",
         "type": "bar",
         "x": [
          8.1,
          1.7,
          1.2,
          0.8,
          0.6,
          0.6,
          0.6,
          0.5,
          0.5,
          0.5
         ],
         "xaxis": "x14",
         "y": [
          "work",
          "art",
          "volume",
          "thing",
          "collection",
          "method",
          "early",
          "piano",
          "artist",
          "money"
         ],
         "yaxis": "y14"
        },
        {
         "marker": {
          "color": "Blue"
         },
         "orientation": "h",
         "type": "bar",
         "x": [
          6.7,
          1,
          0.7,
          0.6,
          0.6,
          0.6,
          0.6,
          0.6,
          0.5,
          0.5
         ],
         "xaxis": "x3",
         "y": [
          "page",
          "color",
          "giant",
          "cover",
          "paper",
          "print",
          "picture",
          "art",
          "look",
          "text"
         ],
         "yaxis": "y3"
        },
        {
         "marker": {
          "color": "Blue"
         },
         "orientation": "h",
         "type": "bar",
         "x": [
          6.4,
          4.3,
          0.6,
          0.6,
          0.6,
          0.5,
          0.5,
          0.5,
          0.5,
          0.4
         ],
         "xaxis": "x6",
         "y": [
          "year",
          "old",
          "child",
          "young",
          "daughter",
          "day",
          "giant",
          "son",
          "new",
          "family"
         ],
         "yaxis": "y6"
        },
        {
         "marker": {
          "color": "Blue"
         },
         "orientation": "h",
         "type": "bar",
         "x": [
          3.3,
          2,
          2,
          1.9,
          1.8,
          1.4,
          1.3,
          1.1,
          1,
          0.8
         ],
         "xaxis": "x9",
         "y": [
          "way",
          "thing",
          "easy",
          "recipe",
          "lot",
          "diet",
          "cook",
          "use",
          "food",
          "help"
         ],
         "yaxis": "y9"
        },
        {
         "marker": {
          "color": "Blue"
         },
         "orientation": "h",
         "type": "bar",
         "x": [
          8.1,
          1.4,
          0.9,
          0.9,
          0.7,
          0.5,
          0.5,
          0.4,
          0.4,
          0.4
         ],
         "xaxis": "x12",
         "y": [
          "series",
          "cook",
          "end",
          "thing",
          "volume",
          "favorite",
          "child",
          "mystery",
          "little",
          "issue"
         ],
         "yaxis": "y12"
        },
        {
         "marker": {
          "color": "Blue"
         },
         "orientation": "h",
         "type": "bar",
         "x": [
          4.3,
          3,
          2.2,
          1.3,
          1.2,
          1.1,
          1.1,
          0.9,
          0.8,
          0.6
         ],
         "xaxis": "x15",
         "y": [
          "christ",
          "god",
          "death",
          "sin",
          "faith",
          "christian",
          "question",
          "die",
          "mean",
          "sense"
         ],
         "yaxis": "y15"
        }
       ],
       "layout": {
        "annotations": [
         {
          "font": {
           "size": 20
          },
          "showarrow": false,
          "text": "Travel / Language",
          "x": 0.14444444444444446,
          "xanchor": "center",
          "xref": "paper",
          "y": 1,
          "yanchor": "bottom",
          "yref": "paper"
         },
         {
          "font": {
           "size": 20
          },
          "showarrow": false,
          "text": "Education",
          "x": 0.5,
          "xanchor": "center",
          "xref": "paper",
          "y": 1,
          "yanchor": "bottom",
          "yref": "paper"
         },
         {
          "font": {
           "size": 20
          },
          "showarrow": false,
          "text": "Book Cover",
          "x": 0.8555555555555556,
          "xanchor": "center",
          "xref": "paper",
          "y": 1,
          "yanchor": "bottom",
          "yref": "paper"
         },
         {
          "font": {
           "size": 20
          },
          "showarrow": false,
          "text": "Religion / Belief / Healing",
          "x": 0.14444444444444446,
          "xanchor": "center",
          "xref": "paper",
          "y": 0.78,
          "yanchor": "bottom",
          "yref": "paper"
         },
         {
          "font": {
           "size": 20
          },
          "showarrow": false,
          "text": "Japanese Society (?)",
          "x": 0.5,
          "xanchor": "center",
          "xref": "paper",
          "y": 0.78,
          "yanchor": "bottom",
          "yref": "paper"
         },
         {
          "font": {
           "size": 20
          },
          "showarrow": false,
          "text": "Family",
          "x": 0.8555555555555556,
          "xanchor": "center",
          "xref": "paper",
          "y": 0.78,
          "yanchor": "bottom",
          "yref": "paper"
         },
         {
          "font": {
           "size": 20
          },
          "showarrow": false,
          "text": "Politics",
          "x": 0.14444444444444446,
          "xanchor": "center",
          "xref": "paper",
          "y": 0.56,
          "yanchor": "bottom",
          "yref": "paper"
         },
         {
          "font": {
           "size": 20
          },
          "showarrow": false,
          "text": "Book Plot",
          "x": 0.5,
          "xanchor": "center",
          "xref": "paper",
          "y": 0.56,
          "yanchor": "bottom",
          "yref": "paper"
         },
         {
          "font": {
           "size": 20
          },
          "showarrow": false,
          "text": "Cooking / Recipes",
          "x": 0.8555555555555556,
          "xanchor": "center",
          "xref": "paper",
          "y": 0.56,
          "yanchor": "bottom",
          "yref": "paper"
         },
         {
          "font": {
           "size": 20
          },
          "showarrow": false,
          "text": "Fanatasy Novel (?)",
          "x": 0.14444444444444446,
          "xanchor": "center",
          "xref": "paper",
          "y": 0.33999999999999997,
          "yanchor": "bottom",
          "yref": "paper"
         },
         {
          "font": {
           "size": 20
          },
          "showarrow": false,
          "text": "Workout Exercises",
          "x": 0.5,
          "xanchor": "center",
          "xref": "paper",
          "y": 0.33999999999999997,
          "yanchor": "bottom",
          "yref": "paper"
         },
         {
          "font": {
           "size": 20
          },
          "showarrow": false,
          "text": "Unknown",
          "x": 0.8555555555555556,
          "xanchor": "center",
          "xref": "paper",
          "y": 0.33999999999999997,
          "yanchor": "bottom",
          "yref": "paper"
         },
         {
          "font": {
           "size": 20
          },
          "showarrow": false,
          "text": "Science / Life",
          "x": 0.14444444444444446,
          "xanchor": "center",
          "xref": "paper",
          "y": 0.12,
          "yanchor": "bottom",
          "yref": "paper"
         },
         {
          "font": {
           "size": 20
          },
          "showarrow": false,
          "text": "Art / Music",
          "x": 0.5,
          "xanchor": "center",
          "xref": "paper",
          "y": 0.12,
          "yanchor": "bottom",
          "yref": "paper"
         },
         {
          "font": {
           "size": 20
          },
          "showarrow": false,
          "text": "Christianity",
          "x": 0.8555555555555556,
          "xanchor": "center",
          "xref": "paper",
          "y": 0.12,
          "yanchor": "bottom",
          "yref": "paper"
         }
        ],
        "height": 1800,
        "showlegend": false,
        "template": {
         "data": {
          "bar": [
           {
            "error_x": {
             "color": "#2a3f5f"
            },
            "error_y": {
             "color": "#2a3f5f"
            },
            "marker": {
             "line": {
              "color": "#E5ECF6",
              "width": 0.5
             },
             "pattern": {
              "fillmode": "overlay",
              "size": 10,
              "solidity": 0.2
             }
            },
            "type": "bar"
           }
          ],
          "barpolar": [
           {
            "marker": {
             "line": {
              "color": "#E5ECF6",
              "width": 0.5
             },
             "pattern": {
              "fillmode": "overlay",
              "size": 10,
              "solidity": 0.2
             }
            },
            "type": "barpolar"
           }
          ],
          "carpet": [
           {
            "aaxis": {
             "endlinecolor": "#2a3f5f",
             "gridcolor": "white",
             "linecolor": "white",
             "minorgridcolor": "white",
             "startlinecolor": "#2a3f5f"
            },
            "baxis": {
             "endlinecolor": "#2a3f5f",
             "gridcolor": "white",
             "linecolor": "white",
             "minorgridcolor": "white",
             "startlinecolor": "#2a3f5f"
            },
            "type": "carpet"
           }
          ],
          "choropleth": [
           {
            "colorbar": {
             "outlinewidth": 0,
             "ticks": ""
            },
            "type": "choropleth"
           }
          ],
          "contour": [
           {
            "colorbar": {
             "outlinewidth": 0,
             "ticks": ""
            },
            "colorscale": [
             [
              0,
              "#0d0887"
             ],
             [
              0.1111111111111111,
              "#46039f"
             ],
             [
              0.2222222222222222,
              "#7201a8"
             ],
             [
              0.3333333333333333,
              "#9c179e"
             ],
             [
              0.4444444444444444,
              "#bd3786"
             ],
             [
              0.5555555555555556,
              "#d8576b"
             ],
             [
              0.6666666666666666,
              "#ed7953"
             ],
             [
              0.7777777777777778,
              "#fb9f3a"
             ],
             [
              0.8888888888888888,
              "#fdca26"
             ],
             [
              1,
              "#f0f921"
             ]
            ],
            "type": "contour"
           }
          ],
          "contourcarpet": [
           {
            "colorbar": {
             "outlinewidth": 0,
             "ticks": ""
            },
            "type": "contourcarpet"
           }
          ],
          "heatmap": [
           {
            "colorbar": {
             "outlinewidth": 0,
             "ticks": ""
            },
            "colorscale": [
             [
              0,
              "#0d0887"
             ],
             [
              0.1111111111111111,
              "#46039f"
             ],
             [
              0.2222222222222222,
              "#7201a8"
             ],
             [
              0.3333333333333333,
              "#9c179e"
             ],
             [
              0.4444444444444444,
              "#bd3786"
             ],
             [
              0.5555555555555556,
              "#d8576b"
             ],
             [
              0.6666666666666666,
              "#ed7953"
             ],
             [
              0.7777777777777778,
              "#fb9f3a"
             ],
             [
              0.8888888888888888,
              "#fdca26"
             ],
             [
              1,
              "#f0f921"
             ]
            ],
            "type": "heatmap"
           }
          ],
          "heatmapgl": [
           {
            "colorbar": {
             "outlinewidth": 0,
             "ticks": ""
            },
            "colorscale": [
             [
              0,
              "#0d0887"
             ],
             [
              0.1111111111111111,
              "#46039f"
             ],
             [
              0.2222222222222222,
              "#7201a8"
             ],
             [
              0.3333333333333333,
              "#9c179e"
             ],
             [
              0.4444444444444444,
              "#bd3786"
             ],
             [
              0.5555555555555556,
              "#d8576b"
             ],
             [
              0.6666666666666666,
              "#ed7953"
             ],
             [
              0.7777777777777778,
              "#fb9f3a"
             ],
             [
              0.8888888888888888,
              "#fdca26"
             ],
             [
              1,
              "#f0f921"
             ]
            ],
            "type": "heatmapgl"
           }
          ],
          "histogram": [
           {
            "marker": {
             "pattern": {
              "fillmode": "overlay",
              "size": 10,
              "solidity": 0.2
             }
            },
            "type": "histogram"
           }
          ],
          "histogram2d": [
           {
            "colorbar": {
             "outlinewidth": 0,
             "ticks": ""
            },
            "colorscale": [
             [
              0,
              "#0d0887"
             ],
             [
              0.1111111111111111,
              "#46039f"
             ],
             [
              0.2222222222222222,
              "#7201a8"
             ],
             [
              0.3333333333333333,
              "#9c179e"
             ],
             [
              0.4444444444444444,
              "#bd3786"
             ],
             [
              0.5555555555555556,
              "#d8576b"
             ],
             [
              0.6666666666666666,
              "#ed7953"
             ],
             [
              0.7777777777777778,
              "#fb9f3a"
             ],
             [
              0.8888888888888888,
              "#fdca26"
             ],
             [
              1,
              "#f0f921"
             ]
            ],
            "type": "histogram2d"
           }
          ],
          "histogram2dcontour": [
           {
            "colorbar": {
             "outlinewidth": 0,
             "ticks": ""
            },
            "colorscale": [
             [
              0,
              "#0d0887"
             ],
             [
              0.1111111111111111,
              "#46039f"
             ],
             [
              0.2222222222222222,
              "#7201a8"
             ],
             [
              0.3333333333333333,
              "#9c179e"
             ],
             [
              0.4444444444444444,
              "#bd3786"
             ],
             [
              0.5555555555555556,
              "#d8576b"
             ],
             [
              0.6666666666666666,
              "#ed7953"
             ],
             [
              0.7777777777777778,
              "#fb9f3a"
             ],
             [
              0.8888888888888888,
              "#fdca26"
             ],
             [
              1,
              "#f0f921"
             ]
            ],
            "type": "histogram2dcontour"
           }
          ],
          "mesh3d": [
           {
            "colorbar": {
             "outlinewidth": 0,
             "ticks": ""
            },
            "type": "mesh3d"
           }
          ],
          "parcoords": [
           {
            "line": {
             "colorbar": {
              "outlinewidth": 0,
              "ticks": ""
             }
            },
            "type": "parcoords"
           }
          ],
          "pie": [
           {
            "automargin": true,
            "type": "pie"
           }
          ],
          "scatter": [
           {
            "marker": {
             "colorbar": {
              "outlinewidth": 0,
              "ticks": ""
             }
            },
            "type": "scatter"
           }
          ],
          "scatter3d": [
           {
            "line": {
             "colorbar": {
              "outlinewidth": 0,
              "ticks": ""
             }
            },
            "marker": {
             "colorbar": {
              "outlinewidth": 0,
              "ticks": ""
             }
            },
            "type": "scatter3d"
           }
          ],
          "scattercarpet": [
           {
            "marker": {
             "colorbar": {
              "outlinewidth": 0,
              "ticks": ""
             }
            },
            "type": "scattercarpet"
           }
          ],
          "scattergeo": [
           {
            "marker": {
             "colorbar": {
              "outlinewidth": 0,
              "ticks": ""
             }
            },
            "type": "scattergeo"
           }
          ],
          "scattergl": [
           {
            "marker": {
             "colorbar": {
              "outlinewidth": 0,
              "ticks": ""
             }
            },
            "type": "scattergl"
           }
          ],
          "scattermapbox": [
           {
            "marker": {
             "colorbar": {
              "outlinewidth": 0,
              "ticks": ""
             }
            },
            "type": "scattermapbox"
           }
          ],
          "scatterpolar": [
           {
            "marker": {
             "colorbar": {
              "outlinewidth": 0,
              "ticks": ""
             }
            },
            "type": "scatterpolar"
           }
          ],
          "scatterpolargl": [
           {
            "marker": {
             "colorbar": {
              "outlinewidth": 0,
              "ticks": ""
             }
            },
            "type": "scatterpolargl"
           }
          ],
          "scatterternary": [
           {
            "marker": {
             "colorbar": {
              "outlinewidth": 0,
              "ticks": ""
             }
            },
            "type": "scatterternary"
           }
          ],
          "surface": [
           {
            "colorbar": {
             "outlinewidth": 0,
             "ticks": ""
            },
            "colorscale": [
             [
              0,
              "#0d0887"
             ],
             [
              0.1111111111111111,
              "#46039f"
             ],
             [
              0.2222222222222222,
              "#7201a8"
             ],
             [
              0.3333333333333333,
              "#9c179e"
             ],
             [
              0.4444444444444444,
              "#bd3786"
             ],
             [
              0.5555555555555556,
              "#d8576b"
             ],
             [
              0.6666666666666666,
              "#ed7953"
             ],
             [
              0.7777777777777778,
              "#fb9f3a"
             ],
             [
              0.8888888888888888,
              "#fdca26"
             ],
             [
              1,
              "#f0f921"
             ]
            ],
            "type": "surface"
           }
          ],
          "table": [
           {
            "cells": {
             "fill": {
              "color": "#EBF0F8"
             },
             "line": {
              "color": "white"
             }
            },
            "header": {
             "fill": {
              "color": "#C8D4E3"
             },
             "line": {
              "color": "white"
             }
            },
            "type": "table"
           }
          ]
         },
         "layout": {
          "annotationdefaults": {
           "arrowcolor": "#2a3f5f",
           "arrowhead": 0,
           "arrowwidth": 1
          },
          "autotypenumbers": "strict",
          "coloraxis": {
           "colorbar": {
            "outlinewidth": 0,
            "ticks": ""
           }
          },
          "colorscale": {
           "diverging": [
            [
             0,
             "#8e0152"
            ],
            [
             0.1,
             "#c51b7d"
            ],
            [
             0.2,
             "#de77ae"
            ],
            [
             0.3,
             "#f1b6da"
            ],
            [
             0.4,
             "#fde0ef"
            ],
            [
             0.5,
             "#f7f7f7"
            ],
            [
             0.6,
             "#e6f5d0"
            ],
            [
             0.7,
             "#b8e186"
            ],
            [
             0.8,
             "#7fbc41"
            ],
            [
             0.9,
             "#4d9221"
            ],
            [
             1,
             "#276419"
            ]
           ],
           "sequential": [
            [
             0,
             "#0d0887"
            ],
            [
             0.1111111111111111,
             "#46039f"
            ],
            [
             0.2222222222222222,
             "#7201a8"
            ],
            [
             0.3333333333333333,
             "#9c179e"
            ],
            [
             0.4444444444444444,
             "#bd3786"
            ],
            [
             0.5555555555555556,
             "#d8576b"
            ],
            [
             0.6666666666666666,
             "#ed7953"
            ],
            [
             0.7777777777777778,
             "#fb9f3a"
            ],
            [
             0.8888888888888888,
             "#fdca26"
            ],
            [
             1,
             "#f0f921"
            ]
           ],
           "sequentialminus": [
            [
             0,
             "#0d0887"
            ],
            [
             0.1111111111111111,
             "#46039f"
            ],
            [
             0.2222222222222222,
             "#7201a8"
            ],
            [
             0.3333333333333333,
             "#9c179e"
            ],
            [
             0.4444444444444444,
             "#bd3786"
            ],
            [
             0.5555555555555556,
             "#d8576b"
            ],
            [
             0.6666666666666666,
             "#ed7953"
            ],
            [
             0.7777777777777778,
             "#fb9f3a"
            ],
            [
             0.8888888888888888,
             "#fdca26"
            ],
            [
             1,
             "#f0f921"
            ]
           ]
          },
          "colorway": [
           "#636efa",
           "#EF553B",
           "#00cc96",
           "#ab63fa",
           "#FFA15A",
           "#19d3f3",
           "#FF6692",
           "#B6E880",
           "#FF97FF",
           "#FECB52"
          ],
          "font": {
           "color": "#2a3f5f"
          },
          "geo": {
           "bgcolor": "white",
           "lakecolor": "white",
           "landcolor": "#E5ECF6",
           "showlakes": true,
           "showland": true,
           "subunitcolor": "white"
          },
          "hoverlabel": {
           "align": "left"
          },
          "hovermode": "closest",
          "mapbox": {
           "style": "light"
          },
          "paper_bgcolor": "white",
          "plot_bgcolor": "#E5ECF6",
          "polar": {
           "angularaxis": {
            "gridcolor": "white",
            "linecolor": "white",
            "ticks": ""
           },
           "bgcolor": "#E5ECF6",
           "radialaxis": {
            "gridcolor": "white",
            "linecolor": "white",
            "ticks": ""
           }
          },
          "scene": {
           "xaxis": {
            "backgroundcolor": "#E5ECF6",
            "gridcolor": "white",
            "gridwidth": 2,
            "linecolor": "white",
            "showbackground": true,
            "ticks": "",
            "zerolinecolor": "white"
           },
           "yaxis": {
            "backgroundcolor": "#E5ECF6",
            "gridcolor": "white",
            "gridwidth": 2,
            "linecolor": "white",
            "showbackground": true,
            "ticks": "",
            "zerolinecolor": "white"
           },
           "zaxis": {
            "backgroundcolor": "#E5ECF6",
            "gridcolor": "white",
            "gridwidth": 2,
            "linecolor": "white",
            "showbackground": true,
            "ticks": "",
            "zerolinecolor": "white"
           }
          },
          "shapedefaults": {
           "line": {
            "color": "#2a3f5f"
           }
          },
          "ternary": {
           "aaxis": {
            "gridcolor": "white",
            "linecolor": "white",
            "ticks": ""
           },
           "baxis": {
            "gridcolor": "white",
            "linecolor": "white",
            "ticks": ""
           },
           "bgcolor": "#E5ECF6",
           "caxis": {
            "gridcolor": "white",
            "linecolor": "white",
            "ticks": ""
           }
          },
          "title": {
           "x": 0.05
          },
          "xaxis": {
           "automargin": true,
           "gridcolor": "white",
           "linecolor": "white",
           "ticks": "",
           "title": {
            "standoff": 15
           },
           "zerolinecolor": "white",
           "zerolinewidth": 2
          },
          "yaxis": {
           "automargin": true,
           "gridcolor": "white",
           "linecolor": "white",
           "ticks": "",
           "title": {
            "standoff": 15
           },
           "zerolinecolor": "white",
           "zerolinewidth": 2
          }
         }
        },
        "title": {
         "font": {
          "size": 20
         },
         "text": "Final NMF TF - Topic Keywords ranked by Weight"
        },
        "width": 1600,
        "xaxis": {
         "anchor": "y",
         "domain": [
          0,
          0.2888888888888889
         ],
         "range": [
          0,
          10
         ],
         "tickfont": {
          "size": 16
         },
         "title": {
          "text": "Weight"
         }
        },
        "xaxis10": {
         "anchor": "y10",
         "domain": [
          0,
          0.2888888888888889
         ],
         "range": [
          0,
          10
         ],
         "tickfont": {
          "size": 16
         },
         "title": {
          "text": "Weight"
         }
        },
        "xaxis11": {
         "anchor": "y11",
         "domain": [
          0.35555555555555557,
          0.6444444444444445
         ],
         "range": [
          0,
          10
         ],
         "tickfont": {
          "size": 16
         },
         "title": {
          "text": "Weight"
         }
        },
        "xaxis12": {
         "anchor": "y12",
         "domain": [
          0.7111111111111111,
          1
         ],
         "range": [
          0,
          10
         ],
         "tickfont": {
          "size": 16
         },
         "title": {
          "text": "Weight"
         }
        },
        "xaxis13": {
         "anchor": "y13",
         "domain": [
          0,
          0.2888888888888889
         ],
         "range": [
          0,
          10
         ],
         "tickfont": {
          "size": 16
         },
         "title": {
          "text": "Weight"
         }
        },
        "xaxis14": {
         "anchor": "y14",
         "domain": [
          0.35555555555555557,
          0.6444444444444445
         ],
         "range": [
          0,
          10
         ],
         "tickfont": {
          "size": 16
         },
         "title": {
          "text": "Weight"
         }
        },
        "xaxis15": {
         "anchor": "y15",
         "domain": [
          0.7111111111111111,
          1
         ],
         "range": [
          0,
          10
         ],
         "tickfont": {
          "size": 16
         },
         "title": {
          "text": "Weight"
         }
        },
        "xaxis2": {
         "anchor": "y2",
         "domain": [
          0.35555555555555557,
          0.6444444444444445
         ],
         "range": [
          0,
          10
         ],
         "tickfont": {
          "size": 16
         },
         "title": {
          "text": "Weight"
         }
        },
        "xaxis3": {
         "anchor": "y3",
         "domain": [
          0.7111111111111111,
          1
         ],
         "range": [
          0,
          10
         ],
         "tickfont": {
          "size": 16
         },
         "title": {
          "text": "Weight"
         }
        },
        "xaxis4": {
         "anchor": "y4",
         "domain": [
          0,
          0.2888888888888889
         ],
         "range": [
          0,
          10
         ],
         "tickfont": {
          "size": 16
         },
         "title": {
          "text": "Weight"
         }
        },
        "xaxis5": {
         "anchor": "y5",
         "domain": [
          0.35555555555555557,
          0.6444444444444445
         ],
         "range": [
          0,
          10
         ],
         "tickfont": {
          "size": 16
         },
         "title": {
          "text": "Weight"
         }
        },
        "xaxis6": {
         "anchor": "y6",
         "domain": [
          0.7111111111111111,
          1
         ],
         "range": [
          0,
          10
         ],
         "tickfont": {
          "size": 16
         },
         "title": {
          "text": "Weight"
         }
        },
        "xaxis7": {
         "anchor": "y7",
         "domain": [
          0,
          0.2888888888888889
         ],
         "range": [
          0,
          10
         ],
         "tickfont": {
          "size": 16
         },
         "title": {
          "text": "Weight"
         }
        },
        "xaxis8": {
         "anchor": "y8",
         "domain": [
          0.35555555555555557,
          0.6444444444444445
         ],
         "range": [
          0,
          10
         ],
         "tickfont": {
          "size": 16
         },
         "title": {
          "text": "Weight"
         }
        },
        "xaxis9": {
         "anchor": "y9",
         "domain": [
          0.7111111111111111,
          1
         ],
         "range": [
          0,
          10
         ],
         "tickfont": {
          "size": 16
         },
         "title": {
          "text": "Weight"
         }
        },
        "yaxis": {
         "anchor": "x",
         "autorange": "reversed",
         "domain": [
          0.88,
          1
         ],
         "tickfont": {
          "size": 16
         },
         "type": "category"
        },
        "yaxis10": {
         "anchor": "x10",
         "autorange": "reversed",
         "domain": [
          0.22,
          0.33999999999999997
         ],
         "tickfont": {
          "size": 16
         },
         "type": "category"
        },
        "yaxis11": {
         "anchor": "x11",
         "autorange": "reversed",
         "domain": [
          0.22,
          0.33999999999999997
         ],
         "tickfont": {
          "size": 16
         },
         "type": "category"
        },
        "yaxis12": {
         "anchor": "x12",
         "autorange": "reversed",
         "domain": [
          0.22,
          0.33999999999999997
         ],
         "tickfont": {
          "size": 16
         },
         "type": "category"
        },
        "yaxis13": {
         "anchor": "x13",
         "autorange": "reversed",
         "domain": [
          0,
          0.12
         ],
         "tickfont": {
          "size": 16
         },
         "type": "category"
        },
        "yaxis14": {
         "anchor": "x14",
         "autorange": "reversed",
         "domain": [
          0,
          0.12
         ],
         "tickfont": {
          "size": 16
         },
         "type": "category"
        },
        "yaxis15": {
         "anchor": "x15",
         "autorange": "reversed",
         "domain": [
          0,
          0.12
         ],
         "tickfont": {
          "size": 16
         },
         "type": "category"
        },
        "yaxis2": {
         "anchor": "x2",
         "autorange": "reversed",
         "domain": [
          0.88,
          1
         ],
         "tickfont": {
          "size": 16
         },
         "type": "category"
        },
        "yaxis3": {
         "anchor": "x3",
         "autorange": "reversed",
         "domain": [
          0.88,
          1
         ],
         "tickfont": {
          "size": 16
         },
         "type": "category"
        },
        "yaxis4": {
         "anchor": "x4",
         "autorange": "reversed",
         "domain": [
          0.66,
          0.78
         ],
         "tickfont": {
          "size": 16
         },
         "type": "category"
        },
        "yaxis5": {
         "anchor": "x5",
         "autorange": "reversed",
         "domain": [
          0.66,
          0.78
         ],
         "tickfont": {
          "size": 16
         },
         "type": "category"
        },
        "yaxis6": {
         "anchor": "x6",
         "autorange": "reversed",
         "domain": [
          0.66,
          0.78
         ],
         "tickfont": {
          "size": 16
         },
         "type": "category"
        },
        "yaxis7": {
         "anchor": "x7",
         "autorange": "reversed",
         "domain": [
          0.44,
          0.56
         ],
         "tickfont": {
          "size": 16
         },
         "type": "category"
        },
        "yaxis8": {
         "anchor": "x8",
         "autorange": "reversed",
         "domain": [
          0.44,
          0.56
         ],
         "tickfont": {
          "size": 16
         },
         "type": "category"
        },
        "yaxis9": {
         "anchor": "x9",
         "autorange": "reversed",
         "domain": [
          0.44,
          0.56
         ],
         "tickfont": {
          "size": 16
         },
         "type": "category"
        }
       }
      }
     },
     "metadata": {},
     "output_type": "display_data"
    }
   ],
   "source": [
    "data = display_topics(NMF_tf_npmi, tf_feature_names, 10)\n",
    "fig = make_subplots(rows=5, cols=3, subplot_titles= [\"Travel / Language\", \"Education\", \"Book Cover\", \"Religion / Belief / Healing\", \"Japanese Society (?)\", \"Family\", \"Politics\", \"Book Plot\", \"Cooking / Recipes\", \"Fanatasy Novel (?)\",\"Workout Exercises\",\"Unknown\", \"Science / Life\", \"Art / Music\", \"Christianity\"])\n",
    "colors = [\"Blue\", \"Pink\", \"SeaGreen\", \"Orange\", \"Grey\", \"Purple\", \"Red\", \"LightBlue\", \"LightBlue\", \"LightBlue\", \"LightBlue\", \"LightBlue\", \"LightBlue\", \"LightBlue\", \"LightBlue\"]\n",
    "for col in range(0,  int(len(data.columns)) ,2):\n",
    "    if col < 10:\n",
    "        fig.add_trace(go.Bar(\n",
    "        x=data.iloc[:,col+1].astype(\"float64\"),\n",
    "        y=data.iloc[:,col],\n",
    "        marker_color=colors[int(col/2)], orientation = \"h\"), col= 1, row = int(col/2)+1)\n",
    "    if col >= 10 and col < 20:\n",
    "        fig.add_trace(go.Bar(\n",
    "        x=data.iloc[:,col+1].astype(\"float64\"),\n",
    "        y=data.iloc[:,col],\n",
    "        marker_color=colors[int(col/2)], orientation = \"h\"),col= 2, row = int(col/2)-4)\n",
    "    if col >= 20:\n",
    "        fig.add_trace(go.Bar(\n",
    "        x=data.iloc[:,col+1].astype(\"float64\"),\n",
    "        y=data.iloc[:,col], \n",
    "        marker_color=colors[0], orientation = \"h\"), col= 3, row = int(col/2)-9)\n",
    "\n",
    "fig.update_layout( height=1800, width=1600, title_text=\"Final NMF TF - Topic Keywords ranked by Weight\", showlegend=False, titlefont = dict(size = 20),\n",
    "    )\n",
    "fig.update_annotations(font_size=20)\n",
    "fig.update_yaxes( type = \"category\" , autorange = \"reversed\", tickfont = dict(size=16))\n",
    "fig.update_xaxes( title = 'Weight', range = (0,10)  ,tickfont = dict(size=16))"
   ]
  }
 ],
 "metadata": {
  "kernelspec": {
   "display_name": "Python 3.8.2 64-bit",
   "language": "python",
   "name": "python3"
  },
  "language_info": {
   "codemirror_mode": {
    "name": "ipython",
    "version": 3
   },
   "file_extension": ".py",
   "mimetype": "text/x-python",
   "name": "python",
   "nbconvert_exporter": "python",
   "pygments_lexer": "ipython3",
   "version": "3.8.2"
  },
  "orig_nbformat": 4,
  "vscode": {
   "interpreter": {
    "hash": "570feb405e2e27c949193ac68f46852414290d515b0ba6e5d90d076ed2284471"
   }
  }
 },
 "nbformat": 4,
 "nbformat_minor": 2
}
