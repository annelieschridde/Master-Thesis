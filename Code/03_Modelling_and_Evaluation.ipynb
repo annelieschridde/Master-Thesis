{
 "cells": [
  {
   "cell_type": "code",
   "execution_count": 279,
   "metadata": {},
   "outputs": [
    {
     "name": "stderr",
     "output_type": "stream",
     "text": [
      "[nltk_data] Downloading package stopwords to C:\\Users\\Annelie\n",
      "[nltk_data]     Schridde\\AppData\\Roaming\\nltk_data...\n",
      "[nltk_data]   Package stopwords is already up-to-date!\n",
      "[nltk_data] Downloading package vader_lexicon to C:\\Users\\Annelie\n",
      "[nltk_data]     Schridde\\AppData\\Roaming\\nltk_data...\n",
      "[nltk_data]   Package vader_lexicon is already up-to-date!\n",
      "[nltk_data] Downloading package punkt to C:\\Users\\Annelie\n",
      "[nltk_data]     Schridde\\AppData\\Roaming\\nltk_data...\n",
      "[nltk_data]   Package punkt is already up-to-date!\n",
      "[nltk_data] Downloading package wordnet to C:\\Users\\Annelie\n",
      "[nltk_data]     Schridde\\AppData\\Roaming\\nltk_data...\n",
      "[nltk_data]   Package wordnet is already up-to-date!\n",
      "[nltk_data] Downloading package averaged_perceptron_tagger to\n",
      "[nltk_data]     C:\\Users\\Annelie Schridde\\AppData\\Roaming\\nltk_data...\n",
      "[nltk_data]   Package averaged_perceptron_tagger is already up-to-\n",
      "[nltk_data]       date!\n"
     ]
    }
   ],
   "source": [
    "%run my_functions.py\n"
   ]
  },
  {
   "cell_type": "code",
   "execution_count": 280,
   "metadata": {},
   "outputs": [],
   "source": [
    "# loading preprocessed dataset\n",
    "with open(\"../dataframes/raw_data_Books_00_clean_and_cut.pkl\", \"rb\") as f:\n",
    "    df = pickle.load(f)\n",
    "df = df[:20000]"
   ]
  },
  {
   "cell_type": "code",
   "execution_count": 281,
   "metadata": {},
   "outputs": [],
   "source": [
    "texts =[]\n",
    "for doc in df.cut_and_clean:\n",
    "        words = tokenizer.tokenize(doc)\n",
    "        texts.append(words)\n",
    "\n",
    "dictionary = Dictionary(texts)\n",
    "dictionary.filter_extremes(no_below=20, no_above=0.8)"
   ]
  },
  {
   "cell_type": "markdown",
   "metadata": {},
   "source": [
    "## 1. Transformers (Bag-of-Words)"
   ]
  },
  {
   "cell_type": "markdown",
   "metadata": {},
   "source": [
    "### 1.1 Count Vectorizer"
   ]
  },
  {
   "cell_type": "code",
   "execution_count": 282,
   "metadata": {},
   "outputs": [
    {
     "name": "stderr",
     "output_type": "stream",
     "text": [
      "C:\\Users\\Annelie Schridde\\AppData\\Roaming\\Python\\Python38\\site-packages\\sklearn\\utils\\deprecation.py:87: FutureWarning:\n",
      "\n",
      "Function get_feature_names is deprecated; get_feature_names is deprecated in 1.0 and will be removed in 1.2. Please use get_feature_names_out instead.\n",
      "\n"
     ]
    }
   ],
   "source": [
    "# the vectorizer object will be used to transform text to vector form\n",
    "vectorizer = CountVectorizer(max_df=0.8, min_df=20, token_pattern='\\w+|\\$[\\d\\.]+|\\S+')\n",
    "\n",
    "# apply transformation\n",
    "tf_fit = vectorizer.fit_transform(df['cut_and_clean'])\n",
    "pickle.dump(tf_fit, open('../models/bow_tf.pkl', 'wb')) #save fitted model\n",
    "tf = tf_fit.toarray()\n",
    "\n",
    "# tf_feature_names tells us what word each column in the matric represents\n",
    "tf_feature_names = vectorizer.get_feature_names()"
   ]
  },
  {
   "cell_type": "markdown",
   "metadata": {},
   "source": [
    "### 1.2 TD-IDF"
   ]
  },
  {
   "cell_type": "code",
   "execution_count": 283,
   "metadata": {},
   "outputs": [],
   "source": [
    "tfidf_vec = TfidfVectorizer( \n",
    "                        max_df=0.8,\n",
    "                        min_df=20,\n",
    "                        token_pattern='\\w+|\\$[\\d\\.]+|\\S+'\n",
    "                       )\n",
    "tfidf_fit = tfidf_vec.fit_transform(df['cut_and_clean'])\n",
    "pickle.dump(tfidf_fit, open('../models/bow_tfidf.pkl', 'wb')) #save fitted model\n",
    "tfidf = tfidf_fit.toarray()\n",
    "\n",
    "tfidf_feature_names = tfidf_vec.get_feature_names()"
   ]
  },
  {
   "cell_type": "markdown",
   "metadata": {},
   "source": [
    "# LSA (SVD)"
   ]
  },
  {
   "cell_type": "code",
   "execution_count": 313,
   "metadata": {},
   "outputs": [],
   "source": [
    "from sklearn.decomposition import TruncatedSVD\n",
    "lsa = TruncatedSVD(n_components=10, algorithm='arpack')\n"
   ]
  },
  {
   "cell_type": "markdown",
   "metadata": {},
   "source": [
    "### LSA TF"
   ]
  },
  {
   "cell_type": "code",
   "execution_count": 314,
   "metadata": {},
   "outputs": [],
   "source": [
    "lsa_tf = lsa.fit(tf.astype('float64'))\n",
    "pickle.dump(lsa_tf, open('../models/basemodel_lsa_tf.pkl', 'wb')) #save fitted model\n",
    "\n"
   ]
  },
  {
   "cell_type": "code",
   "execution_count": 315,
   "metadata": {},
   "outputs": [
    {
     "name": "stdout",
     "output_type": "stream",
     "text": [
      "\n",
      "Coherence Score CV:  0.5012502358053665\n",
      "\n",
      "Coherence Score UMass:  -2.9575934683886045\n",
      "\n",
      "Coherence Score NPMI:  -0.022251702366717176\n",
      "\n",
      "Coherence Score UCI:  -1.482800667471404\n",
      "\n",
      "Silhouette Score:  -0.18189454640280814\n",
      "\n",
      "Calinski-Harabasz Score:  18.295407805927802\n",
      "\n",
      "Davies-Bouldin Score:  7.920377990333579\n"
     ]
    }
   ],
   "source": [
    "# Evaluation Metrics for whole dataset\n",
    "cv_lsa_tf, c_umass_lsa_tf, c_npmi_lsa_tf, c_uci_lsa_tf, sil_score_lsa_tf, ch_index_lsa_tf, db_index_lsa_tf = evaluation(lsa_tf, tf_fit, tf, tf_feature_names, 20, df[\"cut_and_clean\"], dictionary)"
   ]
  },
  {
   "cell_type": "code",
   "execution_count": 316,
   "metadata": {},
   "outputs": [
    {
     "data": {
      "text/html": [
       "<div>\n",
       "<style scoped>\n",
       "    .dataframe tbody tr th:only-of-type {\n",
       "        vertical-align: middle;\n",
       "    }\n",
       "\n",
       "    .dataframe tbody tr th {\n",
       "        vertical-align: top;\n",
       "    }\n",
       "\n",
       "    .dataframe thead th {\n",
       "        text-align: right;\n",
       "    }\n",
       "</style>\n",
       "<table border=\"1\" class=\"dataframe\">\n",
       "  <thead>\n",
       "    <tr style=\"text-align: right;\">\n",
       "      <th></th>\n",
       "      <th>Topic 0 words</th>\n",
       "      <th>Topic 0 weights</th>\n",
       "      <th>Topic 1 words</th>\n",
       "      <th>Topic 1 weights</th>\n",
       "      <th>Topic 2 words</th>\n",
       "      <th>Topic 2 weights</th>\n",
       "      <th>Topic 3 words</th>\n",
       "      <th>Topic 3 weights</th>\n",
       "      <th>Topic 4 words</th>\n",
       "      <th>Topic 4 weights</th>\n",
       "      <th>Topic 5 words</th>\n",
       "      <th>Topic 5 weights</th>\n",
       "      <th>Topic 6 words</th>\n",
       "      <th>Topic 6 weights</th>\n",
       "      <th>Topic 7 words</th>\n",
       "      <th>Topic 7 weights</th>\n",
       "      <th>Topic 8 words</th>\n",
       "      <th>Topic 8 weights</th>\n",
       "      <th>Topic 9 words</th>\n",
       "      <th>Topic 9 weights</th>\n",
       "    </tr>\n",
       "  </thead>\n",
       "  <tbody>\n",
       "    <tr>\n",
       "      <th>0</th>\n",
       "      <td>life</td>\n",
       "      <td>0.2</td>\n",
       "      <td>jesus</td>\n",
       "      <td>0.4</td>\n",
       "      <td>fine</td>\n",
       "      <td>0.4</td>\n",
       "      <td>heart</td>\n",
       "      <td>0.7</td>\n",
       "      <td>god</td>\n",
       "      <td>0.6</td>\n",
       "      <td>practice</td>\n",
       "      <td>0.3</td>\n",
       "      <td>life</td>\n",
       "      <td>0.5</td>\n",
       "      <td>character</td>\n",
       "      <td>0.6</td>\n",
       "      <td>exercise</td>\n",
       "      <td>0.5</td>\n",
       "      <td>exercise</td>\n",
       "      <td>0.3</td>\n",
       "    </tr>\n",
       "    <tr>\n",
       "      <th>1</th>\n",
       "      <td>author</td>\n",
       "      <td>0.2</td>\n",
       "      <td>memory</td>\n",
       "      <td>0.4</td>\n",
       "      <td>social</td>\n",
       "      <td>0.2</td>\n",
       "      <td>red</td>\n",
       "      <td>0.6</td>\n",
       "      <td>life</td>\n",
       "      <td>0.3</td>\n",
       "      <td>teacher</td>\n",
       "      <td>0.3</td>\n",
       "      <td>work</td>\n",
       "      <td>0.2</td>\n",
       "      <td>series</td>\n",
       "      <td>0.3</td>\n",
       "      <td>chapter</td>\n",
       "      <td>0.4</td>\n",
       "      <td>work</td>\n",
       "      <td>0.3</td>\n",
       "    </tr>\n",
       "    <tr>\n",
       "      <th>2</th>\n",
       "      <td>god</td>\n",
       "      <td>0.2</td>\n",
       "      <td>word</td>\n",
       "      <td>0.3</td>\n",
       "      <td>violence</td>\n",
       "      <td>0.2</td>\n",
       "      <td>fantasy</td>\n",
       "      <td>0.1</td>\n",
       "      <td>universe</td>\n",
       "      <td>0.3</td>\n",
       "      <td>science</td>\n",
       "      <td>0.2</td>\n",
       "      <td>japanese</td>\n",
       "      <td>0.2</td>\n",
       "      <td>teacher</td>\n",
       "      <td>0.1</td>\n",
       "      <td>page</td>\n",
       "      <td>0.2</td>\n",
       "      <td>year</td>\n",
       "      <td>0.2</td>\n",
       "    </tr>\n",
       "    <tr>\n",
       "      <th>3</th>\n",
       "      <td>way</td>\n",
       "      <td>0.2</td>\n",
       "      <td>god</td>\n",
       "      <td>0.3</td>\n",
       "      <td>political</td>\n",
       "      <td>0.2</td>\n",
       "      <td>way</td>\n",
       "      <td>0.1</td>\n",
       "      <td>science</td>\n",
       "      <td>0.2</td>\n",
       "      <td>chapter</td>\n",
       "      <td>0.2</td>\n",
       "      <td>thing</td>\n",
       "      <td>0.1</td>\n",
       "      <td>end</td>\n",
       "      <td>0.1</td>\n",
       "      <td>body</td>\n",
       "      <td>0.2</td>\n",
       "      <td>series</td>\n",
       "      <td>0.2</td>\n",
       "    </tr>\n",
       "    <tr>\n",
       "      <th>4</th>\n",
       "      <td>year</td>\n",
       "      <td>0.2</td>\n",
       "      <td>man</td>\n",
       "      <td>0.2</td>\n",
       "      <td>religious</td>\n",
       "      <td>0.2</td>\n",
       "      <td>fine</td>\n",
       "      <td>0.1</td>\n",
       "      <td>law</td>\n",
       "      <td>0.1</td>\n",
       "      <td>education</td>\n",
       "      <td>0.2</td>\n",
       "      <td>self</td>\n",
       "      <td>0.1</td>\n",
       "      <td>science</td>\n",
       "      <td>0.1</td>\n",
       "      <td>character</td>\n",
       "      <td>0.2</td>\n",
       "      <td>thing</td>\n",
       "      <td>0.2</td>\n",
       "    </tr>\n",
       "    <tr>\n",
       "      <th>5</th>\n",
       "      <td>work</td>\n",
       "      <td>0.2</td>\n",
       "      <td>heal</td>\n",
       "      <td>0.1</td>\n",
       "      <td>government</td>\n",
       "      <td>0.2</td>\n",
       "      <td>plot</td>\n",
       "      <td>0.1</td>\n",
       "      <td>evidence</td>\n",
       "      <td>0.1</td>\n",
       "      <td>work</td>\n",
       "      <td>0.2</td>\n",
       "      <td>war</td>\n",
       "      <td>0.1</td>\n",
       "      <td>novel</td>\n",
       "      <td>0.1</td>\n",
       "      <td>author</td>\n",
       "      <td>0.1</td>\n",
       "      <td>body</td>\n",
       "      <td>0.1</td>\n",
       "    </tr>\n",
       "    <tr>\n",
       "      <th>6</th>\n",
       "      <td>world</td>\n",
       "      <td>0.1</td>\n",
       "      <td>fresh</td>\n",
       "      <td>0.1</td>\n",
       "      <td>religion</td>\n",
       "      <td>0.1</td>\n",
       "      <td>world</td>\n",
       "      <td>0.1</td>\n",
       "      <td>sin</td>\n",
       "      <td>0.1</td>\n",
       "      <td>exercise</td>\n",
       "      <td>0.2</td>\n",
       "      <td>live</td>\n",
       "      <td>0.1</td>\n",
       "      <td>education</td>\n",
       "      <td>0.1</td>\n",
       "      <td>god</td>\n",
       "      <td>0.1</td>\n",
       "      <td>way</td>\n",
       "      <td>0.1</td>\n",
       "    </tr>\n",
       "    <tr>\n",
       "      <th>7</th>\n",
       "      <td>page</td>\n",
       "      <td>0.1</td>\n",
       "      <td>imagination</td>\n",
       "      <td>0.1</td>\n",
       "      <td>world</td>\n",
       "      <td>0.1</td>\n",
       "      <td>overall</td>\n",
       "      <td>0.0</td>\n",
       "      <td>christ</td>\n",
       "      <td>0.1</td>\n",
       "      <td>school</td>\n",
       "      <td>0.2</td>\n",
       "      <td>social</td>\n",
       "      <td>0.1</td>\n",
       "      <td>practice</td>\n",
       "      <td>0.1</td>\n",
       "      <td>strength</td>\n",
       "      <td>0.1</td>\n",
       "      <td>fine</td>\n",
       "      <td>0.1</td>\n",
       "    </tr>\n",
       "    <tr>\n",
       "      <th>8</th>\n",
       "      <td>new</td>\n",
       "      <td>0.1</td>\n",
       "      <td>john</td>\n",
       "      <td>0.1</td>\n",
       "      <td>test</td>\n",
       "      <td>0.1</td>\n",
       "      <td>previous</td>\n",
       "      <td>0.0</td>\n",
       "      <td>scientific</td>\n",
       "      <td>0.1</td>\n",
       "      <td>research</td>\n",
       "      <td>0.1</td>\n",
       "      <td>character</td>\n",
       "      <td>0.1</td>\n",
       "      <td>plot</td>\n",
       "      <td>0.1</td>\n",
       "      <td>example</td>\n",
       "      <td>0.1</td>\n",
       "      <td>help</td>\n",
       "      <td>0.1</td>\n",
       "    </tr>\n",
       "    <tr>\n",
       "      <th>9</th>\n",
       "      <td>day</td>\n",
       "      <td>0.1</td>\n",
       "      <td>false</td>\n",
       "      <td>0.1</td>\n",
       "      <td>nation</td>\n",
       "      <td>0.1</td>\n",
       "      <td>help</td>\n",
       "      <td>0.0</td>\n",
       "      <td>system</td>\n",
       "      <td>0.1</td>\n",
       "      <td>project</td>\n",
       "      <td>0.1</td>\n",
       "      <td>worker</td>\n",
       "      <td>0.1</td>\n",
       "      <td>reader</td>\n",
       "      <td>0.1</td>\n",
       "      <td>work</td>\n",
       "      <td>0.1</td>\n",
       "      <td>character</td>\n",
       "      <td>0.1</td>\n",
       "    </tr>\n",
       "  </tbody>\n",
       "</table>\n",
       "</div>"
      ],
      "text/plain": [
       "  Topic 0 words Topic 0 weights Topic 1 words Topic 1 weights Topic 2 words  \\\n",
       "0          life             0.2         jesus             0.4          fine   \n",
       "1        author             0.2        memory             0.4        social   \n",
       "2           god             0.2          word             0.3      violence   \n",
       "3           way             0.2           god             0.3     political   \n",
       "4          year             0.2           man             0.2     religious   \n",
       "5          work             0.2          heal             0.1    government   \n",
       "6         world             0.1         fresh             0.1      religion   \n",
       "7          page             0.1   imagination             0.1         world   \n",
       "8           new             0.1          john             0.1          test   \n",
       "9           day             0.1         false             0.1        nation   \n",
       "\n",
       "  Topic 2 weights Topic 3 words Topic 3 weights Topic 4 words Topic 4 weights  \\\n",
       "0             0.4         heart             0.7           god             0.6   \n",
       "1             0.2           red             0.6          life             0.3   \n",
       "2             0.2       fantasy             0.1      universe             0.3   \n",
       "3             0.2           way             0.1       science             0.2   \n",
       "4             0.2          fine             0.1           law             0.1   \n",
       "5             0.2          plot             0.1      evidence             0.1   \n",
       "6             0.1         world             0.1           sin             0.1   \n",
       "7             0.1       overall             0.0        christ             0.1   \n",
       "8             0.1      previous             0.0    scientific             0.1   \n",
       "9             0.1          help             0.0        system             0.1   \n",
       "\n",
       "  Topic 5 words Topic 5 weights Topic 6 words Topic 6 weights Topic 7 words  \\\n",
       "0      practice             0.3          life             0.5     character   \n",
       "1       teacher             0.3          work             0.2        series   \n",
       "2       science             0.2      japanese             0.2       teacher   \n",
       "3       chapter             0.2         thing             0.1           end   \n",
       "4     education             0.2          self             0.1       science   \n",
       "5          work             0.2           war             0.1         novel   \n",
       "6      exercise             0.2          live             0.1     education   \n",
       "7        school             0.2        social             0.1      practice   \n",
       "8      research             0.1     character             0.1          plot   \n",
       "9       project             0.1        worker             0.1        reader   \n",
       "\n",
       "  Topic 7 weights Topic 8 words Topic 8 weights Topic 9 words Topic 9 weights  \n",
       "0             0.6      exercise             0.5      exercise             0.3  \n",
       "1             0.3       chapter             0.4          work             0.3  \n",
       "2             0.1          page             0.2          year             0.2  \n",
       "3             0.1          body             0.2        series             0.2  \n",
       "4             0.1     character             0.2         thing             0.2  \n",
       "5             0.1        author             0.1          body             0.1  \n",
       "6             0.1           god             0.1           way             0.1  \n",
       "7             0.1      strength             0.1          fine             0.1  \n",
       "8             0.1       example             0.1          help             0.1  \n",
       "9             0.1          work             0.1     character             0.1  "
      ]
     },
     "execution_count": 316,
     "metadata": {},
     "output_type": "execute_result"
    }
   ],
   "source": [
    "display_topics(lsa_tf, tf_feature_names, 10)"
   ]
  },
  {
   "cell_type": "code",
   "execution_count": 317,
   "metadata": {},
   "outputs": [
    {
     "data": {
      "application/vnd.plotly.v1+json": {
       "config": {
        "plotlyServerURL": "https://plot.ly"
       },
       "data": [
        {
         "marker": {
          "color": "Blue"
         },
         "orientation": "h",
         "type": "bar",
         "x": [
          0.2,
          0.2,
          0.2,
          0.2,
          0.2,
          0.2,
          0.1,
          0.1,
          0.1,
          0.1
         ],
         "xaxis": "x",
         "y": [
          "life",
          "author",
          "god",
          "way",
          "year",
          "work",
          "world",
          "page",
          "new",
          "day"
         ],
         "yaxis": "y"
        },
        {
         "marker": {
          "color": "Pink"
         },
         "orientation": "h",
         "type": "bar",
         "x": [
          0.4,
          0.4,
          0.3,
          0.3,
          0.2,
          0.1,
          0.1,
          0.1,
          0.1,
          0.1
         ],
         "xaxis": "x3",
         "y": [
          "jesus",
          "memory",
          "word",
          "god",
          "man",
          "heal",
          "fresh",
          "imagination",
          "john",
          "false"
         ],
         "yaxis": "y3"
        },
        {
         "marker": {
          "color": "SeaGreen"
         },
         "orientation": "h",
         "type": "bar",
         "x": [
          0.4,
          0.2,
          0.2,
          0.2,
          0.2,
          0.2,
          0.1,
          0.1,
          0.1,
          0.1
         ],
         "xaxis": "x5",
         "y": [
          "fine",
          "social",
          "violence",
          "political",
          "religious",
          "government",
          "religion",
          "world",
          "test",
          "nation"
         ],
         "yaxis": "y5"
        },
        {
         "marker": {
          "color": "Orange"
         },
         "orientation": "h",
         "type": "bar",
         "x": [
          0.7,
          0.6,
          0.1,
          0.1,
          0.1,
          0.1,
          0.1,
          0,
          0,
          0
         ],
         "xaxis": "x7",
         "y": [
          "heart",
          "red",
          "fantasy",
          "way",
          "fine",
          "plot",
          "world",
          "overall",
          "previous",
          "help"
         ],
         "yaxis": "y7"
        },
        {
         "marker": {
          "color": "Grey"
         },
         "orientation": "h",
         "type": "bar",
         "x": [
          0.6,
          0.3,
          0.3,
          0.2,
          0.1,
          0.1,
          0.1,
          0.1,
          0.1,
          0.1
         ],
         "xaxis": "x9",
         "y": [
          "god",
          "life",
          "universe",
          "science",
          "law",
          "evidence",
          "sin",
          "christ",
          "scientific",
          "system"
         ],
         "yaxis": "y9"
        },
        {
         "marker": {
          "color": "Purple"
         },
         "orientation": "h",
         "type": "bar",
         "x": [
          0.3,
          0.3,
          0.2,
          0.2,
          0.2,
          0.2,
          0.2,
          0.2,
          0.1,
          0.1
         ],
         "xaxis": "x2",
         "y": [
          "practice",
          "teacher",
          "science",
          "chapter",
          "education",
          "work",
          "exercise",
          "school",
          "research",
          "project"
         ],
         "yaxis": "y2"
        },
        {
         "marker": {
          "color": "Red"
         },
         "orientation": "h",
         "type": "bar",
         "x": [
          0.5,
          0.2,
          0.2,
          0.1,
          0.1,
          0.1,
          0.1,
          0.1,
          0.1,
          0.1
         ],
         "xaxis": "x4",
         "y": [
          "life",
          "work",
          "japanese",
          "thing",
          "self",
          "war",
          "live",
          "social",
          "character",
          "worker"
         ],
         "yaxis": "y4"
        },
        {
         "marker": {
          "color": "LightBlue"
         },
         "orientation": "h",
         "type": "bar",
         "x": [
          0.6,
          0.3,
          0.1,
          0.1,
          0.1,
          0.1,
          0.1,
          0.1,
          0.1,
          0.1
         ],
         "xaxis": "x6",
         "y": [
          "character",
          "series",
          "teacher",
          "end",
          "science",
          "novel",
          "education",
          "practice",
          "plot",
          "reader"
         ],
         "yaxis": "y6"
        },
        {
         "marker": {
          "color": "LightGreen"
         },
         "orientation": "h",
         "type": "bar",
         "x": [
          0.5,
          0.4,
          0.2,
          0.2,
          0.2,
          0.1,
          0.1,
          0.1,
          0.1,
          0.1
         ],
         "xaxis": "x8",
         "y": [
          "exercise",
          "chapter",
          "page",
          "body",
          "character",
          "author",
          "god",
          "strength",
          "example",
          "work"
         ],
         "yaxis": "y8"
        },
        {
         "marker": {
          "color": "DarkRed"
         },
         "orientation": "h",
         "type": "bar",
         "x": [
          0.3,
          0.3,
          0.2,
          0.2,
          0.2,
          0.1,
          0.1,
          0.1,
          0.1,
          0.1
         ],
         "xaxis": "x10",
         "y": [
          "exercise",
          "work",
          "year",
          "series",
          "thing",
          "body",
          "way",
          "fine",
          "help",
          "character"
         ],
         "yaxis": "y10"
        }
       ],
       "layout": {
        "annotations": [
         {
          "font": {
           "size": 16
          },
          "showarrow": false,
          "text": "Topic 1",
          "x": 0.225,
          "xanchor": "center",
          "xref": "paper",
          "y": 1,
          "yanchor": "bottom",
          "yref": "paper"
         },
         {
          "font": {
           "size": 16
          },
          "showarrow": false,
          "text": "Topic 6",
          "x": 0.775,
          "xanchor": "center",
          "xref": "paper",
          "y": 1,
          "yanchor": "bottom",
          "yref": "paper"
         },
         {
          "font": {
           "size": 16
          },
          "showarrow": false,
          "text": "Topic 2",
          "x": 0.225,
          "xanchor": "center",
          "xref": "paper",
          "y": 0.78,
          "yanchor": "bottom",
          "yref": "paper"
         },
         {
          "font": {
           "size": 16
          },
          "showarrow": false,
          "text": "Topic 7",
          "x": 0.775,
          "xanchor": "center",
          "xref": "paper",
          "y": 0.78,
          "yanchor": "bottom",
          "yref": "paper"
         },
         {
          "font": {
           "size": 16
          },
          "showarrow": false,
          "text": "Topic 3",
          "x": 0.225,
          "xanchor": "center",
          "xref": "paper",
          "y": 0.56,
          "yanchor": "bottom",
          "yref": "paper"
         },
         {
          "font": {
           "size": 16
          },
          "showarrow": false,
          "text": "Topic 8",
          "x": 0.775,
          "xanchor": "center",
          "xref": "paper",
          "y": 0.56,
          "yanchor": "bottom",
          "yref": "paper"
         },
         {
          "font": {
           "size": 16
          },
          "showarrow": false,
          "text": "Topic 4",
          "x": 0.225,
          "xanchor": "center",
          "xref": "paper",
          "y": 0.33999999999999997,
          "yanchor": "bottom",
          "yref": "paper"
         },
         {
          "font": {
           "size": 16
          },
          "showarrow": false,
          "text": "Topic 9",
          "x": 0.775,
          "xanchor": "center",
          "xref": "paper",
          "y": 0.33999999999999997,
          "yanchor": "bottom",
          "yref": "paper"
         },
         {
          "font": {
           "size": 16
          },
          "showarrow": false,
          "text": "Topic 5",
          "x": 0.225,
          "xanchor": "center",
          "xref": "paper",
          "y": 0.12,
          "yanchor": "bottom",
          "yref": "paper"
         },
         {
          "font": {
           "size": 16
          },
          "showarrow": false,
          "text": "Topic 10",
          "x": 0.775,
          "xanchor": "center",
          "xref": "paper",
          "y": 0.12,
          "yanchor": "bottom",
          "yref": "paper"
         }
        ],
        "height": 1400,
        "showlegend": false,
        "template": {
         "data": {
          "bar": [
           {
            "error_x": {
             "color": "#2a3f5f"
            },
            "error_y": {
             "color": "#2a3f5f"
            },
            "marker": {
             "line": {
              "color": "#E5ECF6",
              "width": 0.5
             },
             "pattern": {
              "fillmode": "overlay",
              "size": 10,
              "solidity": 0.2
             }
            },
            "type": "bar"
           }
          ],
          "barpolar": [
           {
            "marker": {
             "line": {
              "color": "#E5ECF6",
              "width": 0.5
             },
             "pattern": {
              "fillmode": "overlay",
              "size": 10,
              "solidity": 0.2
             }
            },
            "type": "barpolar"
           }
          ],
          "carpet": [
           {
            "aaxis": {
             "endlinecolor": "#2a3f5f",
             "gridcolor": "white",
             "linecolor": "white",
             "minorgridcolor": "white",
             "startlinecolor": "#2a3f5f"
            },
            "baxis": {
             "endlinecolor": "#2a3f5f",
             "gridcolor": "white",
             "linecolor": "white",
             "minorgridcolor": "white",
             "startlinecolor": "#2a3f5f"
            },
            "type": "carpet"
           }
          ],
          "choropleth": [
           {
            "colorbar": {
             "outlinewidth": 0,
             "ticks": ""
            },
            "type": "choropleth"
           }
          ],
          "contour": [
           {
            "colorbar": {
             "outlinewidth": 0,
             "ticks": ""
            },
            "colorscale": [
             [
              0,
              "#0d0887"
             ],
             [
              0.1111111111111111,
              "#46039f"
             ],
             [
              0.2222222222222222,
              "#7201a8"
             ],
             [
              0.3333333333333333,
              "#9c179e"
             ],
             [
              0.4444444444444444,
              "#bd3786"
             ],
             [
              0.5555555555555556,
              "#d8576b"
             ],
             [
              0.6666666666666666,
              "#ed7953"
             ],
             [
              0.7777777777777778,
              "#fb9f3a"
             ],
             [
              0.8888888888888888,
              "#fdca26"
             ],
             [
              1,
              "#f0f921"
             ]
            ],
            "type": "contour"
           }
          ],
          "contourcarpet": [
           {
            "colorbar": {
             "outlinewidth": 0,
             "ticks": ""
            },
            "type": "contourcarpet"
           }
          ],
          "heatmap": [
           {
            "colorbar": {
             "outlinewidth": 0,
             "ticks": ""
            },
            "colorscale": [
             [
              0,
              "#0d0887"
             ],
             [
              0.1111111111111111,
              "#46039f"
             ],
             [
              0.2222222222222222,
              "#7201a8"
             ],
             [
              0.3333333333333333,
              "#9c179e"
             ],
             [
              0.4444444444444444,
              "#bd3786"
             ],
             [
              0.5555555555555556,
              "#d8576b"
             ],
             [
              0.6666666666666666,
              "#ed7953"
             ],
             [
              0.7777777777777778,
              "#fb9f3a"
             ],
             [
              0.8888888888888888,
              "#fdca26"
             ],
             [
              1,
              "#f0f921"
             ]
            ],
            "type": "heatmap"
           }
          ],
          "heatmapgl": [
           {
            "colorbar": {
             "outlinewidth": 0,
             "ticks": ""
            },
            "colorscale": [
             [
              0,
              "#0d0887"
             ],
             [
              0.1111111111111111,
              "#46039f"
             ],
             [
              0.2222222222222222,
              "#7201a8"
             ],
             [
              0.3333333333333333,
              "#9c179e"
             ],
             [
              0.4444444444444444,
              "#bd3786"
             ],
             [
              0.5555555555555556,
              "#d8576b"
             ],
             [
              0.6666666666666666,
              "#ed7953"
             ],
             [
              0.7777777777777778,
              "#fb9f3a"
             ],
             [
              0.8888888888888888,
              "#fdca26"
             ],
             [
              1,
              "#f0f921"
             ]
            ],
            "type": "heatmapgl"
           }
          ],
          "histogram": [
           {
            "marker": {
             "pattern": {
              "fillmode": "overlay",
              "size": 10,
              "solidity": 0.2
             }
            },
            "type": "histogram"
           }
          ],
          "histogram2d": [
           {
            "colorbar": {
             "outlinewidth": 0,
             "ticks": ""
            },
            "colorscale": [
             [
              0,
              "#0d0887"
             ],
             [
              0.1111111111111111,
              "#46039f"
             ],
             [
              0.2222222222222222,
              "#7201a8"
             ],
             [
              0.3333333333333333,
              "#9c179e"
             ],
             [
              0.4444444444444444,
              "#bd3786"
             ],
             [
              0.5555555555555556,
              "#d8576b"
             ],
             [
              0.6666666666666666,
              "#ed7953"
             ],
             [
              0.7777777777777778,
              "#fb9f3a"
             ],
             [
              0.8888888888888888,
              "#fdca26"
             ],
             [
              1,
              "#f0f921"
             ]
            ],
            "type": "histogram2d"
           }
          ],
          "histogram2dcontour": [
           {
            "colorbar": {
             "outlinewidth": 0,
             "ticks": ""
            },
            "colorscale": [
             [
              0,
              "#0d0887"
             ],
             [
              0.1111111111111111,
              "#46039f"
             ],
             [
              0.2222222222222222,
              "#7201a8"
             ],
             [
              0.3333333333333333,
              "#9c179e"
             ],
             [
              0.4444444444444444,
              "#bd3786"
             ],
             [
              0.5555555555555556,
              "#d8576b"
             ],
             [
              0.6666666666666666,
              "#ed7953"
             ],
             [
              0.7777777777777778,
              "#fb9f3a"
             ],
             [
              0.8888888888888888,
              "#fdca26"
             ],
             [
              1,
              "#f0f921"
             ]
            ],
            "type": "histogram2dcontour"
           }
          ],
          "mesh3d": [
           {
            "colorbar": {
             "outlinewidth": 0,
             "ticks": ""
            },
            "type": "mesh3d"
           }
          ],
          "parcoords": [
           {
            "line": {
             "colorbar": {
              "outlinewidth": 0,
              "ticks": ""
             }
            },
            "type": "parcoords"
           }
          ],
          "pie": [
           {
            "automargin": true,
            "type": "pie"
           }
          ],
          "scatter": [
           {
            "marker": {
             "colorbar": {
              "outlinewidth": 0,
              "ticks": ""
             }
            },
            "type": "scatter"
           }
          ],
          "scatter3d": [
           {
            "line": {
             "colorbar": {
              "outlinewidth": 0,
              "ticks": ""
             }
            },
            "marker": {
             "colorbar": {
              "outlinewidth": 0,
              "ticks": ""
             }
            },
            "type": "scatter3d"
           }
          ],
          "scattercarpet": [
           {
            "marker": {
             "colorbar": {
              "outlinewidth": 0,
              "ticks": ""
             }
            },
            "type": "scattercarpet"
           }
          ],
          "scattergeo": [
           {
            "marker": {
             "colorbar": {
              "outlinewidth": 0,
              "ticks": ""
             }
            },
            "type": "scattergeo"
           }
          ],
          "scattergl": [
           {
            "marker": {
             "colorbar": {
              "outlinewidth": 0,
              "ticks": ""
             }
            },
            "type": "scattergl"
           }
          ],
          "scattermapbox": [
           {
            "marker": {
             "colorbar": {
              "outlinewidth": 0,
              "ticks": ""
             }
            },
            "type": "scattermapbox"
           }
          ],
          "scatterpolar": [
           {
            "marker": {
             "colorbar": {
              "outlinewidth": 0,
              "ticks": ""
             }
            },
            "type": "scatterpolar"
           }
          ],
          "scatterpolargl": [
           {
            "marker": {
             "colorbar": {
              "outlinewidth": 0,
              "ticks": ""
             }
            },
            "type": "scatterpolargl"
           }
          ],
          "scatterternary": [
           {
            "marker": {
             "colorbar": {
              "outlinewidth": 0,
              "ticks": ""
             }
            },
            "type": "scatterternary"
           }
          ],
          "surface": [
           {
            "colorbar": {
             "outlinewidth": 0,
             "ticks": ""
            },
            "colorscale": [
             [
              0,
              "#0d0887"
             ],
             [
              0.1111111111111111,
              "#46039f"
             ],
             [
              0.2222222222222222,
              "#7201a8"
             ],
             [
              0.3333333333333333,
              "#9c179e"
             ],
             [
              0.4444444444444444,
              "#bd3786"
             ],
             [
              0.5555555555555556,
              "#d8576b"
             ],
             [
              0.6666666666666666,
              "#ed7953"
             ],
             [
              0.7777777777777778,
              "#fb9f3a"
             ],
             [
              0.8888888888888888,
              "#fdca26"
             ],
             [
              1,
              "#f0f921"
             ]
            ],
            "type": "surface"
           }
          ],
          "table": [
           {
            "cells": {
             "fill": {
              "color": "#EBF0F8"
             },
             "line": {
              "color": "white"
             }
            },
            "header": {
             "fill": {
              "color": "#C8D4E3"
             },
             "line": {
              "color": "white"
             }
            },
            "type": "table"
           }
          ]
         },
         "layout": {
          "annotationdefaults": {
           "arrowcolor": "#2a3f5f",
           "arrowhead": 0,
           "arrowwidth": 1
          },
          "autotypenumbers": "strict",
          "coloraxis": {
           "colorbar": {
            "outlinewidth": 0,
            "ticks": ""
           }
          },
          "colorscale": {
           "diverging": [
            [
             0,
             "#8e0152"
            ],
            [
             0.1,
             "#c51b7d"
            ],
            [
             0.2,
             "#de77ae"
            ],
            [
             0.3,
             "#f1b6da"
            ],
            [
             0.4,
             "#fde0ef"
            ],
            [
             0.5,
             "#f7f7f7"
            ],
            [
             0.6,
             "#e6f5d0"
            ],
            [
             0.7,
             "#b8e186"
            ],
            [
             0.8,
             "#7fbc41"
            ],
            [
             0.9,
             "#4d9221"
            ],
            [
             1,
             "#276419"
            ]
           ],
           "sequential": [
            [
             0,
             "#0d0887"
            ],
            [
             0.1111111111111111,
             "#46039f"
            ],
            [
             0.2222222222222222,
             "#7201a8"
            ],
            [
             0.3333333333333333,
             "#9c179e"
            ],
            [
             0.4444444444444444,
             "#bd3786"
            ],
            [
             0.5555555555555556,
             "#d8576b"
            ],
            [
             0.6666666666666666,
             "#ed7953"
            ],
            [
             0.7777777777777778,
             "#fb9f3a"
            ],
            [
             0.8888888888888888,
             "#fdca26"
            ],
            [
             1,
             "#f0f921"
            ]
           ],
           "sequentialminus": [
            [
             0,
             "#0d0887"
            ],
            [
             0.1111111111111111,
             "#46039f"
            ],
            [
             0.2222222222222222,
             "#7201a8"
            ],
            [
             0.3333333333333333,
             "#9c179e"
            ],
            [
             0.4444444444444444,
             "#bd3786"
            ],
            [
             0.5555555555555556,
             "#d8576b"
            ],
            [
             0.6666666666666666,
             "#ed7953"
            ],
            [
             0.7777777777777778,
             "#fb9f3a"
            ],
            [
             0.8888888888888888,
             "#fdca26"
            ],
            [
             1,
             "#f0f921"
            ]
           ]
          },
          "colorway": [
           "#636efa",
           "#EF553B",
           "#00cc96",
           "#ab63fa",
           "#FFA15A",
           "#19d3f3",
           "#FF6692",
           "#B6E880",
           "#FF97FF",
           "#FECB52"
          ],
          "font": {
           "color": "#2a3f5f"
          },
          "geo": {
           "bgcolor": "white",
           "lakecolor": "white",
           "landcolor": "#E5ECF6",
           "showlakes": true,
           "showland": true,
           "subunitcolor": "white"
          },
          "hoverlabel": {
           "align": "left"
          },
          "hovermode": "closest",
          "mapbox": {
           "style": "light"
          },
          "paper_bgcolor": "white",
          "plot_bgcolor": "#E5ECF6",
          "polar": {
           "angularaxis": {
            "gridcolor": "white",
            "linecolor": "white",
            "ticks": ""
           },
           "bgcolor": "#E5ECF6",
           "radialaxis": {
            "gridcolor": "white",
            "linecolor": "white",
            "ticks": ""
           }
          },
          "scene": {
           "xaxis": {
            "backgroundcolor": "#E5ECF6",
            "gridcolor": "white",
            "gridwidth": 2,
            "linecolor": "white",
            "showbackground": true,
            "ticks": "",
            "zerolinecolor": "white"
           },
           "yaxis": {
            "backgroundcolor": "#E5ECF6",
            "gridcolor": "white",
            "gridwidth": 2,
            "linecolor": "white",
            "showbackground": true,
            "ticks": "",
            "zerolinecolor": "white"
           },
           "zaxis": {
            "backgroundcolor": "#E5ECF6",
            "gridcolor": "white",
            "gridwidth": 2,
            "linecolor": "white",
            "showbackground": true,
            "ticks": "",
            "zerolinecolor": "white"
           }
          },
          "shapedefaults": {
           "line": {
            "color": "#2a3f5f"
           }
          },
          "ternary": {
           "aaxis": {
            "gridcolor": "white",
            "linecolor": "white",
            "ticks": ""
           },
           "baxis": {
            "gridcolor": "white",
            "linecolor": "white",
            "ticks": ""
           },
           "bgcolor": "#E5ECF6",
           "caxis": {
            "gridcolor": "white",
            "linecolor": "white",
            "ticks": ""
           }
          },
          "title": {
           "x": 0.05
          },
          "xaxis": {
           "automargin": true,
           "gridcolor": "white",
           "linecolor": "white",
           "ticks": "",
           "title": {
            "standoff": 15
           },
           "zerolinecolor": "white",
           "zerolinewidth": 2
          },
          "yaxis": {
           "automargin": true,
           "gridcolor": "white",
           "linecolor": "white",
           "ticks": "",
           "title": {
            "standoff": 15
           },
           "zerolinecolor": "white",
           "zerolinewidth": 2
          }
         }
        },
        "title": {
         "text": "LSA TF - Topic Keywords ranked by Weight"
        },
        "width": 1200,
        "xaxis": {
         "anchor": "y",
         "domain": [
          0,
          0.45
         ],
         "range": [
          0,
          1
         ],
         "title": {
          "text": "Weight"
         }
        },
        "xaxis10": {
         "anchor": "y10",
         "domain": [
          0.55,
          1
         ],
         "range": [
          0,
          1
         ],
         "title": {
          "text": "Weight"
         }
        },
        "xaxis2": {
         "anchor": "y2",
         "domain": [
          0.55,
          1
         ],
         "range": [
          0,
          1
         ],
         "title": {
          "text": "Weight"
         }
        },
        "xaxis3": {
         "anchor": "y3",
         "domain": [
          0,
          0.45
         ],
         "range": [
          0,
          1
         ],
         "title": {
          "text": "Weight"
         }
        },
        "xaxis4": {
         "anchor": "y4",
         "domain": [
          0.55,
          1
         ],
         "range": [
          0,
          1
         ],
         "title": {
          "text": "Weight"
         }
        },
        "xaxis5": {
         "anchor": "y5",
         "domain": [
          0,
          0.45
         ],
         "range": [
          0,
          1
         ],
         "title": {
          "text": "Weight"
         }
        },
        "xaxis6": {
         "anchor": "y6",
         "domain": [
          0.55,
          1
         ],
         "range": [
          0,
          1
         ],
         "title": {
          "text": "Weight"
         }
        },
        "xaxis7": {
         "anchor": "y7",
         "domain": [
          0,
          0.45
         ],
         "range": [
          0,
          1
         ],
         "title": {
          "text": "Weight"
         }
        },
        "xaxis8": {
         "anchor": "y8",
         "domain": [
          0.55,
          1
         ],
         "range": [
          0,
          1
         ],
         "title": {
          "text": "Weight"
         }
        },
        "xaxis9": {
         "anchor": "y9",
         "domain": [
          0,
          0.45
         ],
         "range": [
          0,
          1
         ],
         "title": {
          "text": "Weight"
         }
        },
        "yaxis": {
         "anchor": "x",
         "autorange": "reversed",
         "domain": [
          0.88,
          1
         ],
         "title": {
          "text": "Keyword"
         },
         "type": "category"
        },
        "yaxis10": {
         "anchor": "x10",
         "autorange": "reversed",
         "domain": [
          0,
          0.12
         ],
         "title": {
          "text": "Keyword"
         },
         "type": "category"
        },
        "yaxis2": {
         "anchor": "x2",
         "autorange": "reversed",
         "domain": [
          0.88,
          1
         ],
         "title": {
          "text": "Keyword"
         },
         "type": "category"
        },
        "yaxis3": {
         "anchor": "x3",
         "autorange": "reversed",
         "domain": [
          0.66,
          0.78
         ],
         "title": {
          "text": "Keyword"
         },
         "type": "category"
        },
        "yaxis4": {
         "anchor": "x4",
         "autorange": "reversed",
         "domain": [
          0.66,
          0.78
         ],
         "title": {
          "text": "Keyword"
         },
         "type": "category"
        },
        "yaxis5": {
         "anchor": "x5",
         "autorange": "reversed",
         "domain": [
          0.44,
          0.56
         ],
         "title": {
          "text": "Keyword"
         },
         "type": "category"
        },
        "yaxis6": {
         "anchor": "x6",
         "autorange": "reversed",
         "domain": [
          0.44,
          0.56
         ],
         "title": {
          "text": "Keyword"
         },
         "type": "category"
        },
        "yaxis7": {
         "anchor": "x7",
         "autorange": "reversed",
         "domain": [
          0.22,
          0.33999999999999997
         ],
         "title": {
          "text": "Keyword"
         },
         "type": "category"
        },
        "yaxis8": {
         "anchor": "x8",
         "autorange": "reversed",
         "domain": [
          0.22,
          0.33999999999999997
         ],
         "title": {
          "text": "Keyword"
         },
         "type": "category"
        },
        "yaxis9": {
         "anchor": "x9",
         "autorange": "reversed",
         "domain": [
          0,
          0.12
         ],
         "title": {
          "text": "Keyword"
         },
         "type": "category"
        }
       }
      }
     },
     "metadata": {},
     "output_type": "display_data"
    }
   ],
   "source": [
    "data = display_topics(lsa_tf, tf_feature_names, 10)\n",
    "fig = make_subplots(rows=5, cols=2, subplot_titles= [\"Topic 1\", \"Topic 6\", \"Topic 2\",\"Topic 7\", \"Topic 3\",\"Topic 8\",\"Topic 4\",\"Topic 9\", \"Topic 5\", \"Topic 10\"])\n",
    "colors = [\"Blue\", \"Pink\", \"SeaGreen\", \"Orange\", \"Grey\", \"Purple\", \"Red\", \"LightBlue\", \"LightGreen\", \"DarkRed\"]\n",
    "for col in range(0, int(len(data.columns)),2):\n",
    "    if col == 0:\n",
    "        fig.add_trace(go.Bar(\n",
    "        x=data.iloc[:,1].astype(\"float64\"),\n",
    "        y=data.iloc[:,0],\n",
    "        marker_color=colors[0], orientation = \"h\"), col= 1, row = 1)\n",
    "    if col < 10 and col > 0:\n",
    "        fig.add_trace(go.Bar(\n",
    "        x=data.iloc[:,col+1].astype(\"float64\"),\n",
    "        y=data.iloc[:,col],\n",
    "        marker_color=colors[int(col/2)], orientation = \"h\"), col= 1, row = int(col/2)+1)\n",
    "    if col >= 10:\n",
    "        fig.add_trace(go.Bar(\n",
    "        x=data.iloc[:,col+1].astype(\"float64\"),\n",
    "        y=data.iloc[:,col],\n",
    "        marker_color=colors[int(col/2)], orientation = \"h\"),col= 2, row = int(col/2)-4)\n",
    "\n",
    "fig.update_layout( height=1400, width=1200, title_text=\"LSA TF - Topic Keywords ranked by Weight\", showlegend=False, xaxis_title_text='Keyword',yaxis_title_text='Weight'\n",
    "    )\n",
    "fig.update_yaxes(title='Keyword', type = \"category\" , autorange = \"reversed\")\n",
    "fig.update_xaxes( title = 'Weight', range = (0,1) )\n",
    "fig.show()"
   ]
  },
  {
   "cell_type": "markdown",
   "metadata": {},
   "source": [
    "### LSA TF-IDF"
   ]
  },
  {
   "cell_type": "code",
   "execution_count": 289,
   "metadata": {},
   "outputs": [],
   "source": [
    "lsa_tfidf = lsa.fit(tfidf)\n",
    "pickle.dump(lsa_tfidf, open('../models/basemodel_lsa_tfidf.pkl', 'wb')) #save fitted model"
   ]
  },
  {
   "cell_type": "code",
   "execution_count": 290,
   "metadata": {},
   "outputs": [
    {
     "name": "stdout",
     "output_type": "stream",
     "text": [
      "\n",
      "Coherence Score CV:  0.40831600006554086\n",
      "\n",
      "Coherence Score UMass:  -3.5451028978230283\n",
      "\n",
      "Coherence Score NPMI:  0.02149260958252702\n",
      "\n",
      "Coherence Score UCI:  -0.30060269884111207\n",
      "\n",
      "Silhouette Score:  -0.05878108067727086\n",
      "\n",
      "Calinski-Harabasz Score:  118.42376673525558\n",
      "\n",
      "Davies-Bouldin Score:  4.6087010943110505\n"
     ]
    }
   ],
   "source": [
    "# Evaluation Metrics for whole dataset\n",
    "cv_lsa_tfidf, c_umass_lsa_tfidf, c_npmi_lsa_tfidf, c_uci_lsa_tfidf, sil_score_lsa_tfidf, ch_index_lsa_tfidf, db_index_lsa_tfidf = evaluation(lsa_tfidf, tfidf_fit, tfidf, tfidf_feature_names, 20, df[\"cut_and_clean\"], dictionary)"
   ]
  },
  {
   "cell_type": "code",
   "execution_count": 291,
   "metadata": {},
   "outputs": [
    {
     "data": {
      "text/html": [
       "<div>\n",
       "<style scoped>\n",
       "    .dataframe tbody tr th:only-of-type {\n",
       "        vertical-align: middle;\n",
       "    }\n",
       "\n",
       "    .dataframe tbody tr th {\n",
       "        vertical-align: top;\n",
       "    }\n",
       "\n",
       "    .dataframe thead th {\n",
       "        text-align: right;\n",
       "    }\n",
       "</style>\n",
       "<table border=\"1\" class=\"dataframe\">\n",
       "  <thead>\n",
       "    <tr style=\"text-align: right;\">\n",
       "      <th></th>\n",
       "      <th>Topic 0 words</th>\n",
       "      <th>Topic 0 weights</th>\n",
       "      <th>Topic 1 words</th>\n",
       "      <th>Topic 1 weights</th>\n",
       "      <th>Topic 2 words</th>\n",
       "      <th>Topic 2 weights</th>\n",
       "      <th>Topic 3 words</th>\n",
       "      <th>Topic 3 weights</th>\n",
       "      <th>Topic 4 words</th>\n",
       "      <th>Topic 4 weights</th>\n",
       "      <th>Topic 5 words</th>\n",
       "      <th>Topic 5 weights</th>\n",
       "      <th>Topic 6 words</th>\n",
       "      <th>Topic 6 weights</th>\n",
       "      <th>Topic 7 words</th>\n",
       "      <th>Topic 7 weights</th>\n",
       "      <th>Topic 8 words</th>\n",
       "      <th>Topic 8 weights</th>\n",
       "      <th>Topic 9 words</th>\n",
       "      <th>Topic 9 weights</th>\n",
       "    </tr>\n",
       "  </thead>\n",
       "  <tbody>\n",
       "    <tr>\n",
       "      <th>0</th>\n",
       "      <td>thank</td>\n",
       "      <td>1.0</td>\n",
       "      <td>gift</td>\n",
       "      <td>0.3</td>\n",
       "      <td>condition</td>\n",
       "      <td>0.9</td>\n",
       "      <td>gift</td>\n",
       "      <td>0.9</td>\n",
       "      <td>series</td>\n",
       "      <td>0.8</td>\n",
       "      <td>wonderful</td>\n",
       "      <td>0.8</td>\n",
       "      <td>nice</td>\n",
       "      <td>0.8</td>\n",
       "      <td>helpful</td>\n",
       "      <td>0.9</td>\n",
       "      <td>enjoy</td>\n",
       "      <td>0.7</td>\n",
       "      <td>old</td>\n",
       "      <td>0.4</td>\n",
       "    </tr>\n",
       "    <tr>\n",
       "      <th>1</th>\n",
       "      <td>condition</td>\n",
       "      <td>0.2</td>\n",
       "      <td>series</td>\n",
       "      <td>0.3</td>\n",
       "      <td>perfect</td>\n",
       "      <td>0.2</td>\n",
       "      <td>perfect</td>\n",
       "      <td>0.1</td>\n",
       "      <td>gift</td>\n",
       "      <td>0.2</td>\n",
       "      <td>condition</td>\n",
       "      <td>0.1</td>\n",
       "      <td>wonderful</td>\n",
       "      <td>0.4</td>\n",
       "      <td>series</td>\n",
       "      <td>0.2</td>\n",
       "      <td>helpful</td>\n",
       "      <td>0.3</td>\n",
       "      <td>year</td>\n",
       "      <td>0.4</td>\n",
       "    </tr>\n",
       "    <tr>\n",
       "      <th>2</th>\n",
       "      <td>perfect</td>\n",
       "      <td>0.1</td>\n",
       "      <td>wonderful</td>\n",
       "      <td>0.2</td>\n",
       "      <td>arrive</td>\n",
       "      <td>0.1</td>\n",
       "      <td>christmas</td>\n",
       "      <td>0.0</td>\n",
       "      <td>enjoy</td>\n",
       "      <td>0.1</td>\n",
       "      <td>gift</td>\n",
       "      <td>0.0</td>\n",
       "      <td>series</td>\n",
       "      <td>0.2</td>\n",
       "      <td>gift</td>\n",
       "      <td>0.1</td>\n",
       "      <td>old</td>\n",
       "      <td>0.2</td>\n",
       "      <td>perfect</td>\n",
       "      <td>0.4</td>\n",
       "    </tr>\n",
       "    <tr>\n",
       "      <th>3</th>\n",
       "      <td>gift</td>\n",
       "      <td>0.0</td>\n",
       "      <td>year</td>\n",
       "      <td>0.2</td>\n",
       "      <td>describe</td>\n",
       "      <td>0.0</td>\n",
       "      <td>friend</td>\n",
       "      <td>0.0</td>\n",
       "      <td>condition</td>\n",
       "      <td>0.1</td>\n",
       "      <td>author</td>\n",
       "      <td>0.0</td>\n",
       "      <td>gift</td>\n",
       "      <td>0.0</td>\n",
       "      <td>easy</td>\n",
       "      <td>0.1</td>\n",
       "      <td>year</td>\n",
       "      <td>0.2</td>\n",
       "      <td>daughter</td>\n",
       "      <td>0.2</td>\n",
       "    </tr>\n",
       "    <tr>\n",
       "      <th>4</th>\n",
       "      <td>wonderful</td>\n",
       "      <td>0.0</td>\n",
       "      <td>condition</td>\n",
       "      <td>0.2</td>\n",
       "      <td>price</td>\n",
       "      <td>0.0</td>\n",
       "      <td>daughter</td>\n",
       "      <td>0.0</td>\n",
       "      <td>character</td>\n",
       "      <td>0.0</td>\n",
       "      <td>message</td>\n",
       "      <td>0.0</td>\n",
       "      <td>condition</td>\n",
       "      <td>0.0</td>\n",
       "      <td>informative</td>\n",
       "      <td>0.0</td>\n",
       "      <td>son</td>\n",
       "      <td>0.1</td>\n",
       "      <td>helpful</td>\n",
       "      <td>0.1</td>\n",
       "    </tr>\n",
       "    <tr>\n",
       "      <th>5</th>\n",
       "      <td>nice</td>\n",
       "      <td>0.0</td>\n",
       "      <td>old</td>\n",
       "      <td>0.2</td>\n",
       "      <td>receive</td>\n",
       "      <td>0.0</td>\n",
       "      <td>purchase</td>\n",
       "      <td>0.0</td>\n",
       "      <td>favorite</td>\n",
       "      <td>0.0</td>\n",
       "      <td>man</td>\n",
       "      <td>0.0</td>\n",
       "      <td>picture</td>\n",
       "      <td>0.0</td>\n",
       "      <td>nice</td>\n",
       "      <td>0.0</td>\n",
       "      <td>nice</td>\n",
       "      <td>0.1</td>\n",
       "      <td>son</td>\n",
       "      <td>0.1</td>\n",
       "    </tr>\n",
       "    <tr>\n",
       "      <th>6</th>\n",
       "      <td>arrive</td>\n",
       "      <td>0.0</td>\n",
       "      <td>enjoy</td>\n",
       "      <td>0.2</td>\n",
       "      <td>come</td>\n",
       "      <td>0.0</td>\n",
       "      <td>condition</td>\n",
       "      <td>0.0</td>\n",
       "      <td>wait</td>\n",
       "      <td>0.0</td>\n",
       "      <td>miss</td>\n",
       "      <td>0.0</td>\n",
       "      <td>quality</td>\n",
       "      <td>0.0</td>\n",
       "      <td>information</td>\n",
       "      <td>0.0</td>\n",
       "      <td>wonderful</td>\n",
       "      <td>0.1</td>\n",
       "      <td>nice</td>\n",
       "      <td>0.1</td>\n",
       "    </tr>\n",
       "    <tr>\n",
       "      <th>7</th>\n",
       "      <td>product</td>\n",
       "      <td>0.0</td>\n",
       "      <td>easy</td>\n",
       "      <td>0.2</td>\n",
       "      <td>brand</td>\n",
       "      <td>0.0</td>\n",
       "      <td>arrive</td>\n",
       "      <td>0.0</td>\n",
       "      <td>son</td>\n",
       "      <td>0.0</td>\n",
       "      <td>world</td>\n",
       "      <td>0.0</td>\n",
       "      <td>addition</td>\n",
       "      <td>0.0</td>\n",
       "      <td>guide</td>\n",
       "      <td>0.0</td>\n",
       "      <td>kid</td>\n",
       "      <td>0.0</td>\n",
       "      <td>grandson</td>\n",
       "      <td>0.1</td>\n",
       "    </tr>\n",
       "    <tr>\n",
       "      <th>8</th>\n",
       "      <td>price</td>\n",
       "      <td>0.0</td>\n",
       "      <td>nice</td>\n",
       "      <td>0.1</td>\n",
       "      <td>pleased</td>\n",
       "      <td>0.0</td>\n",
       "      <td>birthday</td>\n",
       "      <td>0.0</td>\n",
       "      <td>end</td>\n",
       "      <td>0.0</td>\n",
       "      <td>writer</td>\n",
       "      <td>0.0</td>\n",
       "      <td>service</td>\n",
       "      <td>0.0</td>\n",
       "      <td>understand</td>\n",
       "      <td>0.0</td>\n",
       "      <td>daughter</td>\n",
       "      <td>0.0</td>\n",
       "      <td>favorite</td>\n",
       "      <td>0.1</td>\n",
       "    </tr>\n",
       "    <tr>\n",
       "      <th>9</th>\n",
       "      <td>service</td>\n",
       "      <td>0.0</td>\n",
       "      <td>lot</td>\n",
       "      <td>0.1</td>\n",
       "      <td>item</td>\n",
       "      <td>0.0</td>\n",
       "      <td>husband</td>\n",
       "      <td>0.0</td>\n",
       "      <td>thank</td>\n",
       "      <td>0.0</td>\n",
       "      <td>writing</td>\n",
       "      <td>0.0</td>\n",
       "      <td>calendar</td>\n",
       "      <td>0.0</td>\n",
       "      <td>useful</td>\n",
       "      <td>0.0</td>\n",
       "      <td>condition</td>\n",
       "      <td>0.0</td>\n",
       "      <td>kid</td>\n",
       "      <td>0.1</td>\n",
       "    </tr>\n",
       "  </tbody>\n",
       "</table>\n",
       "</div>"
      ],
      "text/plain": [
       "  Topic 0 words Topic 0 weights Topic 1 words Topic 1 weights Topic 2 words  \\\n",
       "0         thank             1.0          gift             0.3     condition   \n",
       "1     condition             0.2        series             0.3       perfect   \n",
       "2       perfect             0.1     wonderful             0.2        arrive   \n",
       "3          gift             0.0          year             0.2      describe   \n",
       "4     wonderful             0.0     condition             0.2         price   \n",
       "5          nice             0.0           old             0.2       receive   \n",
       "6        arrive             0.0         enjoy             0.2          come   \n",
       "7       product             0.0          easy             0.2         brand   \n",
       "8         price             0.0          nice             0.1       pleased   \n",
       "9       service             0.0           lot             0.1          item   \n",
       "\n",
       "  Topic 2 weights Topic 3 words Topic 3 weights Topic 4 words Topic 4 weights  \\\n",
       "0             0.9          gift             0.9        series             0.8   \n",
       "1             0.2       perfect             0.1          gift             0.2   \n",
       "2             0.1     christmas             0.0         enjoy             0.1   \n",
       "3             0.0        friend             0.0     condition             0.1   \n",
       "4             0.0      daughter             0.0     character             0.0   \n",
       "5             0.0      purchase             0.0      favorite             0.0   \n",
       "6             0.0     condition             0.0          wait             0.0   \n",
       "7             0.0        arrive             0.0           son             0.0   \n",
       "8             0.0      birthday             0.0           end             0.0   \n",
       "9             0.0       husband             0.0         thank             0.0   \n",
       "\n",
       "  Topic 5 words Topic 5 weights Topic 6 words Topic 6 weights Topic 7 words  \\\n",
       "0     wonderful             0.8          nice             0.8       helpful   \n",
       "1     condition             0.1     wonderful             0.4        series   \n",
       "2          gift             0.0        series             0.2          gift   \n",
       "3        author             0.0          gift             0.0          easy   \n",
       "4       message             0.0     condition             0.0   informative   \n",
       "5           man             0.0       picture             0.0          nice   \n",
       "6          miss             0.0       quality             0.0   information   \n",
       "7         world             0.0      addition             0.0         guide   \n",
       "8        writer             0.0       service             0.0    understand   \n",
       "9       writing             0.0      calendar             0.0        useful   \n",
       "\n",
       "  Topic 7 weights Topic 8 words Topic 8 weights Topic 9 words Topic 9 weights  \n",
       "0             0.9         enjoy             0.7           old             0.4  \n",
       "1             0.2       helpful             0.3          year             0.4  \n",
       "2             0.1           old             0.2       perfect             0.4  \n",
       "3             0.1          year             0.2      daughter             0.2  \n",
       "4             0.0           son             0.1       helpful             0.1  \n",
       "5             0.0          nice             0.1           son             0.1  \n",
       "6             0.0     wonderful             0.1          nice             0.1  \n",
       "7             0.0           kid             0.0      grandson             0.1  \n",
       "8             0.0      daughter             0.0      favorite             0.1  \n",
       "9             0.0     condition             0.0           kid             0.1  "
      ]
     },
     "execution_count": 291,
     "metadata": {},
     "output_type": "execute_result"
    }
   ],
   "source": [
    "display_topics(lsa_tfidf, tfidf_feature_names, 10)"
   ]
  },
  {
   "cell_type": "code",
   "execution_count": 292,
   "metadata": {},
   "outputs": [
    {
     "data": {
      "application/vnd.plotly.v1+json": {
       "config": {
        "plotlyServerURL": "https://plot.ly"
       },
       "data": [
        {
         "marker": {
          "color": "Blue"
         },
         "orientation": "h",
         "type": "bar",
         "x": [
          1,
          0.2,
          0.1,
          0,
          0,
          0,
          0,
          0,
          0,
          0
         ],
         "xaxis": "x",
         "y": [
          "thank",
          "condition",
          "perfect",
          "gift",
          "wonderful",
          "nice",
          "arrive",
          "product",
          "price",
          "service"
         ],
         "yaxis": "y"
        },
        {
         "marker": {
          "color": "Pink"
         },
         "orientation": "h",
         "type": "bar",
         "x": [
          0.3,
          0.3,
          0.2,
          0.2,
          0.2,
          0.2,
          0.2,
          0.2,
          0.1,
          0.1
         ],
         "xaxis": "x3",
         "y": [
          "gift",
          "series",
          "wonderful",
          "year",
          "condition",
          "old",
          "enjoy",
          "easy",
          "nice",
          "lot"
         ],
         "yaxis": "y3"
        },
        {
         "marker": {
          "color": "SeaGreen"
         },
         "orientation": "h",
         "type": "bar",
         "x": [
          0.9,
          0.2,
          0.1,
          0,
          0,
          0,
          0,
          0,
          0,
          0
         ],
         "xaxis": "x5",
         "y": [
          "condition",
          "perfect",
          "arrive",
          "describe",
          "price",
          "receive",
          "come",
          "brand",
          "pleased",
          "item"
         ],
         "yaxis": "y5"
        },
        {
         "marker": {
          "color": "Orange"
         },
         "orientation": "h",
         "type": "bar",
         "x": [
          0.9,
          0.1,
          0,
          0,
          0,
          0,
          0,
          0,
          0,
          0
         ],
         "xaxis": "x7",
         "y": [
          "gift",
          "perfect",
          "christmas",
          "friend",
          "daughter",
          "purchase",
          "condition",
          "arrive",
          "birthday",
          "husband"
         ],
         "yaxis": "y7"
        },
        {
         "marker": {
          "color": "Grey"
         },
         "orientation": "h",
         "type": "bar",
         "x": [
          0.8,
          0.2,
          0.1,
          0.1,
          0,
          0,
          0,
          0,
          0,
          0
         ],
         "xaxis": "x9",
         "y": [
          "series",
          "gift",
          "enjoy",
          "condition",
          "character",
          "favorite",
          "wait",
          "son",
          "end",
          "thank"
         ],
         "yaxis": "y9"
        },
        {
         "marker": {
          "color": "Purple"
         },
         "orientation": "h",
         "type": "bar",
         "x": [
          0.8,
          0.1,
          0,
          0,
          0,
          0,
          0,
          0,
          0,
          0
         ],
         "xaxis": "x2",
         "y": [
          "wonderful",
          "condition",
          "gift",
          "author",
          "message",
          "man",
          "miss",
          "world",
          "writer",
          "writing"
         ],
         "yaxis": "y2"
        },
        {
         "marker": {
          "color": "Red"
         },
         "orientation": "h",
         "type": "bar",
         "x": [
          0.8,
          0.4,
          0.2,
          0,
          0,
          0,
          0,
          0,
          0,
          0
         ],
         "xaxis": "x4",
         "y": [
          "nice",
          "wonderful",
          "series",
          "gift",
          "condition",
          "picture",
          "quality",
          "addition",
          "service",
          "calendar"
         ],
         "yaxis": "y4"
        },
        {
         "marker": {
          "color": "LightBlue"
         },
         "orientation": "h",
         "type": "bar",
         "x": [
          0.9,
          0.2,
          0.1,
          0.1,
          0,
          0,
          0,
          0,
          0,
          0
         ],
         "xaxis": "x6",
         "y": [
          "helpful",
          "series",
          "gift",
          "easy",
          "informative",
          "nice",
          "information",
          "guide",
          "understand",
          "useful"
         ],
         "yaxis": "y6"
        },
        {
         "marker": {
          "color": "LightGreen"
         },
         "orientation": "h",
         "type": "bar",
         "x": [
          0.7,
          0.3,
          0.2,
          0.2,
          0.1,
          0.1,
          0.1,
          0,
          0,
          0
         ],
         "xaxis": "x8",
         "y": [
          "enjoy",
          "helpful",
          "old",
          "year",
          "son",
          "nice",
          "wonderful",
          "kid",
          "daughter",
          "condition"
         ],
         "yaxis": "y8"
        },
        {
         "marker": {
          "color": "DarkRed"
         },
         "orientation": "h",
         "type": "bar",
         "x": [
          0.4,
          0.4,
          0.4,
          0.2,
          0.1,
          0.1,
          0.1,
          0.1,
          0.1,
          0.1
         ],
         "xaxis": "x10",
         "y": [
          "old",
          "year",
          "perfect",
          "daughter",
          "helpful",
          "son",
          "nice",
          "grandson",
          "favorite",
          "kid"
         ],
         "yaxis": "y10"
        }
       ],
       "layout": {
        "annotations": [
         {
          "font": {
           "size": 16
          },
          "showarrow": false,
          "text": "Topic 1",
          "x": 0.225,
          "xanchor": "center",
          "xref": "paper",
          "y": 1,
          "yanchor": "bottom",
          "yref": "paper"
         },
         {
          "font": {
           "size": 16
          },
          "showarrow": false,
          "text": "Topic 6",
          "x": 0.775,
          "xanchor": "center",
          "xref": "paper",
          "y": 1,
          "yanchor": "bottom",
          "yref": "paper"
         },
         {
          "font": {
           "size": 16
          },
          "showarrow": false,
          "text": "Topic 2",
          "x": 0.225,
          "xanchor": "center",
          "xref": "paper",
          "y": 0.78,
          "yanchor": "bottom",
          "yref": "paper"
         },
         {
          "font": {
           "size": 16
          },
          "showarrow": false,
          "text": "Topic 7",
          "x": 0.775,
          "xanchor": "center",
          "xref": "paper",
          "y": 0.78,
          "yanchor": "bottom",
          "yref": "paper"
         },
         {
          "font": {
           "size": 16
          },
          "showarrow": false,
          "text": "Topic 3",
          "x": 0.225,
          "xanchor": "center",
          "xref": "paper",
          "y": 0.56,
          "yanchor": "bottom",
          "yref": "paper"
         },
         {
          "font": {
           "size": 16
          },
          "showarrow": false,
          "text": "Topic 8",
          "x": 0.775,
          "xanchor": "center",
          "xref": "paper",
          "y": 0.56,
          "yanchor": "bottom",
          "yref": "paper"
         },
         {
          "font": {
           "size": 16
          },
          "showarrow": false,
          "text": "Topic 4",
          "x": 0.225,
          "xanchor": "center",
          "xref": "paper",
          "y": 0.33999999999999997,
          "yanchor": "bottom",
          "yref": "paper"
         },
         {
          "font": {
           "size": 16
          },
          "showarrow": false,
          "text": "Topic 9",
          "x": 0.775,
          "xanchor": "center",
          "xref": "paper",
          "y": 0.33999999999999997,
          "yanchor": "bottom",
          "yref": "paper"
         },
         {
          "font": {
           "size": 16
          },
          "showarrow": false,
          "text": "Topic 5",
          "x": 0.225,
          "xanchor": "center",
          "xref": "paper",
          "y": 0.12,
          "yanchor": "bottom",
          "yref": "paper"
         },
         {
          "font": {
           "size": 16
          },
          "showarrow": false,
          "text": "Topic 10",
          "x": 0.775,
          "xanchor": "center",
          "xref": "paper",
          "y": 0.12,
          "yanchor": "bottom",
          "yref": "paper"
         }
        ],
        "height": 1400,
        "showlegend": false,
        "template": {
         "data": {
          "bar": [
           {
            "error_x": {
             "color": "#2a3f5f"
            },
            "error_y": {
             "color": "#2a3f5f"
            },
            "marker": {
             "line": {
              "color": "#E5ECF6",
              "width": 0.5
             },
             "pattern": {
              "fillmode": "overlay",
              "size": 10,
              "solidity": 0.2
             }
            },
            "type": "bar"
           }
          ],
          "barpolar": [
           {
            "marker": {
             "line": {
              "color": "#E5ECF6",
              "width": 0.5
             },
             "pattern": {
              "fillmode": "overlay",
              "size": 10,
              "solidity": 0.2
             }
            },
            "type": "barpolar"
           }
          ],
          "carpet": [
           {
            "aaxis": {
             "endlinecolor": "#2a3f5f",
             "gridcolor": "white",
             "linecolor": "white",
             "minorgridcolor": "white",
             "startlinecolor": "#2a3f5f"
            },
            "baxis": {
             "endlinecolor": "#2a3f5f",
             "gridcolor": "white",
             "linecolor": "white",
             "minorgridcolor": "white",
             "startlinecolor": "#2a3f5f"
            },
            "type": "carpet"
           }
          ],
          "choropleth": [
           {
            "colorbar": {
             "outlinewidth": 0,
             "ticks": ""
            },
            "type": "choropleth"
           }
          ],
          "contour": [
           {
            "colorbar": {
             "outlinewidth": 0,
             "ticks": ""
            },
            "colorscale": [
             [
              0,
              "#0d0887"
             ],
             [
              0.1111111111111111,
              "#46039f"
             ],
             [
              0.2222222222222222,
              "#7201a8"
             ],
             [
              0.3333333333333333,
              "#9c179e"
             ],
             [
              0.4444444444444444,
              "#bd3786"
             ],
             [
              0.5555555555555556,
              "#d8576b"
             ],
             [
              0.6666666666666666,
              "#ed7953"
             ],
             [
              0.7777777777777778,
              "#fb9f3a"
             ],
             [
              0.8888888888888888,
              "#fdca26"
             ],
             [
              1,
              "#f0f921"
             ]
            ],
            "type": "contour"
           }
          ],
          "contourcarpet": [
           {
            "colorbar": {
             "outlinewidth": 0,
             "ticks": ""
            },
            "type": "contourcarpet"
           }
          ],
          "heatmap": [
           {
            "colorbar": {
             "outlinewidth": 0,
             "ticks": ""
            },
            "colorscale": [
             [
              0,
              "#0d0887"
             ],
             [
              0.1111111111111111,
              "#46039f"
             ],
             [
              0.2222222222222222,
              "#7201a8"
             ],
             [
              0.3333333333333333,
              "#9c179e"
             ],
             [
              0.4444444444444444,
              "#bd3786"
             ],
             [
              0.5555555555555556,
              "#d8576b"
             ],
             [
              0.6666666666666666,
              "#ed7953"
             ],
             [
              0.7777777777777778,
              "#fb9f3a"
             ],
             [
              0.8888888888888888,
              "#fdca26"
             ],
             [
              1,
              "#f0f921"
             ]
            ],
            "type": "heatmap"
           }
          ],
          "heatmapgl": [
           {
            "colorbar": {
             "outlinewidth": 0,
             "ticks": ""
            },
            "colorscale": [
             [
              0,
              "#0d0887"
             ],
             [
              0.1111111111111111,
              "#46039f"
             ],
             [
              0.2222222222222222,
              "#7201a8"
             ],
             [
              0.3333333333333333,
              "#9c179e"
             ],
             [
              0.4444444444444444,
              "#bd3786"
             ],
             [
              0.5555555555555556,
              "#d8576b"
             ],
             [
              0.6666666666666666,
              "#ed7953"
             ],
             [
              0.7777777777777778,
              "#fb9f3a"
             ],
             [
              0.8888888888888888,
              "#fdca26"
             ],
             [
              1,
              "#f0f921"
             ]
            ],
            "type": "heatmapgl"
           }
          ],
          "histogram": [
           {
            "marker": {
             "pattern": {
              "fillmode": "overlay",
              "size": 10,
              "solidity": 0.2
             }
            },
            "type": "histogram"
           }
          ],
          "histogram2d": [
           {
            "colorbar": {
             "outlinewidth": 0,
             "ticks": ""
            },
            "colorscale": [
             [
              0,
              "#0d0887"
             ],
             [
              0.1111111111111111,
              "#46039f"
             ],
             [
              0.2222222222222222,
              "#7201a8"
             ],
             [
              0.3333333333333333,
              "#9c179e"
             ],
             [
              0.4444444444444444,
              "#bd3786"
             ],
             [
              0.5555555555555556,
              "#d8576b"
             ],
             [
              0.6666666666666666,
              "#ed7953"
             ],
             [
              0.7777777777777778,
              "#fb9f3a"
             ],
             [
              0.8888888888888888,
              "#fdca26"
             ],
             [
              1,
              "#f0f921"
             ]
            ],
            "type": "histogram2d"
           }
          ],
          "histogram2dcontour": [
           {
            "colorbar": {
             "outlinewidth": 0,
             "ticks": ""
            },
            "colorscale": [
             [
              0,
              "#0d0887"
             ],
             [
              0.1111111111111111,
              "#46039f"
             ],
             [
              0.2222222222222222,
              "#7201a8"
             ],
             [
              0.3333333333333333,
              "#9c179e"
             ],
             [
              0.4444444444444444,
              "#bd3786"
             ],
             [
              0.5555555555555556,
              "#d8576b"
             ],
             [
              0.6666666666666666,
              "#ed7953"
             ],
             [
              0.7777777777777778,
              "#fb9f3a"
             ],
             [
              0.8888888888888888,
              "#fdca26"
             ],
             [
              1,
              "#f0f921"
             ]
            ],
            "type": "histogram2dcontour"
           }
          ],
          "mesh3d": [
           {
            "colorbar": {
             "outlinewidth": 0,
             "ticks": ""
            },
            "type": "mesh3d"
           }
          ],
          "parcoords": [
           {
            "line": {
             "colorbar": {
              "outlinewidth": 0,
              "ticks": ""
             }
            },
            "type": "parcoords"
           }
          ],
          "pie": [
           {
            "automargin": true,
            "type": "pie"
           }
          ],
          "scatter": [
           {
            "marker": {
             "colorbar": {
              "outlinewidth": 0,
              "ticks": ""
             }
            },
            "type": "scatter"
           }
          ],
          "scatter3d": [
           {
            "line": {
             "colorbar": {
              "outlinewidth": 0,
              "ticks": ""
             }
            },
            "marker": {
             "colorbar": {
              "outlinewidth": 0,
              "ticks": ""
             }
            },
            "type": "scatter3d"
           }
          ],
          "scattercarpet": [
           {
            "marker": {
             "colorbar": {
              "outlinewidth": 0,
              "ticks": ""
             }
            },
            "type": "scattercarpet"
           }
          ],
          "scattergeo": [
           {
            "marker": {
             "colorbar": {
              "outlinewidth": 0,
              "ticks": ""
             }
            },
            "type": "scattergeo"
           }
          ],
          "scattergl": [
           {
            "marker": {
             "colorbar": {
              "outlinewidth": 0,
              "ticks": ""
             }
            },
            "type": "scattergl"
           }
          ],
          "scattermapbox": [
           {
            "marker": {
             "colorbar": {
              "outlinewidth": 0,
              "ticks": ""
             }
            },
            "type": "scattermapbox"
           }
          ],
          "scatterpolar": [
           {
            "marker": {
             "colorbar": {
              "outlinewidth": 0,
              "ticks": ""
             }
            },
            "type": "scatterpolar"
           }
          ],
          "scatterpolargl": [
           {
            "marker": {
             "colorbar": {
              "outlinewidth": 0,
              "ticks": ""
             }
            },
            "type": "scatterpolargl"
           }
          ],
          "scatterternary": [
           {
            "marker": {
             "colorbar": {
              "outlinewidth": 0,
              "ticks": ""
             }
            },
            "type": "scatterternary"
           }
          ],
          "surface": [
           {
            "colorbar": {
             "outlinewidth": 0,
             "ticks": ""
            },
            "colorscale": [
             [
              0,
              "#0d0887"
             ],
             [
              0.1111111111111111,
              "#46039f"
             ],
             [
              0.2222222222222222,
              "#7201a8"
             ],
             [
              0.3333333333333333,
              "#9c179e"
             ],
             [
              0.4444444444444444,
              "#bd3786"
             ],
             [
              0.5555555555555556,
              "#d8576b"
             ],
             [
              0.6666666666666666,
              "#ed7953"
             ],
             [
              0.7777777777777778,
              "#fb9f3a"
             ],
             [
              0.8888888888888888,
              "#fdca26"
             ],
             [
              1,
              "#f0f921"
             ]
            ],
            "type": "surface"
           }
          ],
          "table": [
           {
            "cells": {
             "fill": {
              "color": "#EBF0F8"
             },
             "line": {
              "color": "white"
             }
            },
            "header": {
             "fill": {
              "color": "#C8D4E3"
             },
             "line": {
              "color": "white"
             }
            },
            "type": "table"
           }
          ]
         },
         "layout": {
          "annotationdefaults": {
           "arrowcolor": "#2a3f5f",
           "arrowhead": 0,
           "arrowwidth": 1
          },
          "autotypenumbers": "strict",
          "coloraxis": {
           "colorbar": {
            "outlinewidth": 0,
            "ticks": ""
           }
          },
          "colorscale": {
           "diverging": [
            [
             0,
             "#8e0152"
            ],
            [
             0.1,
             "#c51b7d"
            ],
            [
             0.2,
             "#de77ae"
            ],
            [
             0.3,
             "#f1b6da"
            ],
            [
             0.4,
             "#fde0ef"
            ],
            [
             0.5,
             "#f7f7f7"
            ],
            [
             0.6,
             "#e6f5d0"
            ],
            [
             0.7,
             "#b8e186"
            ],
            [
             0.8,
             "#7fbc41"
            ],
            [
             0.9,
             "#4d9221"
            ],
            [
             1,
             "#276419"
            ]
           ],
           "sequential": [
            [
             0,
             "#0d0887"
            ],
            [
             0.1111111111111111,
             "#46039f"
            ],
            [
             0.2222222222222222,
             "#7201a8"
            ],
            [
             0.3333333333333333,
             "#9c179e"
            ],
            [
             0.4444444444444444,
             "#bd3786"
            ],
            [
             0.5555555555555556,
             "#d8576b"
            ],
            [
             0.6666666666666666,
             "#ed7953"
            ],
            [
             0.7777777777777778,
             "#fb9f3a"
            ],
            [
             0.8888888888888888,
             "#fdca26"
            ],
            [
             1,
             "#f0f921"
            ]
           ],
           "sequentialminus": [
            [
             0,
             "#0d0887"
            ],
            [
             0.1111111111111111,
             "#46039f"
            ],
            [
             0.2222222222222222,
             "#7201a8"
            ],
            [
             0.3333333333333333,
             "#9c179e"
            ],
            [
             0.4444444444444444,
             "#bd3786"
            ],
            [
             0.5555555555555556,
             "#d8576b"
            ],
            [
             0.6666666666666666,
             "#ed7953"
            ],
            [
             0.7777777777777778,
             "#fb9f3a"
            ],
            [
             0.8888888888888888,
             "#fdca26"
            ],
            [
             1,
             "#f0f921"
            ]
           ]
          },
          "colorway": [
           "#636efa",
           "#EF553B",
           "#00cc96",
           "#ab63fa",
           "#FFA15A",
           "#19d3f3",
           "#FF6692",
           "#B6E880",
           "#FF97FF",
           "#FECB52"
          ],
          "font": {
           "color": "#2a3f5f"
          },
          "geo": {
           "bgcolor": "white",
           "lakecolor": "white",
           "landcolor": "#E5ECF6",
           "showlakes": true,
           "showland": true,
           "subunitcolor": "white"
          },
          "hoverlabel": {
           "align": "left"
          },
          "hovermode": "closest",
          "mapbox": {
           "style": "light"
          },
          "paper_bgcolor": "white",
          "plot_bgcolor": "#E5ECF6",
          "polar": {
           "angularaxis": {
            "gridcolor": "white",
            "linecolor": "white",
            "ticks": ""
           },
           "bgcolor": "#E5ECF6",
           "radialaxis": {
            "gridcolor": "white",
            "linecolor": "white",
            "ticks": ""
           }
          },
          "scene": {
           "xaxis": {
            "backgroundcolor": "#E5ECF6",
            "gridcolor": "white",
            "gridwidth": 2,
            "linecolor": "white",
            "showbackground": true,
            "ticks": "",
            "zerolinecolor": "white"
           },
           "yaxis": {
            "backgroundcolor": "#E5ECF6",
            "gridcolor": "white",
            "gridwidth": 2,
            "linecolor": "white",
            "showbackground": true,
            "ticks": "",
            "zerolinecolor": "white"
           },
           "zaxis": {
            "backgroundcolor": "#E5ECF6",
            "gridcolor": "white",
            "gridwidth": 2,
            "linecolor": "white",
            "showbackground": true,
            "ticks": "",
            "zerolinecolor": "white"
           }
          },
          "shapedefaults": {
           "line": {
            "color": "#2a3f5f"
           }
          },
          "ternary": {
           "aaxis": {
            "gridcolor": "white",
            "linecolor": "white",
            "ticks": ""
           },
           "baxis": {
            "gridcolor": "white",
            "linecolor": "white",
            "ticks": ""
           },
           "bgcolor": "#E5ECF6",
           "caxis": {
            "gridcolor": "white",
            "linecolor": "white",
            "ticks": ""
           }
          },
          "title": {
           "x": 0.05
          },
          "xaxis": {
           "automargin": true,
           "gridcolor": "white",
           "linecolor": "white",
           "ticks": "",
           "title": {
            "standoff": 15
           },
           "zerolinecolor": "white",
           "zerolinewidth": 2
          },
          "yaxis": {
           "automargin": true,
           "gridcolor": "white",
           "linecolor": "white",
           "ticks": "",
           "title": {
            "standoff": 15
           },
           "zerolinecolor": "white",
           "zerolinewidth": 2
          }
         }
        },
        "title": {
         "text": "LSA TF-IDF - Topic Keywords ranked by Weight"
        },
        "width": 1200,
        "xaxis": {
         "anchor": "y",
         "domain": [
          0,
          0.45
         ],
         "range": [
          0,
          1.5
         ],
         "title": {
          "text": "Weight"
         }
        },
        "xaxis10": {
         "anchor": "y10",
         "domain": [
          0.55,
          1
         ],
         "range": [
          0,
          1.5
         ],
         "title": {
          "text": "Weight"
         }
        },
        "xaxis2": {
         "anchor": "y2",
         "domain": [
          0.55,
          1
         ],
         "range": [
          0,
          1.5
         ],
         "title": {
          "text": "Weight"
         }
        },
        "xaxis3": {
         "anchor": "y3",
         "domain": [
          0,
          0.45
         ],
         "range": [
          0,
          1.5
         ],
         "title": {
          "text": "Weight"
         }
        },
        "xaxis4": {
         "anchor": "y4",
         "domain": [
          0.55,
          1
         ],
         "range": [
          0,
          1.5
         ],
         "title": {
          "text": "Weight"
         }
        },
        "xaxis5": {
         "anchor": "y5",
         "domain": [
          0,
          0.45
         ],
         "range": [
          0,
          1.5
         ],
         "title": {
          "text": "Weight"
         }
        },
        "xaxis6": {
         "anchor": "y6",
         "domain": [
          0.55,
          1
         ],
         "range": [
          0,
          1.5
         ],
         "title": {
          "text": "Weight"
         }
        },
        "xaxis7": {
         "anchor": "y7",
         "domain": [
          0,
          0.45
         ],
         "range": [
          0,
          1.5
         ],
         "title": {
          "text": "Weight"
         }
        },
        "xaxis8": {
         "anchor": "y8",
         "domain": [
          0.55,
          1
         ],
         "range": [
          0,
          1.5
         ],
         "title": {
          "text": "Weight"
         }
        },
        "xaxis9": {
         "anchor": "y9",
         "domain": [
          0,
          0.45
         ],
         "range": [
          0,
          1.5
         ],
         "title": {
          "text": "Weight"
         }
        },
        "yaxis": {
         "anchor": "x",
         "autorange": "reversed",
         "domain": [
          0.88,
          1
         ],
         "title": {
          "text": "Keyword"
         },
         "type": "category"
        },
        "yaxis10": {
         "anchor": "x10",
         "autorange": "reversed",
         "domain": [
          0,
          0.12
         ],
         "title": {
          "text": "Keyword"
         },
         "type": "category"
        },
        "yaxis2": {
         "anchor": "x2",
         "autorange": "reversed",
         "domain": [
          0.88,
          1
         ],
         "title": {
          "text": "Keyword"
         },
         "type": "category"
        },
        "yaxis3": {
         "anchor": "x3",
         "autorange": "reversed",
         "domain": [
          0.66,
          0.78
         ],
         "title": {
          "text": "Keyword"
         },
         "type": "category"
        },
        "yaxis4": {
         "anchor": "x4",
         "autorange": "reversed",
         "domain": [
          0.66,
          0.78
         ],
         "title": {
          "text": "Keyword"
         },
         "type": "category"
        },
        "yaxis5": {
         "anchor": "x5",
         "autorange": "reversed",
         "domain": [
          0.44,
          0.56
         ],
         "title": {
          "text": "Keyword"
         },
         "type": "category"
        },
        "yaxis6": {
         "anchor": "x6",
         "autorange": "reversed",
         "domain": [
          0.44,
          0.56
         ],
         "title": {
          "text": "Keyword"
         },
         "type": "category"
        },
        "yaxis7": {
         "anchor": "x7",
         "autorange": "reversed",
         "domain": [
          0.22,
          0.33999999999999997
         ],
         "title": {
          "text": "Keyword"
         },
         "type": "category"
        },
        "yaxis8": {
         "anchor": "x8",
         "autorange": "reversed",
         "domain": [
          0.22,
          0.33999999999999997
         ],
         "title": {
          "text": "Keyword"
         },
         "type": "category"
        },
        "yaxis9": {
         "anchor": "x9",
         "autorange": "reversed",
         "domain": [
          0,
          0.12
         ],
         "title": {
          "text": "Keyword"
         },
         "type": "category"
        }
       }
      }
     },
     "metadata": {},
     "output_type": "display_data"
    }
   ],
   "source": [
    "data = display_topics(lsa_tfidf, tfidf_feature_names, 10)\n",
    "fig = make_subplots(rows=5, cols=2, subplot_titles= [\"Topic 1\", \"Topic 6\", \"Topic 2\",\"Topic 7\", \"Topic 3\",\"Topic 8\",\"Topic 4\",\"Topic 9\", \"Topic 5\", \"Topic 10\"])\n",
    "colors = [\"Blue\", \"Pink\", \"SeaGreen\", \"Orange\", \"Grey\", \"Purple\", \"Red\", \"LightBlue\", \"LightGreen\", \"DarkRed\"]\n",
    "for col in range(0, int(len(data.columns)),2):\n",
    "    if col == 0:\n",
    "        fig.add_trace(go.Bar(\n",
    "        x=data.iloc[:,1].astype(\"float64\"),#.sort_values(ascending=True)\n",
    "        y=data.iloc[:,0], #.sort_values( by= data.columns[col+1], ascending = True)\n",
    "        marker_color=colors[0], orientation = \"h\"), col= 1, row = 1)\n",
    "    if col < 10 and col > 0:\n",
    "        fig.add_trace(go.Bar(\n",
    "        x=data.iloc[:,col+1].astype(\"float64\"),\n",
    "        y=data.iloc[:,col],\n",
    "        marker_color=colors[int(col/2)], orientation = \"h\"), col= 1, row = int(col/2)+1)\n",
    "    if col >= 10:\n",
    "        fig.add_trace(go.Bar(\n",
    "        x=data.iloc[:,col+1].astype(\"float64\"),\n",
    "        y=data.iloc[:,col],\n",
    "        marker_color=colors[int(col/2)], orientation = \"h\"),col= 2, row = int(col/2)-4)\n",
    "\n",
    "fig.update_layout( height=1400, width=1200, title_text=\"LSA TF-IDF - Topic Keywords ranked by Weight\", showlegend=False, xaxis_title_text='Keyword',yaxis_title_text='Weight'\n",
    "    )\n",
    "fig.update_yaxes(title='Keyword', type = \"category\" , autorange = \"reversed\")\n",
    "fig.update_xaxes( title = 'Weight', range = (0,1.5) )\n",
    "fig.show()"
   ]
  },
  {
   "cell_type": "markdown",
   "metadata": {},
   "source": [
    "\n",
    "\n",
    "\n",
    "\n",
    "\n",
    "\n",
    "\n",
    "# LDA"
   ]
  },
  {
   "cell_type": "code",
   "execution_count": 293,
   "metadata": {},
   "outputs": [],
   "source": [
    "alpha = 50/10 # 50 / nr of topics\n",
    "beta = 200/len(dictionary) # 200 / len of vocab"
   ]
  },
  {
   "cell_type": "code",
   "execution_count": 294,
   "metadata": {},
   "outputs": [],
   "source": [
    "from sklearn.decomposition import LatentDirichletAllocation\n",
    "\n",
    "\n",
    "lda = LatentDirichletAllocation(n_components=10,random_state=0, learning_method=\"online\", n_jobs=-1, doc_topic_prior=alpha, topic_word_prior=beta)"
   ]
  },
  {
   "cell_type": "markdown",
   "metadata": {},
   "source": [
    "### LDA TF"
   ]
  },
  {
   "cell_type": "code",
   "execution_count": 295,
   "metadata": {},
   "outputs": [],
   "source": [
    "lda_tf = lda.fit(tf) #whole dataset\n",
    "pickle.dump(lda_tf, open('../models/basemodel_lda_tf.pkl', 'wb')) #save fitted model\n"
   ]
  },
  {
   "cell_type": "code",
   "execution_count": 296,
   "metadata": {},
   "outputs": [
    {
     "name": "stdout",
     "output_type": "stream",
     "text": [
      "\n",
      "Coherence Score CV:  0.5062649981975438\n",
      "\n",
      "Coherence Score UMass:  -2.787612311806328\n",
      "\n",
      "Coherence Score NPMI:  0.0233255101980619\n",
      "\n",
      "Coherence Score UCI:  0.10160875651382122\n",
      "\n",
      "Silhouette Score:  -0.15812607799438116\n",
      "\n",
      "Calinski-Harabasz Score:  21.635619568508357\n",
      "\n",
      "Davies-Bouldin Score:  13.203559819123422\n"
     ]
    }
   ],
   "source": [
    "# Evaluation Metrics for whole dataset\n",
    "cv_lda_tf, c_umass_lda_tf, c_npmi_lda_tf, c_uci_lda_tf, sil_score_lda_tf, ch_index_lda_tf, db_index_lda_tf = evaluation(lda_tf, tf_fit, tf, tf_feature_names, 20, df[\"cut_and_clean\"], dictionary)"
   ]
  },
  {
   "cell_type": "code",
   "execution_count": 297,
   "metadata": {},
   "outputs": [
    {
     "data": {
      "text/html": [
       "<div>\n",
       "<style scoped>\n",
       "    .dataframe tbody tr th:only-of-type {\n",
       "        vertical-align: middle;\n",
       "    }\n",
       "\n",
       "    .dataframe tbody tr th {\n",
       "        vertical-align: top;\n",
       "    }\n",
       "\n",
       "    .dataframe thead th {\n",
       "        text-align: right;\n",
       "    }\n",
       "</style>\n",
       "<table border=\"1\" class=\"dataframe\">\n",
       "  <thead>\n",
       "    <tr style=\"text-align: right;\">\n",
       "      <th></th>\n",
       "      <th>Topic 0 words</th>\n",
       "      <th>Topic 0 weights</th>\n",
       "      <th>Topic 1 words</th>\n",
       "      <th>Topic 1 weights</th>\n",
       "      <th>Topic 2 words</th>\n",
       "      <th>Topic 2 weights</th>\n",
       "      <th>Topic 3 words</th>\n",
       "      <th>Topic 3 weights</th>\n",
       "      <th>Topic 4 words</th>\n",
       "      <th>Topic 4 weights</th>\n",
       "      <th>Topic 5 words</th>\n",
       "      <th>Topic 5 weights</th>\n",
       "      <th>Topic 6 words</th>\n",
       "      <th>Topic 6 weights</th>\n",
       "      <th>Topic 7 words</th>\n",
       "      <th>Topic 7 weights</th>\n",
       "      <th>Topic 8 words</th>\n",
       "      <th>Topic 8 weights</th>\n",
       "      <th>Topic 9 words</th>\n",
       "      <th>Topic 9 weights</th>\n",
       "    </tr>\n",
       "  </thead>\n",
       "  <tbody>\n",
       "    <tr>\n",
       "      <th>0</th>\n",
       "      <td>easy</td>\n",
       "      <td>475.3</td>\n",
       "      <td>character</td>\n",
       "      <td>974.1</td>\n",
       "      <td>heart</td>\n",
       "      <td>380.3</td>\n",
       "      <td>helpful</td>\n",
       "      <td>363.4</td>\n",
       "      <td>day</td>\n",
       "      <td>445.8</td>\n",
       "      <td>child</td>\n",
       "      <td>637.2</td>\n",
       "      <td>enjoy</td>\n",
       "      <td>294.9</td>\n",
       "      <td>recipe</td>\n",
       "      <td>655.2</td>\n",
       "      <td>god</td>\n",
       "      <td>480.7</td>\n",
       "      <td>work</td>\n",
       "      <td>505.8</td>\n",
       "    </tr>\n",
       "    <tr>\n",
       "      <th>1</th>\n",
       "      <td>year</td>\n",
       "      <td>402.5</td>\n",
       "      <td>series</td>\n",
       "      <td>674.9</td>\n",
       "      <td>way</td>\n",
       "      <td>338.2</td>\n",
       "      <td>color</td>\n",
       "      <td>358.8</td>\n",
       "      <td>author</td>\n",
       "      <td>365.1</td>\n",
       "      <td>year</td>\n",
       "      <td>476.8</td>\n",
       "      <td>gift</td>\n",
       "      <td>220.1</td>\n",
       "      <td>cook</td>\n",
       "      <td>399.3</td>\n",
       "      <td>war</td>\n",
       "      <td>399.6</td>\n",
       "      <td>student</td>\n",
       "      <td>277.5</td>\n",
       "    </tr>\n",
       "    <tr>\n",
       "      <th>2</th>\n",
       "      <td>information</td>\n",
       "      <td>345.4</td>\n",
       "      <td>end</td>\n",
       "      <td>418.3</td>\n",
       "      <td>world</td>\n",
       "      <td>208.0</td>\n",
       "      <td>useful</td>\n",
       "      <td>308.3</td>\n",
       "      <td>chapter</td>\n",
       "      <td>357.4</td>\n",
       "      <td>old</td>\n",
       "      <td>408.3</td>\n",
       "      <td>class</td>\n",
       "      <td>203.8</td>\n",
       "      <td>new</td>\n",
       "      <td>299.5</td>\n",
       "      <td>world</td>\n",
       "      <td>398.0</td>\n",
       "      <td>text</td>\n",
       "      <td>274.8</td>\n",
       "    </tr>\n",
       "    <tr>\n",
       "      <th>3</th>\n",
       "      <td>new</td>\n",
       "      <td>277.1</td>\n",
       "      <td>novel</td>\n",
       "      <td>336.4</td>\n",
       "      <td>life</td>\n",
       "      <td>207.3</td>\n",
       "      <td>art</td>\n",
       "      <td>307.4</td>\n",
       "      <td>thing</td>\n",
       "      <td>261.9</td>\n",
       "      <td>life</td>\n",
       "      <td>276.7</td>\n",
       "      <td>old</td>\n",
       "      <td>194.8</td>\n",
       "      <td>order</td>\n",
       "      <td>299.0</td>\n",
       "      <td>human</td>\n",
       "      <td>284.9</td>\n",
       "      <td>use</td>\n",
       "      <td>269.5</td>\n",
       "    </tr>\n",
       "    <tr>\n",
       "      <th>4</th>\n",
       "      <td>wonderful</td>\n",
       "      <td>224.4</td>\n",
       "      <td>little</td>\n",
       "      <td>333.9</td>\n",
       "      <td>journey</td>\n",
       "      <td>186.8</td>\n",
       "      <td>page</td>\n",
       "      <td>258.1</td>\n",
       "      <td>life</td>\n",
       "      <td>232.8</td>\n",
       "      <td>son</td>\n",
       "      <td>274.8</td>\n",
       "      <td>wife</td>\n",
       "      <td>189.7</td>\n",
       "      <td>easy</td>\n",
       "      <td>217.3</td>\n",
       "      <td>american</td>\n",
       "      <td>283.3</td>\n",
       "      <td>practice</td>\n",
       "      <td>264.1</td>\n",
       "    </tr>\n",
       "    <tr>\n",
       "      <th>5</th>\n",
       "      <td>old</td>\n",
       "      <td>221.0</td>\n",
       "      <td>enjoy</td>\n",
       "      <td>285.7</td>\n",
       "      <td>series</td>\n",
       "      <td>185.7</td>\n",
       "      <td>lot</td>\n",
       "      <td>257.4</td>\n",
       "      <td>feel</td>\n",
       "      <td>225.2</td>\n",
       "      <td>family</td>\n",
       "      <td>273.8</td>\n",
       "      <td>fun</td>\n",
       "      <td>176.3</td>\n",
       "      <td>bible</td>\n",
       "      <td>214.7</td>\n",
       "      <td>life</td>\n",
       "      <td>264.8</td>\n",
       "      <td>change</td>\n",
       "      <td>229.2</td>\n",
       "    </tr>\n",
       "    <tr>\n",
       "      <th>6</th>\n",
       "      <td>nice</td>\n",
       "      <td>212.9</td>\n",
       "      <td>page</td>\n",
       "      <td>244.4</td>\n",
       "      <td>mystery</td>\n",
       "      <td>172.1</td>\n",
       "      <td>money</td>\n",
       "      <td>257.3</td>\n",
       "      <td>page</td>\n",
       "      <td>219.0</td>\n",
       "      <td>friend</td>\n",
       "      <td>236.6</td>\n",
       "      <td>daughter</td>\n",
       "      <td>175.0</td>\n",
       "      <td>look</td>\n",
       "      <td>207.0</td>\n",
       "      <td>man</td>\n",
       "      <td>231.1</td>\n",
       "      <td>example</td>\n",
       "      <td>215.5</td>\n",
       "    </tr>\n",
       "    <tr>\n",
       "      <th>7</th>\n",
       "      <td>recommend</td>\n",
       "      <td>211.8</td>\n",
       "      <td>lot</td>\n",
       "      <td>224.9</td>\n",
       "      <td>english</td>\n",
       "      <td>171.9</td>\n",
       "      <td>print</td>\n",
       "      <td>252.7</td>\n",
       "      <td>way</td>\n",
       "      <td>206.8</td>\n",
       "      <td>parent</td>\n",
       "      <td>220.5</td>\n",
       "      <td>work</td>\n",
       "      <td>172.7</td>\n",
       "      <td>wonderful</td>\n",
       "      <td>198.9</td>\n",
       "      <td>state</td>\n",
       "      <td>227.2</td>\n",
       "      <td>chapter</td>\n",
       "      <td>212.1</td>\n",
       "    </tr>\n",
       "    <tr>\n",
       "      <th>8</th>\n",
       "      <td>perfect</td>\n",
       "      <td>196.2</td>\n",
       "      <td>author</td>\n",
       "      <td>184.2</td>\n",
       "      <td>author</td>\n",
       "      <td>170.7</td>\n",
       "      <td>product</td>\n",
       "      <td>240.7</td>\n",
       "      <td>short</td>\n",
       "      <td>187.5</td>\n",
       "      <td>girl</td>\n",
       "      <td>220.4</td>\n",
       "      <td>new</td>\n",
       "      <td>168.0</td>\n",
       "      <td>husband</td>\n",
       "      <td>176.7</td>\n",
       "      <td>view</td>\n",
       "      <td>222.3</td>\n",
       "      <td>research</td>\n",
       "      <td>201.6</td>\n",
       "    </tr>\n",
       "    <tr>\n",
       "      <th>9</th>\n",
       "      <td>step</td>\n",
       "      <td>193.5</td>\n",
       "      <td>plot</td>\n",
       "      <td>176.2</td>\n",
       "      <td>reader</td>\n",
       "      <td>152.6</td>\n",
       "      <td>purchase</td>\n",
       "      <td>239.6</td>\n",
       "      <td>plan</td>\n",
       "      <td>183.1</td>\n",
       "      <td>age</td>\n",
       "      <td>206.1</td>\n",
       "      <td>worth</td>\n",
       "      <td>155.3</td>\n",
       "      <td>thank</td>\n",
       "      <td>173.1</td>\n",
       "      <td>christian</td>\n",
       "      <td>216.5</td>\n",
       "      <td>level</td>\n",
       "      <td>171.2</td>\n",
       "    </tr>\n",
       "  </tbody>\n",
       "</table>\n",
       "</div>"
      ],
      "text/plain": [
       "  Topic 0 words Topic 0 weights Topic 1 words Topic 1 weights Topic 2 words  \\\n",
       "0          easy           475.3     character           974.1         heart   \n",
       "1          year           402.5        series           674.9           way   \n",
       "2   information           345.4           end           418.3         world   \n",
       "3           new           277.1         novel           336.4          life   \n",
       "4     wonderful           224.4        little           333.9       journey   \n",
       "5           old           221.0         enjoy           285.7        series   \n",
       "6          nice           212.9          page           244.4       mystery   \n",
       "7     recommend           211.8           lot           224.9       english   \n",
       "8       perfect           196.2        author           184.2        author   \n",
       "9          step           193.5          plot           176.2        reader   \n",
       "\n",
       "  Topic 2 weights Topic 3 words Topic 3 weights Topic 4 words Topic 4 weights  \\\n",
       "0           380.3       helpful           363.4           day           445.8   \n",
       "1           338.2         color           358.8        author           365.1   \n",
       "2           208.0        useful           308.3       chapter           357.4   \n",
       "3           207.3           art           307.4         thing           261.9   \n",
       "4           186.8          page           258.1          life           232.8   \n",
       "5           185.7           lot           257.4          feel           225.2   \n",
       "6           172.1         money           257.3          page           219.0   \n",
       "7           171.9         print           252.7           way           206.8   \n",
       "8           170.7       product           240.7         short           187.5   \n",
       "9           152.6      purchase           239.6          plan           183.1   \n",
       "\n",
       "  Topic 5 words Topic 5 weights Topic 6 words Topic 6 weights Topic 7 words  \\\n",
       "0         child           637.2         enjoy           294.9        recipe   \n",
       "1          year           476.8          gift           220.1          cook   \n",
       "2           old           408.3         class           203.8           new   \n",
       "3          life           276.7           old           194.8         order   \n",
       "4           son           274.8          wife           189.7          easy   \n",
       "5        family           273.8           fun           176.3         bible   \n",
       "6        friend           236.6      daughter           175.0          look   \n",
       "7        parent           220.5          work           172.7     wonderful   \n",
       "8          girl           220.4           new           168.0       husband   \n",
       "9           age           206.1         worth           155.3         thank   \n",
       "\n",
       "  Topic 7 weights Topic 8 words Topic 8 weights Topic 9 words Topic 9 weights  \n",
       "0           655.2           god           480.7          work           505.8  \n",
       "1           399.3           war           399.6       student           277.5  \n",
       "2           299.5         world           398.0          text           274.8  \n",
       "3           299.0         human           284.9           use           269.5  \n",
       "4           217.3      american           283.3      practice           264.1  \n",
       "5           214.7          life           264.8        change           229.2  \n",
       "6           207.0           man           231.1       example           215.5  \n",
       "7           198.9         state           227.2       chapter           212.1  \n",
       "8           176.7          view           222.3      research           201.6  \n",
       "9           173.1     christian           216.5         level           171.2  "
      ]
     },
     "execution_count": 297,
     "metadata": {},
     "output_type": "execute_result"
    }
   ],
   "source": [
    "display_topics(lda_tf, tf_feature_names, 10)"
   ]
  },
  {
   "cell_type": "code",
   "execution_count": 298,
   "metadata": {},
   "outputs": [
    {
     "data": {
      "application/vnd.plotly.v1+json": {
       "config": {
        "plotlyServerURL": "https://plot.ly"
       },
       "data": [
        {
         "marker": {
          "color": "Blue"
         },
         "orientation": "h",
         "type": "bar",
         "x": [
          475.3,
          402.5,
          345.4,
          277.1,
          224.4,
          221,
          212.9,
          211.8,
          196.2,
          193.5
         ],
         "xaxis": "x",
         "y": [
          "easy",
          "year",
          "information",
          "new",
          "wonderful",
          "old",
          "nice",
          "recommend",
          "perfect",
          "step"
         ],
         "yaxis": "y"
        },
        {
         "marker": {
          "color": "Pink"
         },
         "orientation": "h",
         "type": "bar",
         "x": [
          974.1,
          674.9,
          418.3,
          336.4,
          333.9,
          285.7,
          244.4,
          224.9,
          184.2,
          176.2
         ],
         "xaxis": "x3",
         "y": [
          "character",
          "series",
          "end",
          "novel",
          "little",
          "enjoy",
          "page",
          "lot",
          "author",
          "plot"
         ],
         "yaxis": "y3"
        },
        {
         "marker": {
          "color": "SeaGreen"
         },
         "orientation": "h",
         "type": "bar",
         "x": [
          380.3,
          338.2,
          208,
          207.3,
          186.8,
          185.7,
          172.1,
          171.9,
          170.7,
          152.6
         ],
         "xaxis": "x5",
         "y": [
          "heart",
          "way",
          "world",
          "life",
          "journey",
          "series",
          "mystery",
          "english",
          "author",
          "reader"
         ],
         "yaxis": "y5"
        },
        {
         "marker": {
          "color": "Orange"
         },
         "orientation": "h",
         "type": "bar",
         "x": [
          363.4,
          358.8,
          308.3,
          307.4,
          258.1,
          257.4,
          257.3,
          252.7,
          240.7,
          239.6
         ],
         "xaxis": "x7",
         "y": [
          "helpful",
          "color",
          "useful",
          "art",
          "page",
          "lot",
          "money",
          "print",
          "product",
          "purchase"
         ],
         "yaxis": "y7"
        },
        {
         "marker": {
          "color": "Grey"
         },
         "orientation": "h",
         "type": "bar",
         "x": [
          445.8,
          365.1,
          357.4,
          261.9,
          232.8,
          225.2,
          219,
          206.8,
          187.5,
          183.1
         ],
         "xaxis": "x9",
         "y": [
          "day",
          "author",
          "chapter",
          "thing",
          "life",
          "feel",
          "page",
          "way",
          "short",
          "plan"
         ],
         "yaxis": "y9"
        },
        {
         "marker": {
          "color": "Purple"
         },
         "orientation": "h",
         "type": "bar",
         "x": [
          637.2,
          476.8,
          408.3,
          276.7,
          274.8,
          273.8,
          236.6,
          220.5,
          220.4,
          206.1
         ],
         "xaxis": "x2",
         "y": [
          "child",
          "year",
          "old",
          "life",
          "son",
          "family",
          "friend",
          "parent",
          "girl",
          "age"
         ],
         "yaxis": "y2"
        },
        {
         "marker": {
          "color": "Red"
         },
         "orientation": "h",
         "type": "bar",
         "x": [
          294.9,
          220.1,
          203.8,
          194.8,
          189.7,
          176.3,
          175,
          172.7,
          168,
          155.3
         ],
         "xaxis": "x4",
         "y": [
          "enjoy",
          "gift",
          "class",
          "old",
          "wife",
          "fun",
          "daughter",
          "work",
          "new",
          "worth"
         ],
         "yaxis": "y4"
        },
        {
         "marker": {
          "color": "LightBlue"
         },
         "orientation": "h",
         "type": "bar",
         "x": [
          655.2,
          399.3,
          299.5,
          299,
          217.3,
          214.7,
          207,
          198.9,
          176.7,
          173.1
         ],
         "xaxis": "x6",
         "y": [
          "recipe",
          "cook",
          "new",
          "order",
          "easy",
          "bible",
          "look",
          "wonderful",
          "husband",
          "thank"
         ],
         "yaxis": "y6"
        },
        {
         "marker": {
          "color": "LightGreen"
         },
         "orientation": "h",
         "type": "bar",
         "x": [
          480.7,
          399.6,
          398,
          284.9,
          283.3,
          264.8,
          231.1,
          227.2,
          222.3,
          216.5
         ],
         "xaxis": "x8",
         "y": [
          "god",
          "war",
          "world",
          "human",
          "american",
          "life",
          "man",
          "state",
          "view",
          "christian"
         ],
         "yaxis": "y8"
        },
        {
         "marker": {
          "color": "DarkRed"
         },
         "orientation": "h",
         "type": "bar",
         "x": [
          505.8,
          277.5,
          274.8,
          269.5,
          264.1,
          229.2,
          215.5,
          212.1,
          201.6,
          171.2
         ],
         "xaxis": "x10",
         "y": [
          "work",
          "student",
          "text",
          "use",
          "practice",
          "change",
          "example",
          "chapter",
          "research",
          "level"
         ],
         "yaxis": "y10"
        }
       ],
       "layout": {
        "annotations": [
         {
          "font": {
           "size": 16
          },
          "showarrow": false,
          "text": "Topic 1",
          "x": 0.225,
          "xanchor": "center",
          "xref": "paper",
          "y": 1,
          "yanchor": "bottom",
          "yref": "paper"
         },
         {
          "font": {
           "size": 16
          },
          "showarrow": false,
          "text": "Topic 6",
          "x": 0.775,
          "xanchor": "center",
          "xref": "paper",
          "y": 1,
          "yanchor": "bottom",
          "yref": "paper"
         },
         {
          "font": {
           "size": 16
          },
          "showarrow": false,
          "text": "Topic 2",
          "x": 0.225,
          "xanchor": "center",
          "xref": "paper",
          "y": 0.78,
          "yanchor": "bottom",
          "yref": "paper"
         },
         {
          "font": {
           "size": 16
          },
          "showarrow": false,
          "text": "Topic 7",
          "x": 0.775,
          "xanchor": "center",
          "xref": "paper",
          "y": 0.78,
          "yanchor": "bottom",
          "yref": "paper"
         },
         {
          "font": {
           "size": 16
          },
          "showarrow": false,
          "text": "Topic 3",
          "x": 0.225,
          "xanchor": "center",
          "xref": "paper",
          "y": 0.56,
          "yanchor": "bottom",
          "yref": "paper"
         },
         {
          "font": {
           "size": 16
          },
          "showarrow": false,
          "text": "Topic 8",
          "x": 0.775,
          "xanchor": "center",
          "xref": "paper",
          "y": 0.56,
          "yanchor": "bottom",
          "yref": "paper"
         },
         {
          "font": {
           "size": 16
          },
          "showarrow": false,
          "text": "Topic 4",
          "x": 0.225,
          "xanchor": "center",
          "xref": "paper",
          "y": 0.33999999999999997,
          "yanchor": "bottom",
          "yref": "paper"
         },
         {
          "font": {
           "size": 16
          },
          "showarrow": false,
          "text": "Topic 9",
          "x": 0.775,
          "xanchor": "center",
          "xref": "paper",
          "y": 0.33999999999999997,
          "yanchor": "bottom",
          "yref": "paper"
         },
         {
          "font": {
           "size": 16
          },
          "showarrow": false,
          "text": "Topic 5",
          "x": 0.225,
          "xanchor": "center",
          "xref": "paper",
          "y": 0.12,
          "yanchor": "bottom",
          "yref": "paper"
         },
         {
          "font": {
           "size": 16
          },
          "showarrow": false,
          "text": "Topic 10",
          "x": 0.775,
          "xanchor": "center",
          "xref": "paper",
          "y": 0.12,
          "yanchor": "bottom",
          "yref": "paper"
         }
        ],
        "height": 1400,
        "showlegend": false,
        "template": {
         "data": {
          "bar": [
           {
            "error_x": {
             "color": "#2a3f5f"
            },
            "error_y": {
             "color": "#2a3f5f"
            },
            "marker": {
             "line": {
              "color": "#E5ECF6",
              "width": 0.5
             },
             "pattern": {
              "fillmode": "overlay",
              "size": 10,
              "solidity": 0.2
             }
            },
            "type": "bar"
           }
          ],
          "barpolar": [
           {
            "marker": {
             "line": {
              "color": "#E5ECF6",
              "width": 0.5
             },
             "pattern": {
              "fillmode": "overlay",
              "size": 10,
              "solidity": 0.2
             }
            },
            "type": "barpolar"
           }
          ],
          "carpet": [
           {
            "aaxis": {
             "endlinecolor": "#2a3f5f",
             "gridcolor": "white",
             "linecolor": "white",
             "minorgridcolor": "white",
             "startlinecolor": "#2a3f5f"
            },
            "baxis": {
             "endlinecolor": "#2a3f5f",
             "gridcolor": "white",
             "linecolor": "white",
             "minorgridcolor": "white",
             "startlinecolor": "#2a3f5f"
            },
            "type": "carpet"
           }
          ],
          "choropleth": [
           {
            "colorbar": {
             "outlinewidth": 0,
             "ticks": ""
            },
            "type": "choropleth"
           }
          ],
          "contour": [
           {
            "colorbar": {
             "outlinewidth": 0,
             "ticks": ""
            },
            "colorscale": [
             [
              0,
              "#0d0887"
             ],
             [
              0.1111111111111111,
              "#46039f"
             ],
             [
              0.2222222222222222,
              "#7201a8"
             ],
             [
              0.3333333333333333,
              "#9c179e"
             ],
             [
              0.4444444444444444,
              "#bd3786"
             ],
             [
              0.5555555555555556,
              "#d8576b"
             ],
             [
              0.6666666666666666,
              "#ed7953"
             ],
             [
              0.7777777777777778,
              "#fb9f3a"
             ],
             [
              0.8888888888888888,
              "#fdca26"
             ],
             [
              1,
              "#f0f921"
             ]
            ],
            "type": "contour"
           }
          ],
          "contourcarpet": [
           {
            "colorbar": {
             "outlinewidth": 0,
             "ticks": ""
            },
            "type": "contourcarpet"
           }
          ],
          "heatmap": [
           {
            "colorbar": {
             "outlinewidth": 0,
             "ticks": ""
            },
            "colorscale": [
             [
              0,
              "#0d0887"
             ],
             [
              0.1111111111111111,
              "#46039f"
             ],
             [
              0.2222222222222222,
              "#7201a8"
             ],
             [
              0.3333333333333333,
              "#9c179e"
             ],
             [
              0.4444444444444444,
              "#bd3786"
             ],
             [
              0.5555555555555556,
              "#d8576b"
             ],
             [
              0.6666666666666666,
              "#ed7953"
             ],
             [
              0.7777777777777778,
              "#fb9f3a"
             ],
             [
              0.8888888888888888,
              "#fdca26"
             ],
             [
              1,
              "#f0f921"
             ]
            ],
            "type": "heatmap"
           }
          ],
          "heatmapgl": [
           {
            "colorbar": {
             "outlinewidth": 0,
             "ticks": ""
            },
            "colorscale": [
             [
              0,
              "#0d0887"
             ],
             [
              0.1111111111111111,
              "#46039f"
             ],
             [
              0.2222222222222222,
              "#7201a8"
             ],
             [
              0.3333333333333333,
              "#9c179e"
             ],
             [
              0.4444444444444444,
              "#bd3786"
             ],
             [
              0.5555555555555556,
              "#d8576b"
             ],
             [
              0.6666666666666666,
              "#ed7953"
             ],
             [
              0.7777777777777778,
              "#fb9f3a"
             ],
             [
              0.8888888888888888,
              "#fdca26"
             ],
             [
              1,
              "#f0f921"
             ]
            ],
            "type": "heatmapgl"
           }
          ],
          "histogram": [
           {
            "marker": {
             "pattern": {
              "fillmode": "overlay",
              "size": 10,
              "solidity": 0.2
             }
            },
            "type": "histogram"
           }
          ],
          "histogram2d": [
           {
            "colorbar": {
             "outlinewidth": 0,
             "ticks": ""
            },
            "colorscale": [
             [
              0,
              "#0d0887"
             ],
             [
              0.1111111111111111,
              "#46039f"
             ],
             [
              0.2222222222222222,
              "#7201a8"
             ],
             [
              0.3333333333333333,
              "#9c179e"
             ],
             [
              0.4444444444444444,
              "#bd3786"
             ],
             [
              0.5555555555555556,
              "#d8576b"
             ],
             [
              0.6666666666666666,
              "#ed7953"
             ],
             [
              0.7777777777777778,
              "#fb9f3a"
             ],
             [
              0.8888888888888888,
              "#fdca26"
             ],
             [
              1,
              "#f0f921"
             ]
            ],
            "type": "histogram2d"
           }
          ],
          "histogram2dcontour": [
           {
            "colorbar": {
             "outlinewidth": 0,
             "ticks": ""
            },
            "colorscale": [
             [
              0,
              "#0d0887"
             ],
             [
              0.1111111111111111,
              "#46039f"
             ],
             [
              0.2222222222222222,
              "#7201a8"
             ],
             [
              0.3333333333333333,
              "#9c179e"
             ],
             [
              0.4444444444444444,
              "#bd3786"
             ],
             [
              0.5555555555555556,
              "#d8576b"
             ],
             [
              0.6666666666666666,
              "#ed7953"
             ],
             [
              0.7777777777777778,
              "#fb9f3a"
             ],
             [
              0.8888888888888888,
              "#fdca26"
             ],
             [
              1,
              "#f0f921"
             ]
            ],
            "type": "histogram2dcontour"
           }
          ],
          "mesh3d": [
           {
            "colorbar": {
             "outlinewidth": 0,
             "ticks": ""
            },
            "type": "mesh3d"
           }
          ],
          "parcoords": [
           {
            "line": {
             "colorbar": {
              "outlinewidth": 0,
              "ticks": ""
             }
            },
            "type": "parcoords"
           }
          ],
          "pie": [
           {
            "automargin": true,
            "type": "pie"
           }
          ],
          "scatter": [
           {
            "marker": {
             "colorbar": {
              "outlinewidth": 0,
              "ticks": ""
             }
            },
            "type": "scatter"
           }
          ],
          "scatter3d": [
           {
            "line": {
             "colorbar": {
              "outlinewidth": 0,
              "ticks": ""
             }
            },
            "marker": {
             "colorbar": {
              "outlinewidth": 0,
              "ticks": ""
             }
            },
            "type": "scatter3d"
           }
          ],
          "scattercarpet": [
           {
            "marker": {
             "colorbar": {
              "outlinewidth": 0,
              "ticks": ""
             }
            },
            "type": "scattercarpet"
           }
          ],
          "scattergeo": [
           {
            "marker": {
             "colorbar": {
              "outlinewidth": 0,
              "ticks": ""
             }
            },
            "type": "scattergeo"
           }
          ],
          "scattergl": [
           {
            "marker": {
             "colorbar": {
              "outlinewidth": 0,
              "ticks": ""
             }
            },
            "type": "scattergl"
           }
          ],
          "scattermapbox": [
           {
            "marker": {
             "colorbar": {
              "outlinewidth": 0,
              "ticks": ""
             }
            },
            "type": "scattermapbox"
           }
          ],
          "scatterpolar": [
           {
            "marker": {
             "colorbar": {
              "outlinewidth": 0,
              "ticks": ""
             }
            },
            "type": "scatterpolar"
           }
          ],
          "scatterpolargl": [
           {
            "marker": {
             "colorbar": {
              "outlinewidth": 0,
              "ticks": ""
             }
            },
            "type": "scatterpolargl"
           }
          ],
          "scatterternary": [
           {
            "marker": {
             "colorbar": {
              "outlinewidth": 0,
              "ticks": ""
             }
            },
            "type": "scatterternary"
           }
          ],
          "surface": [
           {
            "colorbar": {
             "outlinewidth": 0,
             "ticks": ""
            },
            "colorscale": [
             [
              0,
              "#0d0887"
             ],
             [
              0.1111111111111111,
              "#46039f"
             ],
             [
              0.2222222222222222,
              "#7201a8"
             ],
             [
              0.3333333333333333,
              "#9c179e"
             ],
             [
              0.4444444444444444,
              "#bd3786"
             ],
             [
              0.5555555555555556,
              "#d8576b"
             ],
             [
              0.6666666666666666,
              "#ed7953"
             ],
             [
              0.7777777777777778,
              "#fb9f3a"
             ],
             [
              0.8888888888888888,
              "#fdca26"
             ],
             [
              1,
              "#f0f921"
             ]
            ],
            "type": "surface"
           }
          ],
          "table": [
           {
            "cells": {
             "fill": {
              "color": "#EBF0F8"
             },
             "line": {
              "color": "white"
             }
            },
            "header": {
             "fill": {
              "color": "#C8D4E3"
             },
             "line": {
              "color": "white"
             }
            },
            "type": "table"
           }
          ]
         },
         "layout": {
          "annotationdefaults": {
           "arrowcolor": "#2a3f5f",
           "arrowhead": 0,
           "arrowwidth": 1
          },
          "autotypenumbers": "strict",
          "coloraxis": {
           "colorbar": {
            "outlinewidth": 0,
            "ticks": ""
           }
          },
          "colorscale": {
           "diverging": [
            [
             0,
             "#8e0152"
            ],
            [
             0.1,
             "#c51b7d"
            ],
            [
             0.2,
             "#de77ae"
            ],
            [
             0.3,
             "#f1b6da"
            ],
            [
             0.4,
             "#fde0ef"
            ],
            [
             0.5,
             "#f7f7f7"
            ],
            [
             0.6,
             "#e6f5d0"
            ],
            [
             0.7,
             "#b8e186"
            ],
            [
             0.8,
             "#7fbc41"
            ],
            [
             0.9,
             "#4d9221"
            ],
            [
             1,
             "#276419"
            ]
           ],
           "sequential": [
            [
             0,
             "#0d0887"
            ],
            [
             0.1111111111111111,
             "#46039f"
            ],
            [
             0.2222222222222222,
             "#7201a8"
            ],
            [
             0.3333333333333333,
             "#9c179e"
            ],
            [
             0.4444444444444444,
             "#bd3786"
            ],
            [
             0.5555555555555556,
             "#d8576b"
            ],
            [
             0.6666666666666666,
             "#ed7953"
            ],
            [
             0.7777777777777778,
             "#fb9f3a"
            ],
            [
             0.8888888888888888,
             "#fdca26"
            ],
            [
             1,
             "#f0f921"
            ]
           ],
           "sequentialminus": [
            [
             0,
             "#0d0887"
            ],
            [
             0.1111111111111111,
             "#46039f"
            ],
            [
             0.2222222222222222,
             "#7201a8"
            ],
            [
             0.3333333333333333,
             "#9c179e"
            ],
            [
             0.4444444444444444,
             "#bd3786"
            ],
            [
             0.5555555555555556,
             "#d8576b"
            ],
            [
             0.6666666666666666,
             "#ed7953"
            ],
            [
             0.7777777777777778,
             "#fb9f3a"
            ],
            [
             0.8888888888888888,
             "#fdca26"
            ],
            [
             1,
             "#f0f921"
            ]
           ]
          },
          "colorway": [
           "#636efa",
           "#EF553B",
           "#00cc96",
           "#ab63fa",
           "#FFA15A",
           "#19d3f3",
           "#FF6692",
           "#B6E880",
           "#FF97FF",
           "#FECB52"
          ],
          "font": {
           "color": "#2a3f5f"
          },
          "geo": {
           "bgcolor": "white",
           "lakecolor": "white",
           "landcolor": "#E5ECF6",
           "showlakes": true,
           "showland": true,
           "subunitcolor": "white"
          },
          "hoverlabel": {
           "align": "left"
          },
          "hovermode": "closest",
          "mapbox": {
           "style": "light"
          },
          "paper_bgcolor": "white",
          "plot_bgcolor": "#E5ECF6",
          "polar": {
           "angularaxis": {
            "gridcolor": "white",
            "linecolor": "white",
            "ticks": ""
           },
           "bgcolor": "#E5ECF6",
           "radialaxis": {
            "gridcolor": "white",
            "linecolor": "white",
            "ticks": ""
           }
          },
          "scene": {
           "xaxis": {
            "backgroundcolor": "#E5ECF6",
            "gridcolor": "white",
            "gridwidth": 2,
            "linecolor": "white",
            "showbackground": true,
            "ticks": "",
            "zerolinecolor": "white"
           },
           "yaxis": {
            "backgroundcolor": "#E5ECF6",
            "gridcolor": "white",
            "gridwidth": 2,
            "linecolor": "white",
            "showbackground": true,
            "ticks": "",
            "zerolinecolor": "white"
           },
           "zaxis": {
            "backgroundcolor": "#E5ECF6",
            "gridcolor": "white",
            "gridwidth": 2,
            "linecolor": "white",
            "showbackground": true,
            "ticks": "",
            "zerolinecolor": "white"
           }
          },
          "shapedefaults": {
           "line": {
            "color": "#2a3f5f"
           }
          },
          "ternary": {
           "aaxis": {
            "gridcolor": "white",
            "linecolor": "white",
            "ticks": ""
           },
           "baxis": {
            "gridcolor": "white",
            "linecolor": "white",
            "ticks": ""
           },
           "bgcolor": "#E5ECF6",
           "caxis": {
            "gridcolor": "white",
            "linecolor": "white",
            "ticks": ""
           }
          },
          "title": {
           "x": 0.05
          },
          "xaxis": {
           "automargin": true,
           "gridcolor": "white",
           "linecolor": "white",
           "ticks": "",
           "title": {
            "standoff": 15
           },
           "zerolinecolor": "white",
           "zerolinewidth": 2
          },
          "yaxis": {
           "automargin": true,
           "gridcolor": "white",
           "linecolor": "white",
           "ticks": "",
           "title": {
            "standoff": 15
           },
           "zerolinecolor": "white",
           "zerolinewidth": 2
          }
         }
        },
        "title": {
         "text": "LDA TF - Topic Keywords ranked by Weight"
        },
        "width": 1200,
        "xaxis": {
         "anchor": "y",
         "domain": [
          0,
          0.45
         ],
         "range": [
          0,
          1000
         ],
         "title": {
          "text": "Weight"
         }
        },
        "xaxis10": {
         "anchor": "y10",
         "domain": [
          0.55,
          1
         ],
         "range": [
          0,
          1000
         ],
         "title": {
          "text": "Weight"
         }
        },
        "xaxis2": {
         "anchor": "y2",
         "domain": [
          0.55,
          1
         ],
         "range": [
          0,
          1000
         ],
         "title": {
          "text": "Weight"
         }
        },
        "xaxis3": {
         "anchor": "y3",
         "domain": [
          0,
          0.45
         ],
         "range": [
          0,
          1000
         ],
         "title": {
          "text": "Weight"
         }
        },
        "xaxis4": {
         "anchor": "y4",
         "domain": [
          0.55,
          1
         ],
         "range": [
          0,
          1000
         ],
         "title": {
          "text": "Weight"
         }
        },
        "xaxis5": {
         "anchor": "y5",
         "domain": [
          0,
          0.45
         ],
         "range": [
          0,
          1000
         ],
         "title": {
          "text": "Weight"
         }
        },
        "xaxis6": {
         "anchor": "y6",
         "domain": [
          0.55,
          1
         ],
         "range": [
          0,
          1000
         ],
         "title": {
          "text": "Weight"
         }
        },
        "xaxis7": {
         "anchor": "y7",
         "domain": [
          0,
          0.45
         ],
         "range": [
          0,
          1000
         ],
         "title": {
          "text": "Weight"
         }
        },
        "xaxis8": {
         "anchor": "y8",
         "domain": [
          0.55,
          1
         ],
         "range": [
          0,
          1000
         ],
         "title": {
          "text": "Weight"
         }
        },
        "xaxis9": {
         "anchor": "y9",
         "domain": [
          0,
          0.45
         ],
         "range": [
          0,
          1000
         ],
         "title": {
          "text": "Weight"
         }
        },
        "yaxis": {
         "anchor": "x",
         "autorange": "reversed",
         "domain": [
          0.88,
          1
         ],
         "title": {
          "text": "Keyword"
         },
         "type": "category"
        },
        "yaxis10": {
         "anchor": "x10",
         "autorange": "reversed",
         "domain": [
          0,
          0.12
         ],
         "title": {
          "text": "Keyword"
         },
         "type": "category"
        },
        "yaxis2": {
         "anchor": "x2",
         "autorange": "reversed",
         "domain": [
          0.88,
          1
         ],
         "title": {
          "text": "Keyword"
         },
         "type": "category"
        },
        "yaxis3": {
         "anchor": "x3",
         "autorange": "reversed",
         "domain": [
          0.66,
          0.78
         ],
         "title": {
          "text": "Keyword"
         },
         "type": "category"
        },
        "yaxis4": {
         "anchor": "x4",
         "autorange": "reversed",
         "domain": [
          0.66,
          0.78
         ],
         "title": {
          "text": "Keyword"
         },
         "type": "category"
        },
        "yaxis5": {
         "anchor": "x5",
         "autorange": "reversed",
         "domain": [
          0.44,
          0.56
         ],
         "title": {
          "text": "Keyword"
         },
         "type": "category"
        },
        "yaxis6": {
         "anchor": "x6",
         "autorange": "reversed",
         "domain": [
          0.44,
          0.56
         ],
         "title": {
          "text": "Keyword"
         },
         "type": "category"
        },
        "yaxis7": {
         "anchor": "x7",
         "autorange": "reversed",
         "domain": [
          0.22,
          0.33999999999999997
         ],
         "title": {
          "text": "Keyword"
         },
         "type": "category"
        },
        "yaxis8": {
         "anchor": "x8",
         "autorange": "reversed",
         "domain": [
          0.22,
          0.33999999999999997
         ],
         "title": {
          "text": "Keyword"
         },
         "type": "category"
        },
        "yaxis9": {
         "anchor": "x9",
         "autorange": "reversed",
         "domain": [
          0,
          0.12
         ],
         "title": {
          "text": "Keyword"
         },
         "type": "category"
        }
       }
      }
     },
     "metadata": {},
     "output_type": "display_data"
    }
   ],
   "source": [
    "data = display_topics(lda_tf, tf_feature_names, 10)\n",
    "fig = make_subplots(rows=5, cols=2, subplot_titles= [\"Topic 1\", \"Topic 6\", \"Topic 2\",\"Topic 7\", \"Topic 3\",\"Topic 8\",\"Topic 4\",\"Topic 9\", \"Topic 5\", \"Topic 10\"])\n",
    "colors = [\"Blue\", \"Pink\", \"SeaGreen\", \"Orange\", \"Grey\", \"Purple\", \"Red\", \"LightBlue\", \"LightGreen\", \"DarkRed\"]\n",
    "for col in range(0, int(len(data.columns)),2):\n",
    "    if col == 0:\n",
    "        fig.add_trace(go.Bar(\n",
    "        x=data.iloc[:,1].astype(\"float64\"),#.sort_values(ascending=True)\n",
    "        y=data.iloc[:,0], #.sort_values( by= data.columns[col+1], ascending = True)\n",
    "        marker_color=colors[0], orientation = \"h\"), col= 1, row = 1)\n",
    "    if col < 10 and col > 0:\n",
    "        fig.add_trace(go.Bar(\n",
    "        x=data.iloc[:,col+1].astype(\"float64\"),\n",
    "        y=data.iloc[:,col],\n",
    "        marker_color=colors[int(col/2)], orientation = \"h\"), col= 1, row = int(col/2)+1)\n",
    "    if col >= 10:\n",
    "        fig.add_trace(go.Bar(\n",
    "        x=data.iloc[:,col+1].astype(\"float64\"),\n",
    "        y=data.iloc[:,col],\n",
    "        marker_color=colors[int(col/2)], orientation = \"h\"),col= 2, row = int(col/2)-4)\n",
    "\n",
    "fig.update_layout( height=1400, width=1200, title_text=\"LDA TF - Topic Keywords ranked by Weight\", showlegend=False, xaxis_title_text='Keyword',yaxis_title_text='Weight'\n",
    "    )\n",
    "fig.update_yaxes(title='Keyword', type = \"category\" , autorange = \"reversed\")\n",
    "fig.update_xaxes( title = 'Weight', range = (0,1000) )\n",
    "fig.show()"
   ]
  },
  {
   "cell_type": "markdown",
   "metadata": {},
   "source": [
    "### LDA TF-IDF"
   ]
  },
  {
   "cell_type": "code",
   "execution_count": 299,
   "metadata": {},
   "outputs": [],
   "source": [
    "lda_tfidf = lda.fit(tfidf)\n",
    "pickle.dump(lda_tfidf, open('../models/basemodel_lda_tfidf.pkl', 'wb')) #save fitted model"
   ]
  },
  {
   "cell_type": "code",
   "execution_count": 300,
   "metadata": {},
   "outputs": [
    {
     "name": "stdout",
     "output_type": "stream",
     "text": [
      "\n",
      "Coherence Score CV:  0.3853283133699152\n",
      "\n",
      "Coherence Score UMass:  -3.3565646896529797\n",
      "\n",
      "Coherence Score NPMI:  -0.014480702492772713\n",
      "\n",
      "Coherence Score UCI:  -0.3977433778296897\n",
      "\n",
      "Silhouette Score:  -0.046083961251919485\n",
      "\n",
      "Calinski-Harabasz Score:  16.23536465959202\n",
      "\n",
      "Davies-Bouldin Score:  18.270007042187324\n"
     ]
    }
   ],
   "source": [
    "# Evaluation Metrics for whole dataset\n",
    "cv_lda_tfidf, c_umass_lda_tfidf, c_npmi_lda_tfidf, c_uci_lda_tfidf, sil_score_lda_tfidf, ch_index_lda_tfidf, db_index_lda_tfidf = evaluation(lda_tfidf, tfidf_fit, tfidf, tfidf_feature_names, 20, df[\"cut_and_clean\"], dictionary)"
   ]
  },
  {
   "cell_type": "code",
   "execution_count": 301,
   "metadata": {},
   "outputs": [
    {
     "data": {
      "text/html": [
       "<div>\n",
       "<style scoped>\n",
       "    .dataframe tbody tr th:only-of-type {\n",
       "        vertical-align: middle;\n",
       "    }\n",
       "\n",
       "    .dataframe tbody tr th {\n",
       "        vertical-align: top;\n",
       "    }\n",
       "\n",
       "    .dataframe thead th {\n",
       "        text-align: right;\n",
       "    }\n",
       "</style>\n",
       "<table border=\"1\" class=\"dataframe\">\n",
       "  <thead>\n",
       "    <tr style=\"text-align: right;\">\n",
       "      <th></th>\n",
       "      <th>Topic 0 words</th>\n",
       "      <th>Topic 0 weights</th>\n",
       "      <th>Topic 1 words</th>\n",
       "      <th>Topic 1 weights</th>\n",
       "      <th>Topic 2 words</th>\n",
       "      <th>Topic 2 weights</th>\n",
       "      <th>Topic 3 words</th>\n",
       "      <th>Topic 3 weights</th>\n",
       "      <th>Topic 4 words</th>\n",
       "      <th>Topic 4 weights</th>\n",
       "      <th>Topic 5 words</th>\n",
       "      <th>Topic 5 weights</th>\n",
       "      <th>Topic 6 words</th>\n",
       "      <th>Topic 6 weights</th>\n",
       "      <th>Topic 7 words</th>\n",
       "      <th>Topic 7 weights</th>\n",
       "      <th>Topic 8 words</th>\n",
       "      <th>Topic 8 weights</th>\n",
       "      <th>Topic 9 words</th>\n",
       "      <th>Topic 9 weights</th>\n",
       "    </tr>\n",
       "  </thead>\n",
       "  <tbody>\n",
       "    <tr>\n",
       "      <th>0</th>\n",
       "      <td>year</td>\n",
       "      <td>44.6</td>\n",
       "      <td>gift</td>\n",
       "      <td>59.7</td>\n",
       "      <td>thank</td>\n",
       "      <td>75.0</td>\n",
       "      <td>author</td>\n",
       "      <td>47.5</td>\n",
       "      <td>wonderful</td>\n",
       "      <td>42.8</td>\n",
       "      <td>thank</td>\n",
       "      <td>36.4</td>\n",
       "      <td>enjoy</td>\n",
       "      <td>40.0</td>\n",
       "      <td>thank</td>\n",
       "      <td>52.1</td>\n",
       "      <td>free</td>\n",
       "      <td>34.2</td>\n",
       "      <td>thank</td>\n",
       "      <td>53.3</td>\n",
       "    </tr>\n",
       "    <tr>\n",
       "      <th>1</th>\n",
       "      <td>easy</td>\n",
       "      <td>40.5</td>\n",
       "      <td>enjoy</td>\n",
       "      <td>45.6</td>\n",
       "      <td>year</td>\n",
       "      <td>39.7</td>\n",
       "      <td>helpful</td>\n",
       "      <td>44.4</td>\n",
       "      <td>day</td>\n",
       "      <td>29.8</td>\n",
       "      <td>year</td>\n",
       "      <td>35.4</td>\n",
       "      <td>gift</td>\n",
       "      <td>39.6</td>\n",
       "      <td>wonderful</td>\n",
       "      <td>38.4</td>\n",
       "      <td>condition</td>\n",
       "      <td>34.0</td>\n",
       "      <td>series</td>\n",
       "      <td>40.2</td>\n",
       "    </tr>\n",
       "    <tr>\n",
       "      <th>2</th>\n",
       "      <td>perfect</td>\n",
       "      <td>39.9</td>\n",
       "      <td>thank</td>\n",
       "      <td>36.3</td>\n",
       "      <td>series</td>\n",
       "      <td>38.8</td>\n",
       "      <td>happy</td>\n",
       "      <td>36.2</td>\n",
       "      <td>kid</td>\n",
       "      <td>29.7</td>\n",
       "      <td>child</td>\n",
       "      <td>31.3</td>\n",
       "      <td>condition</td>\n",
       "      <td>37.9</td>\n",
       "      <td>recipe</td>\n",
       "      <td>37.1</td>\n",
       "      <td>sure</td>\n",
       "      <td>30.8</td>\n",
       "      <td>condition</td>\n",
       "      <td>37.3</td>\n",
       "    </tr>\n",
       "    <tr>\n",
       "      <th>3</th>\n",
       "      <td>new</td>\n",
       "      <td>39.0</td>\n",
       "      <td>nice</td>\n",
       "      <td>36.2</td>\n",
       "      <td>nice</td>\n",
       "      <td>34.9</td>\n",
       "      <td>idea</td>\n",
       "      <td>36.2</td>\n",
       "      <td>birthday</td>\n",
       "      <td>28.0</td>\n",
       "      <td>condition</td>\n",
       "      <td>31.0</td>\n",
       "      <td>series</td>\n",
       "      <td>37.5</td>\n",
       "      <td>gift</td>\n",
       "      <td>35.4</td>\n",
       "      <td>life</td>\n",
       "      <td>29.5</td>\n",
       "      <td>nice</td>\n",
       "      <td>37.0</td>\n",
       "    </tr>\n",
       "    <tr>\n",
       "      <th>4</th>\n",
       "      <td>thank</td>\n",
       "      <td>36.3</td>\n",
       "      <td>series</td>\n",
       "      <td>34.3</td>\n",
       "      <td>resource</td>\n",
       "      <td>32.8</td>\n",
       "      <td>thank</td>\n",
       "      <td>35.1</td>\n",
       "      <td>author</td>\n",
       "      <td>27.0</td>\n",
       "      <td>lot</td>\n",
       "      <td>29.3</td>\n",
       "      <td>deliver</td>\n",
       "      <td>34.6</td>\n",
       "      <td>husband</td>\n",
       "      <td>34.0</td>\n",
       "      <td>favorite</td>\n",
       "      <td>29.4</td>\n",
       "      <td>work</td>\n",
       "      <td>36.6</td>\n",
       "    </tr>\n",
       "    <tr>\n",
       "      <th>5</th>\n",
       "      <td>wonderful</td>\n",
       "      <td>30.6</td>\n",
       "      <td>lot</td>\n",
       "      <td>32.7</td>\n",
       "      <td>journey</td>\n",
       "      <td>31.6</td>\n",
       "      <td>easy</td>\n",
       "      <td>34.1</td>\n",
       "      <td>year</td>\n",
       "      <td>25.3</td>\n",
       "      <td>series</td>\n",
       "      <td>28.4</td>\n",
       "      <td>work</td>\n",
       "      <td>32.6</td>\n",
       "      <td>new</td>\n",
       "      <td>33.0</td>\n",
       "      <td>thank</td>\n",
       "      <td>28.5</td>\n",
       "      <td>price</td>\n",
       "      <td>31.8</td>\n",
       "    </tr>\n",
       "    <tr>\n",
       "      <th>6</th>\n",
       "      <td>gift</td>\n",
       "      <td>30.4</td>\n",
       "      <td>condition</td>\n",
       "      <td>30.4</td>\n",
       "      <td>lot</td>\n",
       "      <td>31.4</td>\n",
       "      <td>lot</td>\n",
       "      <td>33.4</td>\n",
       "      <td>recommend</td>\n",
       "      <td>25.1</td>\n",
       "      <td>pleased</td>\n",
       "      <td>28.4</td>\n",
       "      <td>thank</td>\n",
       "      <td>30.6</td>\n",
       "      <td>author</td>\n",
       "      <td>32.1</td>\n",
       "      <td>information</td>\n",
       "      <td>28.5</td>\n",
       "      <td>wonderful</td>\n",
       "      <td>31.0</td>\n",
       "    </tr>\n",
       "    <tr>\n",
       "      <th>7</th>\n",
       "      <td>information</td>\n",
       "      <td>30.3</td>\n",
       "      <td>page</td>\n",
       "      <td>29.7</td>\n",
       "      <td>reference</td>\n",
       "      <td>31.4</td>\n",
       "      <td>important</td>\n",
       "      <td>31.0</td>\n",
       "      <td>finish</td>\n",
       "      <td>24.9</td>\n",
       "      <td>wonderful</td>\n",
       "      <td>28.3</td>\n",
       "      <td>old</td>\n",
       "      <td>30.3</td>\n",
       "      <td>year</td>\n",
       "      <td>31.8</td>\n",
       "      <td>product</td>\n",
       "      <td>27.6</td>\n",
       "      <td>gift</td>\n",
       "      <td>30.9</td>\n",
       "    </tr>\n",
       "    <tr>\n",
       "      <th>8</th>\n",
       "      <td>helpful</td>\n",
       "      <td>28.9</td>\n",
       "      <td>work</td>\n",
       "      <td>28.9</td>\n",
       "      <td>gift</td>\n",
       "      <td>31.3</td>\n",
       "      <td>need</td>\n",
       "      <td>30.9</td>\n",
       "      <td>thank</td>\n",
       "      <td>24.9</td>\n",
       "      <td>perfect</td>\n",
       "      <td>28.1</td>\n",
       "      <td>character</td>\n",
       "      <td>30.1</td>\n",
       "      <td>fun</td>\n",
       "      <td>31.4</td>\n",
       "      <td>series</td>\n",
       "      <td>27.5</td>\n",
       "      <td>stuff</td>\n",
       "      <td>30.6</td>\n",
       "    </tr>\n",
       "    <tr>\n",
       "      <th>9</th>\n",
       "      <td>practical</td>\n",
       "      <td>28.1</td>\n",
       "      <td>character</td>\n",
       "      <td>28.3</td>\n",
       "      <td>easy</td>\n",
       "      <td>31.0</td>\n",
       "      <td>fun</td>\n",
       "      <td>28.3</td>\n",
       "      <td>gift</td>\n",
       "      <td>24.8</td>\n",
       "      <td>life</td>\n",
       "      <td>27.2</td>\n",
       "      <td>new</td>\n",
       "      <td>29.2</td>\n",
       "      <td>information</td>\n",
       "      <td>29.6</td>\n",
       "      <td>dog</td>\n",
       "      <td>27.0</td>\n",
       "      <td>help</td>\n",
       "      <td>29.3</td>\n",
       "    </tr>\n",
       "  </tbody>\n",
       "</table>\n",
       "</div>"
      ],
      "text/plain": [
       "  Topic 0 words Topic 0 weights Topic 1 words Topic 1 weights Topic 2 words  \\\n",
       "0          year            44.6          gift            59.7         thank   \n",
       "1          easy            40.5         enjoy            45.6          year   \n",
       "2       perfect            39.9         thank            36.3        series   \n",
       "3           new            39.0          nice            36.2          nice   \n",
       "4         thank            36.3        series            34.3      resource   \n",
       "5     wonderful            30.6           lot            32.7       journey   \n",
       "6          gift            30.4     condition            30.4           lot   \n",
       "7   information            30.3          page            29.7     reference   \n",
       "8       helpful            28.9          work            28.9          gift   \n",
       "9     practical            28.1     character            28.3          easy   \n",
       "\n",
       "  Topic 2 weights Topic 3 words Topic 3 weights Topic 4 words Topic 4 weights  \\\n",
       "0            75.0        author            47.5     wonderful            42.8   \n",
       "1            39.7       helpful            44.4           day            29.8   \n",
       "2            38.8         happy            36.2           kid            29.7   \n",
       "3            34.9          idea            36.2      birthday            28.0   \n",
       "4            32.8         thank            35.1        author            27.0   \n",
       "5            31.6          easy            34.1          year            25.3   \n",
       "6            31.4           lot            33.4     recommend            25.1   \n",
       "7            31.4     important            31.0        finish            24.9   \n",
       "8            31.3          need            30.9         thank            24.9   \n",
       "9            31.0           fun            28.3          gift            24.8   \n",
       "\n",
       "  Topic 5 words Topic 5 weights Topic 6 words Topic 6 weights Topic 7 words  \\\n",
       "0         thank            36.4         enjoy            40.0         thank   \n",
       "1          year            35.4          gift            39.6     wonderful   \n",
       "2         child            31.3     condition            37.9        recipe   \n",
       "3     condition            31.0        series            37.5          gift   \n",
       "4           lot            29.3       deliver            34.6       husband   \n",
       "5        series            28.4          work            32.6           new   \n",
       "6       pleased            28.4         thank            30.6        author   \n",
       "7     wonderful            28.3           old            30.3          year   \n",
       "8       perfect            28.1     character            30.1           fun   \n",
       "9          life            27.2           new            29.2   information   \n",
       "\n",
       "  Topic 7 weights Topic 8 words Topic 8 weights Topic 9 words Topic 9 weights  \n",
       "0            52.1          free            34.2         thank            53.3  \n",
       "1            38.4     condition            34.0        series            40.2  \n",
       "2            37.1          sure            30.8     condition            37.3  \n",
       "3            35.4          life            29.5          nice            37.0  \n",
       "4            34.0      favorite            29.4          work            36.6  \n",
       "5            33.0         thank            28.5         price            31.8  \n",
       "6            32.1   information            28.5     wonderful            31.0  \n",
       "7            31.8       product            27.6          gift            30.9  \n",
       "8            31.4        series            27.5         stuff            30.6  \n",
       "9            29.6           dog            27.0          help            29.3  "
      ]
     },
     "execution_count": 301,
     "metadata": {},
     "output_type": "execute_result"
    }
   ],
   "source": [
    "display_topics(lda_tfidf, tfidf_feature_names, 10)"
   ]
  },
  {
   "cell_type": "code",
   "execution_count": 302,
   "metadata": {},
   "outputs": [
    {
     "data": {
      "application/vnd.plotly.v1+json": {
       "config": {
        "plotlyServerURL": "https://plot.ly"
       },
       "data": [
        {
         "marker": {
          "color": "Blue"
         },
         "orientation": "h",
         "type": "bar",
         "x": [
          44.6,
          40.5,
          39.9,
          39,
          36.3,
          30.6,
          30.4,
          30.3,
          28.9,
          28.1
         ],
         "xaxis": "x",
         "y": [
          "year",
          "easy",
          "perfect",
          "new",
          "thank",
          "wonderful",
          "gift",
          "information",
          "helpful",
          "practical"
         ],
         "yaxis": "y"
        },
        {
         "marker": {
          "color": "Pink"
         },
         "orientation": "h",
         "type": "bar",
         "x": [
          59.7,
          45.6,
          36.3,
          36.2,
          34.3,
          32.7,
          30.4,
          29.7,
          28.9,
          28.3
         ],
         "xaxis": "x3",
         "y": [
          "gift",
          "enjoy",
          "thank",
          "nice",
          "series",
          "lot",
          "condition",
          "page",
          "work",
          "character"
         ],
         "yaxis": "y3"
        },
        {
         "marker": {
          "color": "SeaGreen"
         },
         "orientation": "h",
         "type": "bar",
         "x": [
          75,
          39.7,
          38.8,
          34.9,
          32.8,
          31.6,
          31.4,
          31.4,
          31.3,
          31
         ],
         "xaxis": "x5",
         "y": [
          "thank",
          "year",
          "series",
          "nice",
          "resource",
          "journey",
          "lot",
          "reference",
          "gift",
          "easy"
         ],
         "yaxis": "y5"
        },
        {
         "marker": {
          "color": "Orange"
         },
         "orientation": "h",
         "type": "bar",
         "x": [
          47.5,
          44.4,
          36.2,
          36.2,
          35.1,
          34.1,
          33.4,
          31,
          30.9,
          28.3
         ],
         "xaxis": "x7",
         "y": [
          "author",
          "helpful",
          "happy",
          "idea",
          "thank",
          "easy",
          "lot",
          "important",
          "need",
          "fun"
         ],
         "yaxis": "y7"
        },
        {
         "marker": {
          "color": "Grey"
         },
         "orientation": "h",
         "type": "bar",
         "x": [
          42.8,
          29.8,
          29.7,
          28,
          27,
          25.3,
          25.1,
          24.9,
          24.9,
          24.8
         ],
         "xaxis": "x9",
         "y": [
          "wonderful",
          "day",
          "kid",
          "birthday",
          "author",
          "year",
          "recommend",
          "finish",
          "thank",
          "gift"
         ],
         "yaxis": "y9"
        },
        {
         "marker": {
          "color": "Purple"
         },
         "orientation": "h",
         "type": "bar",
         "x": [
          36.4,
          35.4,
          31.3,
          31,
          29.3,
          28.4,
          28.4,
          28.3,
          28.1,
          27.2
         ],
         "xaxis": "x2",
         "y": [
          "thank",
          "year",
          "child",
          "condition",
          "lot",
          "series",
          "pleased",
          "wonderful",
          "perfect",
          "life"
         ],
         "yaxis": "y2"
        },
        {
         "marker": {
          "color": "Red"
         },
         "orientation": "h",
         "type": "bar",
         "x": [
          40,
          39.6,
          37.9,
          37.5,
          34.6,
          32.6,
          30.6,
          30.3,
          30.1,
          29.2
         ],
         "xaxis": "x4",
         "y": [
          "enjoy",
          "gift",
          "condition",
          "series",
          "deliver",
          "work",
          "thank",
          "old",
          "character",
          "new"
         ],
         "yaxis": "y4"
        },
        {
         "marker": {
          "color": "LightBlue"
         },
         "orientation": "h",
         "type": "bar",
         "x": [
          52.1,
          38.4,
          37.1,
          35.4,
          34,
          33,
          32.1,
          31.8,
          31.4,
          29.6
         ],
         "xaxis": "x6",
         "y": [
          "thank",
          "wonderful",
          "recipe",
          "gift",
          "husband",
          "new",
          "author",
          "year",
          "fun",
          "information"
         ],
         "yaxis": "y6"
        },
        {
         "marker": {
          "color": "LightGreen"
         },
         "orientation": "h",
         "type": "bar",
         "x": [
          34.2,
          34,
          30.8,
          29.5,
          29.4,
          28.5,
          28.5,
          27.6,
          27.5,
          27
         ],
         "xaxis": "x8",
         "y": [
          "free",
          "condition",
          "sure",
          "life",
          "favorite",
          "thank",
          "information",
          "product",
          "series",
          "dog"
         ],
         "yaxis": "y8"
        },
        {
         "marker": {
          "color": "DarkRed"
         },
         "orientation": "h",
         "type": "bar",
         "x": [
          53.3,
          40.2,
          37.3,
          37,
          36.6,
          31.8,
          31,
          30.9,
          30.6,
          29.3
         ],
         "xaxis": "x10",
         "y": [
          "thank",
          "series",
          "condition",
          "nice",
          "work",
          "price",
          "wonderful",
          "gift",
          "stuff",
          "help"
         ],
         "yaxis": "y10"
        }
       ],
       "layout": {
        "annotations": [
         {
          "font": {
           "size": 16
          },
          "showarrow": false,
          "text": "Topic 1",
          "x": 0.225,
          "xanchor": "center",
          "xref": "paper",
          "y": 1,
          "yanchor": "bottom",
          "yref": "paper"
         },
         {
          "font": {
           "size": 16
          },
          "showarrow": false,
          "text": "Topic 6",
          "x": 0.775,
          "xanchor": "center",
          "xref": "paper",
          "y": 1,
          "yanchor": "bottom",
          "yref": "paper"
         },
         {
          "font": {
           "size": 16
          },
          "showarrow": false,
          "text": "Topic 2",
          "x": 0.225,
          "xanchor": "center",
          "xref": "paper",
          "y": 0.78,
          "yanchor": "bottom",
          "yref": "paper"
         },
         {
          "font": {
           "size": 16
          },
          "showarrow": false,
          "text": "Topic 7",
          "x": 0.775,
          "xanchor": "center",
          "xref": "paper",
          "y": 0.78,
          "yanchor": "bottom",
          "yref": "paper"
         },
         {
          "font": {
           "size": 16
          },
          "showarrow": false,
          "text": "Topic 3",
          "x": 0.225,
          "xanchor": "center",
          "xref": "paper",
          "y": 0.56,
          "yanchor": "bottom",
          "yref": "paper"
         },
         {
          "font": {
           "size": 16
          },
          "showarrow": false,
          "text": "Topic 8",
          "x": 0.775,
          "xanchor": "center",
          "xref": "paper",
          "y": 0.56,
          "yanchor": "bottom",
          "yref": "paper"
         },
         {
          "font": {
           "size": 16
          },
          "showarrow": false,
          "text": "Topic 4",
          "x": 0.225,
          "xanchor": "center",
          "xref": "paper",
          "y": 0.33999999999999997,
          "yanchor": "bottom",
          "yref": "paper"
         },
         {
          "font": {
           "size": 16
          },
          "showarrow": false,
          "text": "Topic 9",
          "x": 0.775,
          "xanchor": "center",
          "xref": "paper",
          "y": 0.33999999999999997,
          "yanchor": "bottom",
          "yref": "paper"
         },
         {
          "font": {
           "size": 16
          },
          "showarrow": false,
          "text": "Topic 5",
          "x": 0.225,
          "xanchor": "center",
          "xref": "paper",
          "y": 0.12,
          "yanchor": "bottom",
          "yref": "paper"
         },
         {
          "font": {
           "size": 16
          },
          "showarrow": false,
          "text": "Topic 10",
          "x": 0.775,
          "xanchor": "center",
          "xref": "paper",
          "y": 0.12,
          "yanchor": "bottom",
          "yref": "paper"
         }
        ],
        "height": 1400,
        "showlegend": false,
        "template": {
         "data": {
          "bar": [
           {
            "error_x": {
             "color": "#2a3f5f"
            },
            "error_y": {
             "color": "#2a3f5f"
            },
            "marker": {
             "line": {
              "color": "#E5ECF6",
              "width": 0.5
             },
             "pattern": {
              "fillmode": "overlay",
              "size": 10,
              "solidity": 0.2
             }
            },
            "type": "bar"
           }
          ],
          "barpolar": [
           {
            "marker": {
             "line": {
              "color": "#E5ECF6",
              "width": 0.5
             },
             "pattern": {
              "fillmode": "overlay",
              "size": 10,
              "solidity": 0.2
             }
            },
            "type": "barpolar"
           }
          ],
          "carpet": [
           {
            "aaxis": {
             "endlinecolor": "#2a3f5f",
             "gridcolor": "white",
             "linecolor": "white",
             "minorgridcolor": "white",
             "startlinecolor": "#2a3f5f"
            },
            "baxis": {
             "endlinecolor": "#2a3f5f",
             "gridcolor": "white",
             "linecolor": "white",
             "minorgridcolor": "white",
             "startlinecolor": "#2a3f5f"
            },
            "type": "carpet"
           }
          ],
          "choropleth": [
           {
            "colorbar": {
             "outlinewidth": 0,
             "ticks": ""
            },
            "type": "choropleth"
           }
          ],
          "contour": [
           {
            "colorbar": {
             "outlinewidth": 0,
             "ticks": ""
            },
            "colorscale": [
             [
              0,
              "#0d0887"
             ],
             [
              0.1111111111111111,
              "#46039f"
             ],
             [
              0.2222222222222222,
              "#7201a8"
             ],
             [
              0.3333333333333333,
              "#9c179e"
             ],
             [
              0.4444444444444444,
              "#bd3786"
             ],
             [
              0.5555555555555556,
              "#d8576b"
             ],
             [
              0.6666666666666666,
              "#ed7953"
             ],
             [
              0.7777777777777778,
              "#fb9f3a"
             ],
             [
              0.8888888888888888,
              "#fdca26"
             ],
             [
              1,
              "#f0f921"
             ]
            ],
            "type": "contour"
           }
          ],
          "contourcarpet": [
           {
            "colorbar": {
             "outlinewidth": 0,
             "ticks": ""
            },
            "type": "contourcarpet"
           }
          ],
          "heatmap": [
           {
            "colorbar": {
             "outlinewidth": 0,
             "ticks": ""
            },
            "colorscale": [
             [
              0,
              "#0d0887"
             ],
             [
              0.1111111111111111,
              "#46039f"
             ],
             [
              0.2222222222222222,
              "#7201a8"
             ],
             [
              0.3333333333333333,
              "#9c179e"
             ],
             [
              0.4444444444444444,
              "#bd3786"
             ],
             [
              0.5555555555555556,
              "#d8576b"
             ],
             [
              0.6666666666666666,
              "#ed7953"
             ],
             [
              0.7777777777777778,
              "#fb9f3a"
             ],
             [
              0.8888888888888888,
              "#fdca26"
             ],
             [
              1,
              "#f0f921"
             ]
            ],
            "type": "heatmap"
           }
          ],
          "heatmapgl": [
           {
            "colorbar": {
             "outlinewidth": 0,
             "ticks": ""
            },
            "colorscale": [
             [
              0,
              "#0d0887"
             ],
             [
              0.1111111111111111,
              "#46039f"
             ],
             [
              0.2222222222222222,
              "#7201a8"
             ],
             [
              0.3333333333333333,
              "#9c179e"
             ],
             [
              0.4444444444444444,
              "#bd3786"
             ],
             [
              0.5555555555555556,
              "#d8576b"
             ],
             [
              0.6666666666666666,
              "#ed7953"
             ],
             [
              0.7777777777777778,
              "#fb9f3a"
             ],
             [
              0.8888888888888888,
              "#fdca26"
             ],
             [
              1,
              "#f0f921"
             ]
            ],
            "type": "heatmapgl"
           }
          ],
          "histogram": [
           {
            "marker": {
             "pattern": {
              "fillmode": "overlay",
              "size": 10,
              "solidity": 0.2
             }
            },
            "type": "histogram"
           }
          ],
          "histogram2d": [
           {
            "colorbar": {
             "outlinewidth": 0,
             "ticks": ""
            },
            "colorscale": [
             [
              0,
              "#0d0887"
             ],
             [
              0.1111111111111111,
              "#46039f"
             ],
             [
              0.2222222222222222,
              "#7201a8"
             ],
             [
              0.3333333333333333,
              "#9c179e"
             ],
             [
              0.4444444444444444,
              "#bd3786"
             ],
             [
              0.5555555555555556,
              "#d8576b"
             ],
             [
              0.6666666666666666,
              "#ed7953"
             ],
             [
              0.7777777777777778,
              "#fb9f3a"
             ],
             [
              0.8888888888888888,
              "#fdca26"
             ],
             [
              1,
              "#f0f921"
             ]
            ],
            "type": "histogram2d"
           }
          ],
          "histogram2dcontour": [
           {
            "colorbar": {
             "outlinewidth": 0,
             "ticks": ""
            },
            "colorscale": [
             [
              0,
              "#0d0887"
             ],
             [
              0.1111111111111111,
              "#46039f"
             ],
             [
              0.2222222222222222,
              "#7201a8"
             ],
             [
              0.3333333333333333,
              "#9c179e"
             ],
             [
              0.4444444444444444,
              "#bd3786"
             ],
             [
              0.5555555555555556,
              "#d8576b"
             ],
             [
              0.6666666666666666,
              "#ed7953"
             ],
             [
              0.7777777777777778,
              "#fb9f3a"
             ],
             [
              0.8888888888888888,
              "#fdca26"
             ],
             [
              1,
              "#f0f921"
             ]
            ],
            "type": "histogram2dcontour"
           }
          ],
          "mesh3d": [
           {
            "colorbar": {
             "outlinewidth": 0,
             "ticks": ""
            },
            "type": "mesh3d"
           }
          ],
          "parcoords": [
           {
            "line": {
             "colorbar": {
              "outlinewidth": 0,
              "ticks": ""
             }
            },
            "type": "parcoords"
           }
          ],
          "pie": [
           {
            "automargin": true,
            "type": "pie"
           }
          ],
          "scatter": [
           {
            "marker": {
             "colorbar": {
              "outlinewidth": 0,
              "ticks": ""
             }
            },
            "type": "scatter"
           }
          ],
          "scatter3d": [
           {
            "line": {
             "colorbar": {
              "outlinewidth": 0,
              "ticks": ""
             }
            },
            "marker": {
             "colorbar": {
              "outlinewidth": 0,
              "ticks": ""
             }
            },
            "type": "scatter3d"
           }
          ],
          "scattercarpet": [
           {
            "marker": {
             "colorbar": {
              "outlinewidth": 0,
              "ticks": ""
             }
            },
            "type": "scattercarpet"
           }
          ],
          "scattergeo": [
           {
            "marker": {
             "colorbar": {
              "outlinewidth": 0,
              "ticks": ""
             }
            },
            "type": "scattergeo"
           }
          ],
          "scattergl": [
           {
            "marker": {
             "colorbar": {
              "outlinewidth": 0,
              "ticks": ""
             }
            },
            "type": "scattergl"
           }
          ],
          "scattermapbox": [
           {
            "marker": {
             "colorbar": {
              "outlinewidth": 0,
              "ticks": ""
             }
            },
            "type": "scattermapbox"
           }
          ],
          "scatterpolar": [
           {
            "marker": {
             "colorbar": {
              "outlinewidth": 0,
              "ticks": ""
             }
            },
            "type": "scatterpolar"
           }
          ],
          "scatterpolargl": [
           {
            "marker": {
             "colorbar": {
              "outlinewidth": 0,
              "ticks": ""
             }
            },
            "type": "scatterpolargl"
           }
          ],
          "scatterternary": [
           {
            "marker": {
             "colorbar": {
              "outlinewidth": 0,
              "ticks": ""
             }
            },
            "type": "scatterternary"
           }
          ],
          "surface": [
           {
            "colorbar": {
             "outlinewidth": 0,
             "ticks": ""
            },
            "colorscale": [
             [
              0,
              "#0d0887"
             ],
             [
              0.1111111111111111,
              "#46039f"
             ],
             [
              0.2222222222222222,
              "#7201a8"
             ],
             [
              0.3333333333333333,
              "#9c179e"
             ],
             [
              0.4444444444444444,
              "#bd3786"
             ],
             [
              0.5555555555555556,
              "#d8576b"
             ],
             [
              0.6666666666666666,
              "#ed7953"
             ],
             [
              0.7777777777777778,
              "#fb9f3a"
             ],
             [
              0.8888888888888888,
              "#fdca26"
             ],
             [
              1,
              "#f0f921"
             ]
            ],
            "type": "surface"
           }
          ],
          "table": [
           {
            "cells": {
             "fill": {
              "color": "#EBF0F8"
             },
             "line": {
              "color": "white"
             }
            },
            "header": {
             "fill": {
              "color": "#C8D4E3"
             },
             "line": {
              "color": "white"
             }
            },
            "type": "table"
           }
          ]
         },
         "layout": {
          "annotationdefaults": {
           "arrowcolor": "#2a3f5f",
           "arrowhead": 0,
           "arrowwidth": 1
          },
          "autotypenumbers": "strict",
          "coloraxis": {
           "colorbar": {
            "outlinewidth": 0,
            "ticks": ""
           }
          },
          "colorscale": {
           "diverging": [
            [
             0,
             "#8e0152"
            ],
            [
             0.1,
             "#c51b7d"
            ],
            [
             0.2,
             "#de77ae"
            ],
            [
             0.3,
             "#f1b6da"
            ],
            [
             0.4,
             "#fde0ef"
            ],
            [
             0.5,
             "#f7f7f7"
            ],
            [
             0.6,
             "#e6f5d0"
            ],
            [
             0.7,
             "#b8e186"
            ],
            [
             0.8,
             "#7fbc41"
            ],
            [
             0.9,
             "#4d9221"
            ],
            [
             1,
             "#276419"
            ]
           ],
           "sequential": [
            [
             0,
             "#0d0887"
            ],
            [
             0.1111111111111111,
             "#46039f"
            ],
            [
             0.2222222222222222,
             "#7201a8"
            ],
            [
             0.3333333333333333,
             "#9c179e"
            ],
            [
             0.4444444444444444,
             "#bd3786"
            ],
            [
             0.5555555555555556,
             "#d8576b"
            ],
            [
             0.6666666666666666,
             "#ed7953"
            ],
            [
             0.7777777777777778,
             "#fb9f3a"
            ],
            [
             0.8888888888888888,
             "#fdca26"
            ],
            [
             1,
             "#f0f921"
            ]
           ],
           "sequentialminus": [
            [
             0,
             "#0d0887"
            ],
            [
             0.1111111111111111,
             "#46039f"
            ],
            [
             0.2222222222222222,
             "#7201a8"
            ],
            [
             0.3333333333333333,
             "#9c179e"
            ],
            [
             0.4444444444444444,
             "#bd3786"
            ],
            [
             0.5555555555555556,
             "#d8576b"
            ],
            [
             0.6666666666666666,
             "#ed7953"
            ],
            [
             0.7777777777777778,
             "#fb9f3a"
            ],
            [
             0.8888888888888888,
             "#fdca26"
            ],
            [
             1,
             "#f0f921"
            ]
           ]
          },
          "colorway": [
           "#636efa",
           "#EF553B",
           "#00cc96",
           "#ab63fa",
           "#FFA15A",
           "#19d3f3",
           "#FF6692",
           "#B6E880",
           "#FF97FF",
           "#FECB52"
          ],
          "font": {
           "color": "#2a3f5f"
          },
          "geo": {
           "bgcolor": "white",
           "lakecolor": "white",
           "landcolor": "#E5ECF6",
           "showlakes": true,
           "showland": true,
           "subunitcolor": "white"
          },
          "hoverlabel": {
           "align": "left"
          },
          "hovermode": "closest",
          "mapbox": {
           "style": "light"
          },
          "paper_bgcolor": "white",
          "plot_bgcolor": "#E5ECF6",
          "polar": {
           "angularaxis": {
            "gridcolor": "white",
            "linecolor": "white",
            "ticks": ""
           },
           "bgcolor": "#E5ECF6",
           "radialaxis": {
            "gridcolor": "white",
            "linecolor": "white",
            "ticks": ""
           }
          },
          "scene": {
           "xaxis": {
            "backgroundcolor": "#E5ECF6",
            "gridcolor": "white",
            "gridwidth": 2,
            "linecolor": "white",
            "showbackground": true,
            "ticks": "",
            "zerolinecolor": "white"
           },
           "yaxis": {
            "backgroundcolor": "#E5ECF6",
            "gridcolor": "white",
            "gridwidth": 2,
            "linecolor": "white",
            "showbackground": true,
            "ticks": "",
            "zerolinecolor": "white"
           },
           "zaxis": {
            "backgroundcolor": "#E5ECF6",
            "gridcolor": "white",
            "gridwidth": 2,
            "linecolor": "white",
            "showbackground": true,
            "ticks": "",
            "zerolinecolor": "white"
           }
          },
          "shapedefaults": {
           "line": {
            "color": "#2a3f5f"
           }
          },
          "ternary": {
           "aaxis": {
            "gridcolor": "white",
            "linecolor": "white",
            "ticks": ""
           },
           "baxis": {
            "gridcolor": "white",
            "linecolor": "white",
            "ticks": ""
           },
           "bgcolor": "#E5ECF6",
           "caxis": {
            "gridcolor": "white",
            "linecolor": "white",
            "ticks": ""
           }
          },
          "title": {
           "x": 0.05
          },
          "xaxis": {
           "automargin": true,
           "gridcolor": "white",
           "linecolor": "white",
           "ticks": "",
           "title": {
            "standoff": 15
           },
           "zerolinecolor": "white",
           "zerolinewidth": 2
          },
          "yaxis": {
           "automargin": true,
           "gridcolor": "white",
           "linecolor": "white",
           "ticks": "",
           "title": {
            "standoff": 15
           },
           "zerolinecolor": "white",
           "zerolinewidth": 2
          }
         }
        },
        "title": {
         "text": "LDA TF-IDF - Topic Keywords ranked by Weight"
        },
        "width": 1200,
        "xaxis": {
         "anchor": "y",
         "domain": [
          0,
          0.45
         ],
         "range": [
          0,
          100
         ],
         "title": {
          "text": "Weight"
         }
        },
        "xaxis10": {
         "anchor": "y10",
         "domain": [
          0.55,
          1
         ],
         "range": [
          0,
          100
         ],
         "title": {
          "text": "Weight"
         }
        },
        "xaxis2": {
         "anchor": "y2",
         "domain": [
          0.55,
          1
         ],
         "range": [
          0,
          100
         ],
         "title": {
          "text": "Weight"
         }
        },
        "xaxis3": {
         "anchor": "y3",
         "domain": [
          0,
          0.45
         ],
         "range": [
          0,
          100
         ],
         "title": {
          "text": "Weight"
         }
        },
        "xaxis4": {
         "anchor": "y4",
         "domain": [
          0.55,
          1
         ],
         "range": [
          0,
          100
         ],
         "title": {
          "text": "Weight"
         }
        },
        "xaxis5": {
         "anchor": "y5",
         "domain": [
          0,
          0.45
         ],
         "range": [
          0,
          100
         ],
         "title": {
          "text": "Weight"
         }
        },
        "xaxis6": {
         "anchor": "y6",
         "domain": [
          0.55,
          1
         ],
         "range": [
          0,
          100
         ],
         "title": {
          "text": "Weight"
         }
        },
        "xaxis7": {
         "anchor": "y7",
         "domain": [
          0,
          0.45
         ],
         "range": [
          0,
          100
         ],
         "title": {
          "text": "Weight"
         }
        },
        "xaxis8": {
         "anchor": "y8",
         "domain": [
          0.55,
          1
         ],
         "range": [
          0,
          100
         ],
         "title": {
          "text": "Weight"
         }
        },
        "xaxis9": {
         "anchor": "y9",
         "domain": [
          0,
          0.45
         ],
         "range": [
          0,
          100
         ],
         "title": {
          "text": "Weight"
         }
        },
        "yaxis": {
         "anchor": "x",
         "autorange": "reversed",
         "domain": [
          0.88,
          1
         ],
         "title": {
          "text": "Keyword"
         },
         "type": "category"
        },
        "yaxis10": {
         "anchor": "x10",
         "autorange": "reversed",
         "domain": [
          0,
          0.12
         ],
         "title": {
          "text": "Keyword"
         },
         "type": "category"
        },
        "yaxis2": {
         "anchor": "x2",
         "autorange": "reversed",
         "domain": [
          0.88,
          1
         ],
         "title": {
          "text": "Keyword"
         },
         "type": "category"
        },
        "yaxis3": {
         "anchor": "x3",
         "autorange": "reversed",
         "domain": [
          0.66,
          0.78
         ],
         "title": {
          "text": "Keyword"
         },
         "type": "category"
        },
        "yaxis4": {
         "anchor": "x4",
         "autorange": "reversed",
         "domain": [
          0.66,
          0.78
         ],
         "title": {
          "text": "Keyword"
         },
         "type": "category"
        },
        "yaxis5": {
         "anchor": "x5",
         "autorange": "reversed",
         "domain": [
          0.44,
          0.56
         ],
         "title": {
          "text": "Keyword"
         },
         "type": "category"
        },
        "yaxis6": {
         "anchor": "x6",
         "autorange": "reversed",
         "domain": [
          0.44,
          0.56
         ],
         "title": {
          "text": "Keyword"
         },
         "type": "category"
        },
        "yaxis7": {
         "anchor": "x7",
         "autorange": "reversed",
         "domain": [
          0.22,
          0.33999999999999997
         ],
         "title": {
          "text": "Keyword"
         },
         "type": "category"
        },
        "yaxis8": {
         "anchor": "x8",
         "autorange": "reversed",
         "domain": [
          0.22,
          0.33999999999999997
         ],
         "title": {
          "text": "Keyword"
         },
         "type": "category"
        },
        "yaxis9": {
         "anchor": "x9",
         "autorange": "reversed",
         "domain": [
          0,
          0.12
         ],
         "title": {
          "text": "Keyword"
         },
         "type": "category"
        }
       }
      }
     },
     "metadata": {},
     "output_type": "display_data"
    }
   ],
   "source": [
    "data = display_topics(lda_tfidf, tfidf_feature_names, 10)\n",
    "fig = make_subplots(rows=5, cols=2, subplot_titles= [\"Topic 1\", \"Topic 6\", \"Topic 2\",\"Topic 7\", \"Topic 3\",\"Topic 8\",\"Topic 4\",\"Topic 9\", \"Topic 5\", \"Topic 10\"])\n",
    "colors = [\"Blue\", \"Pink\", \"SeaGreen\", \"Orange\", \"Grey\", \"Purple\", \"Red\", \"LightBlue\", \"LightGreen\", \"DarkRed\"]\n",
    "for col in range(0, int(len(data.columns)),2):\n",
    "    if col == 0:\n",
    "        fig.add_trace(go.Bar(\n",
    "        x=data.iloc[:,1].astype(\"float64\"),#.sort_values(ascending=True)\n",
    "        y=data.iloc[:,0], #.sort_values( by= data.columns[col+1], ascending = True)\n",
    "        marker_color=colors[0], orientation = \"h\"), col= 1, row = 1)\n",
    "    if col < 10 and col > 0:\n",
    "        fig.add_trace(go.Bar(\n",
    "        x=data.iloc[:,col+1].astype(\"float64\"),\n",
    "        y=data.iloc[:,col],\n",
    "        marker_color=colors[int(col/2)], orientation = \"h\"), col= 1, row = int(col/2)+1)\n",
    "    if col >= 10:\n",
    "        fig.add_trace(go.Bar(\n",
    "        x=data.iloc[:,col+1].astype(\"float64\"),\n",
    "        y=data.iloc[:,col],\n",
    "        marker_color=colors[int(col/2)], orientation = \"h\"),col= 2, row = int(col/2)-4)\n",
    "\n",
    "fig.update_layout( height=1400, width=1200, title_text=\"LDA TF-IDF - Topic Keywords ranked by Weight\", showlegend=False, xaxis_title_text='Keyword',yaxis_title_text='Weight'\n",
    "    )\n",
    "fig.update_yaxes(title='Keyword', type = \"category\" , autorange = \"reversed\")\n",
    "fig.update_xaxes( title = 'Weight', range = (0,100) )\n",
    "fig.show()"
   ]
  },
  {
   "cell_type": "markdown",
   "metadata": {},
   "source": [
    "# Non-Negative Matrix Factorization"
   ]
  },
  {
   "cell_type": "code",
   "execution_count": 303,
   "metadata": {},
   "outputs": [],
   "source": [
    "from sklearn.decomposition import NMF\n",
    "nmf = MiniBatchNMF(n_components=10, init= 'nndsvd')"
   ]
  },
  {
   "cell_type": "markdown",
   "metadata": {},
   "source": [
    "### NMF TF"
   ]
  },
  {
   "cell_type": "code",
   "execution_count": 304,
   "metadata": {},
   "outputs": [
    {
     "name": "stderr",
     "output_type": "stream",
     "text": [
      "C:\\Users\\Annelie Schridde\\AppData\\Roaming\\Python\\Python38\\site-packages\\sklearn\\decomposition\\_nmf.py:1466: UserWarning:\n",
      "\n",
      "The multiplicative update ('mu') solver cannot update zeros present in the initialization, and so leads to poorer results when used jointly with init='nndsvd'. You may try init='nndsvda' or init='nndsvdar' instead.\n",
      "\n"
     ]
    }
   ],
   "source": [
    "NMF_tf = nmf.fit(tf)\n",
    "pickle.dump(NMF_tf, open('../models/basemodel_nmf_tf.pkl', 'wb')) #save fitted model"
   ]
  },
  {
   "cell_type": "code",
   "execution_count": 305,
   "metadata": {},
   "outputs": [
    {
     "name": "stdout",
     "output_type": "stream",
     "text": [
      "\n",
      "Coherence Score CV:  0.5821935337743727\n",
      "\n",
      "Coherence Score UMass:  -2.7899509016571007\n",
      "\n",
      "Coherence Score NPMI:  0.01601401147259798\n",
      "\n",
      "Coherence Score UCI:  -0.6607062708477225\n",
      "\n",
      "Silhouette Score:  -0.020699944647280373\n",
      "\n",
      "Calinski-Harabasz Score:  36.62382060671058\n",
      "\n",
      "Davies-Bouldin Score:  8.438336836356731\n"
     ]
    }
   ],
   "source": [
    "# Evaluation Metrics for whole dataset\n",
    "cv_nmf_tf, c_umass_nmf_tf, c_npmi_nmf_tf, c_uci_nmf_tf, sil_score_nmf_tf, ch_index_nmf_tf, db_index_nmf_tf = evaluation(NMF_tf, tf_fit, tf, tf_feature_names, 20, df[\"cut_and_clean\"], dictionary)"
   ]
  },
  {
   "cell_type": "code",
   "execution_count": 306,
   "metadata": {},
   "outputs": [
    {
     "data": {
      "text/html": [
       "<div>\n",
       "<style scoped>\n",
       "    .dataframe tbody tr th:only-of-type {\n",
       "        vertical-align: middle;\n",
       "    }\n",
       "\n",
       "    .dataframe tbody tr th {\n",
       "        vertical-align: top;\n",
       "    }\n",
       "\n",
       "    .dataframe thead th {\n",
       "        text-align: right;\n",
       "    }\n",
       "</style>\n",
       "<table border=\"1\" class=\"dataframe\">\n",
       "  <thead>\n",
       "    <tr style=\"text-align: right;\">\n",
       "      <th></th>\n",
       "      <th>Topic 0 words</th>\n",
       "      <th>Topic 0 weights</th>\n",
       "      <th>Topic 1 words</th>\n",
       "      <th>Topic 1 weights</th>\n",
       "      <th>Topic 2 words</th>\n",
       "      <th>Topic 2 weights</th>\n",
       "      <th>Topic 3 words</th>\n",
       "      <th>Topic 3 weights</th>\n",
       "      <th>Topic 4 words</th>\n",
       "      <th>Topic 4 weights</th>\n",
       "      <th>Topic 5 words</th>\n",
       "      <th>Topic 5 weights</th>\n",
       "      <th>Topic 6 words</th>\n",
       "      <th>Topic 6 weights</th>\n",
       "      <th>Topic 7 words</th>\n",
       "      <th>Topic 7 weights</th>\n",
       "      <th>Topic 8 words</th>\n",
       "      <th>Topic 8 weights</th>\n",
       "      <th>Topic 9 words</th>\n",
       "      <th>Topic 9 weights</th>\n",
       "    </tr>\n",
       "  </thead>\n",
       "  <tbody>\n",
       "    <tr>\n",
       "      <th>0</th>\n",
       "      <td>author</td>\n",
       "      <td>3.2</td>\n",
       "      <td>jesus</td>\n",
       "      <td>5.4</td>\n",
       "      <td>fine</td>\n",
       "      <td>4.9</td>\n",
       "      <td>heart</td>\n",
       "      <td>7.2</td>\n",
       "      <td>god</td>\n",
       "      <td>6.7</td>\n",
       "      <td>teacher</td>\n",
       "      <td>3.1</td>\n",
       "      <td>life</td>\n",
       "      <td>9.9</td>\n",
       "      <td>character</td>\n",
       "      <td>7.6</td>\n",
       "      <td>page</td>\n",
       "      <td>10.7</td>\n",
       "      <td>year</td>\n",
       "      <td>5.9</td>\n",
       "    </tr>\n",
       "    <tr>\n",
       "      <th>1</th>\n",
       "      <td>way</td>\n",
       "      <td>2.3</td>\n",
       "      <td>memory</td>\n",
       "      <td>4.8</td>\n",
       "      <td>violence</td>\n",
       "      <td>2.8</td>\n",
       "      <td>red</td>\n",
       "      <td>6.4</td>\n",
       "      <td>universe</td>\n",
       "      <td>3.6</td>\n",
       "      <td>practice</td>\n",
       "      <td>3.0</td>\n",
       "      <td>live</td>\n",
       "      <td>1.8</td>\n",
       "      <td>series</td>\n",
       "      <td>4.6</td>\n",
       "      <td>chapter</td>\n",
       "      <td>4.7</td>\n",
       "      <td>work</td>\n",
       "      <td>4.6</td>\n",
       "    </tr>\n",
       "    <tr>\n",
       "      <th>2</th>\n",
       "      <td>day</td>\n",
       "      <td>2.2</td>\n",
       "      <td>word</td>\n",
       "      <td>3.7</td>\n",
       "      <td>social</td>\n",
       "      <td>2.6</td>\n",
       "      <td>way</td>\n",
       "      <td>0.8</td>\n",
       "      <td>life</td>\n",
       "      <td>2.3</td>\n",
       "      <td>education</td>\n",
       "      <td>2.5</td>\n",
       "      <td>war</td>\n",
       "      <td>1.6</td>\n",
       "      <td>end</td>\n",
       "      <td>1.9</td>\n",
       "      <td>exercise</td>\n",
       "      <td>1.5</td>\n",
       "      <td>old</td>\n",
       "      <td>3.8</td>\n",
       "    </tr>\n",
       "    <tr>\n",
       "      <th>3</th>\n",
       "      <td>year</td>\n",
       "      <td>2.1</td>\n",
       "      <td>god</td>\n",
       "      <td>2.7</td>\n",
       "      <td>political</td>\n",
       "      <td>2.0</td>\n",
       "      <td>fantasy</td>\n",
       "      <td>0.7</td>\n",
       "      <td>science</td>\n",
       "      <td>2.2</td>\n",
       "      <td>science</td>\n",
       "      <td>2.2</td>\n",
       "      <td>work</td>\n",
       "      <td>1.4</td>\n",
       "      <td>novel</td>\n",
       "      <td>1.6</td>\n",
       "      <td>example</td>\n",
       "      <td>1.5</td>\n",
       "      <td>thing</td>\n",
       "      <td>2.6</td>\n",
       "    </tr>\n",
       "    <tr>\n",
       "      <th>4</th>\n",
       "      <td>new</td>\n",
       "      <td>1.9</td>\n",
       "      <td>man</td>\n",
       "      <td>2.3</td>\n",
       "      <td>religious</td>\n",
       "      <td>1.9</td>\n",
       "      <td>plot</td>\n",
       "      <td>0.6</td>\n",
       "      <td>law</td>\n",
       "      <td>1.3</td>\n",
       "      <td>school</td>\n",
       "      <td>1.8</td>\n",
       "      <td>change</td>\n",
       "      <td>1.3</td>\n",
       "      <td>plot</td>\n",
       "      <td>1.1</td>\n",
       "      <td>author</td>\n",
       "      <td>1.4</td>\n",
       "      <td>way</td>\n",
       "      <td>2.3</td>\n",
       "    </tr>\n",
       "    <tr>\n",
       "      <th>5</th>\n",
       "      <td>world</td>\n",
       "      <td>1.8</td>\n",
       "      <td>heal</td>\n",
       "      <td>1.6</td>\n",
       "      <td>government</td>\n",
       "      <td>1.8</td>\n",
       "      <td>help</td>\n",
       "      <td>0.5</td>\n",
       "      <td>evidence</td>\n",
       "      <td>1.3</td>\n",
       "      <td>research</td>\n",
       "      <td>1.7</td>\n",
       "      <td>self</td>\n",
       "      <td>1.2</td>\n",
       "      <td>scene</td>\n",
       "      <td>0.9</td>\n",
       "      <td>version</td>\n",
       "      <td>1.0</td>\n",
       "      <td>recipe</td>\n",
       "      <td>2.2</td>\n",
       "    </tr>\n",
       "    <tr>\n",
       "      <th>6</th>\n",
       "      <td>little</td>\n",
       "      <td>1.8</td>\n",
       "      <td>john</td>\n",
       "      <td>1.6</td>\n",
       "      <td>world</td>\n",
       "      <td>1.8</td>\n",
       "      <td>overall</td>\n",
       "      <td>0.5</td>\n",
       "      <td>sin</td>\n",
       "      <td>1.1</td>\n",
       "      <td>project</td>\n",
       "      <td>1.5</td>\n",
       "      <td>thing</td>\n",
       "      <td>1.1</td>\n",
       "      <td>reader</td>\n",
       "      <td>0.9</td>\n",
       "      <td>section</td>\n",
       "      <td>0.9</td>\n",
       "      <td>cook</td>\n",
       "      <td>1.9</td>\n",
       "    </tr>\n",
       "    <tr>\n",
       "      <th>7</th>\n",
       "      <td>life</td>\n",
       "      <td>1.8</td>\n",
       "      <td>fresh</td>\n",
       "      <td>1.5</td>\n",
       "      <td>religion</td>\n",
       "      <td>1.6</td>\n",
       "      <td>previous</td>\n",
       "      <td>0.5</td>\n",
       "      <td>scientific</td>\n",
       "      <td>1.0</td>\n",
       "      <td>classroom</td>\n",
       "      <td>1.4</td>\n",
       "      <td>way</td>\n",
       "      <td>1.0</td>\n",
       "      <td>main</td>\n",
       "      <td>0.7</td>\n",
       "      <td>color</td>\n",
       "      <td>0.9</td>\n",
       "      <td>help</td>\n",
       "      <td>1.7</td>\n",
       "    </tr>\n",
       "    <tr>\n",
       "      <th>8</th>\n",
       "      <td>series</td>\n",
       "      <td>1.7</td>\n",
       "      <td>imagination</td>\n",
       "      <td>1.5</td>\n",
       "      <td>test</td>\n",
       "      <td>1.3</td>\n",
       "      <td>world</td>\n",
       "      <td>0.4</td>\n",
       "      <td>system</td>\n",
       "      <td>0.8</td>\n",
       "      <td>work</td>\n",
       "      <td>1.4</td>\n",
       "      <td>japanese</td>\n",
       "      <td>1.0</td>\n",
       "      <td>problem</td>\n",
       "      <td>0.6</td>\n",
       "      <td>print</td>\n",
       "      <td>0.8</td>\n",
       "      <td>exercise</td>\n",
       "      <td>1.3</td>\n",
       "    </tr>\n",
       "    <tr>\n",
       "      <th>9</th>\n",
       "      <td>work</td>\n",
       "      <td>1.6</td>\n",
       "      <td>false</td>\n",
       "      <td>1.4</td>\n",
       "      <td>anti</td>\n",
       "      <td>1.3</td>\n",
       "      <td>end</td>\n",
       "      <td>0.4</td>\n",
       "      <td>new</td>\n",
       "      <td>0.8</td>\n",
       "      <td>direct</td>\n",
       "      <td>1.3</td>\n",
       "      <td>new</td>\n",
       "      <td>0.8</td>\n",
       "      <td>lot</td>\n",
       "      <td>0.6</td>\n",
       "      <td>understand</td>\n",
       "      <td>0.8</td>\n",
       "      <td>easy</td>\n",
       "      <td>1.3</td>\n",
       "    </tr>\n",
       "  </tbody>\n",
       "</table>\n",
       "</div>"
      ],
      "text/plain": [
       "  Topic 0 words Topic 0 weights Topic 1 words Topic 1 weights Topic 2 words  \\\n",
       "0        author             3.2         jesus             5.4          fine   \n",
       "1           way             2.3        memory             4.8      violence   \n",
       "2           day             2.2          word             3.7        social   \n",
       "3          year             2.1           god             2.7     political   \n",
       "4           new             1.9           man             2.3     religious   \n",
       "5         world             1.8          heal             1.6    government   \n",
       "6        little             1.8          john             1.6         world   \n",
       "7          life             1.8         fresh             1.5      religion   \n",
       "8        series             1.7   imagination             1.5          test   \n",
       "9          work             1.6         false             1.4          anti   \n",
       "\n",
       "  Topic 2 weights Topic 3 words Topic 3 weights Topic 4 words Topic 4 weights  \\\n",
       "0             4.9         heart             7.2           god             6.7   \n",
       "1             2.8           red             6.4      universe             3.6   \n",
       "2             2.6           way             0.8          life             2.3   \n",
       "3             2.0       fantasy             0.7       science             2.2   \n",
       "4             1.9          plot             0.6           law             1.3   \n",
       "5             1.8          help             0.5      evidence             1.3   \n",
       "6             1.8       overall             0.5           sin             1.1   \n",
       "7             1.6      previous             0.5    scientific             1.0   \n",
       "8             1.3         world             0.4        system             0.8   \n",
       "9             1.3           end             0.4           new             0.8   \n",
       "\n",
       "  Topic 5 words Topic 5 weights Topic 6 words Topic 6 weights Topic 7 words  \\\n",
       "0       teacher             3.1          life             9.9     character   \n",
       "1      practice             3.0          live             1.8        series   \n",
       "2     education             2.5           war             1.6           end   \n",
       "3       science             2.2          work             1.4         novel   \n",
       "4        school             1.8        change             1.3          plot   \n",
       "5      research             1.7          self             1.2         scene   \n",
       "6       project             1.5         thing             1.1        reader   \n",
       "7     classroom             1.4           way             1.0          main   \n",
       "8          work             1.4      japanese             1.0       problem   \n",
       "9        direct             1.3           new             0.8           lot   \n",
       "\n",
       "  Topic 7 weights Topic 8 words Topic 8 weights Topic 9 words Topic 9 weights  \n",
       "0             7.6          page            10.7          year             5.9  \n",
       "1             4.6       chapter             4.7          work             4.6  \n",
       "2             1.9      exercise             1.5           old             3.8  \n",
       "3             1.6       example             1.5         thing             2.6  \n",
       "4             1.1        author             1.4           way             2.3  \n",
       "5             0.9       version             1.0        recipe             2.2  \n",
       "6             0.9       section             0.9          cook             1.9  \n",
       "7             0.7         color             0.9          help             1.7  \n",
       "8             0.6         print             0.8      exercise             1.3  \n",
       "9             0.6    understand             0.8          easy             1.3  "
      ]
     },
     "execution_count": 306,
     "metadata": {},
     "output_type": "execute_result"
    }
   ],
   "source": [
    "display_topics(NMF_tf, tf_feature_names, 10)\n"
   ]
  },
  {
   "cell_type": "code",
   "execution_count": 308,
   "metadata": {},
   "outputs": [
    {
     "data": {
      "application/vnd.plotly.v1+json": {
       "config": {
        "plotlyServerURL": "https://plot.ly"
       },
       "data": [
        {
         "marker": {
          "color": "Blue"
         },
         "orientation": "h",
         "type": "bar",
         "x": [
          3.2,
          2.3,
          2.2,
          2.1,
          1.9,
          1.8,
          1.8,
          1.8,
          1.7,
          1.6
         ],
         "xaxis": "x",
         "y": [
          "author",
          "way",
          "day",
          "year",
          "new",
          "world",
          "little",
          "life",
          "series",
          "work"
         ],
         "yaxis": "y"
        },
        {
         "marker": {
          "color": "Pink"
         },
         "orientation": "h",
         "type": "bar",
         "x": [
          5.4,
          4.8,
          3.7,
          2.7,
          2.3,
          1.6,
          1.6,
          1.5,
          1.5,
          1.4
         ],
         "xaxis": "x3",
         "y": [
          "jesus",
          "memory",
          "word",
          "god",
          "man",
          "heal",
          "john",
          "fresh",
          "imagination",
          "false"
         ],
         "yaxis": "y3"
        },
        {
         "marker": {
          "color": "SeaGreen"
         },
         "orientation": "h",
         "type": "bar",
         "x": [
          4.9,
          2.8,
          2.6,
          2,
          1.9,
          1.8,
          1.8,
          1.6,
          1.3,
          1.3
         ],
         "xaxis": "x5",
         "y": [
          "fine",
          "violence",
          "social",
          "political",
          "religious",
          "government",
          "world",
          "religion",
          "test",
          "anti"
         ],
         "yaxis": "y5"
        },
        {
         "marker": {
          "color": "Orange"
         },
         "orientation": "h",
         "type": "bar",
         "x": [
          7.2,
          6.4,
          0.8,
          0.7,
          0.6,
          0.5,
          0.5,
          0.5,
          0.4,
          0.4
         ],
         "xaxis": "x7",
         "y": [
          "heart",
          "red",
          "way",
          "fantasy",
          "plot",
          "help",
          "overall",
          "previous",
          "world",
          "end"
         ],
         "yaxis": "y7"
        },
        {
         "marker": {
          "color": "Grey"
         },
         "orientation": "h",
         "type": "bar",
         "x": [
          6.7,
          3.6,
          2.3,
          2.2,
          1.3,
          1.3,
          1.1,
          1,
          0.8,
          0.8
         ],
         "xaxis": "x9",
         "y": [
          "god",
          "universe",
          "life",
          "science",
          "law",
          "evidence",
          "sin",
          "scientific",
          "system",
          "new"
         ],
         "yaxis": "y9"
        },
        {
         "marker": {
          "color": "Purple"
         },
         "orientation": "h",
         "type": "bar",
         "x": [
          3.1,
          3,
          2.5,
          2.2,
          1.8,
          1.7,
          1.5,
          1.4,
          1.4,
          1.3
         ],
         "xaxis": "x2",
         "y": [
          "teacher",
          "practice",
          "education",
          "science",
          "school",
          "research",
          "project",
          "classroom",
          "work",
          "direct"
         ],
         "yaxis": "y2"
        },
        {
         "marker": {
          "color": "Red"
         },
         "orientation": "h",
         "type": "bar",
         "x": [
          9.9,
          1.8,
          1.6,
          1.4,
          1.3,
          1.2,
          1.1,
          1,
          1,
          0.8
         ],
         "xaxis": "x4",
         "y": [
          "life",
          "live",
          "war",
          "work",
          "change",
          "self",
          "thing",
          "way",
          "japanese",
          "new"
         ],
         "yaxis": "y4"
        },
        {
         "marker": {
          "color": "LightBlue"
         },
         "orientation": "h",
         "type": "bar",
         "x": [
          7.6,
          4.6,
          1.9,
          1.6,
          1.1,
          0.9,
          0.9,
          0.7,
          0.6,
          0.6
         ],
         "xaxis": "x6",
         "y": [
          "character",
          "series",
          "end",
          "novel",
          "plot",
          "scene",
          "reader",
          "main",
          "problem",
          "lot"
         ],
         "yaxis": "y6"
        },
        {
         "marker": {
          "color": "LightGreen"
         },
         "orientation": "h",
         "type": "bar",
         "x": [
          10.7,
          4.7,
          1.5,
          1.5,
          1.4,
          1,
          0.9,
          0.9,
          0.8,
          0.8
         ],
         "xaxis": "x8",
         "y": [
          "page",
          "chapter",
          "exercise",
          "example",
          "author",
          "version",
          "section",
          "color",
          "print",
          "understand"
         ],
         "yaxis": "y8"
        },
        {
         "marker": {
          "color": "DarkRed"
         },
         "orientation": "h",
         "type": "bar",
         "x": [
          5.9,
          4.6,
          3.8,
          2.6,
          2.3,
          2.2,
          1.9,
          1.7,
          1.3,
          1.3
         ],
         "xaxis": "x10",
         "y": [
          "year",
          "work",
          "old",
          "thing",
          "way",
          "recipe",
          "cook",
          "help",
          "exercise",
          "easy"
         ],
         "yaxis": "y10"
        }
       ],
       "layout": {
        "annotations": [
         {
          "font": {
           "size": 16
          },
          "showarrow": false,
          "text": "Topic 1",
          "x": 0.225,
          "xanchor": "center",
          "xref": "paper",
          "y": 1,
          "yanchor": "bottom",
          "yref": "paper"
         },
         {
          "font": {
           "size": 16
          },
          "showarrow": false,
          "text": "Topic 6",
          "x": 0.775,
          "xanchor": "center",
          "xref": "paper",
          "y": 1,
          "yanchor": "bottom",
          "yref": "paper"
         },
         {
          "font": {
           "size": 16
          },
          "showarrow": false,
          "text": "Topic 2",
          "x": 0.225,
          "xanchor": "center",
          "xref": "paper",
          "y": 0.78,
          "yanchor": "bottom",
          "yref": "paper"
         },
         {
          "font": {
           "size": 16
          },
          "showarrow": false,
          "text": "Topic 7",
          "x": 0.775,
          "xanchor": "center",
          "xref": "paper",
          "y": 0.78,
          "yanchor": "bottom",
          "yref": "paper"
         },
         {
          "font": {
           "size": 16
          },
          "showarrow": false,
          "text": "Topic 3",
          "x": 0.225,
          "xanchor": "center",
          "xref": "paper",
          "y": 0.56,
          "yanchor": "bottom",
          "yref": "paper"
         },
         {
          "font": {
           "size": 16
          },
          "showarrow": false,
          "text": "Topic 8",
          "x": 0.775,
          "xanchor": "center",
          "xref": "paper",
          "y": 0.56,
          "yanchor": "bottom",
          "yref": "paper"
         },
         {
          "font": {
           "size": 16
          },
          "showarrow": false,
          "text": "Topic 4",
          "x": 0.225,
          "xanchor": "center",
          "xref": "paper",
          "y": 0.33999999999999997,
          "yanchor": "bottom",
          "yref": "paper"
         },
         {
          "font": {
           "size": 16
          },
          "showarrow": false,
          "text": "Topic 9",
          "x": 0.775,
          "xanchor": "center",
          "xref": "paper",
          "y": 0.33999999999999997,
          "yanchor": "bottom",
          "yref": "paper"
         },
         {
          "font": {
           "size": 16
          },
          "showarrow": false,
          "text": "Topic 5",
          "x": 0.225,
          "xanchor": "center",
          "xref": "paper",
          "y": 0.12,
          "yanchor": "bottom",
          "yref": "paper"
         },
         {
          "font": {
           "size": 16
          },
          "showarrow": false,
          "text": "Topic 10",
          "x": 0.775,
          "xanchor": "center",
          "xref": "paper",
          "y": 0.12,
          "yanchor": "bottom",
          "yref": "paper"
         }
        ],
        "height": 1400,
        "showlegend": false,
        "template": {
         "data": {
          "bar": [
           {
            "error_x": {
             "color": "#2a3f5f"
            },
            "error_y": {
             "color": "#2a3f5f"
            },
            "marker": {
             "line": {
              "color": "#E5ECF6",
              "width": 0.5
             },
             "pattern": {
              "fillmode": "overlay",
              "size": 10,
              "solidity": 0.2
             }
            },
            "type": "bar"
           }
          ],
          "barpolar": [
           {
            "marker": {
             "line": {
              "color": "#E5ECF6",
              "width": 0.5
             },
             "pattern": {
              "fillmode": "overlay",
              "size": 10,
              "solidity": 0.2
             }
            },
            "type": "barpolar"
           }
          ],
          "carpet": [
           {
            "aaxis": {
             "endlinecolor": "#2a3f5f",
             "gridcolor": "white",
             "linecolor": "white",
             "minorgridcolor": "white",
             "startlinecolor": "#2a3f5f"
            },
            "baxis": {
             "endlinecolor": "#2a3f5f",
             "gridcolor": "white",
             "linecolor": "white",
             "minorgridcolor": "white",
             "startlinecolor": "#2a3f5f"
            },
            "type": "carpet"
           }
          ],
          "choropleth": [
           {
            "colorbar": {
             "outlinewidth": 0,
             "ticks": ""
            },
            "type": "choropleth"
           }
          ],
          "contour": [
           {
            "colorbar": {
             "outlinewidth": 0,
             "ticks": ""
            },
            "colorscale": [
             [
              0,
              "#0d0887"
             ],
             [
              0.1111111111111111,
              "#46039f"
             ],
             [
              0.2222222222222222,
              "#7201a8"
             ],
             [
              0.3333333333333333,
              "#9c179e"
             ],
             [
              0.4444444444444444,
              "#bd3786"
             ],
             [
              0.5555555555555556,
              "#d8576b"
             ],
             [
              0.6666666666666666,
              "#ed7953"
             ],
             [
              0.7777777777777778,
              "#fb9f3a"
             ],
             [
              0.8888888888888888,
              "#fdca26"
             ],
             [
              1,
              "#f0f921"
             ]
            ],
            "type": "contour"
           }
          ],
          "contourcarpet": [
           {
            "colorbar": {
             "outlinewidth": 0,
             "ticks": ""
            },
            "type": "contourcarpet"
           }
          ],
          "heatmap": [
           {
            "colorbar": {
             "outlinewidth": 0,
             "ticks": ""
            },
            "colorscale": [
             [
              0,
              "#0d0887"
             ],
             [
              0.1111111111111111,
              "#46039f"
             ],
             [
              0.2222222222222222,
              "#7201a8"
             ],
             [
              0.3333333333333333,
              "#9c179e"
             ],
             [
              0.4444444444444444,
              "#bd3786"
             ],
             [
              0.5555555555555556,
              "#d8576b"
             ],
             [
              0.6666666666666666,
              "#ed7953"
             ],
             [
              0.7777777777777778,
              "#fb9f3a"
             ],
             [
              0.8888888888888888,
              "#fdca26"
             ],
             [
              1,
              "#f0f921"
             ]
            ],
            "type": "heatmap"
           }
          ],
          "heatmapgl": [
           {
            "colorbar": {
             "outlinewidth": 0,
             "ticks": ""
            },
            "colorscale": [
             [
              0,
              "#0d0887"
             ],
             [
              0.1111111111111111,
              "#46039f"
             ],
             [
              0.2222222222222222,
              "#7201a8"
             ],
             [
              0.3333333333333333,
              "#9c179e"
             ],
             [
              0.4444444444444444,
              "#bd3786"
             ],
             [
              0.5555555555555556,
              "#d8576b"
             ],
             [
              0.6666666666666666,
              "#ed7953"
             ],
             [
              0.7777777777777778,
              "#fb9f3a"
             ],
             [
              0.8888888888888888,
              "#fdca26"
             ],
             [
              1,
              "#f0f921"
             ]
            ],
            "type": "heatmapgl"
           }
          ],
          "histogram": [
           {
            "marker": {
             "pattern": {
              "fillmode": "overlay",
              "size": 10,
              "solidity": 0.2
             }
            },
            "type": "histogram"
           }
          ],
          "histogram2d": [
           {
            "colorbar": {
             "outlinewidth": 0,
             "ticks": ""
            },
            "colorscale": [
             [
              0,
              "#0d0887"
             ],
             [
              0.1111111111111111,
              "#46039f"
             ],
             [
              0.2222222222222222,
              "#7201a8"
             ],
             [
              0.3333333333333333,
              "#9c179e"
             ],
             [
              0.4444444444444444,
              "#bd3786"
             ],
             [
              0.5555555555555556,
              "#d8576b"
             ],
             [
              0.6666666666666666,
              "#ed7953"
             ],
             [
              0.7777777777777778,
              "#fb9f3a"
             ],
             [
              0.8888888888888888,
              "#fdca26"
             ],
             [
              1,
              "#f0f921"
             ]
            ],
            "type": "histogram2d"
           }
          ],
          "histogram2dcontour": [
           {
            "colorbar": {
             "outlinewidth": 0,
             "ticks": ""
            },
            "colorscale": [
             [
              0,
              "#0d0887"
             ],
             [
              0.1111111111111111,
              "#46039f"
             ],
             [
              0.2222222222222222,
              "#7201a8"
             ],
             [
              0.3333333333333333,
              "#9c179e"
             ],
             [
              0.4444444444444444,
              "#bd3786"
             ],
             [
              0.5555555555555556,
              "#d8576b"
             ],
             [
              0.6666666666666666,
              "#ed7953"
             ],
             [
              0.7777777777777778,
              "#fb9f3a"
             ],
             [
              0.8888888888888888,
              "#fdca26"
             ],
             [
              1,
              "#f0f921"
             ]
            ],
            "type": "histogram2dcontour"
           }
          ],
          "mesh3d": [
           {
            "colorbar": {
             "outlinewidth": 0,
             "ticks": ""
            },
            "type": "mesh3d"
           }
          ],
          "parcoords": [
           {
            "line": {
             "colorbar": {
              "outlinewidth": 0,
              "ticks": ""
             }
            },
            "type": "parcoords"
           }
          ],
          "pie": [
           {
            "automargin": true,
            "type": "pie"
           }
          ],
          "scatter": [
           {
            "marker": {
             "colorbar": {
              "outlinewidth": 0,
              "ticks": ""
             }
            },
            "type": "scatter"
           }
          ],
          "scatter3d": [
           {
            "line": {
             "colorbar": {
              "outlinewidth": 0,
              "ticks": ""
             }
            },
            "marker": {
             "colorbar": {
              "outlinewidth": 0,
              "ticks": ""
             }
            },
            "type": "scatter3d"
           }
          ],
          "scattercarpet": [
           {
            "marker": {
             "colorbar": {
              "outlinewidth": 0,
              "ticks": ""
             }
            },
            "type": "scattercarpet"
           }
          ],
          "scattergeo": [
           {
            "marker": {
             "colorbar": {
              "outlinewidth": 0,
              "ticks": ""
             }
            },
            "type": "scattergeo"
           }
          ],
          "scattergl": [
           {
            "marker": {
             "colorbar": {
              "outlinewidth": 0,
              "ticks": ""
             }
            },
            "type": "scattergl"
           }
          ],
          "scattermapbox": [
           {
            "marker": {
             "colorbar": {
              "outlinewidth": 0,
              "ticks": ""
             }
            },
            "type": "scattermapbox"
           }
          ],
          "scatterpolar": [
           {
            "marker": {
             "colorbar": {
              "outlinewidth": 0,
              "ticks": ""
             }
            },
            "type": "scatterpolar"
           }
          ],
          "scatterpolargl": [
           {
            "marker": {
             "colorbar": {
              "outlinewidth": 0,
              "ticks": ""
             }
            },
            "type": "scatterpolargl"
           }
          ],
          "scatterternary": [
           {
            "marker": {
             "colorbar": {
              "outlinewidth": 0,
              "ticks": ""
             }
            },
            "type": "scatterternary"
           }
          ],
          "surface": [
           {
            "colorbar": {
             "outlinewidth": 0,
             "ticks": ""
            },
            "colorscale": [
             [
              0,
              "#0d0887"
             ],
             [
              0.1111111111111111,
              "#46039f"
             ],
             [
              0.2222222222222222,
              "#7201a8"
             ],
             [
              0.3333333333333333,
              "#9c179e"
             ],
             [
              0.4444444444444444,
              "#bd3786"
             ],
             [
              0.5555555555555556,
              "#d8576b"
             ],
             [
              0.6666666666666666,
              "#ed7953"
             ],
             [
              0.7777777777777778,
              "#fb9f3a"
             ],
             [
              0.8888888888888888,
              "#fdca26"
             ],
             [
              1,
              "#f0f921"
             ]
            ],
            "type": "surface"
           }
          ],
          "table": [
           {
            "cells": {
             "fill": {
              "color": "#EBF0F8"
             },
             "line": {
              "color": "white"
             }
            },
            "header": {
             "fill": {
              "color": "#C8D4E3"
             },
             "line": {
              "color": "white"
             }
            },
            "type": "table"
           }
          ]
         },
         "layout": {
          "annotationdefaults": {
           "arrowcolor": "#2a3f5f",
           "arrowhead": 0,
           "arrowwidth": 1
          },
          "autotypenumbers": "strict",
          "coloraxis": {
           "colorbar": {
            "outlinewidth": 0,
            "ticks": ""
           }
          },
          "colorscale": {
           "diverging": [
            [
             0,
             "#8e0152"
            ],
            [
             0.1,
             "#c51b7d"
            ],
            [
             0.2,
             "#de77ae"
            ],
            [
             0.3,
             "#f1b6da"
            ],
            [
             0.4,
             "#fde0ef"
            ],
            [
             0.5,
             "#f7f7f7"
            ],
            [
             0.6,
             "#e6f5d0"
            ],
            [
             0.7,
             "#b8e186"
            ],
            [
             0.8,
             "#7fbc41"
            ],
            [
             0.9,
             "#4d9221"
            ],
            [
             1,
             "#276419"
            ]
           ],
           "sequential": [
            [
             0,
             "#0d0887"
            ],
            [
             0.1111111111111111,
             "#46039f"
            ],
            [
             0.2222222222222222,
             "#7201a8"
            ],
            [
             0.3333333333333333,
             "#9c179e"
            ],
            [
             0.4444444444444444,
             "#bd3786"
            ],
            [
             0.5555555555555556,
             "#d8576b"
            ],
            [
             0.6666666666666666,
             "#ed7953"
            ],
            [
             0.7777777777777778,
             "#fb9f3a"
            ],
            [
             0.8888888888888888,
             "#fdca26"
            ],
            [
             1,
             "#f0f921"
            ]
           ],
           "sequentialminus": [
            [
             0,
             "#0d0887"
            ],
            [
             0.1111111111111111,
             "#46039f"
            ],
            [
             0.2222222222222222,
             "#7201a8"
            ],
            [
             0.3333333333333333,
             "#9c179e"
            ],
            [
             0.4444444444444444,
             "#bd3786"
            ],
            [
             0.5555555555555556,
             "#d8576b"
            ],
            [
             0.6666666666666666,
             "#ed7953"
            ],
            [
             0.7777777777777778,
             "#fb9f3a"
            ],
            [
             0.8888888888888888,
             "#fdca26"
            ],
            [
             1,
             "#f0f921"
            ]
           ]
          },
          "colorway": [
           "#636efa",
           "#EF553B",
           "#00cc96",
           "#ab63fa",
           "#FFA15A",
           "#19d3f3",
           "#FF6692",
           "#B6E880",
           "#FF97FF",
           "#FECB52"
          ],
          "font": {
           "color": "#2a3f5f"
          },
          "geo": {
           "bgcolor": "white",
           "lakecolor": "white",
           "landcolor": "#E5ECF6",
           "showlakes": true,
           "showland": true,
           "subunitcolor": "white"
          },
          "hoverlabel": {
           "align": "left"
          },
          "hovermode": "closest",
          "mapbox": {
           "style": "light"
          },
          "paper_bgcolor": "white",
          "plot_bgcolor": "#E5ECF6",
          "polar": {
           "angularaxis": {
            "gridcolor": "white",
            "linecolor": "white",
            "ticks": ""
           },
           "bgcolor": "#E5ECF6",
           "radialaxis": {
            "gridcolor": "white",
            "linecolor": "white",
            "ticks": ""
           }
          },
          "scene": {
           "xaxis": {
            "backgroundcolor": "#E5ECF6",
            "gridcolor": "white",
            "gridwidth": 2,
            "linecolor": "white",
            "showbackground": true,
            "ticks": "",
            "zerolinecolor": "white"
           },
           "yaxis": {
            "backgroundcolor": "#E5ECF6",
            "gridcolor": "white",
            "gridwidth": 2,
            "linecolor": "white",
            "showbackground": true,
            "ticks": "",
            "zerolinecolor": "white"
           },
           "zaxis": {
            "backgroundcolor": "#E5ECF6",
            "gridcolor": "white",
            "gridwidth": 2,
            "linecolor": "white",
            "showbackground": true,
            "ticks": "",
            "zerolinecolor": "white"
           }
          },
          "shapedefaults": {
           "line": {
            "color": "#2a3f5f"
           }
          },
          "ternary": {
           "aaxis": {
            "gridcolor": "white",
            "linecolor": "white",
            "ticks": ""
           },
           "baxis": {
            "gridcolor": "white",
            "linecolor": "white",
            "ticks": ""
           },
           "bgcolor": "#E5ECF6",
           "caxis": {
            "gridcolor": "white",
            "linecolor": "white",
            "ticks": ""
           }
          },
          "title": {
           "x": 0.05
          },
          "xaxis": {
           "automargin": true,
           "gridcolor": "white",
           "linecolor": "white",
           "ticks": "",
           "title": {
            "standoff": 15
           },
           "zerolinecolor": "white",
           "zerolinewidth": 2
          },
          "yaxis": {
           "automargin": true,
           "gridcolor": "white",
           "linecolor": "white",
           "ticks": "",
           "title": {
            "standoff": 15
           },
           "zerolinecolor": "white",
           "zerolinewidth": 2
          }
         }
        },
        "title": {
         "text": "NMF TF - Topic Keywords ranked by Weight"
        },
        "width": 1200,
        "xaxis": {
         "anchor": "y",
         "domain": [
          0,
          0.45
         ],
         "range": [
          0,
          10
         ],
         "title": {
          "text": "Weight"
         }
        },
        "xaxis10": {
         "anchor": "y10",
         "domain": [
          0.55,
          1
         ],
         "range": [
          0,
          10
         ],
         "title": {
          "text": "Weight"
         }
        },
        "xaxis2": {
         "anchor": "y2",
         "domain": [
          0.55,
          1
         ],
         "range": [
          0,
          10
         ],
         "title": {
          "text": "Weight"
         }
        },
        "xaxis3": {
         "anchor": "y3",
         "domain": [
          0,
          0.45
         ],
         "range": [
          0,
          10
         ],
         "title": {
          "text": "Weight"
         }
        },
        "xaxis4": {
         "anchor": "y4",
         "domain": [
          0.55,
          1
         ],
         "range": [
          0,
          10
         ],
         "title": {
          "text": "Weight"
         }
        },
        "xaxis5": {
         "anchor": "y5",
         "domain": [
          0,
          0.45
         ],
         "range": [
          0,
          10
         ],
         "title": {
          "text": "Weight"
         }
        },
        "xaxis6": {
         "anchor": "y6",
         "domain": [
          0.55,
          1
         ],
         "range": [
          0,
          10
         ],
         "title": {
          "text": "Weight"
         }
        },
        "xaxis7": {
         "anchor": "y7",
         "domain": [
          0,
          0.45
         ],
         "range": [
          0,
          10
         ],
         "title": {
          "text": "Weight"
         }
        },
        "xaxis8": {
         "anchor": "y8",
         "domain": [
          0.55,
          1
         ],
         "range": [
          0,
          10
         ],
         "title": {
          "text": "Weight"
         }
        },
        "xaxis9": {
         "anchor": "y9",
         "domain": [
          0,
          0.45
         ],
         "range": [
          0,
          10
         ],
         "title": {
          "text": "Weight"
         }
        },
        "yaxis": {
         "anchor": "x",
         "autorange": "reversed",
         "domain": [
          0.88,
          1
         ],
         "title": {
          "text": "Keyword"
         },
         "type": "category"
        },
        "yaxis10": {
         "anchor": "x10",
         "autorange": "reversed",
         "domain": [
          0,
          0.12
         ],
         "title": {
          "text": "Keyword"
         },
         "type": "category"
        },
        "yaxis2": {
         "anchor": "x2",
         "autorange": "reversed",
         "domain": [
          0.88,
          1
         ],
         "title": {
          "text": "Keyword"
         },
         "type": "category"
        },
        "yaxis3": {
         "anchor": "x3",
         "autorange": "reversed",
         "domain": [
          0.66,
          0.78
         ],
         "title": {
          "text": "Keyword"
         },
         "type": "category"
        },
        "yaxis4": {
         "anchor": "x4",
         "autorange": "reversed",
         "domain": [
          0.66,
          0.78
         ],
         "title": {
          "text": "Keyword"
         },
         "type": "category"
        },
        "yaxis5": {
         "anchor": "x5",
         "autorange": "reversed",
         "domain": [
          0.44,
          0.56
         ],
         "title": {
          "text": "Keyword"
         },
         "type": "category"
        },
        "yaxis6": {
         "anchor": "x6",
         "autorange": "reversed",
         "domain": [
          0.44,
          0.56
         ],
         "title": {
          "text": "Keyword"
         },
         "type": "category"
        },
        "yaxis7": {
         "anchor": "x7",
         "autorange": "reversed",
         "domain": [
          0.22,
          0.33999999999999997
         ],
         "title": {
          "text": "Keyword"
         },
         "type": "category"
        },
        "yaxis8": {
         "anchor": "x8",
         "autorange": "reversed",
         "domain": [
          0.22,
          0.33999999999999997
         ],
         "title": {
          "text": "Keyword"
         },
         "type": "category"
        },
        "yaxis9": {
         "anchor": "x9",
         "autorange": "reversed",
         "domain": [
          0,
          0.12
         ],
         "title": {
          "text": "Keyword"
         },
         "type": "category"
        }
       }
      }
     },
     "metadata": {},
     "output_type": "display_data"
    }
   ],
   "source": [
    "data = display_topics(NMF_tf, tf_feature_names, 10)\n",
    "fig = make_subplots(rows=5, cols=2, subplot_titles= [\"Topic 1\", \"Topic 6\", \"Topic 2\",\"Topic 7\", \"Topic 3\",\"Topic 8\",\"Topic 4\",\"Topic 9\", \"Topic 5\", \"Topic 10\"])\n",
    "colors = [\"Blue\", \"Pink\", \"SeaGreen\", \"Orange\", \"Grey\", \"Purple\", \"Red\", \"LightBlue\", \"LightGreen\", \"DarkRed\"]\n",
    "for col in range(0, int(len(data.columns)),2):\n",
    "    if col == 0:\n",
    "        fig.add_trace(go.Bar(\n",
    "        x=data.iloc[:,1].astype(\"float64\"),#.sort_values(ascending=True)\n",
    "        y=data.iloc[:,0], #.sort_values( by= data.columns[col+1], ascending = True)\n",
    "        marker_color=colors[0], orientation = \"h\"), col= 1, row = 1)\n",
    "    if col < 10 and col > 0:\n",
    "        fig.add_trace(go.Bar(\n",
    "        x=data.iloc[:,col+1].astype(\"float64\"),\n",
    "        y=data.iloc[:,col],\n",
    "        marker_color=colors[int(col/2)], orientation = \"h\"), col= 1, row = int(col/2)+1)\n",
    "    if col >= 10:\n",
    "        fig.add_trace(go.Bar(\n",
    "        x=data.iloc[:,col+1].astype(\"float64\"),\n",
    "        y=data.iloc[:,col],\n",
    "        marker_color=colors[int(col/2)], orientation = \"h\"),col= 2, row = int(col/2)-4)\n",
    "\n",
    "fig.update_layout( height=1400, width=1200, title_text=\"NMF TF - Topic Keywords ranked by Weight\", showlegend=False, xaxis_title_text='Keyword',yaxis_title_text='Weight'\n",
    "    )\n",
    "fig.update_yaxes(title='Keyword', type = \"category\" , autorange = \"reversed\")\n",
    "fig.update_xaxes( title = 'Weight', range = (0,10) )\n",
    "fig.show()"
   ]
  },
  {
   "cell_type": "markdown",
   "metadata": {},
   "source": [
    "### NMF TF-IDF"
   ]
  },
  {
   "cell_type": "code",
   "execution_count": 309,
   "metadata": {},
   "outputs": [
    {
     "name": "stderr",
     "output_type": "stream",
     "text": [
      "C:\\Users\\Annelie Schridde\\AppData\\Roaming\\Python\\Python38\\site-packages\\sklearn\\decomposition\\_nmf.py:1466: UserWarning:\n",
      "\n",
      "The multiplicative update ('mu') solver cannot update zeros present in the initialization, and so leads to poorer results when used jointly with init='nndsvd'. You may try init='nndsvda' or init='nndsvdar' instead.\n",
      "\n"
     ]
    }
   ],
   "source": [
    "NMF_tfidf = nmf.fit(tfidf)\n",
    "pickle.dump(NMF_tfidf, open('../models/basemodel_nmf_tfidf.pkl', 'wb')) #save fitted model"
   ]
  },
  {
   "cell_type": "code",
   "execution_count": 310,
   "metadata": {},
   "outputs": [
    {
     "name": "stdout",
     "output_type": "stream",
     "text": [
      "\n",
      "Coherence Score CV:  0.40194805641515413\n",
      "\n",
      "Coherence Score UMass:  -3.745690564789002\n",
      "\n",
      "Coherence Score NPMI:  0.024130478726421097\n",
      "\n",
      "Coherence Score UCI:  -0.36982125544336963\n",
      "\n",
      "Silhouette Score:  -0.08690528493234113\n",
      "\n",
      "Calinski-Harabasz Score:  119.13018673681427\n",
      "\n",
      "Davies-Bouldin Score:  4.854282211438173\n"
     ]
    }
   ],
   "source": [
    "# Evaluation Metrics for whole dataset\n",
    "cv_nmf_tfidf, c_umass_nmf_tfidf, c_npmi_nmf_tfidf, c_uci_nmf_tfidf,  sil_score_nmf_tfidf, ch_index_nmf_tfidf, db_index_nmf_tfidf = evaluation(NMF_tfidf, tfidf_fit, tfidf, tfidf_feature_names, 20, df[\"cut_and_clean\"], dictionary)"
   ]
  },
  {
   "cell_type": "code",
   "execution_count": 311,
   "metadata": {},
   "outputs": [
    {
     "data": {
      "text/html": [
       "<div>\n",
       "<style scoped>\n",
       "    .dataframe tbody tr th:only-of-type {\n",
       "        vertical-align: middle;\n",
       "    }\n",
       "\n",
       "    .dataframe tbody tr th {\n",
       "        vertical-align: top;\n",
       "    }\n",
       "\n",
       "    .dataframe thead th {\n",
       "        text-align: right;\n",
       "    }\n",
       "</style>\n",
       "<table border=\"1\" class=\"dataframe\">\n",
       "  <thead>\n",
       "    <tr style=\"text-align: right;\">\n",
       "      <th></th>\n",
       "      <th>Topic 0 words</th>\n",
       "      <th>Topic 0 weights</th>\n",
       "      <th>Topic 1 words</th>\n",
       "      <th>Topic 1 weights</th>\n",
       "      <th>Topic 2 words</th>\n",
       "      <th>Topic 2 weights</th>\n",
       "      <th>Topic 3 words</th>\n",
       "      <th>Topic 3 weights</th>\n",
       "      <th>Topic 4 words</th>\n",
       "      <th>Topic 4 weights</th>\n",
       "      <th>Topic 5 words</th>\n",
       "      <th>Topic 5 weights</th>\n",
       "      <th>Topic 6 words</th>\n",
       "      <th>Topic 6 weights</th>\n",
       "      <th>Topic 7 words</th>\n",
       "      <th>Topic 7 weights</th>\n",
       "      <th>Topic 8 words</th>\n",
       "      <th>Topic 8 weights</th>\n",
       "      <th>Topic 9 words</th>\n",
       "      <th>Topic 9 weights</th>\n",
       "    </tr>\n",
       "  </thead>\n",
       "  <tbody>\n",
       "    <tr>\n",
       "      <th>0</th>\n",
       "      <td>thank</td>\n",
       "      <td>4.5</td>\n",
       "      <td>easy</td>\n",
       "      <td>1.0</td>\n",
       "      <td>condition</td>\n",
       "      <td>4.0</td>\n",
       "      <td>gift</td>\n",
       "      <td>4.1</td>\n",
       "      <td>series</td>\n",
       "      <td>4.2</td>\n",
       "      <td>wonderful</td>\n",
       "      <td>4.1</td>\n",
       "      <td>nice</td>\n",
       "      <td>3.8</td>\n",
       "      <td>helpful</td>\n",
       "      <td>3.8</td>\n",
       "      <td>enjoy</td>\n",
       "      <td>3.6</td>\n",
       "      <td>perfect</td>\n",
       "      <td>2.2</td>\n",
       "    </tr>\n",
       "    <tr>\n",
       "      <th>1</th>\n",
       "      <td>condition</td>\n",
       "      <td>0.2</td>\n",
       "      <td>lot</td>\n",
       "      <td>0.8</td>\n",
       "      <td>arrive</td>\n",
       "      <td>0.5</td>\n",
       "      <td>christmas</td>\n",
       "      <td>0.2</td>\n",
       "      <td>gift</td>\n",
       "      <td>0.2</td>\n",
       "      <td>author</td>\n",
       "      <td>0.1</td>\n",
       "      <td>wonderful</td>\n",
       "      <td>0.4</td>\n",
       "      <td>informative</td>\n",
       "      <td>0.2</td>\n",
       "      <td>helpful</td>\n",
       "      <td>0.3</td>\n",
       "      <td>old</td>\n",
       "      <td>2.0</td>\n",
       "    </tr>\n",
       "    <tr>\n",
       "      <th>2</th>\n",
       "      <td>service</td>\n",
       "      <td>0.2</td>\n",
       "      <td>work</td>\n",
       "      <td>0.7</td>\n",
       "      <td>perfect</td>\n",
       "      <td>0.4</td>\n",
       "      <td>perfect</td>\n",
       "      <td>0.1</td>\n",
       "      <td>enjoy</td>\n",
       "      <td>0.2</td>\n",
       "      <td>condition</td>\n",
       "      <td>0.1</td>\n",
       "      <td>series</td>\n",
       "      <td>0.2</td>\n",
       "      <td>series</td>\n",
       "      <td>0.2</td>\n",
       "      <td>son</td>\n",
       "      <td>0.2</td>\n",
       "      <td>year</td>\n",
       "      <td>1.9</td>\n",
       "    </tr>\n",
       "    <tr>\n",
       "      <th>3</th>\n",
       "      <td>product</td>\n",
       "      <td>0.2</td>\n",
       "      <td>fun</td>\n",
       "      <td>0.7</td>\n",
       "      <td>describe</td>\n",
       "      <td>0.2</td>\n",
       "      <td>friend</td>\n",
       "      <td>0.1</td>\n",
       "      <td>character</td>\n",
       "      <td>0.1</td>\n",
       "      <td>gift</td>\n",
       "      <td>0.0</td>\n",
       "      <td>picture</td>\n",
       "      <td>0.1</td>\n",
       "      <td>information</td>\n",
       "      <td>0.1</td>\n",
       "      <td>old</td>\n",
       "      <td>0.2</td>\n",
       "      <td>daughter</td>\n",
       "      <td>0.7</td>\n",
       "    </tr>\n",
       "    <tr>\n",
       "      <th>4</th>\n",
       "      <td>item</td>\n",
       "      <td>0.1</td>\n",
       "      <td>information</td>\n",
       "      <td>0.7</td>\n",
       "      <td>price</td>\n",
       "      <td>0.1</td>\n",
       "      <td>purchase</td>\n",
       "      <td>0.1</td>\n",
       "      <td>wait</td>\n",
       "      <td>0.1</td>\n",
       "      <td>message</td>\n",
       "      <td>0.0</td>\n",
       "      <td>quality</td>\n",
       "      <td>0.1</td>\n",
       "      <td>easy</td>\n",
       "      <td>0.1</td>\n",
       "      <td>year</td>\n",
       "      <td>0.2</td>\n",
       "      <td>son</td>\n",
       "      <td>0.3</td>\n",
       "    </tr>\n",
       "    <tr>\n",
       "      <th>5</th>\n",
       "      <td>describe</td>\n",
       "      <td>0.1</td>\n",
       "      <td>author</td>\n",
       "      <td>0.7</td>\n",
       "      <td>receive</td>\n",
       "      <td>0.1</td>\n",
       "      <td>daughter</td>\n",
       "      <td>0.1</td>\n",
       "      <td>favorite</td>\n",
       "      <td>0.1</td>\n",
       "      <td>man</td>\n",
       "      <td>0.0</td>\n",
       "      <td>gift</td>\n",
       "      <td>0.1</td>\n",
       "      <td>guide</td>\n",
       "      <td>0.1</td>\n",
       "      <td>kid</td>\n",
       "      <td>0.1</td>\n",
       "      <td>grandson</td>\n",
       "      <td>0.2</td>\n",
       "    </tr>\n",
       "    <tr>\n",
       "      <th>6</th>\n",
       "      <td>price</td>\n",
       "      <td>0.1</td>\n",
       "      <td>recipe</td>\n",
       "      <td>0.6</td>\n",
       "      <td>come</td>\n",
       "      <td>0.1</td>\n",
       "      <td>husband</td>\n",
       "      <td>0.1</td>\n",
       "      <td>condition</td>\n",
       "      <td>0.1</td>\n",
       "      <td>miss</td>\n",
       "      <td>0.0</td>\n",
       "      <td>calendar</td>\n",
       "      <td>0.0</td>\n",
       "      <td>gift</td>\n",
       "      <td>0.1</td>\n",
       "      <td>reading</td>\n",
       "      <td>0.1</td>\n",
       "      <td>kid</td>\n",
       "      <td>0.2</td>\n",
       "    </tr>\n",
       "    <tr>\n",
       "      <th>7</th>\n",
       "      <td>perfect</td>\n",
       "      <td>0.1</td>\n",
       "      <td>new</td>\n",
       "      <td>0.6</td>\n",
       "      <td>pleased</td>\n",
       "      <td>0.1</td>\n",
       "      <td>birthday</td>\n",
       "      <td>0.1</td>\n",
       "      <td>end</td>\n",
       "      <td>0.1</td>\n",
       "      <td>world</td>\n",
       "      <td>0.0</td>\n",
       "      <td>condition</td>\n",
       "      <td>0.0</td>\n",
       "      <td>study</td>\n",
       "      <td>0.1</td>\n",
       "      <td>nice</td>\n",
       "      <td>0.1</td>\n",
       "      <td>helpful</td>\n",
       "      <td>0.2</td>\n",
       "    </tr>\n",
       "    <tr>\n",
       "      <th>8</th>\n",
       "      <td>new</td>\n",
       "      <td>0.1</td>\n",
       "      <td>life</td>\n",
       "      <td>0.6</td>\n",
       "      <td>brand</td>\n",
       "      <td>0.1</td>\n",
       "      <td>receive</td>\n",
       "      <td>0.1</td>\n",
       "      <td>son</td>\n",
       "      <td>0.1</td>\n",
       "      <td>writer</td>\n",
       "      <td>0.0</td>\n",
       "      <td>addition</td>\n",
       "      <td>0.0</td>\n",
       "      <td>useful</td>\n",
       "      <td>0.1</td>\n",
       "      <td>cute</td>\n",
       "      <td>0.1</td>\n",
       "      <td>favorite</td>\n",
       "      <td>0.1</td>\n",
       "    </tr>\n",
       "    <tr>\n",
       "      <th>9</th>\n",
       "      <td>delivery</td>\n",
       "      <td>0.1</td>\n",
       "      <td>way</td>\n",
       "      <td>0.5</td>\n",
       "      <td>item</td>\n",
       "      <td>0.0</td>\n",
       "      <td>recipient</td>\n",
       "      <td>0.1</td>\n",
       "      <td>entire</td>\n",
       "      <td>0.1</td>\n",
       "      <td>collection</td>\n",
       "      <td>0.0</td>\n",
       "      <td>delivery</td>\n",
       "      <td>0.0</td>\n",
       "      <td>understand</td>\n",
       "      <td>0.1</td>\n",
       "      <td>wonderful</td>\n",
       "      <td>0.1</td>\n",
       "      <td>granddaughter</td>\n",
       "      <td>0.1</td>\n",
       "    </tr>\n",
       "  </tbody>\n",
       "</table>\n",
       "</div>"
      ],
      "text/plain": [
       "  Topic 0 words Topic 0 weights Topic 1 words Topic 1 weights Topic 2 words  \\\n",
       "0         thank             4.5          easy             1.0     condition   \n",
       "1     condition             0.2           lot             0.8        arrive   \n",
       "2       service             0.2          work             0.7       perfect   \n",
       "3       product             0.2           fun             0.7      describe   \n",
       "4          item             0.1   information             0.7         price   \n",
       "5      describe             0.1        author             0.7       receive   \n",
       "6         price             0.1        recipe             0.6          come   \n",
       "7       perfect             0.1           new             0.6       pleased   \n",
       "8           new             0.1          life             0.6         brand   \n",
       "9      delivery             0.1           way             0.5          item   \n",
       "\n",
       "  Topic 2 weights Topic 3 words Topic 3 weights Topic 4 words Topic 4 weights  \\\n",
       "0             4.0          gift             4.1        series             4.2   \n",
       "1             0.5     christmas             0.2          gift             0.2   \n",
       "2             0.4       perfect             0.1         enjoy             0.2   \n",
       "3             0.2        friend             0.1     character             0.1   \n",
       "4             0.1      purchase             0.1          wait             0.1   \n",
       "5             0.1      daughter             0.1      favorite             0.1   \n",
       "6             0.1       husband             0.1     condition             0.1   \n",
       "7             0.1      birthday             0.1           end             0.1   \n",
       "8             0.1       receive             0.1           son             0.1   \n",
       "9             0.0     recipient             0.1        entire             0.1   \n",
       "\n",
       "  Topic 5 words Topic 5 weights Topic 6 words Topic 6 weights Topic 7 words  \\\n",
       "0     wonderful             4.1          nice             3.8       helpful   \n",
       "1        author             0.1     wonderful             0.4   informative   \n",
       "2     condition             0.1        series             0.2        series   \n",
       "3          gift             0.0       picture             0.1   information   \n",
       "4       message             0.0       quality             0.1          easy   \n",
       "5           man             0.0          gift             0.1         guide   \n",
       "6          miss             0.0      calendar             0.0          gift   \n",
       "7         world             0.0     condition             0.0         study   \n",
       "8        writer             0.0      addition             0.0        useful   \n",
       "9    collection             0.0      delivery             0.0    understand   \n",
       "\n",
       "  Topic 7 weights Topic 8 words Topic 8 weights  Topic 9 words Topic 9 weights  \n",
       "0             3.8         enjoy             3.6        perfect             2.2  \n",
       "1             0.2       helpful             0.3            old             2.0  \n",
       "2             0.2           son             0.2           year             1.9  \n",
       "3             0.1           old             0.2       daughter             0.7  \n",
       "4             0.1          year             0.2            son             0.3  \n",
       "5             0.1           kid             0.1       grandson             0.2  \n",
       "6             0.1       reading             0.1            kid             0.2  \n",
       "7             0.1          nice             0.1        helpful             0.2  \n",
       "8             0.1          cute             0.1       favorite             0.1  \n",
       "9             0.1     wonderful             0.1  granddaughter             0.1  "
      ]
     },
     "execution_count": 311,
     "metadata": {},
     "output_type": "execute_result"
    }
   ],
   "source": [
    "display_topics(NMF_tfidf, tfidf_feature_names, 10)"
   ]
  },
  {
   "cell_type": "code",
   "execution_count": 312,
   "metadata": {},
   "outputs": [
    {
     "data": {
      "application/vnd.plotly.v1+json": {
       "config": {
        "plotlyServerURL": "https://plot.ly"
       },
       "data": [
        {
         "marker": {
          "color": "Blue"
         },
         "orientation": "h",
         "type": "bar",
         "x": [
          4.5,
          0.2,
          0.2,
          0.2,
          0.1,
          0.1,
          0.1,
          0.1,
          0.1,
          0.1
         ],
         "xaxis": "x",
         "y": [
          "thank",
          "condition",
          "service",
          "product",
          "item",
          "describe",
          "price",
          "perfect",
          "new",
          "delivery"
         ],
         "yaxis": "y"
        },
        {
         "marker": {
          "color": "Pink"
         },
         "orientation": "h",
         "type": "bar",
         "x": [
          1,
          0.8,
          0.7,
          0.7,
          0.7,
          0.7,
          0.6,
          0.6,
          0.6,
          0.5
         ],
         "xaxis": "x3",
         "y": [
          "easy",
          "lot",
          "work",
          "fun",
          "information",
          "author",
          "recipe",
          "new",
          "life",
          "way"
         ],
         "yaxis": "y3"
        },
        {
         "marker": {
          "color": "SeaGreen"
         },
         "orientation": "h",
         "type": "bar",
         "x": [
          4,
          0.5,
          0.4,
          0.2,
          0.1,
          0.1,
          0.1,
          0.1,
          0.1,
          0
         ],
         "xaxis": "x5",
         "y": [
          "condition",
          "arrive",
          "perfect",
          "describe",
          "price",
          "receive",
          "come",
          "pleased",
          "brand",
          "item"
         ],
         "yaxis": "y5"
        },
        {
         "marker": {
          "color": "Orange"
         },
         "orientation": "h",
         "type": "bar",
         "x": [
          4.1,
          0.2,
          0.1,
          0.1,
          0.1,
          0.1,
          0.1,
          0.1,
          0.1,
          0.1
         ],
         "xaxis": "x7",
         "y": [
          "gift",
          "christmas",
          "perfect",
          "friend",
          "purchase",
          "daughter",
          "husband",
          "birthday",
          "receive",
          "recipient"
         ],
         "yaxis": "y7"
        },
        {
         "marker": {
          "color": "Grey"
         },
         "orientation": "h",
         "type": "bar",
         "x": [
          4.2,
          0.2,
          0.2,
          0.1,
          0.1,
          0.1,
          0.1,
          0.1,
          0.1,
          0.1
         ],
         "xaxis": "x9",
         "y": [
          "series",
          "gift",
          "enjoy",
          "character",
          "wait",
          "favorite",
          "condition",
          "end",
          "son",
          "entire"
         ],
         "yaxis": "y9"
        },
        {
         "marker": {
          "color": "Purple"
         },
         "orientation": "h",
         "type": "bar",
         "x": [
          4.1,
          0.1,
          0.1,
          0,
          0,
          0,
          0,
          0,
          0,
          0
         ],
         "xaxis": "x2",
         "y": [
          "wonderful",
          "author",
          "condition",
          "gift",
          "message",
          "man",
          "miss",
          "world",
          "writer",
          "collection"
         ],
         "yaxis": "y2"
        },
        {
         "marker": {
          "color": "Red"
         },
         "orientation": "h",
         "type": "bar",
         "x": [
          3.8,
          0.4,
          0.2,
          0.1,
          0.1,
          0.1,
          0,
          0,
          0,
          0
         ],
         "xaxis": "x4",
         "y": [
          "nice",
          "wonderful",
          "series",
          "picture",
          "quality",
          "gift",
          "calendar",
          "condition",
          "addition",
          "delivery"
         ],
         "yaxis": "y4"
        },
        {
         "marker": {
          "color": "LightBlue"
         },
         "orientation": "h",
         "type": "bar",
         "x": [
          3.8,
          0.2,
          0.2,
          0.1,
          0.1,
          0.1,
          0.1,
          0.1,
          0.1,
          0.1
         ],
         "xaxis": "x6",
         "y": [
          "helpful",
          "informative",
          "series",
          "information",
          "easy",
          "guide",
          "gift",
          "study",
          "useful",
          "understand"
         ],
         "yaxis": "y6"
        },
        {
         "marker": {
          "color": "LightGreen"
         },
         "orientation": "h",
         "type": "bar",
         "x": [
          3.6,
          0.3,
          0.2,
          0.2,
          0.2,
          0.1,
          0.1,
          0.1,
          0.1,
          0.1
         ],
         "xaxis": "x8",
         "y": [
          "enjoy",
          "helpful",
          "son",
          "old",
          "year",
          "kid",
          "reading",
          "nice",
          "cute",
          "wonderful"
         ],
         "yaxis": "y8"
        },
        {
         "marker": {
          "color": "DarkRed"
         },
         "orientation": "h",
         "type": "bar",
         "x": [
          2.2,
          2,
          1.9,
          0.7,
          0.3,
          0.2,
          0.2,
          0.2,
          0.1,
          0.1
         ],
         "xaxis": "x10",
         "y": [
          "perfect",
          "old",
          "year",
          "daughter",
          "son",
          "grandson",
          "kid",
          "helpful",
          "favorite",
          "granddaughter"
         ],
         "yaxis": "y10"
        }
       ],
       "layout": {
        "annotations": [
         {
          "font": {
           "size": 16
          },
          "showarrow": false,
          "text": "Topic 1",
          "x": 0.225,
          "xanchor": "center",
          "xref": "paper",
          "y": 1,
          "yanchor": "bottom",
          "yref": "paper"
         },
         {
          "font": {
           "size": 16
          },
          "showarrow": false,
          "text": "Topic 6",
          "x": 0.775,
          "xanchor": "center",
          "xref": "paper",
          "y": 1,
          "yanchor": "bottom",
          "yref": "paper"
         },
         {
          "font": {
           "size": 16
          },
          "showarrow": false,
          "text": "Topic 2",
          "x": 0.225,
          "xanchor": "center",
          "xref": "paper",
          "y": 0.78,
          "yanchor": "bottom",
          "yref": "paper"
         },
         {
          "font": {
           "size": 16
          },
          "showarrow": false,
          "text": "Topic 7",
          "x": 0.775,
          "xanchor": "center",
          "xref": "paper",
          "y": 0.78,
          "yanchor": "bottom",
          "yref": "paper"
         },
         {
          "font": {
           "size": 16
          },
          "showarrow": false,
          "text": "Topic 3",
          "x": 0.225,
          "xanchor": "center",
          "xref": "paper",
          "y": 0.56,
          "yanchor": "bottom",
          "yref": "paper"
         },
         {
          "font": {
           "size": 16
          },
          "showarrow": false,
          "text": "Topic 8",
          "x": 0.775,
          "xanchor": "center",
          "xref": "paper",
          "y": 0.56,
          "yanchor": "bottom",
          "yref": "paper"
         },
         {
          "font": {
           "size": 16
          },
          "showarrow": false,
          "text": "Topic 4",
          "x": 0.225,
          "xanchor": "center",
          "xref": "paper",
          "y": 0.33999999999999997,
          "yanchor": "bottom",
          "yref": "paper"
         },
         {
          "font": {
           "size": 16
          },
          "showarrow": false,
          "text": "Topic 9",
          "x": 0.775,
          "xanchor": "center",
          "xref": "paper",
          "y": 0.33999999999999997,
          "yanchor": "bottom",
          "yref": "paper"
         },
         {
          "font": {
           "size": 16
          },
          "showarrow": false,
          "text": "Topic 5",
          "x": 0.225,
          "xanchor": "center",
          "xref": "paper",
          "y": 0.12,
          "yanchor": "bottom",
          "yref": "paper"
         },
         {
          "font": {
           "size": 16
          },
          "showarrow": false,
          "text": "Topic 10",
          "x": 0.775,
          "xanchor": "center",
          "xref": "paper",
          "y": 0.12,
          "yanchor": "bottom",
          "yref": "paper"
         }
        ],
        "height": 1400,
        "showlegend": false,
        "template": {
         "data": {
          "bar": [
           {
            "error_x": {
             "color": "#2a3f5f"
            },
            "error_y": {
             "color": "#2a3f5f"
            },
            "marker": {
             "line": {
              "color": "#E5ECF6",
              "width": 0.5
             },
             "pattern": {
              "fillmode": "overlay",
              "size": 10,
              "solidity": 0.2
             }
            },
            "type": "bar"
           }
          ],
          "barpolar": [
           {
            "marker": {
             "line": {
              "color": "#E5ECF6",
              "width": 0.5
             },
             "pattern": {
              "fillmode": "overlay",
              "size": 10,
              "solidity": 0.2
             }
            },
            "type": "barpolar"
           }
          ],
          "carpet": [
           {
            "aaxis": {
             "endlinecolor": "#2a3f5f",
             "gridcolor": "white",
             "linecolor": "white",
             "minorgridcolor": "white",
             "startlinecolor": "#2a3f5f"
            },
            "baxis": {
             "endlinecolor": "#2a3f5f",
             "gridcolor": "white",
             "linecolor": "white",
             "minorgridcolor": "white",
             "startlinecolor": "#2a3f5f"
            },
            "type": "carpet"
           }
          ],
          "choropleth": [
           {
            "colorbar": {
             "outlinewidth": 0,
             "ticks": ""
            },
            "type": "choropleth"
           }
          ],
          "contour": [
           {
            "colorbar": {
             "outlinewidth": 0,
             "ticks": ""
            },
            "colorscale": [
             [
              0,
              "#0d0887"
             ],
             [
              0.1111111111111111,
              "#46039f"
             ],
             [
              0.2222222222222222,
              "#7201a8"
             ],
             [
              0.3333333333333333,
              "#9c179e"
             ],
             [
              0.4444444444444444,
              "#bd3786"
             ],
             [
              0.5555555555555556,
              "#d8576b"
             ],
             [
              0.6666666666666666,
              "#ed7953"
             ],
             [
              0.7777777777777778,
              "#fb9f3a"
             ],
             [
              0.8888888888888888,
              "#fdca26"
             ],
             [
              1,
              "#f0f921"
             ]
            ],
            "type": "contour"
           }
          ],
          "contourcarpet": [
           {
            "colorbar": {
             "outlinewidth": 0,
             "ticks": ""
            },
            "type": "contourcarpet"
           }
          ],
          "heatmap": [
           {
            "colorbar": {
             "outlinewidth": 0,
             "ticks": ""
            },
            "colorscale": [
             [
              0,
              "#0d0887"
             ],
             [
              0.1111111111111111,
              "#46039f"
             ],
             [
              0.2222222222222222,
              "#7201a8"
             ],
             [
              0.3333333333333333,
              "#9c179e"
             ],
             [
              0.4444444444444444,
              "#bd3786"
             ],
             [
              0.5555555555555556,
              "#d8576b"
             ],
             [
              0.6666666666666666,
              "#ed7953"
             ],
             [
              0.7777777777777778,
              "#fb9f3a"
             ],
             [
              0.8888888888888888,
              "#fdca26"
             ],
             [
              1,
              "#f0f921"
             ]
            ],
            "type": "heatmap"
           }
          ],
          "heatmapgl": [
           {
            "colorbar": {
             "outlinewidth": 0,
             "ticks": ""
            },
            "colorscale": [
             [
              0,
              "#0d0887"
             ],
             [
              0.1111111111111111,
              "#46039f"
             ],
             [
              0.2222222222222222,
              "#7201a8"
             ],
             [
              0.3333333333333333,
              "#9c179e"
             ],
             [
              0.4444444444444444,
              "#bd3786"
             ],
             [
              0.5555555555555556,
              "#d8576b"
             ],
             [
              0.6666666666666666,
              "#ed7953"
             ],
             [
              0.7777777777777778,
              "#fb9f3a"
             ],
             [
              0.8888888888888888,
              "#fdca26"
             ],
             [
              1,
              "#f0f921"
             ]
            ],
            "type": "heatmapgl"
           }
          ],
          "histogram": [
           {
            "marker": {
             "pattern": {
              "fillmode": "overlay",
              "size": 10,
              "solidity": 0.2
             }
            },
            "type": "histogram"
           }
          ],
          "histogram2d": [
           {
            "colorbar": {
             "outlinewidth": 0,
             "ticks": ""
            },
            "colorscale": [
             [
              0,
              "#0d0887"
             ],
             [
              0.1111111111111111,
              "#46039f"
             ],
             [
              0.2222222222222222,
              "#7201a8"
             ],
             [
              0.3333333333333333,
              "#9c179e"
             ],
             [
              0.4444444444444444,
              "#bd3786"
             ],
             [
              0.5555555555555556,
              "#d8576b"
             ],
             [
              0.6666666666666666,
              "#ed7953"
             ],
             [
              0.7777777777777778,
              "#fb9f3a"
             ],
             [
              0.8888888888888888,
              "#fdca26"
             ],
             [
              1,
              "#f0f921"
             ]
            ],
            "type": "histogram2d"
           }
          ],
          "histogram2dcontour": [
           {
            "colorbar": {
             "outlinewidth": 0,
             "ticks": ""
            },
            "colorscale": [
             [
              0,
              "#0d0887"
             ],
             [
              0.1111111111111111,
              "#46039f"
             ],
             [
              0.2222222222222222,
              "#7201a8"
             ],
             [
              0.3333333333333333,
              "#9c179e"
             ],
             [
              0.4444444444444444,
              "#bd3786"
             ],
             [
              0.5555555555555556,
              "#d8576b"
             ],
             [
              0.6666666666666666,
              "#ed7953"
             ],
             [
              0.7777777777777778,
              "#fb9f3a"
             ],
             [
              0.8888888888888888,
              "#fdca26"
             ],
             [
              1,
              "#f0f921"
             ]
            ],
            "type": "histogram2dcontour"
           }
          ],
          "mesh3d": [
           {
            "colorbar": {
             "outlinewidth": 0,
             "ticks": ""
            },
            "type": "mesh3d"
           }
          ],
          "parcoords": [
           {
            "line": {
             "colorbar": {
              "outlinewidth": 0,
              "ticks": ""
             }
            },
            "type": "parcoords"
           }
          ],
          "pie": [
           {
            "automargin": true,
            "type": "pie"
           }
          ],
          "scatter": [
           {
            "marker": {
             "colorbar": {
              "outlinewidth": 0,
              "ticks": ""
             }
            },
            "type": "scatter"
           }
          ],
          "scatter3d": [
           {
            "line": {
             "colorbar": {
              "outlinewidth": 0,
              "ticks": ""
             }
            },
            "marker": {
             "colorbar": {
              "outlinewidth": 0,
              "ticks": ""
             }
            },
            "type": "scatter3d"
           }
          ],
          "scattercarpet": [
           {
            "marker": {
             "colorbar": {
              "outlinewidth": 0,
              "ticks": ""
             }
            },
            "type": "scattercarpet"
           }
          ],
          "scattergeo": [
           {
            "marker": {
             "colorbar": {
              "outlinewidth": 0,
              "ticks": ""
             }
            },
            "type": "scattergeo"
           }
          ],
          "scattergl": [
           {
            "marker": {
             "colorbar": {
              "outlinewidth": 0,
              "ticks": ""
             }
            },
            "type": "scattergl"
           }
          ],
          "scattermapbox": [
           {
            "marker": {
             "colorbar": {
              "outlinewidth": 0,
              "ticks": ""
             }
            },
            "type": "scattermapbox"
           }
          ],
          "scatterpolar": [
           {
            "marker": {
             "colorbar": {
              "outlinewidth": 0,
              "ticks": ""
             }
            },
            "type": "scatterpolar"
           }
          ],
          "scatterpolargl": [
           {
            "marker": {
             "colorbar": {
              "outlinewidth": 0,
              "ticks": ""
             }
            },
            "type": "scatterpolargl"
           }
          ],
          "scatterternary": [
           {
            "marker": {
             "colorbar": {
              "outlinewidth": 0,
              "ticks": ""
             }
            },
            "type": "scatterternary"
           }
          ],
          "surface": [
           {
            "colorbar": {
             "outlinewidth": 0,
             "ticks": ""
            },
            "colorscale": [
             [
              0,
              "#0d0887"
             ],
             [
              0.1111111111111111,
              "#46039f"
             ],
             [
              0.2222222222222222,
              "#7201a8"
             ],
             [
              0.3333333333333333,
              "#9c179e"
             ],
             [
              0.4444444444444444,
              "#bd3786"
             ],
             [
              0.5555555555555556,
              "#d8576b"
             ],
             [
              0.6666666666666666,
              "#ed7953"
             ],
             [
              0.7777777777777778,
              "#fb9f3a"
             ],
             [
              0.8888888888888888,
              "#fdca26"
             ],
             [
              1,
              "#f0f921"
             ]
            ],
            "type": "surface"
           }
          ],
          "table": [
           {
            "cells": {
             "fill": {
              "color": "#EBF0F8"
             },
             "line": {
              "color": "white"
             }
            },
            "header": {
             "fill": {
              "color": "#C8D4E3"
             },
             "line": {
              "color": "white"
             }
            },
            "type": "table"
           }
          ]
         },
         "layout": {
          "annotationdefaults": {
           "arrowcolor": "#2a3f5f",
           "arrowhead": 0,
           "arrowwidth": 1
          },
          "autotypenumbers": "strict",
          "coloraxis": {
           "colorbar": {
            "outlinewidth": 0,
            "ticks": ""
           }
          },
          "colorscale": {
           "diverging": [
            [
             0,
             "#8e0152"
            ],
            [
             0.1,
             "#c51b7d"
            ],
            [
             0.2,
             "#de77ae"
            ],
            [
             0.3,
             "#f1b6da"
            ],
            [
             0.4,
             "#fde0ef"
            ],
            [
             0.5,
             "#f7f7f7"
            ],
            [
             0.6,
             "#e6f5d0"
            ],
            [
             0.7,
             "#b8e186"
            ],
            [
             0.8,
             "#7fbc41"
            ],
            [
             0.9,
             "#4d9221"
            ],
            [
             1,
             "#276419"
            ]
           ],
           "sequential": [
            [
             0,
             "#0d0887"
            ],
            [
             0.1111111111111111,
             "#46039f"
            ],
            [
             0.2222222222222222,
             "#7201a8"
            ],
            [
             0.3333333333333333,
             "#9c179e"
            ],
            [
             0.4444444444444444,
             "#bd3786"
            ],
            [
             0.5555555555555556,
             "#d8576b"
            ],
            [
             0.6666666666666666,
             "#ed7953"
            ],
            [
             0.7777777777777778,
             "#fb9f3a"
            ],
            [
             0.8888888888888888,
             "#fdca26"
            ],
            [
             1,
             "#f0f921"
            ]
           ],
           "sequentialminus": [
            [
             0,
             "#0d0887"
            ],
            [
             0.1111111111111111,
             "#46039f"
            ],
            [
             0.2222222222222222,
             "#7201a8"
            ],
            [
             0.3333333333333333,
             "#9c179e"
            ],
            [
             0.4444444444444444,
             "#bd3786"
            ],
            [
             0.5555555555555556,
             "#d8576b"
            ],
            [
             0.6666666666666666,
             "#ed7953"
            ],
            [
             0.7777777777777778,
             "#fb9f3a"
            ],
            [
             0.8888888888888888,
             "#fdca26"
            ],
            [
             1,
             "#f0f921"
            ]
           ]
          },
          "colorway": [
           "#636efa",
           "#EF553B",
           "#00cc96",
           "#ab63fa",
           "#FFA15A",
           "#19d3f3",
           "#FF6692",
           "#B6E880",
           "#FF97FF",
           "#FECB52"
          ],
          "font": {
           "color": "#2a3f5f"
          },
          "geo": {
           "bgcolor": "white",
           "lakecolor": "white",
           "landcolor": "#E5ECF6",
           "showlakes": true,
           "showland": true,
           "subunitcolor": "white"
          },
          "hoverlabel": {
           "align": "left"
          },
          "hovermode": "closest",
          "mapbox": {
           "style": "light"
          },
          "paper_bgcolor": "white",
          "plot_bgcolor": "#E5ECF6",
          "polar": {
           "angularaxis": {
            "gridcolor": "white",
            "linecolor": "white",
            "ticks": ""
           },
           "bgcolor": "#E5ECF6",
           "radialaxis": {
            "gridcolor": "white",
            "linecolor": "white",
            "ticks": ""
           }
          },
          "scene": {
           "xaxis": {
            "backgroundcolor": "#E5ECF6",
            "gridcolor": "white",
            "gridwidth": 2,
            "linecolor": "white",
            "showbackground": true,
            "ticks": "",
            "zerolinecolor": "white"
           },
           "yaxis": {
            "backgroundcolor": "#E5ECF6",
            "gridcolor": "white",
            "gridwidth": 2,
            "linecolor": "white",
            "showbackground": true,
            "ticks": "",
            "zerolinecolor": "white"
           },
           "zaxis": {
            "backgroundcolor": "#E5ECF6",
            "gridcolor": "white",
            "gridwidth": 2,
            "linecolor": "white",
            "showbackground": true,
            "ticks": "",
            "zerolinecolor": "white"
           }
          },
          "shapedefaults": {
           "line": {
            "color": "#2a3f5f"
           }
          },
          "ternary": {
           "aaxis": {
            "gridcolor": "white",
            "linecolor": "white",
            "ticks": ""
           },
           "baxis": {
            "gridcolor": "white",
            "linecolor": "white",
            "ticks": ""
           },
           "bgcolor": "#E5ECF6",
           "caxis": {
            "gridcolor": "white",
            "linecolor": "white",
            "ticks": ""
           }
          },
          "title": {
           "x": 0.05
          },
          "xaxis": {
           "automargin": true,
           "gridcolor": "white",
           "linecolor": "white",
           "ticks": "",
           "title": {
            "standoff": 15
           },
           "zerolinecolor": "white",
           "zerolinewidth": 2
          },
          "yaxis": {
           "automargin": true,
           "gridcolor": "white",
           "linecolor": "white",
           "ticks": "",
           "title": {
            "standoff": 15
           },
           "zerolinecolor": "white",
           "zerolinewidth": 2
          }
         }
        },
        "title": {
         "text": "NMF TF-IDF - Topic Keywords ranked by Weight"
        },
        "width": 1200,
        "xaxis": {
         "anchor": "y",
         "domain": [
          0,
          0.45
         ],
         "range": [
          0,
          5
         ],
         "title": {
          "text": "Weight"
         }
        },
        "xaxis10": {
         "anchor": "y10",
         "domain": [
          0.55,
          1
         ],
         "range": [
          0,
          5
         ],
         "title": {
          "text": "Weight"
         }
        },
        "xaxis2": {
         "anchor": "y2",
         "domain": [
          0.55,
          1
         ],
         "range": [
          0,
          5
         ],
         "title": {
          "text": "Weight"
         }
        },
        "xaxis3": {
         "anchor": "y3",
         "domain": [
          0,
          0.45
         ],
         "range": [
          0,
          5
         ],
         "title": {
          "text": "Weight"
         }
        },
        "xaxis4": {
         "anchor": "y4",
         "domain": [
          0.55,
          1
         ],
         "range": [
          0,
          5
         ],
         "title": {
          "text": "Weight"
         }
        },
        "xaxis5": {
         "anchor": "y5",
         "domain": [
          0,
          0.45
         ],
         "range": [
          0,
          5
         ],
         "title": {
          "text": "Weight"
         }
        },
        "xaxis6": {
         "anchor": "y6",
         "domain": [
          0.55,
          1
         ],
         "range": [
          0,
          5
         ],
         "title": {
          "text": "Weight"
         }
        },
        "xaxis7": {
         "anchor": "y7",
         "domain": [
          0,
          0.45
         ],
         "range": [
          0,
          5
         ],
         "title": {
          "text": "Weight"
         }
        },
        "xaxis8": {
         "anchor": "y8",
         "domain": [
          0.55,
          1
         ],
         "range": [
          0,
          5
         ],
         "title": {
          "text": "Weight"
         }
        },
        "xaxis9": {
         "anchor": "y9",
         "domain": [
          0,
          0.45
         ],
         "range": [
          0,
          5
         ],
         "title": {
          "text": "Weight"
         }
        },
        "yaxis": {
         "anchor": "x",
         "autorange": "reversed",
         "domain": [
          0.88,
          1
         ],
         "title": {
          "text": "Keyword"
         },
         "type": "category"
        },
        "yaxis10": {
         "anchor": "x10",
         "autorange": "reversed",
         "domain": [
          0,
          0.12
         ],
         "title": {
          "text": "Keyword"
         },
         "type": "category"
        },
        "yaxis2": {
         "anchor": "x2",
         "autorange": "reversed",
         "domain": [
          0.88,
          1
         ],
         "title": {
          "text": "Keyword"
         },
         "type": "category"
        },
        "yaxis3": {
         "anchor": "x3",
         "autorange": "reversed",
         "domain": [
          0.66,
          0.78
         ],
         "title": {
          "text": "Keyword"
         },
         "type": "category"
        },
        "yaxis4": {
         "anchor": "x4",
         "autorange": "reversed",
         "domain": [
          0.66,
          0.78
         ],
         "title": {
          "text": "Keyword"
         },
         "type": "category"
        },
        "yaxis5": {
         "anchor": "x5",
         "autorange": "reversed",
         "domain": [
          0.44,
          0.56
         ],
         "title": {
          "text": "Keyword"
         },
         "type": "category"
        },
        "yaxis6": {
         "anchor": "x6",
         "autorange": "reversed",
         "domain": [
          0.44,
          0.56
         ],
         "title": {
          "text": "Keyword"
         },
         "type": "category"
        },
        "yaxis7": {
         "anchor": "x7",
         "autorange": "reversed",
         "domain": [
          0.22,
          0.33999999999999997
         ],
         "title": {
          "text": "Keyword"
         },
         "type": "category"
        },
        "yaxis8": {
         "anchor": "x8",
         "autorange": "reversed",
         "domain": [
          0.22,
          0.33999999999999997
         ],
         "title": {
          "text": "Keyword"
         },
         "type": "category"
        },
        "yaxis9": {
         "anchor": "x9",
         "autorange": "reversed",
         "domain": [
          0,
          0.12
         ],
         "title": {
          "text": "Keyword"
         },
         "type": "category"
        }
       }
      }
     },
     "metadata": {},
     "output_type": "display_data"
    }
   ],
   "source": [
    "data = display_topics(NMF_tfidf, tfidf_feature_names, 10)\n",
    "fig = make_subplots(rows=5, cols=2, subplot_titles= [\"Topic 1\", \"Topic 6\", \"Topic 2\",\"Topic 7\", \"Topic 3\",\"Topic 8\",\"Topic 4\",\"Topic 9\", \"Topic 5\", \"Topic 10\"])\n",
    "colors = [\"Blue\", \"Pink\", \"SeaGreen\", \"Orange\", \"Grey\", \"Purple\", \"Red\", \"LightBlue\", \"LightGreen\", \"DarkRed\"]\n",
    "for col in range(0, int(len(data.columns)),2):\n",
    "    if col == 0:\n",
    "        fig.add_trace(go.Bar(\n",
    "        x=data.iloc[:,1].astype(\"float64\"),#.sort_values(ascending=True)\n",
    "        y=data.iloc[:,0], #.sort_values( by= data.columns[col+1], ascending = True)\n",
    "        marker_color=colors[0], orientation = \"h\"), col= 1, row = 1)\n",
    "    if col < 10 and col > 0:\n",
    "        fig.add_trace(go.Bar(\n",
    "        x=data.iloc[:,col+1].astype(\"float64\"),\n",
    "        y=data.iloc[:,col],\n",
    "        marker_color=colors[int(col/2)], orientation = \"h\"), col= 1, row = int(col/2)+1)\n",
    "    if col >= 10:\n",
    "        fig.add_trace(go.Bar(\n",
    "        x=data.iloc[:,col+1].astype(\"float64\"),\n",
    "        y=data.iloc[:,col],\n",
    "        marker_color=colors[int(col/2)], orientation = \"h\"),col= 2, row = int(col/2)-4)\n",
    "\n",
    "fig.update_layout( height=1400, width=1200, title_text=\"NMF TF-IDF - Topic Keywords ranked by Weight\", showlegend=False, xaxis_title_text='Keyword',yaxis_title_text='Weight'\n",
    "    )\n",
    "fig.update_yaxes(title='Keyword', type = \"category\" , autorange = \"reversed\")\n",
    "fig.update_xaxes( title = 'Weight', range = (0,5) )\n",
    "fig.show()"
   ]
  },
  {
   "cell_type": "markdown",
   "metadata": {},
   "source": [
    "# Finding Best k Number of Clusters"
   ]
  },
  {
   "cell_type": "markdown",
   "metadata": {},
   "source": [
    "Hyperparameters were drawn from literature. \n",
    "-> directly from gensim and Applying LDA Topic Modeling in Communication Research: Toward a Valid and Reliable Methodology by Maier"
   ]
  },
  {
   "cell_type": "markdown",
   "metadata": {},
   "source": [
    "## LSA - TF"
   ]
  },
  {
   "cell_type": "code",
   "execution_count": 64,
   "metadata": {},
   "outputs": [
    {
     "name": "stdout",
     "output_type": "stream",
     "text": [
      "\n",
      "Coherence Score CV:  0.425267019061171\n",
      "\n",
      "Coherence Score UMass:  -2.736941575998885\n",
      "\n",
      "Coherence Score NPMI:  -0.0608608900527072\n",
      "\n",
      "Coherence Score UCI:  -2.212516710746052\n",
      "\n",
      "Silhouette Score:  -0.07176991290309291\n",
      "\n",
      "Calinski-Harabasz Score:  10.243917936248401\n",
      "\n",
      "Davies-Bouldin Score:  7.9914471816405745\n",
      "\n",
      "Coherence Score CV:  0.5234024051442624\n",
      "\n",
      "Coherence Score UMass:  -2.870075712617679\n",
      "\n",
      "Coherence Score NPMI:  -0.011345358601791217\n",
      "\n",
      "Coherence Score UCI:  -1.4320669329907358\n",
      "\n",
      "Silhouette Score:  -0.10178055527585675\n",
      "\n",
      "Calinski-Harabasz Score:  10.199602532621377\n",
      "\n",
      "Davies-Bouldin Score:  8.051679888179775\n",
      "\n",
      "Coherence Score CV:  0.5462720479836111\n",
      "\n",
      "Coherence Score UMass:  -3.0487001477097917\n",
      "\n",
      "Coherence Score NPMI:  -0.017130510824304435\n",
      "\n",
      "Coherence Score UCI:  -1.7052997370986132\n",
      "\n",
      "Silhouette Score:  -0.11301619976852742\n",
      "\n",
      "Calinski-Harabasz Score:  12.681905988276057\n",
      "\n",
      "Davies-Bouldin Score:  8.728108043188085\n",
      "\n",
      "Coherence Score CV:  0.5233496008335523\n",
      "\n",
      "Coherence Score UMass:  -3.0530641092224755\n",
      "\n",
      "Coherence Score NPMI:  -0.022328740756253386\n",
      "\n",
      "Coherence Score UCI:  -1.690152600466314\n",
      "\n",
      "Silhouette Score:  -0.09074481375721143\n",
      "\n",
      "Calinski-Harabasz Score:  19.316380701264922\n",
      "\n",
      "Davies-Bouldin Score:  8.064591287560567\n",
      "\n",
      "Coherence Score CV:  0.5012502358053665\n",
      "\n",
      "Coherence Score UMass:  -2.9575934683886045\n",
      "\n",
      "Coherence Score NPMI:  -0.022251702366717176\n",
      "\n",
      "Coherence Score UCI:  -1.482800667471404\n",
      "\n",
      "Silhouette Score:  -0.18189454640280814\n",
      "\n",
      "Calinski-Harabasz Score:  18.295407805927802\n",
      "\n",
      "Davies-Bouldin Score:  7.920377990333579\n",
      "\n",
      "Coherence Score CV:  0.47268985885197273\n",
      "\n",
      "Coherence Score UMass:  -3.164788941192432\n",
      "\n",
      "Coherence Score NPMI:  -0.027461016123774794\n",
      "\n",
      "Coherence Score UCI:  -1.540553853812556\n",
      "\n",
      "Silhouette Score:  -0.20655458111951625\n",
      "\n",
      "Calinski-Harabasz Score:  21.42780830150795\n",
      "\n",
      "Davies-Bouldin Score:  7.182734613105902\n",
      "\n",
      "Coherence Score CV:  0.44671000367329244\n",
      "\n",
      "Coherence Score UMass:  -3.306661598144796\n",
      "\n",
      "Coherence Score NPMI:  -0.039151448646934414\n",
      "\n",
      "Coherence Score UCI:  -1.7415625728635422\n",
      "\n",
      "Silhouette Score:  -0.2021013827764235\n",
      "\n",
      "Calinski-Harabasz Score:  18.295628024646735\n",
      "\n",
      "Davies-Bouldin Score:  7.123106542843483\n",
      "\n",
      "Coherence Score CV:  0.4367564494447482\n",
      "\n",
      "Coherence Score UMass:  -3.312550335673487\n",
      "\n",
      "Coherence Score NPMI:  -0.041123893526577034\n",
      "\n",
      "Coherence Score UCI:  -1.6788026099193747\n",
      "\n",
      "Silhouette Score:  -0.1898563107081942\n",
      "\n",
      "Calinski-Harabasz Score:  19.4846228066295\n",
      "\n",
      "Davies-Bouldin Score:  6.963557475478772\n",
      "\n",
      "Coherence Score CV:  0.426286881916596\n",
      "\n",
      "Coherence Score UMass:  -3.47716555678426\n",
      "\n",
      "Coherence Score NPMI:  -0.046723115398359674\n",
      "\n",
      "Coherence Score UCI:  -1.7627458653781494\n",
      "\n",
      "Silhouette Score:  -0.16494040659087927\n",
      "\n",
      "Calinski-Harabasz Score:  18.70302576752855\n",
      "\n",
      "Davies-Bouldin Score:  7.0901126173307265\n",
      "\n",
      "Coherence Score CV:  0.4165382032598278\n",
      "\n",
      "Coherence Score UMass:  -3.5118535475155364\n",
      "\n",
      "Coherence Score NPMI:  -0.048493080715122795\n",
      "\n",
      "Coherence Score UCI:  -1.741288078398164\n",
      "\n",
      "Silhouette Score:  -0.205311704610583\n",
      "\n",
      "Calinski-Harabasz Score:  18.591179492335016\n",
      "\n",
      "Davies-Bouldin Score:  6.972782202622946\n",
      "\n",
      "Coherence Score CV:  0.420581908056771\n",
      "\n",
      "Coherence Score UMass:  -3.4766766132866342\n",
      "\n",
      "Coherence Score NPMI:  -0.047449541213423554\n",
      "\n",
      "Coherence Score UCI:  -1.6680132377655201\n",
      "\n",
      "Silhouette Score:  -0.15367199809077287\n",
      "\n",
      "Calinski-Harabasz Score:  17.54741641636574\n",
      "\n",
      "Davies-Bouldin Score:  6.916106005540149\n",
      "\n",
      "Coherence Score CV:  0.4192296104028928\n",
      "\n",
      "Coherence Score UMass:  -3.4852608556721925\n",
      "\n",
      "Coherence Score NPMI:  -0.04601855903164883\n",
      "\n",
      "Coherence Score UCI:  -1.5876772565915505\n",
      "\n",
      "Silhouette Score:  -0.17543386524801768\n",
      "\n",
      "Calinski-Harabasz Score:  17.113690176387905\n",
      "\n",
      "Davies-Bouldin Score:  6.732369013571019\n",
      "\n",
      "Coherence Score CV:  0.40962132741136387\n",
      "\n",
      "Coherence Score UMass:  -3.477811799992456\n",
      "\n",
      "Coherence Score NPMI:  -0.048467127425345556\n",
      "\n",
      "Coherence Score UCI:  -1.640824584627268\n",
      "\n",
      "Silhouette Score:  -0.1633701493504484\n",
      "\n",
      "Calinski-Harabasz Score:  16.514287754445373\n",
      "\n",
      "Davies-Bouldin Score:  6.635019051782097\n",
      "FINISHED! Evaluation of 20.000 Documents for topic modelling are evaluated!\n"
     ]
    }
   ],
   "source": [
    "n_components = [2,4,6,8,10, 15, 20, 25, 30, 35, 40, 45, 50]\n",
    "eval_lsa_tf = find_best_k(n_components,\"LSA\", tf_fit, tf, tf_feature_names, 20, df['cut_and_clean'], dictionary)"
   ]
  },
  {
   "cell_type": "code",
   "execution_count": 49,
   "metadata": {},
   "outputs": [],
   "source": [
    "eval_lsa_tf = pd.read_csv('../Results/bestk_lsa_tf_arpack.csv').set_index(\"Unnamed: 0\")"
   ]
  },
  {
   "cell_type": "code",
   "execution_count": 247,
   "metadata": {},
   "outputs": [
    {
     "data": {
      "application/vnd.plotly.v1+json": {
       "config": {
        "plotlyServerURL": "https://plot.ly"
       },
       "data": [
        {
         "name": "cv",
         "type": "scatter",
         "x": [
          "2 Topics",
          "4 Topics",
          "6 Topics",
          "8 Topics",
          "10 Topics",
          "15 Topics",
          "20 Topics",
          "25 Topics",
          "30 Topics",
          "35 Topics",
          "40 Topics",
          "45 Topics",
          "50 Topics"
         ],
         "xaxis": "x",
         "y": [
          0.425267019061171,
          0.5234024051442624,
          0.5462720479836111,
          0.5233496008335523,
          0.5012502358053665,
          0.4726898588519727,
          0.4467100036732924,
          0.4367564494447482,
          0.426286881916596,
          0.4165382032598278,
          0.420581908056771,
          0.4192296104028928,
          0.4096213274113638
         ],
         "yaxis": "y"
        },
        {
         "marker": {
          "color": "Red",
          "size": 15,
          "symbol": "star"
         },
         "mode": "markers",
         "type": "scatter",
         "x": [
          "6 Topics"
         ],
         "xaxis": "x",
         "y": [
          0.5462720479836111
         ],
         "yaxis": "y"
        },
        {
         "name": "c_umass",
         "type": "scatter",
         "x": [
          "2 Topics",
          "4 Topics",
          "6 Topics",
          "8 Topics",
          "10 Topics",
          "15 Topics",
          "20 Topics",
          "25 Topics",
          "30 Topics",
          "35 Topics",
          "40 Topics",
          "45 Topics",
          "50 Topics"
         ],
         "xaxis": "x2",
         "y": [
          -2.736941575998885,
          -2.870075712617679,
          -3.048700147709792,
          -3.0530641092224755,
          -2.9575934683886045,
          -3.164788941192432,
          -3.306661598144796,
          -3.312550335673487,
          -3.47716555678426,
          -3.5118535475155364,
          -3.4766766132866342,
          -3.4852608556721925,
          -3.477811799992456
         ],
         "yaxis": "y2"
        },
        {
         "marker": {
          "color": "Red",
          "size": 15,
          "symbol": "star"
         },
         "mode": "markers",
         "type": "scatter",
         "x": [
          "2 Topics"
         ],
         "xaxis": "x2",
         "y": [
          -2.736941575998885
         ],
         "yaxis": "y2"
        },
        {
         "name": "c_npmi",
         "type": "scatter",
         "x": [
          "2 Topics",
          "4 Topics",
          "6 Topics",
          "8 Topics",
          "10 Topics",
          "15 Topics",
          "20 Topics",
          "25 Topics",
          "30 Topics",
          "35 Topics",
          "40 Topics",
          "45 Topics",
          "50 Topics"
         ],
         "xaxis": "x3",
         "y": [
          -0.0608608900527072,
          -0.0113453586017912,
          -0.0171305108243044,
          -0.0223287407562533,
          -0.0222517023667171,
          -0.0274610161237747,
          -0.0391514486469344,
          -0.041123893526577,
          -0.0467231153983596,
          -0.0484930807151227,
          -0.0474495412134235,
          -0.0460185590316488,
          -0.0484671274253455
         ],
         "yaxis": "y3"
        },
        {
         "marker": {
          "color": "Red",
          "size": 15,
          "symbol": "star"
         },
         "mode": "markers",
         "type": "scatter",
         "x": [
          "4 Topics"
         ],
         "xaxis": "x3",
         "y": [
          -0.0113453586017912
         ],
         "yaxis": "y3"
        },
        {
         "name": "c_uci",
         "type": "scatter",
         "x": [
          "2 Topics",
          "4 Topics",
          "6 Topics",
          "8 Topics",
          "10 Topics",
          "15 Topics",
          "20 Topics",
          "25 Topics",
          "30 Topics",
          "35 Topics",
          "40 Topics",
          "45 Topics",
          "50 Topics"
         ],
         "xaxis": "x4",
         "y": [
          -2.212516710746052,
          -1.4320669329907358,
          -1.7052997370986132,
          -1.690152600466314,
          -1.482800667471404,
          -1.540553853812556,
          -1.7415625728635422,
          -1.678802609919375,
          -1.7627458653781494,
          -1.741288078398164,
          -1.66801323776552,
          -1.5876772565915505,
          -1.640824584627268
         ],
         "yaxis": "y4"
        },
        {
         "marker": {
          "color": "Red",
          "size": 15,
          "symbol": "star"
         },
         "mode": "markers",
         "type": "scatter",
         "x": [
          "4 Topics"
         ],
         "xaxis": "x4",
         "y": [
          -1.4320669329907358
         ],
         "yaxis": "y4"
        },
        {
         "name": "sil_score",
         "type": "scatter",
         "x": [
          "2 Topics",
          "4 Topics",
          "6 Topics",
          "8 Topics",
          "10 Topics",
          "15 Topics",
          "20 Topics",
          "25 Topics",
          "30 Topics",
          "35 Topics",
          "40 Topics",
          "45 Topics",
          "50 Topics"
         ],
         "xaxis": "x5",
         "y": [
          -0.0717699129030929,
          -0.1017805552758567,
          -0.1130161997685274,
          -0.0907448137572114,
          -0.1818945464028081,
          -0.2065545811195162,
          -0.2021013827764235,
          -0.1898563107081942,
          -0.1649404065908792,
          -0.205311704610583,
          -0.1536719980907728,
          -0.1754338652480176,
          -0.1633701493504484
         ],
         "yaxis": "y5"
        },
        {
         "marker": {
          "color": "Red",
          "size": 15,
          "symbol": "star"
         },
         "mode": "markers",
         "type": "scatter",
         "x": [
          "2 Topics"
         ],
         "xaxis": "x5",
         "y": [
          -0.0717699129030929
         ],
         "yaxis": "y5"
        },
        {
         "name": "ch_index",
         "type": "scatter",
         "x": [
          "2 Topics",
          "4 Topics",
          "6 Topics",
          "8 Topics",
          "10 Topics",
          "15 Topics",
          "20 Topics",
          "25 Topics",
          "30 Topics",
          "35 Topics",
          "40 Topics",
          "45 Topics",
          "50 Topics"
         ],
         "xaxis": "x6",
         "y": [
          10.2439179362484,
          10.199602532621377,
          12.681905988276055,
          19.31638070126492,
          18.2954078059278,
          21.42780830150795,
          18.29562802464673,
          19.4846228066295,
          18.70302576752855,
          18.591179492335016,
          17.54741641636574,
          17.113690176387905,
          16.514287754445373
         ],
         "yaxis": "y6"
        },
        {
         "marker": {
          "color": "Red",
          "size": 15,
          "symbol": "star"
         },
         "mode": "markers",
         "type": "scatter",
         "x": [
          "15 Topics"
         ],
         "xaxis": "x6",
         "y": [
          21.42780830150795
         ],
         "yaxis": "y6"
        },
        {
         "name": "db_index",
         "type": "scatter",
         "x": [
          "2 Topics",
          "4 Topics",
          "6 Topics",
          "8 Topics",
          "10 Topics",
          "15 Topics",
          "20 Topics",
          "25 Topics",
          "30 Topics",
          "35 Topics",
          "40 Topics",
          "45 Topics",
          "50 Topics"
         ],
         "xaxis": "x7",
         "y": [
          7.9914471816405745,
          8.051679888179775,
          8.728108043188085,
          8.064591287560567,
          7.920377990333579,
          7.182734613105902,
          7.123106542843483,
          6.963557475478772,
          7.090112617330727,
          6.972782202622946,
          6.916106005540149,
          6.732369013571019,
          6.635019051782097
         ],
         "yaxis": "y7"
        },
        {
         "marker": {
          "color": "Red",
          "size": 15,
          "symbol": "star"
         },
         "mode": "markers",
         "type": "scatter",
         "x": [
          "50 Topics"
         ],
         "xaxis": "x7",
         "y": [
          6.635019051782097
         ],
         "yaxis": "y7"
        }
       ],
       "layout": {
        "annotations": [
         {
          "font": {
           "size": 16
          },
          "showarrow": false,
          "text": "Cv",
          "x": 0.5,
          "xanchor": "center",
          "xref": "paper",
          "y": 1,
          "yanchor": "bottom",
          "yref": "paper"
         },
         {
          "font": {
           "size": 16
          },
          "showarrow": false,
          "text": "UMass",
          "x": 0.5,
          "xanchor": "center",
          "xref": "paper",
          "y": 0.8671875,
          "yanchor": "bottom",
          "yref": "paper"
         },
         {
          "font": {
           "size": 16
          },
          "showarrow": false,
          "text": "NPMI",
          "x": 0.5,
          "xanchor": "center",
          "xref": "paper",
          "y": 0.734375,
          "yanchor": "bottom",
          "yref": "paper"
         },
         {
          "font": {
           "size": 16
          },
          "showarrow": false,
          "text": "UCI",
          "x": 0.5,
          "xanchor": "center",
          "xref": "paper",
          "y": 0.6015625,
          "yanchor": "bottom",
          "yref": "paper"
         },
         {
          "font": {
           "size": 16
          },
          "showarrow": false,
          "text": "Silhouette Score",
          "x": 0.5,
          "xanchor": "center",
          "xref": "paper",
          "y": 0.46875,
          "yanchor": "bottom",
          "yref": "paper"
         },
         {
          "font": {
           "size": 16
          },
          "showarrow": false,
          "text": "Calinski-Harabasz Score",
          "x": 0.5,
          "xanchor": "center",
          "xref": "paper",
          "y": 0.3359375,
          "yanchor": "bottom",
          "yref": "paper"
         },
         {
          "font": {
           "size": 16
          },
          "showarrow": false,
          "text": "Davies-Bouldin Score",
          "x": 0.5,
          "xanchor": "center",
          "xref": "paper",
          "y": 0.203125,
          "yanchor": "bottom",
          "yref": "paper"
         },
         {
          "showarrow": false,
          "text": "Best K",
          "x": "6 Topics",
          "xref": "x",
          "y": 0.5462720479836111,
          "yref": "y",
          "yshift": 20
         },
         {
          "showarrow": false,
          "text": "Best K",
          "x": "2 Topics",
          "xref": "x2",
          "y": -2.736941575998885,
          "yref": "y2",
          "yshift": 20
         },
         {
          "showarrow": false,
          "text": "Best K",
          "x": "4 Topics",
          "xref": "x3",
          "y": -0.0113453586017912,
          "yref": "y3",
          "yshift": 20
         },
         {
          "showarrow": false,
          "text": "Best K",
          "x": "4 Topics",
          "xref": "x4",
          "y": -1.4320669329907358,
          "yref": "y4",
          "yshift": 20
         },
         {
          "showarrow": false,
          "text": "Best K",
          "x": "2 Topics",
          "xref": "x5",
          "y": -0.0717699129030929,
          "yref": "y5",
          "yshift": 20
         },
         {
          "showarrow": false,
          "text": "Best K",
          "x": "15 Topics",
          "xref": "x6",
          "y": 21.42780830150795,
          "yref": "y6",
          "yshift": 20
         },
         {
          "showarrow": false,
          "text": "Best K",
          "x": "50 Topics",
          "xref": "x7",
          "y": 6.635019051782097,
          "yref": "y7",
          "yshift": 20
         }
        ],
        "height": 1600,
        "shapes": [
         {
          "line": {
           "color": "SeaGreen",
           "width": 10
          },
          "opacity": 0.5,
          "type": "line",
          "x0": "6 Topics",
          "x1": "6 Topics",
          "xref": "x",
          "y0": 0.4096213274113638,
          "y1": 0.5462720479836111,
          "yref": "y"
         },
         {
          "line": {
           "color": "SeaGreen",
           "width": 10
          },
          "opacity": 0.5,
          "type": "line",
          "x0": "2 Topics",
          "x1": "2 Topics",
          "xref": "x2",
          "y0": -3.5118535475155364,
          "y1": -2.736941575998885,
          "yref": "y2"
         },
         {
          "line": {
           "color": "SeaGreen",
           "width": 10
          },
          "opacity": 0.5,
          "type": "line",
          "x0": "4 Topics",
          "x1": "4 Topics",
          "xref": "x3",
          "y0": -0.0608608900527072,
          "y1": -0.0113453586017912,
          "yref": "y3"
         },
         {
          "line": {
           "color": "SeaGreen",
           "width": 10
          },
          "opacity": 0.5,
          "type": "line",
          "x0": "4 Topics",
          "x1": "4 Topics",
          "xref": "x4",
          "y0": -2.212516710746052,
          "y1": -1.4320669329907358,
          "yref": "y4"
         },
         {
          "line": {
           "color": "SeaGreen",
           "width": 10
          },
          "opacity": 0.5,
          "type": "line",
          "x0": "2 Topics",
          "x1": "2 Topics",
          "xref": "x5",
          "y0": -0.2065545811195162,
          "y1": -0.0717699129030929,
          "yref": "y5"
         },
         {
          "line": {
           "color": "SeaGreen",
           "width": 10
          },
          "opacity": 0.5,
          "type": "line",
          "x0": "15 Topics",
          "x1": "15 Topics",
          "xref": "x6",
          "y0": 10.199602532621377,
          "y1": 21.42780830150795,
          "yref": "y6"
         },
         {
          "line": {
           "color": "SeaGreen",
           "width": 10
          },
          "opacity": 0.5,
          "type": "line",
          "x0": "50 Topics",
          "x1": "50 Topics",
          "xref": "x7",
          "y0": 5.635019051782097,
          "y1": 6.635019051782097,
          "yref": "y7"
         }
        ],
        "showlegend": false,
        "template": {
         "data": {
          "bar": [
           {
            "error_x": {
             "color": "#2a3f5f"
            },
            "error_y": {
             "color": "#2a3f5f"
            },
            "marker": {
             "line": {
              "color": "#E5ECF6",
              "width": 0.5
             },
             "pattern": {
              "fillmode": "overlay",
              "size": 10,
              "solidity": 0.2
             }
            },
            "type": "bar"
           }
          ],
          "barpolar": [
           {
            "marker": {
             "line": {
              "color": "#E5ECF6",
              "width": 0.5
             },
             "pattern": {
              "fillmode": "overlay",
              "size": 10,
              "solidity": 0.2
             }
            },
            "type": "barpolar"
           }
          ],
          "carpet": [
           {
            "aaxis": {
             "endlinecolor": "#2a3f5f",
             "gridcolor": "white",
             "linecolor": "white",
             "minorgridcolor": "white",
             "startlinecolor": "#2a3f5f"
            },
            "baxis": {
             "endlinecolor": "#2a3f5f",
             "gridcolor": "white",
             "linecolor": "white",
             "minorgridcolor": "white",
             "startlinecolor": "#2a3f5f"
            },
            "type": "carpet"
           }
          ],
          "choropleth": [
           {
            "colorbar": {
             "outlinewidth": 0,
             "ticks": ""
            },
            "type": "choropleth"
           }
          ],
          "contour": [
           {
            "colorbar": {
             "outlinewidth": 0,
             "ticks": ""
            },
            "colorscale": [
             [
              0,
              "#0d0887"
             ],
             [
              0.1111111111111111,
              "#46039f"
             ],
             [
              0.2222222222222222,
              "#7201a8"
             ],
             [
              0.3333333333333333,
              "#9c179e"
             ],
             [
              0.4444444444444444,
              "#bd3786"
             ],
             [
              0.5555555555555556,
              "#d8576b"
             ],
             [
              0.6666666666666666,
              "#ed7953"
             ],
             [
              0.7777777777777778,
              "#fb9f3a"
             ],
             [
              0.8888888888888888,
              "#fdca26"
             ],
             [
              1,
              "#f0f921"
             ]
            ],
            "type": "contour"
           }
          ],
          "contourcarpet": [
           {
            "colorbar": {
             "outlinewidth": 0,
             "ticks": ""
            },
            "type": "contourcarpet"
           }
          ],
          "heatmap": [
           {
            "colorbar": {
             "outlinewidth": 0,
             "ticks": ""
            },
            "colorscale": [
             [
              0,
              "#0d0887"
             ],
             [
              0.1111111111111111,
              "#46039f"
             ],
             [
              0.2222222222222222,
              "#7201a8"
             ],
             [
              0.3333333333333333,
              "#9c179e"
             ],
             [
              0.4444444444444444,
              "#bd3786"
             ],
             [
              0.5555555555555556,
              "#d8576b"
             ],
             [
              0.6666666666666666,
              "#ed7953"
             ],
             [
              0.7777777777777778,
              "#fb9f3a"
             ],
             [
              0.8888888888888888,
              "#fdca26"
             ],
             [
              1,
              "#f0f921"
             ]
            ],
            "type": "heatmap"
           }
          ],
          "heatmapgl": [
           {
            "colorbar": {
             "outlinewidth": 0,
             "ticks": ""
            },
            "colorscale": [
             [
              0,
              "#0d0887"
             ],
             [
              0.1111111111111111,
              "#46039f"
             ],
             [
              0.2222222222222222,
              "#7201a8"
             ],
             [
              0.3333333333333333,
              "#9c179e"
             ],
             [
              0.4444444444444444,
              "#bd3786"
             ],
             [
              0.5555555555555556,
              "#d8576b"
             ],
             [
              0.6666666666666666,
              "#ed7953"
             ],
             [
              0.7777777777777778,
              "#fb9f3a"
             ],
             [
              0.8888888888888888,
              "#fdca26"
             ],
             [
              1,
              "#f0f921"
             ]
            ],
            "type": "heatmapgl"
           }
          ],
          "histogram": [
           {
            "marker": {
             "pattern": {
              "fillmode": "overlay",
              "size": 10,
              "solidity": 0.2
             }
            },
            "type": "histogram"
           }
          ],
          "histogram2d": [
           {
            "colorbar": {
             "outlinewidth": 0,
             "ticks": ""
            },
            "colorscale": [
             [
              0,
              "#0d0887"
             ],
             [
              0.1111111111111111,
              "#46039f"
             ],
             [
              0.2222222222222222,
              "#7201a8"
             ],
             [
              0.3333333333333333,
              "#9c179e"
             ],
             [
              0.4444444444444444,
              "#bd3786"
             ],
             [
              0.5555555555555556,
              "#d8576b"
             ],
             [
              0.6666666666666666,
              "#ed7953"
             ],
             [
              0.7777777777777778,
              "#fb9f3a"
             ],
             [
              0.8888888888888888,
              "#fdca26"
             ],
             [
              1,
              "#f0f921"
             ]
            ],
            "type": "histogram2d"
           }
          ],
          "histogram2dcontour": [
           {
            "colorbar": {
             "outlinewidth": 0,
             "ticks": ""
            },
            "colorscale": [
             [
              0,
              "#0d0887"
             ],
             [
              0.1111111111111111,
              "#46039f"
             ],
             [
              0.2222222222222222,
              "#7201a8"
             ],
             [
              0.3333333333333333,
              "#9c179e"
             ],
             [
              0.4444444444444444,
              "#bd3786"
             ],
             [
              0.5555555555555556,
              "#d8576b"
             ],
             [
              0.6666666666666666,
              "#ed7953"
             ],
             [
              0.7777777777777778,
              "#fb9f3a"
             ],
             [
              0.8888888888888888,
              "#fdca26"
             ],
             [
              1,
              "#f0f921"
             ]
            ],
            "type": "histogram2dcontour"
           }
          ],
          "mesh3d": [
           {
            "colorbar": {
             "outlinewidth": 0,
             "ticks": ""
            },
            "type": "mesh3d"
           }
          ],
          "parcoords": [
           {
            "line": {
             "colorbar": {
              "outlinewidth": 0,
              "ticks": ""
             }
            },
            "type": "parcoords"
           }
          ],
          "pie": [
           {
            "automargin": true,
            "type": "pie"
           }
          ],
          "scatter": [
           {
            "marker": {
             "colorbar": {
              "outlinewidth": 0,
              "ticks": ""
             }
            },
            "type": "scatter"
           }
          ],
          "scatter3d": [
           {
            "line": {
             "colorbar": {
              "outlinewidth": 0,
              "ticks": ""
             }
            },
            "marker": {
             "colorbar": {
              "outlinewidth": 0,
              "ticks": ""
             }
            },
            "type": "scatter3d"
           }
          ],
          "scattercarpet": [
           {
            "marker": {
             "colorbar": {
              "outlinewidth": 0,
              "ticks": ""
             }
            },
            "type": "scattercarpet"
           }
          ],
          "scattergeo": [
           {
            "marker": {
             "colorbar": {
              "outlinewidth": 0,
              "ticks": ""
             }
            },
            "type": "scattergeo"
           }
          ],
          "scattergl": [
           {
            "marker": {
             "colorbar": {
              "outlinewidth": 0,
              "ticks": ""
             }
            },
            "type": "scattergl"
           }
          ],
          "scattermapbox": [
           {
            "marker": {
             "colorbar": {
              "outlinewidth": 0,
              "ticks": ""
             }
            },
            "type": "scattermapbox"
           }
          ],
          "scatterpolar": [
           {
            "marker": {
             "colorbar": {
              "outlinewidth": 0,
              "ticks": ""
             }
            },
            "type": "scatterpolar"
           }
          ],
          "scatterpolargl": [
           {
            "marker": {
             "colorbar": {
              "outlinewidth": 0,
              "ticks": ""
             }
            },
            "type": "scatterpolargl"
           }
          ],
          "scatterternary": [
           {
            "marker": {
             "colorbar": {
              "outlinewidth": 0,
              "ticks": ""
             }
            },
            "type": "scatterternary"
           }
          ],
          "surface": [
           {
            "colorbar": {
             "outlinewidth": 0,
             "ticks": ""
            },
            "colorscale": [
             [
              0,
              "#0d0887"
             ],
             [
              0.1111111111111111,
              "#46039f"
             ],
             [
              0.2222222222222222,
              "#7201a8"
             ],
             [
              0.3333333333333333,
              "#9c179e"
             ],
             [
              0.4444444444444444,
              "#bd3786"
             ],
             [
              0.5555555555555556,
              "#d8576b"
             ],
             [
              0.6666666666666666,
              "#ed7953"
             ],
             [
              0.7777777777777778,
              "#fb9f3a"
             ],
             [
              0.8888888888888888,
              "#fdca26"
             ],
             [
              1,
              "#f0f921"
             ]
            ],
            "type": "surface"
           }
          ],
          "table": [
           {
            "cells": {
             "fill": {
              "color": "#EBF0F8"
             },
             "line": {
              "color": "white"
             }
            },
            "header": {
             "fill": {
              "color": "#C8D4E3"
             },
             "line": {
              "color": "white"
             }
            },
            "type": "table"
           }
          ]
         },
         "layout": {
          "annotationdefaults": {
           "arrowcolor": "#2a3f5f",
           "arrowhead": 0,
           "arrowwidth": 1
          },
          "autotypenumbers": "strict",
          "coloraxis": {
           "colorbar": {
            "outlinewidth": 0,
            "ticks": ""
           }
          },
          "colorscale": {
           "diverging": [
            [
             0,
             "#8e0152"
            ],
            [
             0.1,
             "#c51b7d"
            ],
            [
             0.2,
             "#de77ae"
            ],
            [
             0.3,
             "#f1b6da"
            ],
            [
             0.4,
             "#fde0ef"
            ],
            [
             0.5,
             "#f7f7f7"
            ],
            [
             0.6,
             "#e6f5d0"
            ],
            [
             0.7,
             "#b8e186"
            ],
            [
             0.8,
             "#7fbc41"
            ],
            [
             0.9,
             "#4d9221"
            ],
            [
             1,
             "#276419"
            ]
           ],
           "sequential": [
            [
             0,
             "#0d0887"
            ],
            [
             0.1111111111111111,
             "#46039f"
            ],
            [
             0.2222222222222222,
             "#7201a8"
            ],
            [
             0.3333333333333333,
             "#9c179e"
            ],
            [
             0.4444444444444444,
             "#bd3786"
            ],
            [
             0.5555555555555556,
             "#d8576b"
            ],
            [
             0.6666666666666666,
             "#ed7953"
            ],
            [
             0.7777777777777778,
             "#fb9f3a"
            ],
            [
             0.8888888888888888,
             "#fdca26"
            ],
            [
             1,
             "#f0f921"
            ]
           ],
           "sequentialminus": [
            [
             0,
             "#0d0887"
            ],
            [
             0.1111111111111111,
             "#46039f"
            ],
            [
             0.2222222222222222,
             "#7201a8"
            ],
            [
             0.3333333333333333,
             "#9c179e"
            ],
            [
             0.4444444444444444,
             "#bd3786"
            ],
            [
             0.5555555555555556,
             "#d8576b"
            ],
            [
             0.6666666666666666,
             "#ed7953"
            ],
            [
             0.7777777777777778,
             "#fb9f3a"
            ],
            [
             0.8888888888888888,
             "#fdca26"
            ],
            [
             1,
             "#f0f921"
            ]
           ]
          },
          "colorway": [
           "#636efa",
           "#EF553B",
           "#00cc96",
           "#ab63fa",
           "#FFA15A",
           "#19d3f3",
           "#FF6692",
           "#B6E880",
           "#FF97FF",
           "#FECB52"
          ],
          "font": {
           "color": "#2a3f5f"
          },
          "geo": {
           "bgcolor": "white",
           "lakecolor": "white",
           "landcolor": "#E5ECF6",
           "showlakes": true,
           "showland": true,
           "subunitcolor": "white"
          },
          "hoverlabel": {
           "align": "left"
          },
          "hovermode": "closest",
          "mapbox": {
           "style": "light"
          },
          "paper_bgcolor": "white",
          "plot_bgcolor": "#E5ECF6",
          "polar": {
           "angularaxis": {
            "gridcolor": "white",
            "linecolor": "white",
            "ticks": ""
           },
           "bgcolor": "#E5ECF6",
           "radialaxis": {
            "gridcolor": "white",
            "linecolor": "white",
            "ticks": ""
           }
          },
          "scene": {
           "xaxis": {
            "backgroundcolor": "#E5ECF6",
            "gridcolor": "white",
            "gridwidth": 2,
            "linecolor": "white",
            "showbackground": true,
            "ticks": "",
            "zerolinecolor": "white"
           },
           "yaxis": {
            "backgroundcolor": "#E5ECF6",
            "gridcolor": "white",
            "gridwidth": 2,
            "linecolor": "white",
            "showbackground": true,
            "ticks": "",
            "zerolinecolor": "white"
           },
           "zaxis": {
            "backgroundcolor": "#E5ECF6",
            "gridcolor": "white",
            "gridwidth": 2,
            "linecolor": "white",
            "showbackground": true,
            "ticks": "",
            "zerolinecolor": "white"
           }
          },
          "shapedefaults": {
           "line": {
            "color": "#2a3f5f"
           }
          },
          "ternary": {
           "aaxis": {
            "gridcolor": "white",
            "linecolor": "white",
            "ticks": ""
           },
           "baxis": {
            "gridcolor": "white",
            "linecolor": "white",
            "ticks": ""
           },
           "bgcolor": "#E5ECF6",
           "caxis": {
            "gridcolor": "white",
            "linecolor": "white",
            "ticks": ""
           }
          },
          "title": {
           "x": 0.05
          },
          "xaxis": {
           "automargin": true,
           "gridcolor": "white",
           "linecolor": "white",
           "ticks": "",
           "title": {
            "standoff": 15
           },
           "zerolinecolor": "white",
           "zerolinewidth": 2
          },
          "yaxis": {
           "automargin": true,
           "gridcolor": "white",
           "linecolor": "white",
           "ticks": "",
           "title": {
            "standoff": 15
           },
           "zerolinecolor": "white",
           "zerolinewidth": 2
          }
         }
        },
        "title": {
         "text": "Results LSA with TF"
        },
        "width": 900,
        "xaxis": {
         "anchor": "y",
         "domain": [
          0,
          1
         ]
        },
        "xaxis2": {
         "anchor": "y2",
         "domain": [
          0,
          1
         ]
        },
        "xaxis3": {
         "anchor": "y3",
         "domain": [
          0,
          1
         ]
        },
        "xaxis4": {
         "anchor": "y4",
         "domain": [
          0,
          1
         ]
        },
        "xaxis5": {
         "anchor": "y5",
         "domain": [
          0,
          1
         ]
        },
        "xaxis6": {
         "anchor": "y6",
         "domain": [
          0,
          1
         ]
        },
        "xaxis7": {
         "anchor": "y7",
         "domain": [
          0,
          1
         ]
        },
        "xaxis8": {
         "anchor": "y8",
         "domain": [
          0,
          1
         ]
        },
        "yaxis": {
         "anchor": "x",
         "domain": [
          0.9296875,
          1
         ],
         "title": {
          "text": "Metric Values"
         }
        },
        "yaxis2": {
         "anchor": "x2",
         "domain": [
          0.796875,
          0.8671875
         ],
         "title": {
          "text": "Metric Values"
         }
        },
        "yaxis3": {
         "anchor": "x3",
         "domain": [
          0.6640625,
          0.734375
         ],
         "title": {
          "text": "Metric Values"
         }
        },
        "yaxis4": {
         "anchor": "x4",
         "domain": [
          0.53125,
          0.6015625
         ],
         "title": {
          "text": "Metric Values"
         }
        },
        "yaxis5": {
         "anchor": "x5",
         "domain": [
          0.3984375,
          0.46875
         ],
         "title": {
          "text": "Metric Values"
         }
        },
        "yaxis6": {
         "anchor": "x6",
         "domain": [
          0.265625,
          0.3359375
         ],
         "title": {
          "text": "Metric Values"
         }
        },
        "yaxis7": {
         "anchor": "x7",
         "domain": [
          0.1328125,
          0.203125
         ],
         "title": {
          "text": "Metric Values"
         }
        },
        "yaxis8": {
         "anchor": "x8",
         "domain": [
          0,
          0.0703125
         ],
         "title": {
          "text": "Metric Values"
         }
        }
       }
      }
     },
     "metadata": {},
     "output_type": "display_data"
    }
   ],
   "source": [
    "plot_results(eval_lsa_tf, \"Results LSA with TF\")"
   ]
  },
  {
   "cell_type": "markdown",
   "metadata": {},
   "source": [
    "## LSA TF-IDF"
   ]
  },
  {
   "cell_type": "code",
   "execution_count": 67,
   "metadata": {},
   "outputs": [
    {
     "name": "stdout",
     "output_type": "stream",
     "text": [
      "\n",
      "Coherence Score CV:  0.3711541130792214\n",
      "\n",
      "Coherence Score UMass:  -3.217180714010678\n",
      "\n",
      "Coherence Score NPMI:  0.014239499382799118\n",
      "\n",
      "Coherence Score UCI:  0.0737120949837644\n",
      "\n",
      "Silhouette Score:  -0.07984826774516944\n",
      "\n",
      "Calinski-Harabasz Score:  113.10943351704103\n",
      "\n",
      "Davies-Bouldin Score:  6.435643815754174\n",
      "\n",
      "Coherence Score CV:  0.36350703925505684\n",
      "\n",
      "Coherence Score UMass:  -3.587089703041029\n",
      "\n",
      "Coherence Score NPMI:  0.04637268249392017\n",
      "\n",
      "Coherence Score UCI:  0.14743219542335478\n",
      "\n",
      "Silhouette Score:  -0.07579195989199396\n",
      "\n",
      "Calinski-Harabasz Score:  131.21336920146874\n",
      "\n",
      "Davies-Bouldin Score:  5.094351123583723\n",
      "\n",
      "Coherence Score CV:  0.38150268349868516\n",
      "\n",
      "Coherence Score UMass:  -3.5475773075305153\n",
      "\n",
      "Coherence Score NPMI:  0.02193178608040164\n",
      "\n",
      "Coherence Score UCI:  -0.2624624865086285\n",
      "\n",
      "Silhouette Score:  -0.06909739599342625\n",
      "\n",
      "Calinski-Harabasz Score:  131.116268779284\n",
      "\n",
      "Davies-Bouldin Score:  4.687334851913598\n",
      "\n",
      "Coherence Score CV:  0.4078163061147305\n",
      "\n",
      "Coherence Score UMass:  -3.5894288184393917\n",
      "\n",
      "Coherence Score NPMI:  0.016200850989939435\n",
      "\n",
      "Coherence Score UCI:  -0.4089235043178257\n",
      "\n",
      "Silhouette Score:  -0.06292472533626076\n",
      "\n",
      "Calinski-Harabasz Score:  126.83428681567149\n",
      "\n",
      "Davies-Bouldin Score:  4.415303111348037\n",
      "\n",
      "Coherence Score CV:  0.40831600006554086\n",
      "\n",
      "Coherence Score UMass:  -3.5451028978230283\n",
      "\n",
      "Coherence Score NPMI:  0.02149260958252702\n",
      "\n",
      "Coherence Score UCI:  -0.30060269884111207\n",
      "\n",
      "Silhouette Score:  -0.05878108067727086\n",
      "\n",
      "Calinski-Harabasz Score:  118.42376673525558\n",
      "\n",
      "Davies-Bouldin Score:  4.6087010943110505\n",
      "\n",
      "Coherence Score CV:  0.43232608922137833\n",
      "\n",
      "Coherence Score UMass:  -3.4456632031729937\n",
      "\n",
      "Coherence Score NPMI:  0.026990795904975808\n",
      "\n",
      "Coherence Score UCI:  -0.1496256780058884\n",
      "\n",
      "Silhouette Score:  -0.04908661537346604\n",
      "\n",
      "Calinski-Harabasz Score:  106.87795298086887\n",
      "\n",
      "Davies-Bouldin Score:  4.495199302936734\n",
      "\n",
      "Coherence Score CV:  0.43121317736853254\n",
      "\n",
      "Coherence Score UMass:  -3.4447022002552656\n",
      "\n",
      "Coherence Score NPMI:  0.028806182491042914\n",
      "\n",
      "Coherence Score UCI:  -0.16209560112590218\n",
      "\n",
      "Silhouette Score:  -0.0623430054047267\n",
      "\n",
      "Calinski-Harabasz Score:  98.03756254033861\n",
      "\n",
      "Davies-Bouldin Score:  4.628257087737267\n",
      "\n",
      "Coherence Score CV:  0.42372642133302313\n",
      "\n",
      "Coherence Score UMass:  -3.421880331822702\n",
      "\n",
      "Coherence Score NPMI:  0.021650687541320487\n",
      "\n",
      "Coherence Score UCI:  -0.21745218979619405\n",
      "\n",
      "Silhouette Score:  -0.05689053152766097\n",
      "\n",
      "Calinski-Harabasz Score:  89.83132989563896\n",
      "\n",
      "Davies-Bouldin Score:  4.839571774041246\n",
      "\n",
      "Coherence Score CV:  0.4095352693857594\n",
      "\n",
      "Coherence Score UMass:  -3.4478049412495944\n",
      "\n",
      "Coherence Score NPMI:  0.017892565322852806\n",
      "\n",
      "Coherence Score UCI:  -0.2953180424626269\n",
      "\n",
      "Silhouette Score:  -0.05227125907653823\n",
      "\n",
      "Calinski-Harabasz Score:  84.22694246024273\n",
      "\n",
      "Davies-Bouldin Score:  4.872006767638159\n",
      "\n",
      "Coherence Score CV:  0.40407990624813084\n",
      "\n",
      "Coherence Score UMass:  -3.4574661793201096\n",
      "\n",
      "Coherence Score NPMI:  0.011232541356716133\n",
      "\n",
      "Coherence Score UCI:  -0.3709731745416906\n",
      "\n",
      "Silhouette Score:  -0.04930179251923178\n",
      "\n",
      "Calinski-Harabasz Score:  77.31442986188443\n",
      "\n",
      "Davies-Bouldin Score:  4.894709720771695\n",
      "\n",
      "Coherence Score CV:  0.40523245438573624\n",
      "\n",
      "Coherence Score UMass:  -3.417906569470779\n",
      "\n",
      "Coherence Score NPMI:  0.008043770271004209\n",
      "\n",
      "Coherence Score UCI:  -0.3769810928732656\n",
      "\n",
      "Silhouette Score:  -0.045569072745829935\n",
      "\n",
      "Calinski-Harabasz Score:  72.22207429194647\n",
      "\n",
      "Davies-Bouldin Score:  4.991881286682289\n",
      "\n",
      "Coherence Score CV:  0.4014362632076775\n",
      "\n",
      "Coherence Score UMass:  -3.4142908880585985\n",
      "\n",
      "Coherence Score NPMI:  0.002986252737154576\n",
      "\n",
      "Coherence Score UCI:  -0.4571046665820975\n",
      "\n",
      "Silhouette Score:  -0.04308315197270464\n",
      "\n",
      "Calinski-Harabasz Score:  67.02228365540333\n",
      "\n",
      "Davies-Bouldin Score:  5.193191109161176\n",
      "\n",
      "Coherence Score CV:  0.3947677187816684\n",
      "\n",
      "Coherence Score UMass:  -3.42976673006651\n",
      "\n",
      "Coherence Score NPMI:  -0.0017521556524060047\n",
      "\n",
      "Coherence Score UCI:  -0.5531061089291262\n",
      "\n",
      "Silhouette Score:  -0.03981954312964643\n",
      "\n",
      "Calinski-Harabasz Score:  63.40181865409489\n",
      "\n",
      "Davies-Bouldin Score:  5.130188461187791\n",
      "FINISHED! Evaluation of 20.000 Documents for topic modelling are evaluated!\n"
     ]
    }
   ],
   "source": [
    "n_components = [2,4,6,8,10, 15, 20, 25, 30, 35, 40, 45, 50]\n",
    "eval_lsa_tfidf = find_best_k(n_components,\"LSA\", tfidf_fit, tfidf, tfidf_feature_names, 20, df['cut_and_clean'], dictionary)"
   ]
  },
  {
   "cell_type": "code",
   "execution_count": 269,
   "metadata": {},
   "outputs": [],
   "source": [
    "eval_lsa_tfidf = pd.read_csv('../Results/bestk_lsa_tfidf_arpack.csv').set_index(\"Unnamed: 0\")"
   ]
  },
  {
   "cell_type": "code",
   "execution_count": 270,
   "metadata": {},
   "outputs": [
    {
     "data": {
      "application/vnd.plotly.v1+json": {
       "config": {
        "plotlyServerURL": "https://plot.ly"
       },
       "data": [
        {
         "name": "cv",
         "type": "scatter",
         "x": [
          "2 Topics",
          "4 Topics",
          "6 Topics",
          "8 Topics",
          "10 Topics",
          "15 Topics",
          "20 Topics",
          "25 Topics",
          "30 Topics",
          "35 Topics",
          "40 Topics",
          "45 Topics",
          "50 Topics"
         ],
         "xaxis": "x",
         "y": [
          0.3711541130792214,
          0.3635070392550568,
          0.3815026834986851,
          0.4078163061147305,
          0.4083160000655408,
          0.4323260892213783,
          0.4312131773685325,
          0.4237264213330231,
          0.4095352693857594,
          0.4040799062481308,
          0.4052324543857362,
          0.4014362632076775,
          0.3947677187816684
         ],
         "yaxis": "y"
        },
        {
         "marker": {
          "color": "Red",
          "size": 15,
          "symbol": "star"
         },
         "mode": "markers",
         "type": "scatter",
         "x": [
          "15 Topics"
         ],
         "xaxis": "x",
         "y": [
          0.4323260892213783
         ],
         "yaxis": "y"
        },
        {
         "name": "c_umass",
         "type": "scatter",
         "x": [
          "2 Topics",
          "4 Topics",
          "6 Topics",
          "8 Topics",
          "10 Topics",
          "15 Topics",
          "20 Topics",
          "25 Topics",
          "30 Topics",
          "35 Topics",
          "40 Topics",
          "45 Topics",
          "50 Topics"
         ],
         "xaxis": "x2",
         "y": [
          -3.217180714010678,
          -3.587089703041029,
          -3.5475773075305157,
          -3.589428818439392,
          -3.5451028978230283,
          -3.4456632031729937,
          -3.4447022002552656,
          -3.421880331822702,
          -3.4478049412495944,
          -3.4574661793201096,
          -3.417906569470779,
          -3.4142908880585985,
          -3.42976673006651
         ],
         "yaxis": "y2"
        },
        {
         "marker": {
          "color": "Red",
          "size": 15,
          "symbol": "star"
         },
         "mode": "markers",
         "type": "scatter",
         "x": [
          "2 Topics"
         ],
         "xaxis": "x2",
         "y": [
          -3.217180714010678
         ],
         "yaxis": "y2"
        },
        {
         "name": "c_npmi",
         "type": "scatter",
         "x": [
          "2 Topics",
          "4 Topics",
          "6 Topics",
          "8 Topics",
          "10 Topics",
          "15 Topics",
          "20 Topics",
          "25 Topics",
          "30 Topics",
          "35 Topics",
          "40 Topics",
          "45 Topics",
          "50 Topics"
         ],
         "xaxis": "x3",
         "y": [
          0.0142394993827991,
          0.0463726824939201,
          0.0219317860804016,
          0.0162008509899394,
          0.021492609582527,
          0.0269907959049758,
          0.0288061824910429,
          0.0216506875413204,
          0.0178925653228528,
          0.0112325413567161,
          0.0080437702710042,
          0.0029862527371545,
          -0.001752155652406
         ],
         "yaxis": "y3"
        },
        {
         "marker": {
          "color": "Red",
          "size": 15,
          "symbol": "star"
         },
         "mode": "markers",
         "type": "scatter",
         "x": [
          "4 Topics"
         ],
         "xaxis": "x3",
         "y": [
          0.0463726824939201
         ],
         "yaxis": "y3"
        },
        {
         "name": "c_uci",
         "type": "scatter",
         "x": [
          "2 Topics",
          "4 Topics",
          "6 Topics",
          "8 Topics",
          "10 Topics",
          "15 Topics",
          "20 Topics",
          "25 Topics",
          "30 Topics",
          "35 Topics",
          "40 Topics",
          "45 Topics",
          "50 Topics"
         ],
         "xaxis": "x4",
         "y": [
          0.0737120949837644,
          0.1474321954233547,
          -0.2624624865086285,
          -0.4089235043178257,
          -0.300602698841112,
          -0.1496256780058884,
          -0.1620956011259021,
          -0.217452189796194,
          -0.2953180424626269,
          -0.3709731745416906,
          -0.3769810928732656,
          -0.4571046665820975,
          -0.5531061089291262
         ],
         "yaxis": "y4"
        },
        {
         "marker": {
          "color": "Red",
          "size": 15,
          "symbol": "star"
         },
         "mode": "markers",
         "type": "scatter",
         "x": [
          "4 Topics"
         ],
         "xaxis": "x4",
         "y": [
          0.1474321954233547
         ],
         "yaxis": "y4"
        },
        {
         "name": "sil_score",
         "type": "scatter",
         "x": [
          "2 Topics",
          "4 Topics",
          "6 Topics",
          "8 Topics",
          "10 Topics",
          "15 Topics",
          "20 Topics",
          "25 Topics",
          "30 Topics",
          "35 Topics",
          "40 Topics",
          "45 Topics",
          "50 Topics"
         ],
         "xaxis": "x5",
         "y": [
          -0.0798482677451694,
          -0.0757919598919939,
          -0.0690973959934262,
          -0.0629247253362607,
          -0.0587810806772708,
          -0.049086615373466,
          -0.0623430054047267,
          -0.0568905315276609,
          -0.0522712590765382,
          -0.0493017925192317,
          -0.0455690727458299,
          -0.0430831519727046,
          -0.0398195431296464
         ],
         "yaxis": "y5"
        },
        {
         "marker": {
          "color": "Red",
          "size": 15,
          "symbol": "star"
         },
         "mode": "markers",
         "type": "scatter",
         "x": [
          "50 Topics"
         ],
         "xaxis": "x5",
         "y": [
          -0.0398195431296464
         ],
         "yaxis": "y5"
        },
        {
         "name": "ch_index",
         "type": "scatter",
         "x": [
          "2 Topics",
          "4 Topics",
          "6 Topics",
          "8 Topics",
          "10 Topics",
          "15 Topics",
          "20 Topics",
          "25 Topics",
          "30 Topics",
          "35 Topics",
          "40 Topics",
          "45 Topics",
          "50 Topics"
         ],
         "xaxis": "x6",
         "y": [
          113.10943351704104,
          131.21336920146874,
          131.116268779284,
          126.83428681567148,
          118.42376673525558,
          106.87795298086888,
          98.0375625403386,
          89.83132989563896,
          84.22694246024273,
          77.31442986188443,
          72.22207429194647,
          67.02228365540333,
          63.40181865409489
         ],
         "yaxis": "y6"
        },
        {
         "marker": {
          "color": "Red",
          "size": 15,
          "symbol": "star"
         },
         "mode": "markers",
         "type": "scatter",
         "x": [
          "4 Topics"
         ],
         "xaxis": "x6",
         "y": [
          131.21336920146874
         ],
         "yaxis": "y6"
        },
        {
         "name": "db_index",
         "type": "scatter",
         "x": [
          "2 Topics",
          "4 Topics",
          "6 Topics",
          "8 Topics",
          "10 Topics",
          "15 Topics",
          "20 Topics",
          "25 Topics",
          "30 Topics",
          "35 Topics",
          "40 Topics",
          "45 Topics",
          "50 Topics"
         ],
         "xaxis": "x7",
         "y": [
          6.435643815754174,
          5.094351123583723,
          4.687334851913598,
          4.415303111348037,
          4.6087010943110505,
          4.495199302936734,
          4.628257087737267,
          4.839571774041246,
          4.872006767638159,
          4.894709720771695,
          4.991881286682289,
          5.193191109161176,
          5.130188461187791
         ],
         "yaxis": "y7"
        },
        {
         "marker": {
          "color": "Red",
          "size": 15,
          "symbol": "star"
         },
         "mode": "markers",
         "type": "scatter",
         "x": [
          "8 Topics"
         ],
         "xaxis": "x7",
         "y": [
          4.415303111348037
         ],
         "yaxis": "y7"
        }
       ],
       "layout": {
        "annotations": [
         {
          "font": {
           "size": 16
          },
          "showarrow": false,
          "text": "Cv",
          "x": 0.5,
          "xanchor": "center",
          "xref": "paper",
          "y": 1,
          "yanchor": "bottom",
          "yref": "paper"
         },
         {
          "font": {
           "size": 16
          },
          "showarrow": false,
          "text": "UMass",
          "x": 0.5,
          "xanchor": "center",
          "xref": "paper",
          "y": 0.8671875,
          "yanchor": "bottom",
          "yref": "paper"
         },
         {
          "font": {
           "size": 16
          },
          "showarrow": false,
          "text": "NPMI",
          "x": 0.5,
          "xanchor": "center",
          "xref": "paper",
          "y": 0.734375,
          "yanchor": "bottom",
          "yref": "paper"
         },
         {
          "font": {
           "size": 16
          },
          "showarrow": false,
          "text": "UCI",
          "x": 0.5,
          "xanchor": "center",
          "xref": "paper",
          "y": 0.6015625,
          "yanchor": "bottom",
          "yref": "paper"
         },
         {
          "font": {
           "size": 16
          },
          "showarrow": false,
          "text": "Silhouette Score",
          "x": 0.5,
          "xanchor": "center",
          "xref": "paper",
          "y": 0.46875,
          "yanchor": "bottom",
          "yref": "paper"
         },
         {
          "font": {
           "size": 16
          },
          "showarrow": false,
          "text": "Calinski-Harabasz Score",
          "x": 0.5,
          "xanchor": "center",
          "xref": "paper",
          "y": 0.3359375,
          "yanchor": "bottom",
          "yref": "paper"
         },
         {
          "font": {
           "size": 16
          },
          "showarrow": false,
          "text": "Davies-Bouldin Score",
          "x": 0.5,
          "xanchor": "center",
          "xref": "paper",
          "y": 0.203125,
          "yanchor": "bottom",
          "yref": "paper"
         },
         {
          "showarrow": false,
          "text": "Best K",
          "x": "15 Topics",
          "xref": "x",
          "y": 0.4323260892213783,
          "yref": "y",
          "yshift": 20
         },
         {
          "showarrow": false,
          "text": "Best K",
          "x": "2 Topics",
          "xref": "x2",
          "y": -3.217180714010678,
          "yref": "y2",
          "yshift": 20
         },
         {
          "showarrow": false,
          "text": "Best K",
          "x": "4 Topics",
          "xref": "x3",
          "y": 0.0463726824939201,
          "yref": "y3",
          "yshift": 20
         },
         {
          "showarrow": false,
          "text": "Best K",
          "x": "4 Topics",
          "xref": "x4",
          "y": 0.1474321954233547,
          "yref": "y4",
          "yshift": 20
         },
         {
          "showarrow": false,
          "text": "Best K",
          "x": "50 Topics",
          "xref": "x5",
          "y": -0.0398195431296464,
          "yref": "y5",
          "yshift": 20
         },
         {
          "showarrow": false,
          "text": "Best K",
          "x": "4 Topics",
          "xref": "x6",
          "y": 131.21336920146874,
          "yref": "y6",
          "yshift": 20
         },
         {
          "showarrow": false,
          "text": "Best K",
          "x": "8 Topics",
          "xref": "x7",
          "y": 4.415303111348037,
          "yref": "y7",
          "yshift": 20
         }
        ],
        "height": 1600,
        "shapes": [
         {
          "line": {
           "color": "SeaGreen",
           "width": 10
          },
          "opacity": 0.5,
          "type": "line",
          "x0": "15 Topics",
          "x1": "15 Topics",
          "xref": "x",
          "y0": 0.3635070392550568,
          "y1": 0.4323260892213783,
          "yref": "y"
         },
         {
          "line": {
           "color": "SeaGreen",
           "width": 10
          },
          "opacity": 0.5,
          "type": "line",
          "x0": "2 Topics",
          "x1": "2 Topics",
          "xref": "x2",
          "y0": -3.589428818439392,
          "y1": -3.217180714010678,
          "yref": "y2"
         },
         {
          "line": {
           "color": "SeaGreen",
           "width": 10
          },
          "opacity": 0.5,
          "type": "line",
          "x0": "4 Topics",
          "x1": "4 Topics",
          "xref": "x3",
          "y0": -0.001752155652406,
          "y1": 0.0463726824939201,
          "yref": "y3"
         },
         {
          "line": {
           "color": "SeaGreen",
           "width": 10
          },
          "opacity": 0.5,
          "type": "line",
          "x0": "4 Topics",
          "x1": "4 Topics",
          "xref": "x4",
          "y0": -0.5531061089291262,
          "y1": 0.1474321954233547,
          "yref": "y4"
         },
         {
          "line": {
           "color": "SeaGreen",
           "width": 10
          },
          "opacity": 0.5,
          "type": "line",
          "x0": "50 Topics",
          "x1": "50 Topics",
          "xref": "x5",
          "y0": -0.0798482677451694,
          "y1": -0.0398195431296464,
          "yref": "y5"
         },
         {
          "line": {
           "color": "SeaGreen",
           "width": 10
          },
          "opacity": 0.5,
          "type": "line",
          "x0": "4 Topics",
          "x1": "4 Topics",
          "xref": "x6",
          "y0": 63.40181865409489,
          "y1": 131.21336920146874,
          "yref": "y6"
         },
         {
          "line": {
           "color": "SeaGreen",
           "width": 10
          },
          "opacity": 0.5,
          "type": "line",
          "x0": "8 Topics",
          "x1": "8 Topics",
          "xref": "x7",
          "y0": 3.415303111348037,
          "y1": 4.415303111348037,
          "yref": "y7"
         }
        ],
        "showlegend": false,
        "template": {
         "data": {
          "bar": [
           {
            "error_x": {
             "color": "#2a3f5f"
            },
            "error_y": {
             "color": "#2a3f5f"
            },
            "marker": {
             "line": {
              "color": "#E5ECF6",
              "width": 0.5
             },
             "pattern": {
              "fillmode": "overlay",
              "size": 10,
              "solidity": 0.2
             }
            },
            "type": "bar"
           }
          ],
          "barpolar": [
           {
            "marker": {
             "line": {
              "color": "#E5ECF6",
              "width": 0.5
             },
             "pattern": {
              "fillmode": "overlay",
              "size": 10,
              "solidity": 0.2
             }
            },
            "type": "barpolar"
           }
          ],
          "carpet": [
           {
            "aaxis": {
             "endlinecolor": "#2a3f5f",
             "gridcolor": "white",
             "linecolor": "white",
             "minorgridcolor": "white",
             "startlinecolor": "#2a3f5f"
            },
            "baxis": {
             "endlinecolor": "#2a3f5f",
             "gridcolor": "white",
             "linecolor": "white",
             "minorgridcolor": "white",
             "startlinecolor": "#2a3f5f"
            },
            "type": "carpet"
           }
          ],
          "choropleth": [
           {
            "colorbar": {
             "outlinewidth": 0,
             "ticks": ""
            },
            "type": "choropleth"
           }
          ],
          "contour": [
           {
            "colorbar": {
             "outlinewidth": 0,
             "ticks": ""
            },
            "colorscale": [
             [
              0,
              "#0d0887"
             ],
             [
              0.1111111111111111,
              "#46039f"
             ],
             [
              0.2222222222222222,
              "#7201a8"
             ],
             [
              0.3333333333333333,
              "#9c179e"
             ],
             [
              0.4444444444444444,
              "#bd3786"
             ],
             [
              0.5555555555555556,
              "#d8576b"
             ],
             [
              0.6666666666666666,
              "#ed7953"
             ],
             [
              0.7777777777777778,
              "#fb9f3a"
             ],
             [
              0.8888888888888888,
              "#fdca26"
             ],
             [
              1,
              "#f0f921"
             ]
            ],
            "type": "contour"
           }
          ],
          "contourcarpet": [
           {
            "colorbar": {
             "outlinewidth": 0,
             "ticks": ""
            },
            "type": "contourcarpet"
           }
          ],
          "heatmap": [
           {
            "colorbar": {
             "outlinewidth": 0,
             "ticks": ""
            },
            "colorscale": [
             [
              0,
              "#0d0887"
             ],
             [
              0.1111111111111111,
              "#46039f"
             ],
             [
              0.2222222222222222,
              "#7201a8"
             ],
             [
              0.3333333333333333,
              "#9c179e"
             ],
             [
              0.4444444444444444,
              "#bd3786"
             ],
             [
              0.5555555555555556,
              "#d8576b"
             ],
             [
              0.6666666666666666,
              "#ed7953"
             ],
             [
              0.7777777777777778,
              "#fb9f3a"
             ],
             [
              0.8888888888888888,
              "#fdca26"
             ],
             [
              1,
              "#f0f921"
             ]
            ],
            "type": "heatmap"
           }
          ],
          "heatmapgl": [
           {
            "colorbar": {
             "outlinewidth": 0,
             "ticks": ""
            },
            "colorscale": [
             [
              0,
              "#0d0887"
             ],
             [
              0.1111111111111111,
              "#46039f"
             ],
             [
              0.2222222222222222,
              "#7201a8"
             ],
             [
              0.3333333333333333,
              "#9c179e"
             ],
             [
              0.4444444444444444,
              "#bd3786"
             ],
             [
              0.5555555555555556,
              "#d8576b"
             ],
             [
              0.6666666666666666,
              "#ed7953"
             ],
             [
              0.7777777777777778,
              "#fb9f3a"
             ],
             [
              0.8888888888888888,
              "#fdca26"
             ],
             [
              1,
              "#f0f921"
             ]
            ],
            "type": "heatmapgl"
           }
          ],
          "histogram": [
           {
            "marker": {
             "pattern": {
              "fillmode": "overlay",
              "size": 10,
              "solidity": 0.2
             }
            },
            "type": "histogram"
           }
          ],
          "histogram2d": [
           {
            "colorbar": {
             "outlinewidth": 0,
             "ticks": ""
            },
            "colorscale": [
             [
              0,
              "#0d0887"
             ],
             [
              0.1111111111111111,
              "#46039f"
             ],
             [
              0.2222222222222222,
              "#7201a8"
             ],
             [
              0.3333333333333333,
              "#9c179e"
             ],
             [
              0.4444444444444444,
              "#bd3786"
             ],
             [
              0.5555555555555556,
              "#d8576b"
             ],
             [
              0.6666666666666666,
              "#ed7953"
             ],
             [
              0.7777777777777778,
              "#fb9f3a"
             ],
             [
              0.8888888888888888,
              "#fdca26"
             ],
             [
              1,
              "#f0f921"
             ]
            ],
            "type": "histogram2d"
           }
          ],
          "histogram2dcontour": [
           {
            "colorbar": {
             "outlinewidth": 0,
             "ticks": ""
            },
            "colorscale": [
             [
              0,
              "#0d0887"
             ],
             [
              0.1111111111111111,
              "#46039f"
             ],
             [
              0.2222222222222222,
              "#7201a8"
             ],
             [
              0.3333333333333333,
              "#9c179e"
             ],
             [
              0.4444444444444444,
              "#bd3786"
             ],
             [
              0.5555555555555556,
              "#d8576b"
             ],
             [
              0.6666666666666666,
              "#ed7953"
             ],
             [
              0.7777777777777778,
              "#fb9f3a"
             ],
             [
              0.8888888888888888,
              "#fdca26"
             ],
             [
              1,
              "#f0f921"
             ]
            ],
            "type": "histogram2dcontour"
           }
          ],
          "mesh3d": [
           {
            "colorbar": {
             "outlinewidth": 0,
             "ticks": ""
            },
            "type": "mesh3d"
           }
          ],
          "parcoords": [
           {
            "line": {
             "colorbar": {
              "outlinewidth": 0,
              "ticks": ""
             }
            },
            "type": "parcoords"
           }
          ],
          "pie": [
           {
            "automargin": true,
            "type": "pie"
           }
          ],
          "scatter": [
           {
            "marker": {
             "colorbar": {
              "outlinewidth": 0,
              "ticks": ""
             }
            },
            "type": "scatter"
           }
          ],
          "scatter3d": [
           {
            "line": {
             "colorbar": {
              "outlinewidth": 0,
              "ticks": ""
             }
            },
            "marker": {
             "colorbar": {
              "outlinewidth": 0,
              "ticks": ""
             }
            },
            "type": "scatter3d"
           }
          ],
          "scattercarpet": [
           {
            "marker": {
             "colorbar": {
              "outlinewidth": 0,
              "ticks": ""
             }
            },
            "type": "scattercarpet"
           }
          ],
          "scattergeo": [
           {
            "marker": {
             "colorbar": {
              "outlinewidth": 0,
              "ticks": ""
             }
            },
            "type": "scattergeo"
           }
          ],
          "scattergl": [
           {
            "marker": {
             "colorbar": {
              "outlinewidth": 0,
              "ticks": ""
             }
            },
            "type": "scattergl"
           }
          ],
          "scattermapbox": [
           {
            "marker": {
             "colorbar": {
              "outlinewidth": 0,
              "ticks": ""
             }
            },
            "type": "scattermapbox"
           }
          ],
          "scatterpolar": [
           {
            "marker": {
             "colorbar": {
              "outlinewidth": 0,
              "ticks": ""
             }
            },
            "type": "scatterpolar"
           }
          ],
          "scatterpolargl": [
           {
            "marker": {
             "colorbar": {
              "outlinewidth": 0,
              "ticks": ""
             }
            },
            "type": "scatterpolargl"
           }
          ],
          "scatterternary": [
           {
            "marker": {
             "colorbar": {
              "outlinewidth": 0,
              "ticks": ""
             }
            },
            "type": "scatterternary"
           }
          ],
          "surface": [
           {
            "colorbar": {
             "outlinewidth": 0,
             "ticks": ""
            },
            "colorscale": [
             [
              0,
              "#0d0887"
             ],
             [
              0.1111111111111111,
              "#46039f"
             ],
             [
              0.2222222222222222,
              "#7201a8"
             ],
             [
              0.3333333333333333,
              "#9c179e"
             ],
             [
              0.4444444444444444,
              "#bd3786"
             ],
             [
              0.5555555555555556,
              "#d8576b"
             ],
             [
              0.6666666666666666,
              "#ed7953"
             ],
             [
              0.7777777777777778,
              "#fb9f3a"
             ],
             [
              0.8888888888888888,
              "#fdca26"
             ],
             [
              1,
              "#f0f921"
             ]
            ],
            "type": "surface"
           }
          ],
          "table": [
           {
            "cells": {
             "fill": {
              "color": "#EBF0F8"
             },
             "line": {
              "color": "white"
             }
            },
            "header": {
             "fill": {
              "color": "#C8D4E3"
             },
             "line": {
              "color": "white"
             }
            },
            "type": "table"
           }
          ]
         },
         "layout": {
          "annotationdefaults": {
           "arrowcolor": "#2a3f5f",
           "arrowhead": 0,
           "arrowwidth": 1
          },
          "autotypenumbers": "strict",
          "coloraxis": {
           "colorbar": {
            "outlinewidth": 0,
            "ticks": ""
           }
          },
          "colorscale": {
           "diverging": [
            [
             0,
             "#8e0152"
            ],
            [
             0.1,
             "#c51b7d"
            ],
            [
             0.2,
             "#de77ae"
            ],
            [
             0.3,
             "#f1b6da"
            ],
            [
             0.4,
             "#fde0ef"
            ],
            [
             0.5,
             "#f7f7f7"
            ],
            [
             0.6,
             "#e6f5d0"
            ],
            [
             0.7,
             "#b8e186"
            ],
            [
             0.8,
             "#7fbc41"
            ],
            [
             0.9,
             "#4d9221"
            ],
            [
             1,
             "#276419"
            ]
           ],
           "sequential": [
            [
             0,
             "#0d0887"
            ],
            [
             0.1111111111111111,
             "#46039f"
            ],
            [
             0.2222222222222222,
             "#7201a8"
            ],
            [
             0.3333333333333333,
             "#9c179e"
            ],
            [
             0.4444444444444444,
             "#bd3786"
            ],
            [
             0.5555555555555556,
             "#d8576b"
            ],
            [
             0.6666666666666666,
             "#ed7953"
            ],
            [
             0.7777777777777778,
             "#fb9f3a"
            ],
            [
             0.8888888888888888,
             "#fdca26"
            ],
            [
             1,
             "#f0f921"
            ]
           ],
           "sequentialminus": [
            [
             0,
             "#0d0887"
            ],
            [
             0.1111111111111111,
             "#46039f"
            ],
            [
             0.2222222222222222,
             "#7201a8"
            ],
            [
             0.3333333333333333,
             "#9c179e"
            ],
            [
             0.4444444444444444,
             "#bd3786"
            ],
            [
             0.5555555555555556,
             "#d8576b"
            ],
            [
             0.6666666666666666,
             "#ed7953"
            ],
            [
             0.7777777777777778,
             "#fb9f3a"
            ],
            [
             0.8888888888888888,
             "#fdca26"
            ],
            [
             1,
             "#f0f921"
            ]
           ]
          },
          "colorway": [
           "#636efa",
           "#EF553B",
           "#00cc96",
           "#ab63fa",
           "#FFA15A",
           "#19d3f3",
           "#FF6692",
           "#B6E880",
           "#FF97FF",
           "#FECB52"
          ],
          "font": {
           "color": "#2a3f5f"
          },
          "geo": {
           "bgcolor": "white",
           "lakecolor": "white",
           "landcolor": "#E5ECF6",
           "showlakes": true,
           "showland": true,
           "subunitcolor": "white"
          },
          "hoverlabel": {
           "align": "left"
          },
          "hovermode": "closest",
          "mapbox": {
           "style": "light"
          },
          "paper_bgcolor": "white",
          "plot_bgcolor": "#E5ECF6",
          "polar": {
           "angularaxis": {
            "gridcolor": "white",
            "linecolor": "white",
            "ticks": ""
           },
           "bgcolor": "#E5ECF6",
           "radialaxis": {
            "gridcolor": "white",
            "linecolor": "white",
            "ticks": ""
           }
          },
          "scene": {
           "xaxis": {
            "backgroundcolor": "#E5ECF6",
            "gridcolor": "white",
            "gridwidth": 2,
            "linecolor": "white",
            "showbackground": true,
            "ticks": "",
            "zerolinecolor": "white"
           },
           "yaxis": {
            "backgroundcolor": "#E5ECF6",
            "gridcolor": "white",
            "gridwidth": 2,
            "linecolor": "white",
            "showbackground": true,
            "ticks": "",
            "zerolinecolor": "white"
           },
           "zaxis": {
            "backgroundcolor": "#E5ECF6",
            "gridcolor": "white",
            "gridwidth": 2,
            "linecolor": "white",
            "showbackground": true,
            "ticks": "",
            "zerolinecolor": "white"
           }
          },
          "shapedefaults": {
           "line": {
            "color": "#2a3f5f"
           }
          },
          "ternary": {
           "aaxis": {
            "gridcolor": "white",
            "linecolor": "white",
            "ticks": ""
           },
           "baxis": {
            "gridcolor": "white",
            "linecolor": "white",
            "ticks": ""
           },
           "bgcolor": "#E5ECF6",
           "caxis": {
            "gridcolor": "white",
            "linecolor": "white",
            "ticks": ""
           }
          },
          "title": {
           "x": 0.05
          },
          "xaxis": {
           "automargin": true,
           "gridcolor": "white",
           "linecolor": "white",
           "ticks": "",
           "title": {
            "standoff": 15
           },
           "zerolinecolor": "white",
           "zerolinewidth": 2
          },
          "yaxis": {
           "automargin": true,
           "gridcolor": "white",
           "linecolor": "white",
           "ticks": "",
           "title": {
            "standoff": 15
           },
           "zerolinecolor": "white",
           "zerolinewidth": 2
          }
         }
        },
        "title": {
         "text": "Results LSA with TF-IDF"
        },
        "width": 900,
        "xaxis": {
         "anchor": "y",
         "domain": [
          0,
          1
         ]
        },
        "xaxis2": {
         "anchor": "y2",
         "domain": [
          0,
          1
         ]
        },
        "xaxis3": {
         "anchor": "y3",
         "domain": [
          0,
          1
         ]
        },
        "xaxis4": {
         "anchor": "y4",
         "domain": [
          0,
          1
         ]
        },
        "xaxis5": {
         "anchor": "y5",
         "domain": [
          0,
          1
         ]
        },
        "xaxis6": {
         "anchor": "y6",
         "domain": [
          0,
          1
         ]
        },
        "xaxis7": {
         "anchor": "y7",
         "domain": [
          0,
          1
         ]
        },
        "xaxis8": {
         "anchor": "y8",
         "domain": [
          0,
          1
         ]
        },
        "yaxis": {
         "anchor": "x",
         "domain": [
          0.9296875,
          1
         ],
         "title": {
          "text": "Metric Values"
         }
        },
        "yaxis2": {
         "anchor": "x2",
         "domain": [
          0.796875,
          0.8671875
         ],
         "title": {
          "text": "Metric Values"
         }
        },
        "yaxis3": {
         "anchor": "x3",
         "domain": [
          0.6640625,
          0.734375
         ],
         "title": {
          "text": "Metric Values"
         }
        },
        "yaxis4": {
         "anchor": "x4",
         "domain": [
          0.53125,
          0.6015625
         ],
         "title": {
          "text": "Metric Values"
         }
        },
        "yaxis5": {
         "anchor": "x5",
         "domain": [
          0.3984375,
          0.46875
         ],
         "title": {
          "text": "Metric Values"
         }
        },
        "yaxis6": {
         "anchor": "x6",
         "domain": [
          0.265625,
          0.3359375
         ],
         "title": {
          "text": "Metric Values"
         }
        },
        "yaxis7": {
         "anchor": "x7",
         "domain": [
          0.1328125,
          0.203125
         ],
         "title": {
          "text": "Metric Values"
         }
        },
        "yaxis8": {
         "anchor": "x8",
         "domain": [
          0,
          0.0703125
         ],
         "title": {
          "text": "Metric Values"
         }
        }
       }
      }
     },
     "metadata": {},
     "output_type": "display_data"
    }
   ],
   "source": [
    "\n",
    "plot_results(eval_lsa_tfidf, \"Results LSA with TF-IDF\")"
   ]
  },
  {
   "cell_type": "markdown",
   "metadata": {},
   "source": [
    "## LDA TF"
   ]
  },
  {
   "cell_type": "code",
   "execution_count": 70,
   "metadata": {},
   "outputs": [
    {
     "name": "stdout",
     "output_type": "stream",
     "text": [
      "\n",
      "Coherence Score CV:  0.3994719813132219\n",
      "\n",
      "Coherence Score UMass:  -2.3999356361398103\n",
      "\n",
      "Coherence Score NPMI:  -0.005286439539325485\n",
      "\n",
      "Coherence Score UCI:  -0.06143101849510031\n",
      "\n",
      "Silhouette Score:  0.028091287172420955\n",
      "\n",
      "Calinski-Harabasz Score:  46.46415418103314\n",
      "\n",
      "Davies-Bouldin Score:  14.591858720859726\n",
      "\n",
      "Coherence Score CV:  0.4862293976680549\n",
      "\n",
      "Coherence Score UMass:  -2.6467849226660913\n",
      "\n",
      "Coherence Score NPMI:  0.016581040746009773\n",
      "\n",
      "Coherence Score UCI:  0.08778906967453522\n",
      "\n",
      "Silhouette Score:  -0.03601273409164889\n",
      "\n",
      "Calinski-Harabasz Score:  43.51197129654778\n",
      "\n",
      "Davies-Bouldin Score:  12.300181551717841\n",
      "\n",
      "Coherence Score CV:  0.494427792208917\n",
      "\n",
      "Coherence Score UMass:  -2.684130544244424\n",
      "\n",
      "Coherence Score NPMI:  0.0325136376108365\n",
      "\n",
      "Coherence Score UCI:  0.19443848908589736\n",
      "\n",
      "Silhouette Score:  -0.1078797056484464\n",
      "\n",
      "Calinski-Harabasz Score:  33.183104577973936\n",
      "\n",
      "Davies-Bouldin Score:  12.805879996982634\n",
      "\n",
      "Coherence Score CV:  0.4924863528277992\n",
      "\n",
      "Coherence Score UMass:  -2.8106624166120167\n",
      "\n",
      "Coherence Score NPMI:  0.020374259069813123\n",
      "\n",
      "Coherence Score UCI:  -0.0011625297131426654\n",
      "\n",
      "Silhouette Score:  -0.12157967475199914\n",
      "\n",
      "Calinski-Harabasz Score:  25.948007584207726\n",
      "\n",
      "Davies-Bouldin Score:  12.862559568639565\n",
      "\n",
      "Coherence Score CV:  0.5002083498396561\n",
      "\n",
      "Coherence Score UMass:  -2.7376413403046627\n",
      "\n",
      "Coherence Score NPMI:  0.02187502993027707\n",
      "\n",
      "Coherence Score UCI:  0.09459322586495512\n",
      "\n",
      "Silhouette Score:  -0.15854455724109484\n",
      "\n",
      "Calinski-Harabasz Score:  21.72078683798208\n",
      "\n",
      "Davies-Bouldin Score:  13.323633691067462\n",
      "\n",
      "Coherence Score CV:  0.5382975589061793\n",
      "\n",
      "Coherence Score UMass:  -2.7230968794820196\n",
      "\n",
      "Coherence Score NPMI:  0.02546206774646258\n",
      "\n",
      "Coherence Score UCI:  0.09955991102006069\n",
      "\n",
      "Silhouette Score:  -0.18274601994642972\n",
      "\n",
      "Calinski-Harabasz Score:  14.35008108104728\n",
      "\n",
      "Davies-Bouldin Score:  13.401076149536435\n",
      "\n",
      "Coherence Score CV:  0.4925593195190496\n",
      "\n",
      "Coherence Score UMass:  -3.015985197930667\n",
      "\n",
      "Coherence Score NPMI:  -0.012189936878423818\n",
      "\n",
      "Coherence Score UCI:  -0.7202358809038466\n",
      "\n",
      "Silhouette Score:  -0.2084664157984207\n",
      "\n",
      "Calinski-Harabasz Score:  9.487213738741511\n",
      "\n",
      "Davies-Bouldin Score:  13.282040650143804\n",
      "\n",
      "Coherence Score CV:  0.4304301014366728\n",
      "\n",
      "Coherence Score UMass:  -3.4098534064022044\n",
      "\n",
      "Coherence Score NPMI:  -0.049255315615020855\n",
      "\n",
      "Coherence Score UCI:  -1.678672490494317\n",
      "\n",
      "Silhouette Score:  -0.21522135015521562\n",
      "\n",
      "Calinski-Harabasz Score:  7.286002428881247\n",
      "\n",
      "Davies-Bouldin Score:  13.414925697147972\n",
      "\n",
      "Coherence Score CV:  0.433382834855562\n",
      "\n",
      "Coherence Score UMass:  -3.894507779388571\n",
      "\n",
      "Coherence Score NPMI:  -0.0689186349982541\n",
      "\n",
      "Coherence Score UCI:  -2.308461406623173\n",
      "\n",
      "Silhouette Score:  -0.22632562983796797\n",
      "\n",
      "Calinski-Harabasz Score:  6.6157202734330145\n",
      "\n",
      "Davies-Bouldin Score:  13.272162995127172\n",
      "\n",
      "Coherence Score CV:  0.403449067045595\n",
      "\n",
      "Coherence Score UMass:  -4.333322601659023\n",
      "\n",
      "Coherence Score NPMI:  -0.10920329152921415\n",
      "\n",
      "Coherence Score UCI:  -3.42555198448619\n",
      "\n",
      "Silhouette Score:  -0.23177604927161455\n",
      "\n",
      "Calinski-Harabasz Score:  6.060904047360907\n",
      "\n",
      "Davies-Bouldin Score:  12.695797461824018\n",
      "\n",
      "Coherence Score CV:  0.37879219465438185\n",
      "\n",
      "Coherence Score UMass:  -4.835519846781015\n",
      "\n",
      "Coherence Score NPMI:  -0.14654470868471764\n",
      "\n",
      "Coherence Score UCI:  -4.4261579963114\n",
      "\n",
      "Silhouette Score:  -0.24625031031993103\n",
      "\n",
      "Calinski-Harabasz Score:  5.450790663303553\n",
      "\n",
      "Davies-Bouldin Score:  12.326526791610998\n",
      "\n",
      "Coherence Score CV:  0.36835525988839574\n",
      "\n",
      "Coherence Score UMass:  -5.323616558887227\n",
      "\n",
      "Coherence Score NPMI:  -0.18688815742968634\n",
      "\n",
      "Coherence Score UCI:  -5.577469372485007\n",
      "\n",
      "Silhouette Score:  -0.2520517974320286\n",
      "\n",
      "Calinski-Harabasz Score:  5.140360261282892\n",
      "\n",
      "Davies-Bouldin Score:  11.823061736040213\n",
      "\n",
      "Coherence Score CV:  0.35598131636204305\n",
      "\n",
      "Coherence Score UMass:  -6.098834068357319\n",
      "\n",
      "Coherence Score NPMI:  -0.23045822504795319\n",
      "\n",
      "Coherence Score UCI:  -6.857282567065216\n",
      "\n",
      "Silhouette Score:  -0.2564101726925279\n",
      "\n",
      "Calinski-Harabasz Score:  4.832813426522496\n",
      "\n",
      "Davies-Bouldin Score:  11.539768420625624\n",
      "FINISHED! Evaluation of 20.000 Documents for topic modelling are evaluated!\n"
     ]
    }
   ],
   "source": [
    "n_components = [2,4,6,8,10, 15, 20, 25, 30, 35, 40, 45, 50]\n",
    "eval_lda_tf = find_best_k(n_components,\"LDA\", tf_fit, tf, tf_feature_names, 20, df['cut_and_clean'], dictionary)"
   ]
  },
  {
   "cell_type": "code",
   "execution_count": 271,
   "metadata": {},
   "outputs": [],
   "source": [
    "eval_lda_tf = pd.read_csv('../Results/bestk_lda_tf.csv').set_index(\"Unnamed: 0\")"
   ]
  },
  {
   "cell_type": "code",
   "execution_count": 272,
   "metadata": {},
   "outputs": [
    {
     "data": {
      "application/vnd.plotly.v1+json": {
       "config": {
        "plotlyServerURL": "https://plot.ly"
       },
       "data": [
        {
         "name": "cv",
         "type": "scatter",
         "x": [
          "2 Topics",
          "4 Topics",
          "6 Topics",
          "8 Topics",
          "10 Topics",
          "15 Topics",
          "20 Topics",
          "25 Topics",
          "30 Topics",
          "35 Topics",
          "40 Topics",
          "45 Topics",
          "50 Topics"
         ],
         "xaxis": "x",
         "y": [
          0.3994719813132219,
          0.4862293976680549,
          0.494427792208917,
          0.4924863528277992,
          0.5002083498396561,
          0.5382975589061793,
          0.4925593195190496,
          0.4304301014366728,
          0.433382834855562,
          0.403449067045595,
          0.3787921946543818,
          0.3683552598883957,
          0.355981316362043
         ],
         "yaxis": "y"
        },
        {
         "marker": {
          "color": "Red",
          "size": 15,
          "symbol": "star"
         },
         "mode": "markers",
         "type": "scatter",
         "x": [
          "15 Topics"
         ],
         "xaxis": "x",
         "y": [
          0.5382975589061793
         ],
         "yaxis": "y"
        },
        {
         "name": "c_umass",
         "type": "scatter",
         "x": [
          "2 Topics",
          "4 Topics",
          "6 Topics",
          "8 Topics",
          "10 Topics",
          "15 Topics",
          "20 Topics",
          "25 Topics",
          "30 Topics",
          "35 Topics",
          "40 Topics",
          "45 Topics",
          "50 Topics"
         ],
         "xaxis": "x2",
         "y": [
          -2.3999356361398103,
          -2.6467849226660918,
          -2.684130544244424,
          -2.8106624166120167,
          -2.7376413403046627,
          -2.72309687948202,
          -3.015985197930667,
          -3.4098534064022044,
          -3.894507779388571,
          -4.333322601659023,
          -4.835519846781015,
          -5.323616558887227,
          -6.098834068357319
         ],
         "yaxis": "y2"
        },
        {
         "marker": {
          "color": "Red",
          "size": 15,
          "symbol": "star"
         },
         "mode": "markers",
         "type": "scatter",
         "x": [
          "2 Topics"
         ],
         "xaxis": "x2",
         "y": [
          -2.3999356361398103
         ],
         "yaxis": "y2"
        },
        {
         "name": "c_npmi",
         "type": "scatter",
         "x": [
          "2 Topics",
          "4 Topics",
          "6 Topics",
          "8 Topics",
          "10 Topics",
          "15 Topics",
          "20 Topics",
          "25 Topics",
          "30 Topics",
          "35 Topics",
          "40 Topics",
          "45 Topics",
          "50 Topics"
         ],
         "xaxis": "x3",
         "y": [
          -0.0052864395393254,
          0.0165810407460097,
          0.0325136376108365,
          0.0203742590698131,
          0.021875029930277,
          0.0254620677464625,
          -0.0121899368784238,
          -0.0492553156150208,
          -0.0689186349982541,
          -0.1092032915292141,
          -0.1465447086847176,
          -0.1868881574296863,
          -0.2304582250479531
         ],
         "yaxis": "y3"
        },
        {
         "marker": {
          "color": "Red",
          "size": 15,
          "symbol": "star"
         },
         "mode": "markers",
         "type": "scatter",
         "x": [
          "6 Topics"
         ],
         "xaxis": "x3",
         "y": [
          0.0325136376108365
         ],
         "yaxis": "y3"
        },
        {
         "name": "c_uci",
         "type": "scatter",
         "x": [
          "2 Topics",
          "4 Topics",
          "6 Topics",
          "8 Topics",
          "10 Topics",
          "15 Topics",
          "20 Topics",
          "25 Topics",
          "30 Topics",
          "35 Topics",
          "40 Topics",
          "45 Topics",
          "50 Topics"
         ],
         "xaxis": "x4",
         "y": [
          -0.0614310184951003,
          0.0877890696745352,
          0.1944384890858973,
          -0.0011625297131426,
          0.0945932258649551,
          0.0995599110200606,
          -0.7202358809038466,
          -1.678672490494317,
          -2.308461406623173,
          -3.42555198448619,
          -4.4261579963114,
          -5.577469372485007,
          -6.857282567065216
         ],
         "yaxis": "y4"
        },
        {
         "marker": {
          "color": "Red",
          "size": 15,
          "symbol": "star"
         },
         "mode": "markers",
         "type": "scatter",
         "x": [
          "6 Topics"
         ],
         "xaxis": "x4",
         "y": [
          0.1944384890858973
         ],
         "yaxis": "y4"
        },
        {
         "name": "sil_score",
         "type": "scatter",
         "x": [
          "2 Topics",
          "4 Topics",
          "6 Topics",
          "8 Topics",
          "10 Topics",
          "15 Topics",
          "20 Topics",
          "25 Topics",
          "30 Topics",
          "35 Topics",
          "40 Topics",
          "45 Topics",
          "50 Topics"
         ],
         "xaxis": "x5",
         "y": [
          0.0280912871724209,
          -0.0360127340916488,
          -0.1078797056484464,
          -0.1215796747519991,
          -0.1585445572410948,
          -0.1827460199464297,
          -0.2084664157984207,
          -0.2152213501552156,
          -0.2263256298379679,
          -0.2317760492716145,
          -0.246250310319931,
          -0.2520517974320286,
          -0.2564101726925279
         ],
         "yaxis": "y5"
        },
        {
         "marker": {
          "color": "Red",
          "size": 15,
          "symbol": "star"
         },
         "mode": "markers",
         "type": "scatter",
         "x": [
          "2 Topics"
         ],
         "xaxis": "x5",
         "y": [
          0.0280912871724209
         ],
         "yaxis": "y5"
        },
        {
         "name": "ch_index",
         "type": "scatter",
         "x": [
          "2 Topics",
          "4 Topics",
          "6 Topics",
          "8 Topics",
          "10 Topics",
          "15 Topics",
          "20 Topics",
          "25 Topics",
          "30 Topics",
          "35 Topics",
          "40 Topics",
          "45 Topics",
          "50 Topics"
         ],
         "xaxis": "x6",
         "y": [
          46.46415418103314,
          43.51197129654778,
          33.183104577973936,
          25.948007584207726,
          21.72078683798208,
          14.35008108104728,
          9.487213738741511,
          7.286002428881247,
          6.615720273433015,
          6.060904047360907,
          5.450790663303553,
          5.140360261282892,
          4.832813426522496
         ],
         "yaxis": "y6"
        },
        {
         "marker": {
          "color": "Red",
          "size": 15,
          "symbol": "star"
         },
         "mode": "markers",
         "type": "scatter",
         "x": [
          "2 Topics"
         ],
         "xaxis": "x6",
         "y": [
          46.46415418103314
         ],
         "yaxis": "y6"
        },
        {
         "name": "db_index",
         "type": "scatter",
         "x": [
          "2 Topics",
          "4 Topics",
          "6 Topics",
          "8 Topics",
          "10 Topics",
          "15 Topics",
          "20 Topics",
          "25 Topics",
          "30 Topics",
          "35 Topics",
          "40 Topics",
          "45 Topics",
          "50 Topics"
         ],
         "xaxis": "x7",
         "y": [
          14.591858720859726,
          12.30018155171784,
          12.805879996982634,
          12.862559568639565,
          13.323633691067462,
          13.401076149536436,
          13.282040650143804,
          13.414925697147972,
          13.272162995127172,
          12.695797461824018,
          12.326526791610998,
          11.823061736040213,
          11.539768420625624
         ],
         "yaxis": "y7"
        },
        {
         "marker": {
          "color": "Red",
          "size": 15,
          "symbol": "star"
         },
         "mode": "markers",
         "type": "scatter",
         "x": [
          "50 Topics"
         ],
         "xaxis": "x7",
         "y": [
          11.539768420625624
         ],
         "yaxis": "y7"
        }
       ],
       "layout": {
        "annotations": [
         {
          "font": {
           "size": 16
          },
          "showarrow": false,
          "text": "Cv",
          "x": 0.5,
          "xanchor": "center",
          "xref": "paper",
          "y": 1,
          "yanchor": "bottom",
          "yref": "paper"
         },
         {
          "font": {
           "size": 16
          },
          "showarrow": false,
          "text": "UMass",
          "x": 0.5,
          "xanchor": "center",
          "xref": "paper",
          "y": 0.8671875,
          "yanchor": "bottom",
          "yref": "paper"
         },
         {
          "font": {
           "size": 16
          },
          "showarrow": false,
          "text": "NPMI",
          "x": 0.5,
          "xanchor": "center",
          "xref": "paper",
          "y": 0.734375,
          "yanchor": "bottom",
          "yref": "paper"
         },
         {
          "font": {
           "size": 16
          },
          "showarrow": false,
          "text": "UCI",
          "x": 0.5,
          "xanchor": "center",
          "xref": "paper",
          "y": 0.6015625,
          "yanchor": "bottom",
          "yref": "paper"
         },
         {
          "font": {
           "size": 16
          },
          "showarrow": false,
          "text": "Silhouette Score",
          "x": 0.5,
          "xanchor": "center",
          "xref": "paper",
          "y": 0.46875,
          "yanchor": "bottom",
          "yref": "paper"
         },
         {
          "font": {
           "size": 16
          },
          "showarrow": false,
          "text": "Calinski-Harabasz Score",
          "x": 0.5,
          "xanchor": "center",
          "xref": "paper",
          "y": 0.3359375,
          "yanchor": "bottom",
          "yref": "paper"
         },
         {
          "font": {
           "size": 16
          },
          "showarrow": false,
          "text": "Davies-Bouldin Score",
          "x": 0.5,
          "xanchor": "center",
          "xref": "paper",
          "y": 0.203125,
          "yanchor": "bottom",
          "yref": "paper"
         },
         {
          "showarrow": false,
          "text": "Best K",
          "x": "15 Topics",
          "xref": "x",
          "y": 0.5382975589061793,
          "yref": "y",
          "yshift": 20
         },
         {
          "showarrow": false,
          "text": "Best K",
          "x": "2 Topics",
          "xref": "x2",
          "y": -2.3999356361398103,
          "yref": "y2",
          "yshift": 20
         },
         {
          "showarrow": false,
          "text": "Best K",
          "x": "6 Topics",
          "xref": "x3",
          "y": 0.0325136376108365,
          "yref": "y3",
          "yshift": 20
         },
         {
          "showarrow": false,
          "text": "Best K",
          "x": "6 Topics",
          "xref": "x4",
          "y": 0.1944384890858973,
          "yref": "y4",
          "yshift": 20
         },
         {
          "showarrow": false,
          "text": "Best K",
          "x": "2 Topics",
          "xref": "x5",
          "y": 0.0280912871724209,
          "yref": "y5",
          "yshift": 20
         },
         {
          "showarrow": false,
          "text": "Best K",
          "x": "2 Topics",
          "xref": "x6",
          "y": 46.46415418103314,
          "yref": "y6",
          "yshift": 20
         },
         {
          "showarrow": false,
          "text": "Best K",
          "x": "50 Topics",
          "xref": "x7",
          "y": 11.539768420625624,
          "yref": "y7",
          "yshift": 20
         }
        ],
        "height": 1600,
        "shapes": [
         {
          "line": {
           "color": "SeaGreen",
           "width": 10
          },
          "opacity": 0.5,
          "type": "line",
          "x0": "15 Topics",
          "x1": "15 Topics",
          "xref": "x",
          "y0": 0.355981316362043,
          "y1": 0.5382975589061793,
          "yref": "y"
         },
         {
          "line": {
           "color": "SeaGreen",
           "width": 10
          },
          "opacity": 0.5,
          "type": "line",
          "x0": "2 Topics",
          "x1": "2 Topics",
          "xref": "x2",
          "y0": -6.098834068357319,
          "y1": -2.3999356361398103,
          "yref": "y2"
         },
         {
          "line": {
           "color": "SeaGreen",
           "width": 10
          },
          "opacity": 0.5,
          "type": "line",
          "x0": "6 Topics",
          "x1": "6 Topics",
          "xref": "x3",
          "y0": -0.2304582250479531,
          "y1": 0.0325136376108365,
          "yref": "y3"
         },
         {
          "line": {
           "color": "SeaGreen",
           "width": 10
          },
          "opacity": 0.5,
          "type": "line",
          "x0": "6 Topics",
          "x1": "6 Topics",
          "xref": "x4",
          "y0": -6.857282567065216,
          "y1": 0.1944384890858973,
          "yref": "y4"
         },
         {
          "line": {
           "color": "SeaGreen",
           "width": 10
          },
          "opacity": 0.5,
          "type": "line",
          "x0": "2 Topics",
          "x1": "2 Topics",
          "xref": "x5",
          "y0": -0.2564101726925279,
          "y1": 0.0280912871724209,
          "yref": "y5"
         },
         {
          "line": {
           "color": "SeaGreen",
           "width": 10
          },
          "opacity": 0.5,
          "type": "line",
          "x0": "2 Topics",
          "x1": "2 Topics",
          "xref": "x6",
          "y0": 4.832813426522496,
          "y1": 46.46415418103314,
          "yref": "y6"
         },
         {
          "line": {
           "color": "SeaGreen",
           "width": 10
          },
          "opacity": 0.5,
          "type": "line",
          "x0": "50 Topics",
          "x1": "50 Topics",
          "xref": "x7",
          "y0": 10.539768420625624,
          "y1": 11.539768420625624,
          "yref": "y7"
         }
        ],
        "showlegend": false,
        "template": {
         "data": {
          "bar": [
           {
            "error_x": {
             "color": "#2a3f5f"
            },
            "error_y": {
             "color": "#2a3f5f"
            },
            "marker": {
             "line": {
              "color": "#E5ECF6",
              "width": 0.5
             },
             "pattern": {
              "fillmode": "overlay",
              "size": 10,
              "solidity": 0.2
             }
            },
            "type": "bar"
           }
          ],
          "barpolar": [
           {
            "marker": {
             "line": {
              "color": "#E5ECF6",
              "width": 0.5
             },
             "pattern": {
              "fillmode": "overlay",
              "size": 10,
              "solidity": 0.2
             }
            },
            "type": "barpolar"
           }
          ],
          "carpet": [
           {
            "aaxis": {
             "endlinecolor": "#2a3f5f",
             "gridcolor": "white",
             "linecolor": "white",
             "minorgridcolor": "white",
             "startlinecolor": "#2a3f5f"
            },
            "baxis": {
             "endlinecolor": "#2a3f5f",
             "gridcolor": "white",
             "linecolor": "white",
             "minorgridcolor": "white",
             "startlinecolor": "#2a3f5f"
            },
            "type": "carpet"
           }
          ],
          "choropleth": [
           {
            "colorbar": {
             "outlinewidth": 0,
             "ticks": ""
            },
            "type": "choropleth"
           }
          ],
          "contour": [
           {
            "colorbar": {
             "outlinewidth": 0,
             "ticks": ""
            },
            "colorscale": [
             [
              0,
              "#0d0887"
             ],
             [
              0.1111111111111111,
              "#46039f"
             ],
             [
              0.2222222222222222,
              "#7201a8"
             ],
             [
              0.3333333333333333,
              "#9c179e"
             ],
             [
              0.4444444444444444,
              "#bd3786"
             ],
             [
              0.5555555555555556,
              "#d8576b"
             ],
             [
              0.6666666666666666,
              "#ed7953"
             ],
             [
              0.7777777777777778,
              "#fb9f3a"
             ],
             [
              0.8888888888888888,
              "#fdca26"
             ],
             [
              1,
              "#f0f921"
             ]
            ],
            "type": "contour"
           }
          ],
          "contourcarpet": [
           {
            "colorbar": {
             "outlinewidth": 0,
             "ticks": ""
            },
            "type": "contourcarpet"
           }
          ],
          "heatmap": [
           {
            "colorbar": {
             "outlinewidth": 0,
             "ticks": ""
            },
            "colorscale": [
             [
              0,
              "#0d0887"
             ],
             [
              0.1111111111111111,
              "#46039f"
             ],
             [
              0.2222222222222222,
              "#7201a8"
             ],
             [
              0.3333333333333333,
              "#9c179e"
             ],
             [
              0.4444444444444444,
              "#bd3786"
             ],
             [
              0.5555555555555556,
              "#d8576b"
             ],
             [
              0.6666666666666666,
              "#ed7953"
             ],
             [
              0.7777777777777778,
              "#fb9f3a"
             ],
             [
              0.8888888888888888,
              "#fdca26"
             ],
             [
              1,
              "#f0f921"
             ]
            ],
            "type": "heatmap"
           }
          ],
          "heatmapgl": [
           {
            "colorbar": {
             "outlinewidth": 0,
             "ticks": ""
            },
            "colorscale": [
             [
              0,
              "#0d0887"
             ],
             [
              0.1111111111111111,
              "#46039f"
             ],
             [
              0.2222222222222222,
              "#7201a8"
             ],
             [
              0.3333333333333333,
              "#9c179e"
             ],
             [
              0.4444444444444444,
              "#bd3786"
             ],
             [
              0.5555555555555556,
              "#d8576b"
             ],
             [
              0.6666666666666666,
              "#ed7953"
             ],
             [
              0.7777777777777778,
              "#fb9f3a"
             ],
             [
              0.8888888888888888,
              "#fdca26"
             ],
             [
              1,
              "#f0f921"
             ]
            ],
            "type": "heatmapgl"
           }
          ],
          "histogram": [
           {
            "marker": {
             "pattern": {
              "fillmode": "overlay",
              "size": 10,
              "solidity": 0.2
             }
            },
            "type": "histogram"
           }
          ],
          "histogram2d": [
           {
            "colorbar": {
             "outlinewidth": 0,
             "ticks": ""
            },
            "colorscale": [
             [
              0,
              "#0d0887"
             ],
             [
              0.1111111111111111,
              "#46039f"
             ],
             [
              0.2222222222222222,
              "#7201a8"
             ],
             [
              0.3333333333333333,
              "#9c179e"
             ],
             [
              0.4444444444444444,
              "#bd3786"
             ],
             [
              0.5555555555555556,
              "#d8576b"
             ],
             [
              0.6666666666666666,
              "#ed7953"
             ],
             [
              0.7777777777777778,
              "#fb9f3a"
             ],
             [
              0.8888888888888888,
              "#fdca26"
             ],
             [
              1,
              "#f0f921"
             ]
            ],
            "type": "histogram2d"
           }
          ],
          "histogram2dcontour": [
           {
            "colorbar": {
             "outlinewidth": 0,
             "ticks": ""
            },
            "colorscale": [
             [
              0,
              "#0d0887"
             ],
             [
              0.1111111111111111,
              "#46039f"
             ],
             [
              0.2222222222222222,
              "#7201a8"
             ],
             [
              0.3333333333333333,
              "#9c179e"
             ],
             [
              0.4444444444444444,
              "#bd3786"
             ],
             [
              0.5555555555555556,
              "#d8576b"
             ],
             [
              0.6666666666666666,
              "#ed7953"
             ],
             [
              0.7777777777777778,
              "#fb9f3a"
             ],
             [
              0.8888888888888888,
              "#fdca26"
             ],
             [
              1,
              "#f0f921"
             ]
            ],
            "type": "histogram2dcontour"
           }
          ],
          "mesh3d": [
           {
            "colorbar": {
             "outlinewidth": 0,
             "ticks": ""
            },
            "type": "mesh3d"
           }
          ],
          "parcoords": [
           {
            "line": {
             "colorbar": {
              "outlinewidth": 0,
              "ticks": ""
             }
            },
            "type": "parcoords"
           }
          ],
          "pie": [
           {
            "automargin": true,
            "type": "pie"
           }
          ],
          "scatter": [
           {
            "marker": {
             "colorbar": {
              "outlinewidth": 0,
              "ticks": ""
             }
            },
            "type": "scatter"
           }
          ],
          "scatter3d": [
           {
            "line": {
             "colorbar": {
              "outlinewidth": 0,
              "ticks": ""
             }
            },
            "marker": {
             "colorbar": {
              "outlinewidth": 0,
              "ticks": ""
             }
            },
            "type": "scatter3d"
           }
          ],
          "scattercarpet": [
           {
            "marker": {
             "colorbar": {
              "outlinewidth": 0,
              "ticks": ""
             }
            },
            "type": "scattercarpet"
           }
          ],
          "scattergeo": [
           {
            "marker": {
             "colorbar": {
              "outlinewidth": 0,
              "ticks": ""
             }
            },
            "type": "scattergeo"
           }
          ],
          "scattergl": [
           {
            "marker": {
             "colorbar": {
              "outlinewidth": 0,
              "ticks": ""
             }
            },
            "type": "scattergl"
           }
          ],
          "scattermapbox": [
           {
            "marker": {
             "colorbar": {
              "outlinewidth": 0,
              "ticks": ""
             }
            },
            "type": "scattermapbox"
           }
          ],
          "scatterpolar": [
           {
            "marker": {
             "colorbar": {
              "outlinewidth": 0,
              "ticks": ""
             }
            },
            "type": "scatterpolar"
           }
          ],
          "scatterpolargl": [
           {
            "marker": {
             "colorbar": {
              "outlinewidth": 0,
              "ticks": ""
             }
            },
            "type": "scatterpolargl"
           }
          ],
          "scatterternary": [
           {
            "marker": {
             "colorbar": {
              "outlinewidth": 0,
              "ticks": ""
             }
            },
            "type": "scatterternary"
           }
          ],
          "surface": [
           {
            "colorbar": {
             "outlinewidth": 0,
             "ticks": ""
            },
            "colorscale": [
             [
              0,
              "#0d0887"
             ],
             [
              0.1111111111111111,
              "#46039f"
             ],
             [
              0.2222222222222222,
              "#7201a8"
             ],
             [
              0.3333333333333333,
              "#9c179e"
             ],
             [
              0.4444444444444444,
              "#bd3786"
             ],
             [
              0.5555555555555556,
              "#d8576b"
             ],
             [
              0.6666666666666666,
              "#ed7953"
             ],
             [
              0.7777777777777778,
              "#fb9f3a"
             ],
             [
              0.8888888888888888,
              "#fdca26"
             ],
             [
              1,
              "#f0f921"
             ]
            ],
            "type": "surface"
           }
          ],
          "table": [
           {
            "cells": {
             "fill": {
              "color": "#EBF0F8"
             },
             "line": {
              "color": "white"
             }
            },
            "header": {
             "fill": {
              "color": "#C8D4E3"
             },
             "line": {
              "color": "white"
             }
            },
            "type": "table"
           }
          ]
         },
         "layout": {
          "annotationdefaults": {
           "arrowcolor": "#2a3f5f",
           "arrowhead": 0,
           "arrowwidth": 1
          },
          "autotypenumbers": "strict",
          "coloraxis": {
           "colorbar": {
            "outlinewidth": 0,
            "ticks": ""
           }
          },
          "colorscale": {
           "diverging": [
            [
             0,
             "#8e0152"
            ],
            [
             0.1,
             "#c51b7d"
            ],
            [
             0.2,
             "#de77ae"
            ],
            [
             0.3,
             "#f1b6da"
            ],
            [
             0.4,
             "#fde0ef"
            ],
            [
             0.5,
             "#f7f7f7"
            ],
            [
             0.6,
             "#e6f5d0"
            ],
            [
             0.7,
             "#b8e186"
            ],
            [
             0.8,
             "#7fbc41"
            ],
            [
             0.9,
             "#4d9221"
            ],
            [
             1,
             "#276419"
            ]
           ],
           "sequential": [
            [
             0,
             "#0d0887"
            ],
            [
             0.1111111111111111,
             "#46039f"
            ],
            [
             0.2222222222222222,
             "#7201a8"
            ],
            [
             0.3333333333333333,
             "#9c179e"
            ],
            [
             0.4444444444444444,
             "#bd3786"
            ],
            [
             0.5555555555555556,
             "#d8576b"
            ],
            [
             0.6666666666666666,
             "#ed7953"
            ],
            [
             0.7777777777777778,
             "#fb9f3a"
            ],
            [
             0.8888888888888888,
             "#fdca26"
            ],
            [
             1,
             "#f0f921"
            ]
           ],
           "sequentialminus": [
            [
             0,
             "#0d0887"
            ],
            [
             0.1111111111111111,
             "#46039f"
            ],
            [
             0.2222222222222222,
             "#7201a8"
            ],
            [
             0.3333333333333333,
             "#9c179e"
            ],
            [
             0.4444444444444444,
             "#bd3786"
            ],
            [
             0.5555555555555556,
             "#d8576b"
            ],
            [
             0.6666666666666666,
             "#ed7953"
            ],
            [
             0.7777777777777778,
             "#fb9f3a"
            ],
            [
             0.8888888888888888,
             "#fdca26"
            ],
            [
             1,
             "#f0f921"
            ]
           ]
          },
          "colorway": [
           "#636efa",
           "#EF553B",
           "#00cc96",
           "#ab63fa",
           "#FFA15A",
           "#19d3f3",
           "#FF6692",
           "#B6E880",
           "#FF97FF",
           "#FECB52"
          ],
          "font": {
           "color": "#2a3f5f"
          },
          "geo": {
           "bgcolor": "white",
           "lakecolor": "white",
           "landcolor": "#E5ECF6",
           "showlakes": true,
           "showland": true,
           "subunitcolor": "white"
          },
          "hoverlabel": {
           "align": "left"
          },
          "hovermode": "closest",
          "mapbox": {
           "style": "light"
          },
          "paper_bgcolor": "white",
          "plot_bgcolor": "#E5ECF6",
          "polar": {
           "angularaxis": {
            "gridcolor": "white",
            "linecolor": "white",
            "ticks": ""
           },
           "bgcolor": "#E5ECF6",
           "radialaxis": {
            "gridcolor": "white",
            "linecolor": "white",
            "ticks": ""
           }
          },
          "scene": {
           "xaxis": {
            "backgroundcolor": "#E5ECF6",
            "gridcolor": "white",
            "gridwidth": 2,
            "linecolor": "white",
            "showbackground": true,
            "ticks": "",
            "zerolinecolor": "white"
           },
           "yaxis": {
            "backgroundcolor": "#E5ECF6",
            "gridcolor": "white",
            "gridwidth": 2,
            "linecolor": "white",
            "showbackground": true,
            "ticks": "",
            "zerolinecolor": "white"
           },
           "zaxis": {
            "backgroundcolor": "#E5ECF6",
            "gridcolor": "white",
            "gridwidth": 2,
            "linecolor": "white",
            "showbackground": true,
            "ticks": "",
            "zerolinecolor": "white"
           }
          },
          "shapedefaults": {
           "line": {
            "color": "#2a3f5f"
           }
          },
          "ternary": {
           "aaxis": {
            "gridcolor": "white",
            "linecolor": "white",
            "ticks": ""
           },
           "baxis": {
            "gridcolor": "white",
            "linecolor": "white",
            "ticks": ""
           },
           "bgcolor": "#E5ECF6",
           "caxis": {
            "gridcolor": "white",
            "linecolor": "white",
            "ticks": ""
           }
          },
          "title": {
           "x": 0.05
          },
          "xaxis": {
           "automargin": true,
           "gridcolor": "white",
           "linecolor": "white",
           "ticks": "",
           "title": {
            "standoff": 15
           },
           "zerolinecolor": "white",
           "zerolinewidth": 2
          },
          "yaxis": {
           "automargin": true,
           "gridcolor": "white",
           "linecolor": "white",
           "ticks": "",
           "title": {
            "standoff": 15
           },
           "zerolinecolor": "white",
           "zerolinewidth": 2
          }
         }
        },
        "title": {
         "text": "Results LDA with TF"
        },
        "width": 900,
        "xaxis": {
         "anchor": "y",
         "domain": [
          0,
          1
         ]
        },
        "xaxis2": {
         "anchor": "y2",
         "domain": [
          0,
          1
         ]
        },
        "xaxis3": {
         "anchor": "y3",
         "domain": [
          0,
          1
         ]
        },
        "xaxis4": {
         "anchor": "y4",
         "domain": [
          0,
          1
         ]
        },
        "xaxis5": {
         "anchor": "y5",
         "domain": [
          0,
          1
         ]
        },
        "xaxis6": {
         "anchor": "y6",
         "domain": [
          0,
          1
         ]
        },
        "xaxis7": {
         "anchor": "y7",
         "domain": [
          0,
          1
         ]
        },
        "xaxis8": {
         "anchor": "y8",
         "domain": [
          0,
          1
         ]
        },
        "yaxis": {
         "anchor": "x",
         "domain": [
          0.9296875,
          1
         ],
         "title": {
          "text": "Metric Values"
         }
        },
        "yaxis2": {
         "anchor": "x2",
         "domain": [
          0.796875,
          0.8671875
         ],
         "title": {
          "text": "Metric Values"
         }
        },
        "yaxis3": {
         "anchor": "x3",
         "domain": [
          0.6640625,
          0.734375
         ],
         "title": {
          "text": "Metric Values"
         }
        },
        "yaxis4": {
         "anchor": "x4",
         "domain": [
          0.53125,
          0.6015625
         ],
         "title": {
          "text": "Metric Values"
         }
        },
        "yaxis5": {
         "anchor": "x5",
         "domain": [
          0.3984375,
          0.46875
         ],
         "title": {
          "text": "Metric Values"
         }
        },
        "yaxis6": {
         "anchor": "x6",
         "domain": [
          0.265625,
          0.3359375
         ],
         "title": {
          "text": "Metric Values"
         }
        },
        "yaxis7": {
         "anchor": "x7",
         "domain": [
          0.1328125,
          0.203125
         ],
         "title": {
          "text": "Metric Values"
         }
        },
        "yaxis8": {
         "anchor": "x8",
         "domain": [
          0,
          0.0703125
         ],
         "title": {
          "text": "Metric Values"
         }
        }
       }
      }
     },
     "metadata": {},
     "output_type": "display_data"
    }
   ],
   "source": [
    "\n",
    "\n",
    "plot_results(eval_lda_tf, \"Results LDA with TF\")"
   ]
  },
  {
   "cell_type": "markdown",
   "metadata": {},
   "source": [
    "## LDA TF-IDF"
   ]
  },
  {
   "cell_type": "code",
   "execution_count": 78,
   "metadata": {},
   "outputs": [
    {
     "name": "stdout",
     "output_type": "stream",
     "text": [
      "\n",
      "Coherence Score CV:  0.3832235567977873\n",
      "\n",
      "Coherence Score UMass:  -3.1974645814717624\n",
      "\n",
      "Coherence Score NPMI:  -0.013685621229843799\n",
      "\n",
      "Coherence Score UCI:  -0.15146234301582695\n",
      "\n",
      "Silhouette Score:  0.004170832360680667\n",
      "\n",
      "Calinski-Harabasz Score:  32.529340783832\n",
      "\n",
      "Davies-Bouldin Score:  24.43579120879118\n",
      "\n",
      "Coherence Score CV:  0.4321151305411258\n",
      "\n",
      "Coherence Score UMass:  -3.108112201769347\n",
      "\n",
      "Coherence Score NPMI:  -0.003764235651671978\n",
      "\n",
      "Coherence Score UCI:  -0.0889849046977047\n",
      "\n",
      "Silhouette Score:  -0.011693917996888112\n",
      "\n",
      "Calinski-Harabasz Score:  23.248401326930576\n",
      "\n",
      "Davies-Bouldin Score:  21.896992504206615\n",
      "\n",
      "Coherence Score CV:  0.40678375437014763\n",
      "\n",
      "Coherence Score UMass:  -3.1518215982641173\n",
      "\n",
      "Coherence Score NPMI:  -0.007813616702243472\n",
      "\n",
      "Coherence Score UCI:  -0.15609866284764792\n",
      "\n",
      "Silhouette Score:  -0.0264555533414533\n",
      "\n",
      "Calinski-Harabasz Score:  20.034972629665663\n",
      "\n",
      "Davies-Bouldin Score:  20.12839954352513\n",
      "\n",
      "Coherence Score CV:  0.4151012927851969\n",
      "\n",
      "Coherence Score UMass:  -3.1136162998685877\n",
      "\n",
      "Coherence Score NPMI:  -0.005747903775382291\n",
      "\n",
      "Coherence Score UCI:  -0.113819985589203\n",
      "\n",
      "Silhouette Score:  -0.03803916864138661\n",
      "\n",
      "Calinski-Harabasz Score:  17.64529148002541\n",
      "\n",
      "Davies-Bouldin Score:  18.656149131434535\n",
      "\n",
      "Coherence Score CV:  0.3853283133699152\n",
      "\n",
      "Coherence Score UMass:  -3.3565646896529797\n",
      "\n",
      "Coherence Score NPMI:  -0.014480702492772713\n",
      "\n",
      "Coherence Score UCI:  -0.3977433778296897\n",
      "\n",
      "Silhouette Score:  -0.046084354454801815\n",
      "\n",
      "Calinski-Harabasz Score:  16.233159459036713\n",
      "\n",
      "Davies-Bouldin Score:  18.27142253249269\n",
      "\n",
      "Coherence Score CV:  0.28085494115571474\n",
      "\n",
      "Coherence Score UMass:  -4.337326606102533\n",
      "\n",
      "Coherence Score NPMI:  -0.11096408204370177\n",
      "\n",
      "Coherence Score UCI:  -2.9647328623891855\n",
      "\n",
      "Silhouette Score:  -0.07319269363068523\n",
      "\n",
      "Calinski-Harabasz Score:  14.892792170135717\n",
      "\n",
      "Davies-Bouldin Score:  15.939587491719582\n",
      "\n",
      "Coherence Score CV:  0.2993436445081033\n",
      "\n",
      "Coherence Score UMass:  -4.728289203760686\n",
      "\n",
      "Coherence Score NPMI:  -0.189165636934832\n",
      "\n",
      "Coherence Score UCI:  -5.22232770202123\n",
      "\n",
      "Silhouette Score:  -0.09052994230026305\n",
      "\n",
      "Calinski-Harabasz Score:  14.493631087796793\n",
      "\n",
      "Davies-Bouldin Score:  14.580367118562615\n",
      "\n",
      "Coherence Score CV:  0.30523509639004254\n",
      "\n",
      "Coherence Score UMass:  -4.794117888524553\n",
      "\n",
      "Coherence Score NPMI:  -0.21345902670302763\n",
      "\n",
      "Coherence Score UCI:  -5.891031436928623\n",
      "\n",
      "Silhouette Score:  -0.10169990806566608\n",
      "\n",
      "Calinski-Harabasz Score:  14.184018265199159\n",
      "\n",
      "Davies-Bouldin Score:  13.409601456968192\n",
      "\n",
      "Coherence Score CV:  0.29965491375926706\n",
      "\n",
      "Coherence Score UMass:  -5.023927391896505\n",
      "\n",
      "Coherence Score NPMI:  -0.2222070840870738\n",
      "\n",
      "Coherence Score UCI:  -6.1922024548702215\n",
      "\n",
      "Silhouette Score:  -0.1148932984115979\n",
      "\n",
      "Calinski-Harabasz Score:  13.843493261473084\n",
      "\n",
      "Davies-Bouldin Score:  12.348753567772182\n",
      "\n",
      "Coherence Score CV:  0.2988892403393451\n",
      "\n",
      "Coherence Score UMass:  -5.033273144512886\n",
      "\n",
      "Coherence Score NPMI:  -0.2184810523094842\n",
      "\n",
      "Coherence Score UCI:  -6.099919003356599\n",
      "\n",
      "Silhouette Score:  -0.12376229227368683\n",
      "\n",
      "Calinski-Harabasz Score:  13.911582722453746\n",
      "\n",
      "Davies-Bouldin Score:  11.440131207392199\n",
      "\n",
      "Coherence Score CV:  0.29145470334933055\n",
      "\n",
      "Coherence Score UMass:  -5.0142069117602635\n",
      "\n",
      "Coherence Score NPMI:  -0.22313585554624765\n",
      "\n",
      "Coherence Score UCI:  -6.229111918195255\n",
      "\n",
      "Silhouette Score:  -0.13053441865335524\n",
      "\n",
      "Calinski-Harabasz Score:  13.761703139543066\n",
      "\n",
      "Davies-Bouldin Score:  10.735475948238152\n",
      "\n",
      "Coherence Score CV:  0.292683221255026\n",
      "\n",
      "Coherence Score UMass:  -5.054540256821033\n",
      "\n",
      "Coherence Score NPMI:  -0.21285200937478801\n",
      "\n",
      "Coherence Score UCI:  -5.953010980329114\n",
      "\n",
      "Silhouette Score:  -0.13426646019998195\n",
      "\n",
      "Calinski-Harabasz Score:  13.896919159317754\n",
      "\n",
      "Davies-Bouldin Score:  10.190132871275598\n",
      "\n",
      "Coherence Score CV:  0.29634858888348925\n",
      "\n",
      "Coherence Score UMass:  -4.956228623815767\n",
      "\n",
      "Coherence Score NPMI:  -0.2140401153497977\n",
      "\n",
      "Coherence Score UCI:  -6.003492453767994\n",
      "\n",
      "Silhouette Score:  -0.13723274644688288\n",
      "\n",
      "Calinski-Harabasz Score:  13.754886075705166\n",
      "\n",
      "Davies-Bouldin Score:  9.83851576270692\n",
      "FINISHED! Evaluation of 20.000 Documents for topic modelling are evaluated!\n"
     ]
    }
   ],
   "source": [
    "n_components = [2,4,6,8,10, 15, 20, 25, 30, 35, 40, 45, 50]\n",
    "eval_lda_tfidf = find_best_k(n_components, \"LDA\", tfidf_fit, tfidf, tfidf_feature_names, 20, df['cut_and_clean'], dictionary)"
   ]
  },
  {
   "cell_type": "code",
   "execution_count": 273,
   "metadata": {},
   "outputs": [],
   "source": [
    "eval_lda_tfidf = pd.read_csv('../Results/bestk_lda_tfidf.csv').set_index(\"Unnamed: 0\")"
   ]
  },
  {
   "cell_type": "code",
   "execution_count": 274,
   "metadata": {},
   "outputs": [
    {
     "data": {
      "application/vnd.plotly.v1+json": {
       "config": {
        "plotlyServerURL": "https://plot.ly"
       },
       "data": [
        {
         "name": "cv",
         "type": "scatter",
         "x": [
          "2 Topics",
          "4 Topics",
          "6 Topics",
          "8 Topics",
          "10 Topics",
          "15 Topics",
          "20 Topics",
          "25 Topics",
          "30 Topics",
          "35 Topics",
          "40 Topics",
          "45 Topics",
          "50 Topics"
         ],
         "xaxis": "x",
         "y": [
          0.3832235567977873,
          0.4321151305411258,
          0.4067837543701476,
          0.4151012927851969,
          0.3853283133699152,
          0.2808549411557147,
          0.2993436445081033,
          0.3052350963900425,
          0.299654913759267,
          0.2988892403393451,
          0.2914547033493305,
          0.292683221255026,
          0.2963485888834892
         ],
         "yaxis": "y"
        },
        {
         "marker": {
          "color": "Red",
          "size": 15,
          "symbol": "star"
         },
         "mode": "markers",
         "type": "scatter",
         "x": [
          "4 Topics"
         ],
         "xaxis": "x",
         "y": [
          0.4321151305411258
         ],
         "yaxis": "y"
        },
        {
         "name": "c_umass",
         "type": "scatter",
         "x": [
          "2 Topics",
          "4 Topics",
          "6 Topics",
          "8 Topics",
          "10 Topics",
          "15 Topics",
          "20 Topics",
          "25 Topics",
          "30 Topics",
          "35 Topics",
          "40 Topics",
          "45 Topics",
          "50 Topics"
         ],
         "xaxis": "x2",
         "y": [
          -3.1974645814717624,
          -3.108112201769347,
          -3.1518215982641173,
          -3.113616299868588,
          -3.35656468965298,
          -4.337326606102533,
          -4.728289203760686,
          -4.794117888524553,
          -5.023927391896505,
          -5.033273144512886,
          -5.014206911760264,
          -5.054540256821033,
          -4.956228623815767
         ],
         "yaxis": "y2"
        },
        {
         "marker": {
          "color": "Red",
          "size": 15,
          "symbol": "star"
         },
         "mode": "markers",
         "type": "scatter",
         "x": [
          "4 Topics"
         ],
         "xaxis": "x2",
         "y": [
          -3.108112201769347
         ],
         "yaxis": "y2"
        },
        {
         "name": "c_npmi",
         "type": "scatter",
         "x": [
          "2 Topics",
          "4 Topics",
          "6 Topics",
          "8 Topics",
          "10 Topics",
          "15 Topics",
          "20 Topics",
          "25 Topics",
          "30 Topics",
          "35 Topics",
          "40 Topics",
          "45 Topics",
          "50 Topics"
         ],
         "xaxis": "x3",
         "y": [
          -0.0136856212298437,
          -0.0037642356516719,
          -0.0078136167022434,
          -0.0057479037753822,
          -0.0144807024927727,
          -0.1109640820437017,
          -0.189165636934832,
          -0.2134590267030276,
          -0.2222070840870738,
          -0.2184810523094842,
          -0.2231358555462476,
          -0.212852009374788,
          -0.2140401153497977
         ],
         "yaxis": "y3"
        },
        {
         "marker": {
          "color": "Red",
          "size": 15,
          "symbol": "star"
         },
         "mode": "markers",
         "type": "scatter",
         "x": [
          "4 Topics"
         ],
         "xaxis": "x3",
         "y": [
          -0.0037642356516719
         ],
         "yaxis": "y3"
        },
        {
         "name": "c_uci",
         "type": "scatter",
         "x": [
          "2 Topics",
          "4 Topics",
          "6 Topics",
          "8 Topics",
          "10 Topics",
          "15 Topics",
          "20 Topics",
          "25 Topics",
          "30 Topics",
          "35 Topics",
          "40 Topics",
          "45 Topics",
          "50 Topics"
         ],
         "xaxis": "x4",
         "y": [
          -0.1514623430158269,
          -0.0889849046977047,
          -0.1560986628476479,
          -0.113819985589203,
          -0.3977433778296897,
          -2.964732862389185,
          -5.22232770202123,
          -5.891031436928623,
          -6.1922024548702215,
          -6.099919003356599,
          -6.229111918195255,
          -5.953010980329114,
          -6.003492453767994
         ],
         "yaxis": "y4"
        },
        {
         "marker": {
          "color": "Red",
          "size": 15,
          "symbol": "star"
         },
         "mode": "markers",
         "type": "scatter",
         "x": [
          "4 Topics"
         ],
         "xaxis": "x4",
         "y": [
          -0.0889849046977047
         ],
         "yaxis": "y4"
        },
        {
         "name": "sil_score",
         "type": "scatter",
         "x": [
          "2 Topics",
          "4 Topics",
          "6 Topics",
          "8 Topics",
          "10 Topics",
          "15 Topics",
          "20 Topics",
          "25 Topics",
          "30 Topics",
          "35 Topics",
          "40 Topics",
          "45 Topics",
          "50 Topics"
         ],
         "xaxis": "x5",
         "y": [
          0.0041708323606806,
          -0.0116939179968881,
          -0.0264555533414533,
          -0.0380391686413866,
          -0.0460843544548018,
          -0.0731926936306852,
          -0.090529942300263,
          -0.101699908065666,
          -0.1148932984115979,
          -0.1237622922736868,
          -0.1305344186533552,
          -0.1342664601999819,
          -0.1372327464468828
         ],
         "yaxis": "y5"
        },
        {
         "marker": {
          "color": "Red",
          "size": 15,
          "symbol": "star"
         },
         "mode": "markers",
         "type": "scatter",
         "x": [
          "2 Topics"
         ],
         "xaxis": "x5",
         "y": [
          0.0041708323606806
         ],
         "yaxis": "y5"
        },
        {
         "name": "ch_index",
         "type": "scatter",
         "x": [
          "2 Topics",
          "4 Topics",
          "6 Topics",
          "8 Topics",
          "10 Topics",
          "15 Topics",
          "20 Topics",
          "25 Topics",
          "30 Topics",
          "35 Topics",
          "40 Topics",
          "45 Topics",
          "50 Topics"
         ],
         "xaxis": "x6",
         "y": [
          32.529340783832,
          23.248401326930576,
          20.034972629665663,
          17.64529148002541,
          16.233159459036713,
          14.892792170135715,
          14.493631087796793,
          14.18401826519916,
          13.843493261473084,
          13.911582722453746,
          13.761703139543066,
          13.896919159317754,
          13.754886075705166
         ],
         "yaxis": "y6"
        },
        {
         "marker": {
          "color": "Red",
          "size": 15,
          "symbol": "star"
         },
         "mode": "markers",
         "type": "scatter",
         "x": [
          "2 Topics"
         ],
         "xaxis": "x6",
         "y": [
          32.529340783832
         ],
         "yaxis": "y6"
        },
        {
         "name": "db_index",
         "type": "scatter",
         "x": [
          "2 Topics",
          "4 Topics",
          "6 Topics",
          "8 Topics",
          "10 Topics",
          "15 Topics",
          "20 Topics",
          "25 Topics",
          "30 Topics",
          "35 Topics",
          "40 Topics",
          "45 Topics",
          "50 Topics"
         ],
         "xaxis": "x7",
         "y": [
          24.43579120879118,
          21.89699250420661,
          20.12839954352513,
          18.656149131434532,
          18.27142253249269,
          15.939587491719582,
          14.580367118562616,
          13.409601456968192,
          12.348753567772182,
          11.4401312073922,
          10.735475948238152,
          10.190132871275598,
          9.83851576270692
         ],
         "yaxis": "y7"
        },
        {
         "marker": {
          "color": "Red",
          "size": 15,
          "symbol": "star"
         },
         "mode": "markers",
         "type": "scatter",
         "x": [
          "50 Topics"
         ],
         "xaxis": "x7",
         "y": [
          9.83851576270692
         ],
         "yaxis": "y7"
        }
       ],
       "layout": {
        "annotations": [
         {
          "font": {
           "size": 16
          },
          "showarrow": false,
          "text": "Cv",
          "x": 0.5,
          "xanchor": "center",
          "xref": "paper",
          "y": 1,
          "yanchor": "bottom",
          "yref": "paper"
         },
         {
          "font": {
           "size": 16
          },
          "showarrow": false,
          "text": "UMass",
          "x": 0.5,
          "xanchor": "center",
          "xref": "paper",
          "y": 0.8671875,
          "yanchor": "bottom",
          "yref": "paper"
         },
         {
          "font": {
           "size": 16
          },
          "showarrow": false,
          "text": "NPMI",
          "x": 0.5,
          "xanchor": "center",
          "xref": "paper",
          "y": 0.734375,
          "yanchor": "bottom",
          "yref": "paper"
         },
         {
          "font": {
           "size": 16
          },
          "showarrow": false,
          "text": "UCI",
          "x": 0.5,
          "xanchor": "center",
          "xref": "paper",
          "y": 0.6015625,
          "yanchor": "bottom",
          "yref": "paper"
         },
         {
          "font": {
           "size": 16
          },
          "showarrow": false,
          "text": "Silhouette Score",
          "x": 0.5,
          "xanchor": "center",
          "xref": "paper",
          "y": 0.46875,
          "yanchor": "bottom",
          "yref": "paper"
         },
         {
          "font": {
           "size": 16
          },
          "showarrow": false,
          "text": "Calinski-Harabasz Score",
          "x": 0.5,
          "xanchor": "center",
          "xref": "paper",
          "y": 0.3359375,
          "yanchor": "bottom",
          "yref": "paper"
         },
         {
          "font": {
           "size": 16
          },
          "showarrow": false,
          "text": "Davies-Bouldin Score",
          "x": 0.5,
          "xanchor": "center",
          "xref": "paper",
          "y": 0.203125,
          "yanchor": "bottom",
          "yref": "paper"
         },
         {
          "showarrow": false,
          "text": "Best K",
          "x": "4 Topics",
          "xref": "x",
          "y": 0.4321151305411258,
          "yref": "y",
          "yshift": 20
         },
         {
          "showarrow": false,
          "text": "Best K",
          "x": "4 Topics",
          "xref": "x2",
          "y": -3.108112201769347,
          "yref": "y2",
          "yshift": 20
         },
         {
          "showarrow": false,
          "text": "Best K",
          "x": "4 Topics",
          "xref": "x3",
          "y": -0.0037642356516719,
          "yref": "y3",
          "yshift": 20
         },
         {
          "showarrow": false,
          "text": "Best K",
          "x": "4 Topics",
          "xref": "x4",
          "y": -0.0889849046977047,
          "yref": "y4",
          "yshift": 20
         },
         {
          "showarrow": false,
          "text": "Best K",
          "x": "2 Topics",
          "xref": "x5",
          "y": 0.0041708323606806,
          "yref": "y5",
          "yshift": 20
         },
         {
          "showarrow": false,
          "text": "Best K",
          "x": "2 Topics",
          "xref": "x6",
          "y": 32.529340783832,
          "yref": "y6",
          "yshift": 20
         },
         {
          "showarrow": false,
          "text": "Best K",
          "x": "50 Topics",
          "xref": "x7",
          "y": 9.83851576270692,
          "yref": "y7",
          "yshift": 20
         }
        ],
        "height": 1600,
        "shapes": [
         {
          "line": {
           "color": "SeaGreen",
           "width": 10
          },
          "opacity": 0.5,
          "type": "line",
          "x0": "4 Topics",
          "x1": "4 Topics",
          "xref": "x",
          "y0": 0.2808549411557147,
          "y1": 0.4321151305411258,
          "yref": "y"
         },
         {
          "line": {
           "color": "SeaGreen",
           "width": 10
          },
          "opacity": 0.5,
          "type": "line",
          "x0": "4 Topics",
          "x1": "4 Topics",
          "xref": "x2",
          "y0": -5.054540256821033,
          "y1": -3.108112201769347,
          "yref": "y2"
         },
         {
          "line": {
           "color": "SeaGreen",
           "width": 10
          },
          "opacity": 0.5,
          "type": "line",
          "x0": "4 Topics",
          "x1": "4 Topics",
          "xref": "x3",
          "y0": -0.2231358555462476,
          "y1": -0.0037642356516719,
          "yref": "y3"
         },
         {
          "line": {
           "color": "SeaGreen",
           "width": 10
          },
          "opacity": 0.5,
          "type": "line",
          "x0": "4 Topics",
          "x1": "4 Topics",
          "xref": "x4",
          "y0": -6.229111918195255,
          "y1": -0.0889849046977047,
          "yref": "y4"
         },
         {
          "line": {
           "color": "SeaGreen",
           "width": 10
          },
          "opacity": 0.5,
          "type": "line",
          "x0": "2 Topics",
          "x1": "2 Topics",
          "xref": "x5",
          "y0": -0.1372327464468828,
          "y1": 0.0041708323606806,
          "yref": "y5"
         },
         {
          "line": {
           "color": "SeaGreen",
           "width": 10
          },
          "opacity": 0.5,
          "type": "line",
          "x0": "2 Topics",
          "x1": "2 Topics",
          "xref": "x6",
          "y0": 13.754886075705166,
          "y1": 32.529340783832,
          "yref": "y6"
         },
         {
          "line": {
           "color": "SeaGreen",
           "width": 10
          },
          "opacity": 0.5,
          "type": "line",
          "x0": "50 Topics",
          "x1": "50 Topics",
          "xref": "x7",
          "y0": 8.83851576270692,
          "y1": 9.83851576270692,
          "yref": "y7"
         }
        ],
        "showlegend": false,
        "template": {
         "data": {
          "bar": [
           {
            "error_x": {
             "color": "#2a3f5f"
            },
            "error_y": {
             "color": "#2a3f5f"
            },
            "marker": {
             "line": {
              "color": "#E5ECF6",
              "width": 0.5
             },
             "pattern": {
              "fillmode": "overlay",
              "size": 10,
              "solidity": 0.2
             }
            },
            "type": "bar"
           }
          ],
          "barpolar": [
           {
            "marker": {
             "line": {
              "color": "#E5ECF6",
              "width": 0.5
             },
             "pattern": {
              "fillmode": "overlay",
              "size": 10,
              "solidity": 0.2
             }
            },
            "type": "barpolar"
           }
          ],
          "carpet": [
           {
            "aaxis": {
             "endlinecolor": "#2a3f5f",
             "gridcolor": "white",
             "linecolor": "white",
             "minorgridcolor": "white",
             "startlinecolor": "#2a3f5f"
            },
            "baxis": {
             "endlinecolor": "#2a3f5f",
             "gridcolor": "white",
             "linecolor": "white",
             "minorgridcolor": "white",
             "startlinecolor": "#2a3f5f"
            },
            "type": "carpet"
           }
          ],
          "choropleth": [
           {
            "colorbar": {
             "outlinewidth": 0,
             "ticks": ""
            },
            "type": "choropleth"
           }
          ],
          "contour": [
           {
            "colorbar": {
             "outlinewidth": 0,
             "ticks": ""
            },
            "colorscale": [
             [
              0,
              "#0d0887"
             ],
             [
              0.1111111111111111,
              "#46039f"
             ],
             [
              0.2222222222222222,
              "#7201a8"
             ],
             [
              0.3333333333333333,
              "#9c179e"
             ],
             [
              0.4444444444444444,
              "#bd3786"
             ],
             [
              0.5555555555555556,
              "#d8576b"
             ],
             [
              0.6666666666666666,
              "#ed7953"
             ],
             [
              0.7777777777777778,
              "#fb9f3a"
             ],
             [
              0.8888888888888888,
              "#fdca26"
             ],
             [
              1,
              "#f0f921"
             ]
            ],
            "type": "contour"
           }
          ],
          "contourcarpet": [
           {
            "colorbar": {
             "outlinewidth": 0,
             "ticks": ""
            },
            "type": "contourcarpet"
           }
          ],
          "heatmap": [
           {
            "colorbar": {
             "outlinewidth": 0,
             "ticks": ""
            },
            "colorscale": [
             [
              0,
              "#0d0887"
             ],
             [
              0.1111111111111111,
              "#46039f"
             ],
             [
              0.2222222222222222,
              "#7201a8"
             ],
             [
              0.3333333333333333,
              "#9c179e"
             ],
             [
              0.4444444444444444,
              "#bd3786"
             ],
             [
              0.5555555555555556,
              "#d8576b"
             ],
             [
              0.6666666666666666,
              "#ed7953"
             ],
             [
              0.7777777777777778,
              "#fb9f3a"
             ],
             [
              0.8888888888888888,
              "#fdca26"
             ],
             [
              1,
              "#f0f921"
             ]
            ],
            "type": "heatmap"
           }
          ],
          "heatmapgl": [
           {
            "colorbar": {
             "outlinewidth": 0,
             "ticks": ""
            },
            "colorscale": [
             [
              0,
              "#0d0887"
             ],
             [
              0.1111111111111111,
              "#46039f"
             ],
             [
              0.2222222222222222,
              "#7201a8"
             ],
             [
              0.3333333333333333,
              "#9c179e"
             ],
             [
              0.4444444444444444,
              "#bd3786"
             ],
             [
              0.5555555555555556,
              "#d8576b"
             ],
             [
              0.6666666666666666,
              "#ed7953"
             ],
             [
              0.7777777777777778,
              "#fb9f3a"
             ],
             [
              0.8888888888888888,
              "#fdca26"
             ],
             [
              1,
              "#f0f921"
             ]
            ],
            "type": "heatmapgl"
           }
          ],
          "histogram": [
           {
            "marker": {
             "pattern": {
              "fillmode": "overlay",
              "size": 10,
              "solidity": 0.2
             }
            },
            "type": "histogram"
           }
          ],
          "histogram2d": [
           {
            "colorbar": {
             "outlinewidth": 0,
             "ticks": ""
            },
            "colorscale": [
             [
              0,
              "#0d0887"
             ],
             [
              0.1111111111111111,
              "#46039f"
             ],
             [
              0.2222222222222222,
              "#7201a8"
             ],
             [
              0.3333333333333333,
              "#9c179e"
             ],
             [
              0.4444444444444444,
              "#bd3786"
             ],
             [
              0.5555555555555556,
              "#d8576b"
             ],
             [
              0.6666666666666666,
              "#ed7953"
             ],
             [
              0.7777777777777778,
              "#fb9f3a"
             ],
             [
              0.8888888888888888,
              "#fdca26"
             ],
             [
              1,
              "#f0f921"
             ]
            ],
            "type": "histogram2d"
           }
          ],
          "histogram2dcontour": [
           {
            "colorbar": {
             "outlinewidth": 0,
             "ticks": ""
            },
            "colorscale": [
             [
              0,
              "#0d0887"
             ],
             [
              0.1111111111111111,
              "#46039f"
             ],
             [
              0.2222222222222222,
              "#7201a8"
             ],
             [
              0.3333333333333333,
              "#9c179e"
             ],
             [
              0.4444444444444444,
              "#bd3786"
             ],
             [
              0.5555555555555556,
              "#d8576b"
             ],
             [
              0.6666666666666666,
              "#ed7953"
             ],
             [
              0.7777777777777778,
              "#fb9f3a"
             ],
             [
              0.8888888888888888,
              "#fdca26"
             ],
             [
              1,
              "#f0f921"
             ]
            ],
            "type": "histogram2dcontour"
           }
          ],
          "mesh3d": [
           {
            "colorbar": {
             "outlinewidth": 0,
             "ticks": ""
            },
            "type": "mesh3d"
           }
          ],
          "parcoords": [
           {
            "line": {
             "colorbar": {
              "outlinewidth": 0,
              "ticks": ""
             }
            },
            "type": "parcoords"
           }
          ],
          "pie": [
           {
            "automargin": true,
            "type": "pie"
           }
          ],
          "scatter": [
           {
            "marker": {
             "colorbar": {
              "outlinewidth": 0,
              "ticks": ""
             }
            },
            "type": "scatter"
           }
          ],
          "scatter3d": [
           {
            "line": {
             "colorbar": {
              "outlinewidth": 0,
              "ticks": ""
             }
            },
            "marker": {
             "colorbar": {
              "outlinewidth": 0,
              "ticks": ""
             }
            },
            "type": "scatter3d"
           }
          ],
          "scattercarpet": [
           {
            "marker": {
             "colorbar": {
              "outlinewidth": 0,
              "ticks": ""
             }
            },
            "type": "scattercarpet"
           }
          ],
          "scattergeo": [
           {
            "marker": {
             "colorbar": {
              "outlinewidth": 0,
              "ticks": ""
             }
            },
            "type": "scattergeo"
           }
          ],
          "scattergl": [
           {
            "marker": {
             "colorbar": {
              "outlinewidth": 0,
              "ticks": ""
             }
            },
            "type": "scattergl"
           }
          ],
          "scattermapbox": [
           {
            "marker": {
             "colorbar": {
              "outlinewidth": 0,
              "ticks": ""
             }
            },
            "type": "scattermapbox"
           }
          ],
          "scatterpolar": [
           {
            "marker": {
             "colorbar": {
              "outlinewidth": 0,
              "ticks": ""
             }
            },
            "type": "scatterpolar"
           }
          ],
          "scatterpolargl": [
           {
            "marker": {
             "colorbar": {
              "outlinewidth": 0,
              "ticks": ""
             }
            },
            "type": "scatterpolargl"
           }
          ],
          "scatterternary": [
           {
            "marker": {
             "colorbar": {
              "outlinewidth": 0,
              "ticks": ""
             }
            },
            "type": "scatterternary"
           }
          ],
          "surface": [
           {
            "colorbar": {
             "outlinewidth": 0,
             "ticks": ""
            },
            "colorscale": [
             [
              0,
              "#0d0887"
             ],
             [
              0.1111111111111111,
              "#46039f"
             ],
             [
              0.2222222222222222,
              "#7201a8"
             ],
             [
              0.3333333333333333,
              "#9c179e"
             ],
             [
              0.4444444444444444,
              "#bd3786"
             ],
             [
              0.5555555555555556,
              "#d8576b"
             ],
             [
              0.6666666666666666,
              "#ed7953"
             ],
             [
              0.7777777777777778,
              "#fb9f3a"
             ],
             [
              0.8888888888888888,
              "#fdca26"
             ],
             [
              1,
              "#f0f921"
             ]
            ],
            "type": "surface"
           }
          ],
          "table": [
           {
            "cells": {
             "fill": {
              "color": "#EBF0F8"
             },
             "line": {
              "color": "white"
             }
            },
            "header": {
             "fill": {
              "color": "#C8D4E3"
             },
             "line": {
              "color": "white"
             }
            },
            "type": "table"
           }
          ]
         },
         "layout": {
          "annotationdefaults": {
           "arrowcolor": "#2a3f5f",
           "arrowhead": 0,
           "arrowwidth": 1
          },
          "autotypenumbers": "strict",
          "coloraxis": {
           "colorbar": {
            "outlinewidth": 0,
            "ticks": ""
           }
          },
          "colorscale": {
           "diverging": [
            [
             0,
             "#8e0152"
            ],
            [
             0.1,
             "#c51b7d"
            ],
            [
             0.2,
             "#de77ae"
            ],
            [
             0.3,
             "#f1b6da"
            ],
            [
             0.4,
             "#fde0ef"
            ],
            [
             0.5,
             "#f7f7f7"
            ],
            [
             0.6,
             "#e6f5d0"
            ],
            [
             0.7,
             "#b8e186"
            ],
            [
             0.8,
             "#7fbc41"
            ],
            [
             0.9,
             "#4d9221"
            ],
            [
             1,
             "#276419"
            ]
           ],
           "sequential": [
            [
             0,
             "#0d0887"
            ],
            [
             0.1111111111111111,
             "#46039f"
            ],
            [
             0.2222222222222222,
             "#7201a8"
            ],
            [
             0.3333333333333333,
             "#9c179e"
            ],
            [
             0.4444444444444444,
             "#bd3786"
            ],
            [
             0.5555555555555556,
             "#d8576b"
            ],
            [
             0.6666666666666666,
             "#ed7953"
            ],
            [
             0.7777777777777778,
             "#fb9f3a"
            ],
            [
             0.8888888888888888,
             "#fdca26"
            ],
            [
             1,
             "#f0f921"
            ]
           ],
           "sequentialminus": [
            [
             0,
             "#0d0887"
            ],
            [
             0.1111111111111111,
             "#46039f"
            ],
            [
             0.2222222222222222,
             "#7201a8"
            ],
            [
             0.3333333333333333,
             "#9c179e"
            ],
            [
             0.4444444444444444,
             "#bd3786"
            ],
            [
             0.5555555555555556,
             "#d8576b"
            ],
            [
             0.6666666666666666,
             "#ed7953"
            ],
            [
             0.7777777777777778,
             "#fb9f3a"
            ],
            [
             0.8888888888888888,
             "#fdca26"
            ],
            [
             1,
             "#f0f921"
            ]
           ]
          },
          "colorway": [
           "#636efa",
           "#EF553B",
           "#00cc96",
           "#ab63fa",
           "#FFA15A",
           "#19d3f3",
           "#FF6692",
           "#B6E880",
           "#FF97FF",
           "#FECB52"
          ],
          "font": {
           "color": "#2a3f5f"
          },
          "geo": {
           "bgcolor": "white",
           "lakecolor": "white",
           "landcolor": "#E5ECF6",
           "showlakes": true,
           "showland": true,
           "subunitcolor": "white"
          },
          "hoverlabel": {
           "align": "left"
          },
          "hovermode": "closest",
          "mapbox": {
           "style": "light"
          },
          "paper_bgcolor": "white",
          "plot_bgcolor": "#E5ECF6",
          "polar": {
           "angularaxis": {
            "gridcolor": "white",
            "linecolor": "white",
            "ticks": ""
           },
           "bgcolor": "#E5ECF6",
           "radialaxis": {
            "gridcolor": "white",
            "linecolor": "white",
            "ticks": ""
           }
          },
          "scene": {
           "xaxis": {
            "backgroundcolor": "#E5ECF6",
            "gridcolor": "white",
            "gridwidth": 2,
            "linecolor": "white",
            "showbackground": true,
            "ticks": "",
            "zerolinecolor": "white"
           },
           "yaxis": {
            "backgroundcolor": "#E5ECF6",
            "gridcolor": "white",
            "gridwidth": 2,
            "linecolor": "white",
            "showbackground": true,
            "ticks": "",
            "zerolinecolor": "white"
           },
           "zaxis": {
            "backgroundcolor": "#E5ECF6",
            "gridcolor": "white",
            "gridwidth": 2,
            "linecolor": "white",
            "showbackground": true,
            "ticks": "",
            "zerolinecolor": "white"
           }
          },
          "shapedefaults": {
           "line": {
            "color": "#2a3f5f"
           }
          },
          "ternary": {
           "aaxis": {
            "gridcolor": "white",
            "linecolor": "white",
            "ticks": ""
           },
           "baxis": {
            "gridcolor": "white",
            "linecolor": "white",
            "ticks": ""
           },
           "bgcolor": "#E5ECF6",
           "caxis": {
            "gridcolor": "white",
            "linecolor": "white",
            "ticks": ""
           }
          },
          "title": {
           "x": 0.05
          },
          "xaxis": {
           "automargin": true,
           "gridcolor": "white",
           "linecolor": "white",
           "ticks": "",
           "title": {
            "standoff": 15
           },
           "zerolinecolor": "white",
           "zerolinewidth": 2
          },
          "yaxis": {
           "automargin": true,
           "gridcolor": "white",
           "linecolor": "white",
           "ticks": "",
           "title": {
            "standoff": 15
           },
           "zerolinecolor": "white",
           "zerolinewidth": 2
          }
         }
        },
        "title": {
         "text": "Results LDA with TF-IDF"
        },
        "width": 900,
        "xaxis": {
         "anchor": "y",
         "domain": [
          0,
          1
         ]
        },
        "xaxis2": {
         "anchor": "y2",
         "domain": [
          0,
          1
         ]
        },
        "xaxis3": {
         "anchor": "y3",
         "domain": [
          0,
          1
         ]
        },
        "xaxis4": {
         "anchor": "y4",
         "domain": [
          0,
          1
         ]
        },
        "xaxis5": {
         "anchor": "y5",
         "domain": [
          0,
          1
         ]
        },
        "xaxis6": {
         "anchor": "y6",
         "domain": [
          0,
          1
         ]
        },
        "xaxis7": {
         "anchor": "y7",
         "domain": [
          0,
          1
         ]
        },
        "xaxis8": {
         "anchor": "y8",
         "domain": [
          0,
          1
         ]
        },
        "yaxis": {
         "anchor": "x",
         "domain": [
          0.9296875,
          1
         ],
         "title": {
          "text": "Metric Values"
         }
        },
        "yaxis2": {
         "anchor": "x2",
         "domain": [
          0.796875,
          0.8671875
         ],
         "title": {
          "text": "Metric Values"
         }
        },
        "yaxis3": {
         "anchor": "x3",
         "domain": [
          0.6640625,
          0.734375
         ],
         "title": {
          "text": "Metric Values"
         }
        },
        "yaxis4": {
         "anchor": "x4",
         "domain": [
          0.53125,
          0.6015625
         ],
         "title": {
          "text": "Metric Values"
         }
        },
        "yaxis5": {
         "anchor": "x5",
         "domain": [
          0.3984375,
          0.46875
         ],
         "title": {
          "text": "Metric Values"
         }
        },
        "yaxis6": {
         "anchor": "x6",
         "domain": [
          0.265625,
          0.3359375
         ],
         "title": {
          "text": "Metric Values"
         }
        },
        "yaxis7": {
         "anchor": "x7",
         "domain": [
          0.1328125,
          0.203125
         ],
         "title": {
          "text": "Metric Values"
         }
        },
        "yaxis8": {
         "anchor": "x8",
         "domain": [
          0,
          0.0703125
         ],
         "title": {
          "text": "Metric Values"
         }
        }
       }
      }
     },
     "metadata": {},
     "output_type": "display_data"
    }
   ],
   "source": [
    "\n",
    "\n",
    "plot_results(eval_lda_tfidf, \"Results LDA with TF-IDF\")"
   ]
  },
  {
   "cell_type": "markdown",
   "metadata": {},
   "source": [
    "## NMF TF"
   ]
  },
  {
   "cell_type": "code",
   "execution_count": 81,
   "metadata": {},
   "outputs": [
    {
     "name": "stderr",
     "output_type": "stream",
     "text": [
      "C:\\Users\\Annelie Schridde\\AppData\\Roaming\\Python\\Python38\\site-packages\\sklearn\\decomposition\\_nmf.py:1466: UserWarning:\n",
      "\n",
      "The multiplicative update ('mu') solver cannot update zeros present in the initialization, and so leads to poorer results when used jointly with init='nndsvd'. You may try init='nndsvda' or init='nndsvdar' instead.\n",
      "\n"
     ]
    },
    {
     "name": "stdout",
     "output_type": "stream",
     "text": [
      "\n",
      "Coherence Score CV:  0.4637562995472074\n",
      "\n",
      "Coherence Score UMass:  -2.8479450461797655\n",
      "\n",
      "Coherence Score NPMI:  -0.031479462049109355\n",
      "\n",
      "Coherence Score UCI:  -1.377508328057106\n",
      "\n",
      "Silhouette Score:  0.005884102515331075\n",
      "\n",
      "Calinski-Harabasz Score:  19.026612094381182\n",
      "\n",
      "Davies-Bouldin Score:  7.587460249168673\n"
     ]
    },
    {
     "name": "stderr",
     "output_type": "stream",
     "text": [
      "C:\\Users\\Annelie Schridde\\AppData\\Roaming\\Python\\Python38\\site-packages\\sklearn\\decomposition\\_nmf.py:1466: UserWarning:\n",
      "\n",
      "The multiplicative update ('mu') solver cannot update zeros present in the initialization, and so leads to poorer results when used jointly with init='nndsvd'. You may try init='nndsvda' or init='nndsvdar' instead.\n",
      "\n"
     ]
    },
    {
     "name": "stdout",
     "output_type": "stream",
     "text": [
      "\n",
      "Coherence Score CV:  0.4936294908072495\n",
      "\n",
      "Coherence Score UMass:  -2.9001588477366393\n",
      "\n",
      "Coherence Score NPMI:  -0.010365330409630046\n",
      "\n",
      "Coherence Score UCI:  -0.9421838952343602\n",
      "\n",
      "Silhouette Score:  -0.011366095881916057\n",
      "\n",
      "Calinski-Harabasz Score:  18.535243287478355\n",
      "\n",
      "Davies-Bouldin Score:  9.38270801984617\n"
     ]
    },
    {
     "name": "stderr",
     "output_type": "stream",
     "text": [
      "C:\\Users\\Annelie Schridde\\AppData\\Roaming\\Python\\Python38\\site-packages\\sklearn\\decomposition\\_nmf.py:1466: UserWarning:\n",
      "\n",
      "The multiplicative update ('mu') solver cannot update zeros present in the initialization, and so leads to poorer results when used jointly with init='nndsvd'. You may try init='nndsvda' or init='nndsvdar' instead.\n",
      "\n"
     ]
    },
    {
     "name": "stdout",
     "output_type": "stream",
     "text": [
      "\n",
      "Coherence Score CV:  0.6084152841223931\n",
      "\n",
      "Coherence Score UMass:  -2.8417433948294772\n",
      "\n",
      "Coherence Score NPMI:  0.012473371767940616\n",
      "\n",
      "Coherence Score UCI:  -1.00418575961452\n",
      "\n",
      "Silhouette Score:  -0.03747237342572875\n",
      "\n",
      "Calinski-Harabasz Score:  18.72393607659925\n",
      "\n",
      "Davies-Bouldin Score:  10.628527514694323\n"
     ]
    },
    {
     "name": "stderr",
     "output_type": "stream",
     "text": [
      "C:\\Users\\Annelie Schridde\\AppData\\Roaming\\Python\\Python38\\site-packages\\sklearn\\decomposition\\_nmf.py:1466: UserWarning:\n",
      "\n",
      "The multiplicative update ('mu') solver cannot update zeros present in the initialization, and so leads to poorer results when used jointly with init='nndsvd'. You may try init='nndsvda' or init='nndsvdar' instead.\n",
      "\n"
     ]
    },
    {
     "name": "stdout",
     "output_type": "stream",
     "text": [
      "\n",
      "Coherence Score CV:  0.6003798640636889\n",
      "\n",
      "Coherence Score UMass:  -2.851574558242393\n",
      "\n",
      "Coherence Score NPMI:  0.019612182274457227\n",
      "\n",
      "Coherence Score UCI:  -0.776452487753299\n",
      "\n",
      "Silhouette Score:  -0.009349627151087964\n",
      "\n",
      "Calinski-Harabasz Score:  29.200355343962894\n",
      "\n",
      "Davies-Bouldin Score:  9.366369114899328\n"
     ]
    },
    {
     "name": "stderr",
     "output_type": "stream",
     "text": [
      "C:\\Users\\Annelie Schridde\\AppData\\Roaming\\Python\\Python38\\site-packages\\sklearn\\decomposition\\_nmf.py:1466: UserWarning:\n",
      "\n",
      "The multiplicative update ('mu') solver cannot update zeros present in the initialization, and so leads to poorer results when used jointly with init='nndsvd'. You may try init='nndsvda' or init='nndsvdar' instead.\n",
      "\n"
     ]
    },
    {
     "name": "stdout",
     "output_type": "stream",
     "text": [
      "\n",
      "Coherence Score CV:  0.585213881605\n",
      "\n",
      "Coherence Score UMass:  -2.7850916896740046\n",
      "\n",
      "Coherence Score NPMI:  0.017035978158810836\n",
      "\n",
      "Coherence Score UCI:  -0.6515166067235016\n",
      "\n",
      "Silhouette Score:  -0.020956761117977733\n",
      "\n",
      "Calinski-Harabasz Score:  36.67208740353922\n",
      "\n",
      "Davies-Bouldin Score:  8.440926757174186\n"
     ]
    },
    {
     "name": "stderr",
     "output_type": "stream",
     "text": [
      "C:\\Users\\Annelie Schridde\\AppData\\Roaming\\Python\\Python38\\site-packages\\sklearn\\decomposition\\_nmf.py:1466: UserWarning:\n",
      "\n",
      "The multiplicative update ('mu') solver cannot update zeros present in the initialization, and so leads to poorer results when used jointly with init='nndsvd'. You may try init='nndsvda' or init='nndsvdar' instead.\n",
      "\n"
     ]
    },
    {
     "name": "stdout",
     "output_type": "stream",
     "text": [
      "\n",
      "Coherence Score CV:  0.5648840047230371\n",
      "\n",
      "Coherence Score UMass:  -2.8835922057700594\n",
      "\n",
      "Coherence Score NPMI:  0.027338414635870317\n",
      "\n",
      "Coherence Score UCI:  -0.41581890684970124\n",
      "\n",
      "Silhouette Score:  -0.05760924175928915\n",
      "\n",
      "Calinski-Harabasz Score:  36.14329933471939\n",
      "\n",
      "Davies-Bouldin Score:  7.401331763620758\n"
     ]
    },
    {
     "name": "stderr",
     "output_type": "stream",
     "text": [
      "C:\\Users\\Annelie Schridde\\AppData\\Roaming\\Python\\Python38\\site-packages\\sklearn\\decomposition\\_nmf.py:1466: UserWarning:\n",
      "\n",
      "The multiplicative update ('mu') solver cannot update zeros present in the initialization, and so leads to poorer results when used jointly with init='nndsvd'. You may try init='nndsvda' or init='nndsvdar' instead.\n",
      "\n"
     ]
    },
    {
     "name": "stdout",
     "output_type": "stream",
     "text": [
      "\n",
      "Coherence Score CV:  0.5548408206839183\n",
      "\n",
      "Coherence Score UMass:  -2.9976632113958717\n",
      "\n",
      "Coherence Score NPMI:  0.017911279434293298\n",
      "\n",
      "Coherence Score UCI:  -0.6575663421583315\n",
      "\n",
      "Silhouette Score:  -0.09650384731206417\n",
      "\n",
      "Calinski-Harabasz Score:  38.26328853888737\n",
      "\n",
      "Davies-Bouldin Score:  6.532287462574452\n"
     ]
    },
    {
     "name": "stderr",
     "output_type": "stream",
     "text": [
      "C:\\Users\\Annelie Schridde\\AppData\\Roaming\\Python\\Python38\\site-packages\\sklearn\\decomposition\\_nmf.py:1466: UserWarning:\n",
      "\n",
      "The multiplicative update ('mu') solver cannot update zeros present in the initialization, and so leads to poorer results when used jointly with init='nndsvd'. You may try init='nndsvda' or init='nndsvdar' instead.\n",
      "\n"
     ]
    },
    {
     "name": "stdout",
     "output_type": "stream",
     "text": [
      "\n",
      "Coherence Score CV:  0.5522898385202347\n",
      "\n",
      "Coherence Score UMass:  -2.9892347279925873\n",
      "\n",
      "Coherence Score NPMI:  0.01618135933621881\n",
      "\n",
      "Coherence Score UCI:  -0.6945246827481484\n",
      "\n",
      "Silhouette Score:  -0.13894475156100966\n",
      "\n",
      "Calinski-Harabasz Score:  36.92742363139523\n",
      "\n",
      "Davies-Bouldin Score:  6.200248104897329\n"
     ]
    },
    {
     "name": "stderr",
     "output_type": "stream",
     "text": [
      "C:\\Users\\Annelie Schridde\\AppData\\Roaming\\Python\\Python38\\site-packages\\sklearn\\decomposition\\_nmf.py:1466: UserWarning:\n",
      "\n",
      "The multiplicative update ('mu') solver cannot update zeros present in the initialization, and so leads to poorer results when used jointly with init='nndsvd'. You may try init='nndsvda' or init='nndsvdar' instead.\n",
      "\n"
     ]
    },
    {
     "name": "stdout",
     "output_type": "stream",
     "text": [
      "\n",
      "Coherence Score CV:  0.5477551831860032\n",
      "\n",
      "Coherence Score UMass:  -3.1282544177144236\n",
      "\n",
      "Coherence Score NPMI:  0.0072303808530367365\n",
      "\n",
      "Coherence Score UCI:  -0.8693904683104717\n",
      "\n",
      "Silhouette Score:  -0.15447179637056938\n",
      "\n",
      "Calinski-Harabasz Score:  34.924044145951925\n",
      "\n",
      "Davies-Bouldin Score:  5.85394675148035\n"
     ]
    },
    {
     "name": "stderr",
     "output_type": "stream",
     "text": [
      "C:\\Users\\Annelie Schridde\\AppData\\Roaming\\Python\\Python38\\site-packages\\sklearn\\decomposition\\_nmf.py:1466: UserWarning:\n",
      "\n",
      "The multiplicative update ('mu') solver cannot update zeros present in the initialization, and so leads to poorer results when used jointly with init='nndsvd'. You may try init='nndsvda' or init='nndsvdar' instead.\n",
      "\n"
     ]
    },
    {
     "name": "stdout",
     "output_type": "stream",
     "text": [
      "\n",
      "Coherence Score CV:  0.5349037673550606\n",
      "\n",
      "Coherence Score UMass:  -3.1816418231476167\n",
      "\n",
      "Coherence Score NPMI:  0.004696692755773299\n",
      "\n",
      "Coherence Score UCI:  -0.9406355862758587\n",
      "\n",
      "Silhouette Score:  -0.17793712889196858\n",
      "\n",
      "Calinski-Harabasz Score:  32.151184929392365\n",
      "\n",
      "Davies-Bouldin Score:  5.702203153439457\n"
     ]
    },
    {
     "name": "stderr",
     "output_type": "stream",
     "text": [
      "C:\\Users\\Annelie Schridde\\AppData\\Roaming\\Python\\Python38\\site-packages\\sklearn\\decomposition\\_nmf.py:1466: UserWarning:\n",
      "\n",
      "The multiplicative update ('mu') solver cannot update zeros present in the initialization, and so leads to poorer results when used jointly with init='nndsvd'. You may try init='nndsvda' or init='nndsvdar' instead.\n",
      "\n"
     ]
    },
    {
     "name": "stdout",
     "output_type": "stream",
     "text": [
      "\n",
      "Coherence Score CV:  0.5221692081769371\n",
      "\n",
      "Coherence Score UMass:  -3.2529767791371844\n",
      "\n",
      "Coherence Score NPMI:  -0.0005763630559935285\n",
      "\n",
      "Coherence Score UCI:  -1.0268371873076503\n",
      "\n",
      "Silhouette Score:  -0.1858239723210872\n",
      "\n",
      "Calinski-Harabasz Score:  31.663252275827936\n",
      "\n",
      "Davies-Bouldin Score:  5.519101049422917\n"
     ]
    },
    {
     "name": "stderr",
     "output_type": "stream",
     "text": [
      "C:\\Users\\Annelie Schridde\\AppData\\Roaming\\Python\\Python38\\site-packages\\sklearn\\decomposition\\_nmf.py:1466: UserWarning:\n",
      "\n",
      "The multiplicative update ('mu') solver cannot update zeros present in the initialization, and so leads to poorer results when used jointly with init='nndsvd'. You may try init='nndsvda' or init='nndsvdar' instead.\n",
      "\n"
     ]
    },
    {
     "name": "stdout",
     "output_type": "stream",
     "text": [
      "\n",
      "Coherence Score CV:  0.53407271222607\n",
      "\n",
      "Coherence Score UMass:  -3.241556849160343\n",
      "\n",
      "Coherence Score NPMI:  0.00961750334178314\n",
      "\n",
      "Coherence Score UCI:  -0.8387225325105934\n",
      "\n",
      "Silhouette Score:  -0.20969568843884576\n",
      "\n",
      "Calinski-Harabasz Score:  29.796276283417047\n",
      "\n",
      "Davies-Bouldin Score:  5.350817371068179\n"
     ]
    },
    {
     "name": "stderr",
     "output_type": "stream",
     "text": [
      "C:\\Users\\Annelie Schridde\\AppData\\Roaming\\Python\\Python38\\site-packages\\sklearn\\decomposition\\_nmf.py:1466: UserWarning:\n",
      "\n",
      "The multiplicative update ('mu') solver cannot update zeros present in the initialization, and so leads to poorer results when used jointly with init='nndsvd'. You may try init='nndsvda' or init='nndsvdar' instead.\n",
      "\n"
     ]
    },
    {
     "name": "stdout",
     "output_type": "stream",
     "text": [
      "\n",
      "Coherence Score CV:  0.5205811833569137\n",
      "\n",
      "Coherence Score UMass:  -3.242545435558928\n",
      "\n",
      "Coherence Score NPMI:  0.0026940062869658487\n",
      "\n",
      "Coherence Score UCI:  -0.9369054410865328\n",
      "\n",
      "Silhouette Score:  -0.21448995202833102\n",
      "\n",
      "Calinski-Harabasz Score:  29.149172991252488\n",
      "\n",
      "Davies-Bouldin Score:  5.226247630641113\n",
      "FINISHED! Evaluation of 20.000 Documents for topic modelling are evaluated!\n"
     ]
    }
   ],
   "source": [
    "n_components = [2,4,6,8, 10, 15, 20, 25, 30, 35, 40, 45, 50]\n",
    "eval_nmf_tf = find_best_k(n_components,\"NMF\", tf_fit, tf, tf_feature_names, 20, df['cut_and_clean'], dictionary)"
   ]
  },
  {
   "cell_type": "code",
   "execution_count": 275,
   "metadata": {},
   "outputs": [],
   "source": [
    "eval_nmf_tf = pd.read_csv('../Results/bestk_nmf_tf_nndsvd_batch.csv').set_index(\"Unnamed: 0\")"
   ]
  },
  {
   "cell_type": "code",
   "execution_count": 276,
   "metadata": {},
   "outputs": [
    {
     "data": {
      "application/vnd.plotly.v1+json": {
       "config": {
        "plotlyServerURL": "https://plot.ly"
       },
       "data": [
        {
         "name": "cv",
         "type": "scatter",
         "x": [
          "2 Topics",
          "4 Topics",
          "6 Topics",
          "8 Topics",
          "10 Topics",
          "15 Topics",
          "20 Topics",
          "25 Topics",
          "30 Topics",
          "35 Topics",
          "40 Topics",
          "45 Topics",
          "50 Topics"
         ],
         "xaxis": "x",
         "y": [
          0.4637562995472074,
          0.4936294908072495,
          0.6084152841223931,
          0.6003798640636889,
          0.585213881605,
          0.5648840047230371,
          0.5548408206839183,
          0.5522898385202347,
          0.5477551831860032,
          0.5349037673550606,
          0.5221692081769371,
          0.53407271222607,
          0.5205811833569137
         ],
         "yaxis": "y"
        },
        {
         "marker": {
          "color": "Red",
          "size": 15,
          "symbol": "star"
         },
         "mode": "markers",
         "type": "scatter",
         "x": [
          "6 Topics"
         ],
         "xaxis": "x",
         "y": [
          0.6084152841223931
         ],
         "yaxis": "y"
        },
        {
         "name": "c_umass",
         "type": "scatter",
         "x": [
          "2 Topics",
          "4 Topics",
          "6 Topics",
          "8 Topics",
          "10 Topics",
          "15 Topics",
          "20 Topics",
          "25 Topics",
          "30 Topics",
          "35 Topics",
          "40 Topics",
          "45 Topics",
          "50 Topics"
         ],
         "xaxis": "x2",
         "y": [
          -2.847945046179765,
          -2.90015884773664,
          -2.841743394829477,
          -2.851574558242393,
          -2.785091689674005,
          -2.88359220577006,
          -2.997663211395872,
          -2.9892347279925877,
          -3.128254417714424,
          -3.1816418231476167,
          -3.2529767791371844,
          -3.241556849160343,
          -3.242545435558928
         ],
         "yaxis": "y2"
        },
        {
         "marker": {
          "color": "Red",
          "size": 15,
          "symbol": "star"
         },
         "mode": "markers",
         "type": "scatter",
         "x": [
          "10 Topics"
         ],
         "xaxis": "x2",
         "y": [
          -2.785091689674005
         ],
         "yaxis": "y2"
        },
        {
         "name": "c_npmi",
         "type": "scatter",
         "x": [
          "2 Topics",
          "4 Topics",
          "6 Topics",
          "8 Topics",
          "10 Topics",
          "15 Topics",
          "20 Topics",
          "25 Topics",
          "30 Topics",
          "35 Topics",
          "40 Topics",
          "45 Topics",
          "50 Topics"
         ],
         "xaxis": "x3",
         "y": [
          -0.0314794620491093,
          -0.01036533040963,
          0.0124733717679406,
          0.0196121822744572,
          0.0170359781588108,
          0.0273384146358703,
          0.0179112794342932,
          0.0161813593362188,
          0.0072303808530367,
          0.0046966927557732,
          -0.0005763630559935,
          0.0096175033417831,
          0.0026940062869658
         ],
         "yaxis": "y3"
        },
        {
         "marker": {
          "color": "Red",
          "size": 15,
          "symbol": "star"
         },
         "mode": "markers",
         "type": "scatter",
         "x": [
          "15 Topics"
         ],
         "xaxis": "x3",
         "y": [
          0.0273384146358703
         ],
         "yaxis": "y3"
        },
        {
         "name": "c_uci",
         "type": "scatter",
         "x": [
          "2 Topics",
          "4 Topics",
          "6 Topics",
          "8 Topics",
          "10 Topics",
          "15 Topics",
          "20 Topics",
          "25 Topics",
          "30 Topics",
          "35 Topics",
          "40 Topics",
          "45 Topics",
          "50 Topics"
         ],
         "xaxis": "x4",
         "y": [
          -1.377508328057106,
          -0.9421838952343602,
          -1.00418575961452,
          -0.776452487753299,
          -0.6515166067235016,
          -0.4158189068497012,
          -0.6575663421583315,
          -0.6945246827481484,
          -0.8693904683104717,
          -0.9406355862758587,
          -1.0268371873076505,
          -0.8387225325105934,
          -0.9369054410865328
         ],
         "yaxis": "y4"
        },
        {
         "marker": {
          "color": "Red",
          "size": 15,
          "symbol": "star"
         },
         "mode": "markers",
         "type": "scatter",
         "x": [
          "15 Topics"
         ],
         "xaxis": "x4",
         "y": [
          -0.4158189068497012
         ],
         "yaxis": "y4"
        },
        {
         "name": "sil_score",
         "type": "scatter",
         "x": [
          "2 Topics",
          "4 Topics",
          "6 Topics",
          "8 Topics",
          "10 Topics",
          "15 Topics",
          "20 Topics",
          "25 Topics",
          "30 Topics",
          "35 Topics",
          "40 Topics",
          "45 Topics",
          "50 Topics"
         ],
         "xaxis": "x5",
         "y": [
          0.005884102515331,
          -0.011366095881916,
          -0.0374723734257287,
          -0.0093496271510879,
          -0.0209567611179777,
          -0.0576092417592891,
          -0.0965038473120641,
          -0.1389447515610096,
          -0.1544717963705693,
          -0.1779371288919685,
          -0.1858239723210872,
          -0.2096956884388457,
          -0.214489952028331
         ],
         "yaxis": "y5"
        },
        {
         "marker": {
          "color": "Red",
          "size": 15,
          "symbol": "star"
         },
         "mode": "markers",
         "type": "scatter",
         "x": [
          "2 Topics"
         ],
         "xaxis": "x5",
         "y": [
          0.005884102515331
         ],
         "yaxis": "y5"
        },
        {
         "name": "ch_index",
         "type": "scatter",
         "x": [
          "2 Topics",
          "4 Topics",
          "6 Topics",
          "8 Topics",
          "10 Topics",
          "15 Topics",
          "20 Topics",
          "25 Topics",
          "30 Topics",
          "35 Topics",
          "40 Topics",
          "45 Topics",
          "50 Topics"
         ],
         "xaxis": "x6",
         "y": [
          19.026612094381186,
          18.535243287478355,
          18.72393607659925,
          29.20035534396289,
          36.67208740353922,
          36.14329933471939,
          38.26328853888737,
          36.92742363139523,
          34.924044145951925,
          32.151184929392365,
          31.663252275827936,
          29.796276283417047,
          29.149172991252488
         ],
         "yaxis": "y6"
        },
        {
         "marker": {
          "color": "Red",
          "size": 15,
          "symbol": "star"
         },
         "mode": "markers",
         "type": "scatter",
         "x": [
          "20 Topics"
         ],
         "xaxis": "x6",
         "y": [
          38.26328853888737
         ],
         "yaxis": "y6"
        },
        {
         "name": "db_index",
         "type": "scatter",
         "x": [
          "2 Topics",
          "4 Topics",
          "6 Topics",
          "8 Topics",
          "10 Topics",
          "15 Topics",
          "20 Topics",
          "25 Topics",
          "30 Topics",
          "35 Topics",
          "40 Topics",
          "45 Topics",
          "50 Topics"
         ],
         "xaxis": "x7",
         "y": [
          7.587460249168673,
          9.38270801984617,
          10.628527514694325,
          9.366369114899328,
          8.440926757174186,
          7.401331763620758,
          6.532287462574452,
          6.200248104897329,
          5.85394675148035,
          5.702203153439457,
          5.519101049422917,
          5.350817371068179,
          5.226247630641113
         ],
         "yaxis": "y7"
        },
        {
         "marker": {
          "color": "Red",
          "size": 15,
          "symbol": "star"
         },
         "mode": "markers",
         "type": "scatter",
         "x": [
          "50 Topics"
         ],
         "xaxis": "x7",
         "y": [
          5.226247630641113
         ],
         "yaxis": "y7"
        }
       ],
       "layout": {
        "annotations": [
         {
          "font": {
           "size": 16
          },
          "showarrow": false,
          "text": "Cv",
          "x": 0.5,
          "xanchor": "center",
          "xref": "paper",
          "y": 1,
          "yanchor": "bottom",
          "yref": "paper"
         },
         {
          "font": {
           "size": 16
          },
          "showarrow": false,
          "text": "UMass",
          "x": 0.5,
          "xanchor": "center",
          "xref": "paper",
          "y": 0.8671875,
          "yanchor": "bottom",
          "yref": "paper"
         },
         {
          "font": {
           "size": 16
          },
          "showarrow": false,
          "text": "NPMI",
          "x": 0.5,
          "xanchor": "center",
          "xref": "paper",
          "y": 0.734375,
          "yanchor": "bottom",
          "yref": "paper"
         },
         {
          "font": {
           "size": 16
          },
          "showarrow": false,
          "text": "UCI",
          "x": 0.5,
          "xanchor": "center",
          "xref": "paper",
          "y": 0.6015625,
          "yanchor": "bottom",
          "yref": "paper"
         },
         {
          "font": {
           "size": 16
          },
          "showarrow": false,
          "text": "Silhouette Score",
          "x": 0.5,
          "xanchor": "center",
          "xref": "paper",
          "y": 0.46875,
          "yanchor": "bottom",
          "yref": "paper"
         },
         {
          "font": {
           "size": 16
          },
          "showarrow": false,
          "text": "Calinski-Harabasz Score",
          "x": 0.5,
          "xanchor": "center",
          "xref": "paper",
          "y": 0.3359375,
          "yanchor": "bottom",
          "yref": "paper"
         },
         {
          "font": {
           "size": 16
          },
          "showarrow": false,
          "text": "Davies-Bouldin Score",
          "x": 0.5,
          "xanchor": "center",
          "xref": "paper",
          "y": 0.203125,
          "yanchor": "bottom",
          "yref": "paper"
         },
         {
          "showarrow": false,
          "text": "Best K",
          "x": "6 Topics",
          "xref": "x",
          "y": 0.6084152841223931,
          "yref": "y",
          "yshift": 20
         },
         {
          "showarrow": false,
          "text": "Best K",
          "x": "10 Topics",
          "xref": "x2",
          "y": -2.785091689674005,
          "yref": "y2",
          "yshift": 20
         },
         {
          "showarrow": false,
          "text": "Best K",
          "x": "15 Topics",
          "xref": "x3",
          "y": 0.0273384146358703,
          "yref": "y3",
          "yshift": 20
         },
         {
          "showarrow": false,
          "text": "Best K",
          "x": "15 Topics",
          "xref": "x4",
          "y": -0.4158189068497012,
          "yref": "y4",
          "yshift": 20
         },
         {
          "showarrow": false,
          "text": "Best K",
          "x": "2 Topics",
          "xref": "x5",
          "y": 0.005884102515331,
          "yref": "y5",
          "yshift": 20
         },
         {
          "showarrow": false,
          "text": "Best K",
          "x": "20 Topics",
          "xref": "x6",
          "y": 38.26328853888737,
          "yref": "y6",
          "yshift": 20
         },
         {
          "showarrow": false,
          "text": "Best K",
          "x": "50 Topics",
          "xref": "x7",
          "y": 5.226247630641113,
          "yref": "y7",
          "yshift": 20
         }
        ],
        "height": 1600,
        "shapes": [
         {
          "line": {
           "color": "SeaGreen",
           "width": 10
          },
          "opacity": 0.5,
          "type": "line",
          "x0": "6 Topics",
          "x1": "6 Topics",
          "xref": "x",
          "y0": 0.4637562995472074,
          "y1": 0.6084152841223931,
          "yref": "y"
         },
         {
          "line": {
           "color": "SeaGreen",
           "width": 10
          },
          "opacity": 0.5,
          "type": "line",
          "x0": "10 Topics",
          "x1": "10 Topics",
          "xref": "x2",
          "y0": -3.2529767791371844,
          "y1": -2.785091689674005,
          "yref": "y2"
         },
         {
          "line": {
           "color": "SeaGreen",
           "width": 10
          },
          "opacity": 0.5,
          "type": "line",
          "x0": "15 Topics",
          "x1": "15 Topics",
          "xref": "x3",
          "y0": -0.0314794620491093,
          "y1": 0.0273384146358703,
          "yref": "y3"
         },
         {
          "line": {
           "color": "SeaGreen",
           "width": 10
          },
          "opacity": 0.5,
          "type": "line",
          "x0": "15 Topics",
          "x1": "15 Topics",
          "xref": "x4",
          "y0": -1.377508328057106,
          "y1": -0.4158189068497012,
          "yref": "y4"
         },
         {
          "line": {
           "color": "SeaGreen",
           "width": 10
          },
          "opacity": 0.5,
          "type": "line",
          "x0": "2 Topics",
          "x1": "2 Topics",
          "xref": "x5",
          "y0": -0.214489952028331,
          "y1": 0.005884102515331,
          "yref": "y5"
         },
         {
          "line": {
           "color": "SeaGreen",
           "width": 10
          },
          "opacity": 0.5,
          "type": "line",
          "x0": "20 Topics",
          "x1": "20 Topics",
          "xref": "x6",
          "y0": 18.535243287478355,
          "y1": 38.26328853888737,
          "yref": "y6"
         },
         {
          "line": {
           "color": "SeaGreen",
           "width": 10
          },
          "opacity": 0.5,
          "type": "line",
          "x0": "50 Topics",
          "x1": "50 Topics",
          "xref": "x7",
          "y0": 4.226247630641113,
          "y1": 5.226247630641113,
          "yref": "y7"
         }
        ],
        "showlegend": false,
        "template": {
         "data": {
          "bar": [
           {
            "error_x": {
             "color": "#2a3f5f"
            },
            "error_y": {
             "color": "#2a3f5f"
            },
            "marker": {
             "line": {
              "color": "#E5ECF6",
              "width": 0.5
             },
             "pattern": {
              "fillmode": "overlay",
              "size": 10,
              "solidity": 0.2
             }
            },
            "type": "bar"
           }
          ],
          "barpolar": [
           {
            "marker": {
             "line": {
              "color": "#E5ECF6",
              "width": 0.5
             },
             "pattern": {
              "fillmode": "overlay",
              "size": 10,
              "solidity": 0.2
             }
            },
            "type": "barpolar"
           }
          ],
          "carpet": [
           {
            "aaxis": {
             "endlinecolor": "#2a3f5f",
             "gridcolor": "white",
             "linecolor": "white",
             "minorgridcolor": "white",
             "startlinecolor": "#2a3f5f"
            },
            "baxis": {
             "endlinecolor": "#2a3f5f",
             "gridcolor": "white",
             "linecolor": "white",
             "minorgridcolor": "white",
             "startlinecolor": "#2a3f5f"
            },
            "type": "carpet"
           }
          ],
          "choropleth": [
           {
            "colorbar": {
             "outlinewidth": 0,
             "ticks": ""
            },
            "type": "choropleth"
           }
          ],
          "contour": [
           {
            "colorbar": {
             "outlinewidth": 0,
             "ticks": ""
            },
            "colorscale": [
             [
              0,
              "#0d0887"
             ],
             [
              0.1111111111111111,
              "#46039f"
             ],
             [
              0.2222222222222222,
              "#7201a8"
             ],
             [
              0.3333333333333333,
              "#9c179e"
             ],
             [
              0.4444444444444444,
              "#bd3786"
             ],
             [
              0.5555555555555556,
              "#d8576b"
             ],
             [
              0.6666666666666666,
              "#ed7953"
             ],
             [
              0.7777777777777778,
              "#fb9f3a"
             ],
             [
              0.8888888888888888,
              "#fdca26"
             ],
             [
              1,
              "#f0f921"
             ]
            ],
            "type": "contour"
           }
          ],
          "contourcarpet": [
           {
            "colorbar": {
             "outlinewidth": 0,
             "ticks": ""
            },
            "type": "contourcarpet"
           }
          ],
          "heatmap": [
           {
            "colorbar": {
             "outlinewidth": 0,
             "ticks": ""
            },
            "colorscale": [
             [
              0,
              "#0d0887"
             ],
             [
              0.1111111111111111,
              "#46039f"
             ],
             [
              0.2222222222222222,
              "#7201a8"
             ],
             [
              0.3333333333333333,
              "#9c179e"
             ],
             [
              0.4444444444444444,
              "#bd3786"
             ],
             [
              0.5555555555555556,
              "#d8576b"
             ],
             [
              0.6666666666666666,
              "#ed7953"
             ],
             [
              0.7777777777777778,
              "#fb9f3a"
             ],
             [
              0.8888888888888888,
              "#fdca26"
             ],
             [
              1,
              "#f0f921"
             ]
            ],
            "type": "heatmap"
           }
          ],
          "heatmapgl": [
           {
            "colorbar": {
             "outlinewidth": 0,
             "ticks": ""
            },
            "colorscale": [
             [
              0,
              "#0d0887"
             ],
             [
              0.1111111111111111,
              "#46039f"
             ],
             [
              0.2222222222222222,
              "#7201a8"
             ],
             [
              0.3333333333333333,
              "#9c179e"
             ],
             [
              0.4444444444444444,
              "#bd3786"
             ],
             [
              0.5555555555555556,
              "#d8576b"
             ],
             [
              0.6666666666666666,
              "#ed7953"
             ],
             [
              0.7777777777777778,
              "#fb9f3a"
             ],
             [
              0.8888888888888888,
              "#fdca26"
             ],
             [
              1,
              "#f0f921"
             ]
            ],
            "type": "heatmapgl"
           }
          ],
          "histogram": [
           {
            "marker": {
             "pattern": {
              "fillmode": "overlay",
              "size": 10,
              "solidity": 0.2
             }
            },
            "type": "histogram"
           }
          ],
          "histogram2d": [
           {
            "colorbar": {
             "outlinewidth": 0,
             "ticks": ""
            },
            "colorscale": [
             [
              0,
              "#0d0887"
             ],
             [
              0.1111111111111111,
              "#46039f"
             ],
             [
              0.2222222222222222,
              "#7201a8"
             ],
             [
              0.3333333333333333,
              "#9c179e"
             ],
             [
              0.4444444444444444,
              "#bd3786"
             ],
             [
              0.5555555555555556,
              "#d8576b"
             ],
             [
              0.6666666666666666,
              "#ed7953"
             ],
             [
              0.7777777777777778,
              "#fb9f3a"
             ],
             [
              0.8888888888888888,
              "#fdca26"
             ],
             [
              1,
              "#f0f921"
             ]
            ],
            "type": "histogram2d"
           }
          ],
          "histogram2dcontour": [
           {
            "colorbar": {
             "outlinewidth": 0,
             "ticks": ""
            },
            "colorscale": [
             [
              0,
              "#0d0887"
             ],
             [
              0.1111111111111111,
              "#46039f"
             ],
             [
              0.2222222222222222,
              "#7201a8"
             ],
             [
              0.3333333333333333,
              "#9c179e"
             ],
             [
              0.4444444444444444,
              "#bd3786"
             ],
             [
              0.5555555555555556,
              "#d8576b"
             ],
             [
              0.6666666666666666,
              "#ed7953"
             ],
             [
              0.7777777777777778,
              "#fb9f3a"
             ],
             [
              0.8888888888888888,
              "#fdca26"
             ],
             [
              1,
              "#f0f921"
             ]
            ],
            "type": "histogram2dcontour"
           }
          ],
          "mesh3d": [
           {
            "colorbar": {
             "outlinewidth": 0,
             "ticks": ""
            },
            "type": "mesh3d"
           }
          ],
          "parcoords": [
           {
            "line": {
             "colorbar": {
              "outlinewidth": 0,
              "ticks": ""
             }
            },
            "type": "parcoords"
           }
          ],
          "pie": [
           {
            "automargin": true,
            "type": "pie"
           }
          ],
          "scatter": [
           {
            "marker": {
             "colorbar": {
              "outlinewidth": 0,
              "ticks": ""
             }
            },
            "type": "scatter"
           }
          ],
          "scatter3d": [
           {
            "line": {
             "colorbar": {
              "outlinewidth": 0,
              "ticks": ""
             }
            },
            "marker": {
             "colorbar": {
              "outlinewidth": 0,
              "ticks": ""
             }
            },
            "type": "scatter3d"
           }
          ],
          "scattercarpet": [
           {
            "marker": {
             "colorbar": {
              "outlinewidth": 0,
              "ticks": ""
             }
            },
            "type": "scattercarpet"
           }
          ],
          "scattergeo": [
           {
            "marker": {
             "colorbar": {
              "outlinewidth": 0,
              "ticks": ""
             }
            },
            "type": "scattergeo"
           }
          ],
          "scattergl": [
           {
            "marker": {
             "colorbar": {
              "outlinewidth": 0,
              "ticks": ""
             }
            },
            "type": "scattergl"
           }
          ],
          "scattermapbox": [
           {
            "marker": {
             "colorbar": {
              "outlinewidth": 0,
              "ticks": ""
             }
            },
            "type": "scattermapbox"
           }
          ],
          "scatterpolar": [
           {
            "marker": {
             "colorbar": {
              "outlinewidth": 0,
              "ticks": ""
             }
            },
            "type": "scatterpolar"
           }
          ],
          "scatterpolargl": [
           {
            "marker": {
             "colorbar": {
              "outlinewidth": 0,
              "ticks": ""
             }
            },
            "type": "scatterpolargl"
           }
          ],
          "scatterternary": [
           {
            "marker": {
             "colorbar": {
              "outlinewidth": 0,
              "ticks": ""
             }
            },
            "type": "scatterternary"
           }
          ],
          "surface": [
           {
            "colorbar": {
             "outlinewidth": 0,
             "ticks": ""
            },
            "colorscale": [
             [
              0,
              "#0d0887"
             ],
             [
              0.1111111111111111,
              "#46039f"
             ],
             [
              0.2222222222222222,
              "#7201a8"
             ],
             [
              0.3333333333333333,
              "#9c179e"
             ],
             [
              0.4444444444444444,
              "#bd3786"
             ],
             [
              0.5555555555555556,
              "#d8576b"
             ],
             [
              0.6666666666666666,
              "#ed7953"
             ],
             [
              0.7777777777777778,
              "#fb9f3a"
             ],
             [
              0.8888888888888888,
              "#fdca26"
             ],
             [
              1,
              "#f0f921"
             ]
            ],
            "type": "surface"
           }
          ],
          "table": [
           {
            "cells": {
             "fill": {
              "color": "#EBF0F8"
             },
             "line": {
              "color": "white"
             }
            },
            "header": {
             "fill": {
              "color": "#C8D4E3"
             },
             "line": {
              "color": "white"
             }
            },
            "type": "table"
           }
          ]
         },
         "layout": {
          "annotationdefaults": {
           "arrowcolor": "#2a3f5f",
           "arrowhead": 0,
           "arrowwidth": 1
          },
          "autotypenumbers": "strict",
          "coloraxis": {
           "colorbar": {
            "outlinewidth": 0,
            "ticks": ""
           }
          },
          "colorscale": {
           "diverging": [
            [
             0,
             "#8e0152"
            ],
            [
             0.1,
             "#c51b7d"
            ],
            [
             0.2,
             "#de77ae"
            ],
            [
             0.3,
             "#f1b6da"
            ],
            [
             0.4,
             "#fde0ef"
            ],
            [
             0.5,
             "#f7f7f7"
            ],
            [
             0.6,
             "#e6f5d0"
            ],
            [
             0.7,
             "#b8e186"
            ],
            [
             0.8,
             "#7fbc41"
            ],
            [
             0.9,
             "#4d9221"
            ],
            [
             1,
             "#276419"
            ]
           ],
           "sequential": [
            [
             0,
             "#0d0887"
            ],
            [
             0.1111111111111111,
             "#46039f"
            ],
            [
             0.2222222222222222,
             "#7201a8"
            ],
            [
             0.3333333333333333,
             "#9c179e"
            ],
            [
             0.4444444444444444,
             "#bd3786"
            ],
            [
             0.5555555555555556,
             "#d8576b"
            ],
            [
             0.6666666666666666,
             "#ed7953"
            ],
            [
             0.7777777777777778,
             "#fb9f3a"
            ],
            [
             0.8888888888888888,
             "#fdca26"
            ],
            [
             1,
             "#f0f921"
            ]
           ],
           "sequentialminus": [
            [
             0,
             "#0d0887"
            ],
            [
             0.1111111111111111,
             "#46039f"
            ],
            [
             0.2222222222222222,
             "#7201a8"
            ],
            [
             0.3333333333333333,
             "#9c179e"
            ],
            [
             0.4444444444444444,
             "#bd3786"
            ],
            [
             0.5555555555555556,
             "#d8576b"
            ],
            [
             0.6666666666666666,
             "#ed7953"
            ],
            [
             0.7777777777777778,
             "#fb9f3a"
            ],
            [
             0.8888888888888888,
             "#fdca26"
            ],
            [
             1,
             "#f0f921"
            ]
           ]
          },
          "colorway": [
           "#636efa",
           "#EF553B",
           "#00cc96",
           "#ab63fa",
           "#FFA15A",
           "#19d3f3",
           "#FF6692",
           "#B6E880",
           "#FF97FF",
           "#FECB52"
          ],
          "font": {
           "color": "#2a3f5f"
          },
          "geo": {
           "bgcolor": "white",
           "lakecolor": "white",
           "landcolor": "#E5ECF6",
           "showlakes": true,
           "showland": true,
           "subunitcolor": "white"
          },
          "hoverlabel": {
           "align": "left"
          },
          "hovermode": "closest",
          "mapbox": {
           "style": "light"
          },
          "paper_bgcolor": "white",
          "plot_bgcolor": "#E5ECF6",
          "polar": {
           "angularaxis": {
            "gridcolor": "white",
            "linecolor": "white",
            "ticks": ""
           },
           "bgcolor": "#E5ECF6",
           "radialaxis": {
            "gridcolor": "white",
            "linecolor": "white",
            "ticks": ""
           }
          },
          "scene": {
           "xaxis": {
            "backgroundcolor": "#E5ECF6",
            "gridcolor": "white",
            "gridwidth": 2,
            "linecolor": "white",
            "showbackground": true,
            "ticks": "",
            "zerolinecolor": "white"
           },
           "yaxis": {
            "backgroundcolor": "#E5ECF6",
            "gridcolor": "white",
            "gridwidth": 2,
            "linecolor": "white",
            "showbackground": true,
            "ticks": "",
            "zerolinecolor": "white"
           },
           "zaxis": {
            "backgroundcolor": "#E5ECF6",
            "gridcolor": "white",
            "gridwidth": 2,
            "linecolor": "white",
            "showbackground": true,
            "ticks": "",
            "zerolinecolor": "white"
           }
          },
          "shapedefaults": {
           "line": {
            "color": "#2a3f5f"
           }
          },
          "ternary": {
           "aaxis": {
            "gridcolor": "white",
            "linecolor": "white",
            "ticks": ""
           },
           "baxis": {
            "gridcolor": "white",
            "linecolor": "white",
            "ticks": ""
           },
           "bgcolor": "#E5ECF6",
           "caxis": {
            "gridcolor": "white",
            "linecolor": "white",
            "ticks": ""
           }
          },
          "title": {
           "x": 0.05
          },
          "xaxis": {
           "automargin": true,
           "gridcolor": "white",
           "linecolor": "white",
           "ticks": "",
           "title": {
            "standoff": 15
           },
           "zerolinecolor": "white",
           "zerolinewidth": 2
          },
          "yaxis": {
           "automargin": true,
           "gridcolor": "white",
           "linecolor": "white",
           "ticks": "",
           "title": {
            "standoff": 15
           },
           "zerolinecolor": "white",
           "zerolinewidth": 2
          }
         }
        },
        "title": {
         "text": "Results NMF with TF"
        },
        "width": 900,
        "xaxis": {
         "anchor": "y",
         "domain": [
          0,
          1
         ]
        },
        "xaxis2": {
         "anchor": "y2",
         "domain": [
          0,
          1
         ]
        },
        "xaxis3": {
         "anchor": "y3",
         "domain": [
          0,
          1
         ]
        },
        "xaxis4": {
         "anchor": "y4",
         "domain": [
          0,
          1
         ]
        },
        "xaxis5": {
         "anchor": "y5",
         "domain": [
          0,
          1
         ]
        },
        "xaxis6": {
         "anchor": "y6",
         "domain": [
          0,
          1
         ]
        },
        "xaxis7": {
         "anchor": "y7",
         "domain": [
          0,
          1
         ]
        },
        "xaxis8": {
         "anchor": "y8",
         "domain": [
          0,
          1
         ]
        },
        "yaxis": {
         "anchor": "x",
         "domain": [
          0.9296875,
          1
         ],
         "title": {
          "text": "Metric Values"
         }
        },
        "yaxis2": {
         "anchor": "x2",
         "domain": [
          0.796875,
          0.8671875
         ],
         "title": {
          "text": "Metric Values"
         }
        },
        "yaxis3": {
         "anchor": "x3",
         "domain": [
          0.6640625,
          0.734375
         ],
         "title": {
          "text": "Metric Values"
         }
        },
        "yaxis4": {
         "anchor": "x4",
         "domain": [
          0.53125,
          0.6015625
         ],
         "title": {
          "text": "Metric Values"
         }
        },
        "yaxis5": {
         "anchor": "x5",
         "domain": [
          0.3984375,
          0.46875
         ],
         "title": {
          "text": "Metric Values"
         }
        },
        "yaxis6": {
         "anchor": "x6",
         "domain": [
          0.265625,
          0.3359375
         ],
         "title": {
          "text": "Metric Values"
         }
        },
        "yaxis7": {
         "anchor": "x7",
         "domain": [
          0.1328125,
          0.203125
         ],
         "title": {
          "text": "Metric Values"
         }
        },
        "yaxis8": {
         "anchor": "x8",
         "domain": [
          0,
          0.0703125
         ],
         "title": {
          "text": "Metric Values"
         }
        }
       }
      }
     },
     "metadata": {},
     "output_type": "display_data"
    }
   ],
   "source": [
    "\n",
    "plot_results(eval_nmf_tf, \"Results NMF with TF\")"
   ]
  },
  {
   "cell_type": "code",
   "execution_count": 84,
   "metadata": {},
   "outputs": [
    {
     "name": "stderr",
     "output_type": "stream",
     "text": [
      "C:\\Users\\Annelie Schridde\\AppData\\Roaming\\Python\\Python38\\site-packages\\sklearn\\decomposition\\_nmf.py:1466: UserWarning:\n",
      "\n",
      "The multiplicative update ('mu') solver cannot update zeros present in the initialization, and so leads to poorer results when used jointly with init='nndsvd'. You may try init='nndsvda' or init='nndsvdar' instead.\n",
      "\n"
     ]
    },
    {
     "name": "stdout",
     "output_type": "stream",
     "text": [
      "\n",
      "Coherence Score CV:  0.36115851841230706\n",
      "\n",
      "Coherence Score UMass:  -3.1337442300470295\n",
      "\n",
      "Coherence Score NPMI:  0.027711820068063872\n",
      "\n",
      "Coherence Score UCI:  0.16553547474713698\n",
      "\n",
      "Silhouette Score:  -0.08996231169382776\n",
      "\n",
      "Calinski-Harabasz Score:  115.33187804323329\n",
      "\n",
      "Davies-Bouldin Score:  6.00448652824122\n"
     ]
    },
    {
     "name": "stderr",
     "output_type": "stream",
     "text": [
      "C:\\Users\\Annelie Schridde\\AppData\\Roaming\\Python\\Python38\\site-packages\\sklearn\\decomposition\\_nmf.py:1466: UserWarning:\n",
      "\n",
      "The multiplicative update ('mu') solver cannot update zeros present in the initialization, and so leads to poorer results when used jointly with init='nndsvd'. You may try init='nndsvda' or init='nndsvdar' instead.\n",
      "\n"
     ]
    },
    {
     "name": "stdout",
     "output_type": "stream",
     "text": [
      "\n",
      "Coherence Score CV:  0.3543589453431503\n",
      "\n",
      "Coherence Score UMass:  -4.2165571075388755\n",
      "\n",
      "Coherence Score NPMI:  0.03266201743339853\n",
      "\n",
      "Coherence Score UCI:  -0.2791297732044661\n",
      "\n",
      "Silhouette Score:  -0.09136399806430213\n",
      "\n",
      "Calinski-Harabasz Score:  129.7410448952489\n",
      "\n",
      "Davies-Bouldin Score:  5.149862882763653\n"
     ]
    },
    {
     "name": "stderr",
     "output_type": "stream",
     "text": [
      "C:\\Users\\Annelie Schridde\\AppData\\Roaming\\Python\\Python38\\site-packages\\sklearn\\decomposition\\_nmf.py:1466: UserWarning:\n",
      "\n",
      "The multiplicative update ('mu') solver cannot update zeros present in the initialization, and so leads to poorer results when used jointly with init='nndsvd'. You may try init='nndsvda' or init='nndsvdar' instead.\n",
      "\n"
     ]
    },
    {
     "name": "stdout",
     "output_type": "stream",
     "text": [
      "\n",
      "Coherence Score CV:  0.37511759494073643\n",
      "\n",
      "Coherence Score UMass:  -3.8921636174686856\n",
      "\n",
      "Coherence Score NPMI:  0.02401517517491267\n",
      "\n",
      "Coherence Score UCI:  -0.2701727688423805\n",
      "\n",
      "Silhouette Score:  -0.08926428972219938\n",
      "\n",
      "Calinski-Harabasz Score:  130.19128253033156\n",
      "\n",
      "Davies-Bouldin Score:  4.776509096660938\n"
     ]
    },
    {
     "name": "stderr",
     "output_type": "stream",
     "text": [
      "C:\\Users\\Annelie Schridde\\AppData\\Roaming\\Python\\Python38\\site-packages\\sklearn\\decomposition\\_nmf.py:1466: UserWarning:\n",
      "\n",
      "The multiplicative update ('mu') solver cannot update zeros present in the initialization, and so leads to poorer results when used jointly with init='nndsvd'. You may try init='nndsvda' or init='nndsvdar' instead.\n",
      "\n"
     ]
    },
    {
     "name": "stdout",
     "output_type": "stream",
     "text": [
      "\n",
      "Coherence Score CV:  0.3863010049932811\n",
      "\n",
      "Coherence Score UMass:  -3.8441552866307234\n",
      "\n",
      "Coherence Score NPMI:  0.02038126606420187\n",
      "\n",
      "Coherence Score UCI:  -0.36865402517189816\n",
      "\n",
      "Silhouette Score:  -0.08265909675059688\n",
      "\n",
      "Calinski-Harabasz Score:  125.74952614349371\n",
      "\n",
      "Davies-Bouldin Score:  4.547825020901595\n"
     ]
    },
    {
     "name": "stderr",
     "output_type": "stream",
     "text": [
      "C:\\Users\\Annelie Schridde\\AppData\\Roaming\\Python\\Python38\\site-packages\\sklearn\\decomposition\\_nmf.py:1466: UserWarning:\n",
      "\n",
      "The multiplicative update ('mu') solver cannot update zeros present in the initialization, and so leads to poorer results when used jointly with init='nndsvd'. You may try init='nndsvda' or init='nndsvdar' instead.\n",
      "\n"
     ]
    },
    {
     "name": "stdout",
     "output_type": "stream",
     "text": [
      "\n",
      "Coherence Score CV:  0.4045166968383139\n",
      "\n",
      "Coherence Score UMass:  -3.7189009353561673\n",
      "\n",
      "Coherence Score NPMI:  0.027194161565959264\n",
      "\n",
      "Coherence Score UCI:  -0.32365152361575283\n",
      "\n",
      "Silhouette Score:  -0.08694660761376412\n",
      "\n",
      "Calinski-Harabasz Score:  118.96262100472661\n",
      "\n",
      "Davies-Bouldin Score:  4.949679350245441\n"
     ]
    },
    {
     "name": "stderr",
     "output_type": "stream",
     "text": [
      "C:\\Users\\Annelie Schridde\\AppData\\Roaming\\Python\\Python38\\site-packages\\sklearn\\decomposition\\_nmf.py:1466: UserWarning:\n",
      "\n",
      "The multiplicative update ('mu') solver cannot update zeros present in the initialization, and so leads to poorer results when used jointly with init='nndsvd'. You may try init='nndsvda' or init='nndsvdar' instead.\n",
      "\n"
     ]
    },
    {
     "name": "stdout",
     "output_type": "stream",
     "text": [
      "\n",
      "Coherence Score CV:  0.414750246718754\n",
      "\n",
      "Coherence Score UMass:  -3.6667187630531712\n",
      "\n",
      "Coherence Score NPMI:  0.03052026953334679\n",
      "\n",
      "Coherence Score UCI:  -0.27561177926582076\n",
      "\n",
      "Silhouette Score:  -0.08455385459552983\n",
      "\n",
      "Calinski-Harabasz Score:  110.2021885613671\n",
      "\n",
      "Davies-Bouldin Score:  4.610010380978618\n"
     ]
    },
    {
     "name": "stderr",
     "output_type": "stream",
     "text": [
      "C:\\Users\\Annelie Schridde\\AppData\\Roaming\\Python\\Python38\\site-packages\\sklearn\\decomposition\\_nmf.py:1466: UserWarning:\n",
      "\n",
      "The multiplicative update ('mu') solver cannot update zeros present in the initialization, and so leads to poorer results when used jointly with init='nndsvd'. You may try init='nndsvda' or init='nndsvdar' instead.\n",
      "\n"
     ]
    },
    {
     "name": "stdout",
     "output_type": "stream",
     "text": [
      "\n",
      "Coherence Score CV:  0.42551051024574377\n",
      "\n",
      "Coherence Score UMass:  -3.6345990970608035\n",
      "\n",
      "Coherence Score NPMI:  0.0361273339988448\n",
      "\n",
      "Coherence Score UCI:  -0.20491687487340982\n",
      "\n",
      "Silhouette Score:  -0.08963985912969669\n",
      "\n",
      "Calinski-Harabasz Score:  100.76944409281086\n",
      "\n",
      "Davies-Bouldin Score:  4.699224597858545\n"
     ]
    },
    {
     "name": "stderr",
     "output_type": "stream",
     "text": [
      "C:\\Users\\Annelie Schridde\\AppData\\Roaming\\Python\\Python38\\site-packages\\sklearn\\decomposition\\_nmf.py:1466: UserWarning:\n",
      "\n",
      "The multiplicative update ('mu') solver cannot update zeros present in the initialization, and so leads to poorer results when used jointly with init='nndsvd'. You may try init='nndsvda' or init='nndsvdar' instead.\n",
      "\n"
     ]
    },
    {
     "name": "stdout",
     "output_type": "stream",
     "text": [
      "\n",
      "Coherence Score CV:  0.42520863877977233\n",
      "\n",
      "Coherence Score UMass:  -3.556551536633851\n",
      "\n",
      "Coherence Score NPMI:  0.028696274173096233\n",
      "\n",
      "Coherence Score UCI:  -0.3425386425810767\n",
      "\n",
      "Silhouette Score:  -0.0858285228101332\n",
      "\n",
      "Calinski-Harabasz Score:  94.16720793927144\n",
      "\n",
      "Davies-Bouldin Score:  4.472287916933924\n"
     ]
    },
    {
     "name": "stderr",
     "output_type": "stream",
     "text": [
      "C:\\Users\\Annelie Schridde\\AppData\\Roaming\\Python\\Python38\\site-packages\\sklearn\\decomposition\\_nmf.py:1466: UserWarning:\n",
      "\n",
      "The multiplicative update ('mu') solver cannot update zeros present in the initialization, and so leads to poorer results when used jointly with init='nndsvd'. You may try init='nndsvda' or init='nndsvdar' instead.\n",
      "\n"
     ]
    },
    {
     "name": "stdout",
     "output_type": "stream",
     "text": [
      "\n",
      "Coherence Score CV:  0.40800986336790845\n",
      "\n",
      "Coherence Score UMass:  -3.580919922709\n",
      "\n",
      "Coherence Score NPMI:  0.024790368122183958\n",
      "\n",
      "Coherence Score UCI:  -0.46297221640391917\n",
      "\n",
      "Silhouette Score:  -0.08284305895943646\n",
      "\n",
      "Calinski-Harabasz Score:  87.80250811542118\n",
      "\n",
      "Davies-Bouldin Score:  4.6651572048373975\n"
     ]
    },
    {
     "name": "stderr",
     "output_type": "stream",
     "text": [
      "C:\\Users\\Annelie Schridde\\AppData\\Roaming\\Python\\Python38\\site-packages\\sklearn\\decomposition\\_nmf.py:1466: UserWarning:\n",
      "\n",
      "The multiplicative update ('mu') solver cannot update zeros present in the initialization, and so leads to poorer results when used jointly with init='nndsvd'. You may try init='nndsvda' or init='nndsvdar' instead.\n",
      "\n"
     ]
    },
    {
     "name": "stdout",
     "output_type": "stream",
     "text": [
      "\n",
      "Coherence Score CV:  0.40519101123702295\n",
      "\n",
      "Coherence Score UMass:  -3.6118008750087345\n",
      "\n",
      "Coherence Score NPMI:  0.015461489218224189\n",
      "\n",
      "Coherence Score UCI:  -0.6283131556961293\n",
      "\n",
      "Silhouette Score:  -0.08197360665071232\n",
      "\n",
      "Calinski-Harabasz Score:  82.17975256378442\n",
      "\n",
      "Davies-Bouldin Score:  4.599130594555624\n"
     ]
    },
    {
     "name": "stderr",
     "output_type": "stream",
     "text": [
      "C:\\Users\\Annelie Schridde\\AppData\\Roaming\\Python\\Python38\\site-packages\\sklearn\\decomposition\\_nmf.py:1466: UserWarning:\n",
      "\n",
      "The multiplicative update ('mu') solver cannot update zeros present in the initialization, and so leads to poorer results when used jointly with init='nndsvd'. You may try init='nndsvda' or init='nndsvdar' instead.\n",
      "\n"
     ]
    },
    {
     "name": "stdout",
     "output_type": "stream",
     "text": [
      "\n",
      "Coherence Score CV:  0.39894915927756874\n",
      "\n",
      "Coherence Score UMass:  -3.6341830259550436\n",
      "\n",
      "Coherence Score NPMI:  0.0067030243746804665\n",
      "\n",
      "Coherence Score UCI:  -0.7519891413106403\n",
      "\n",
      "Silhouette Score:  -0.07757391370687526\n",
      "\n",
      "Calinski-Harabasz Score:  77.9230406649918\n",
      "\n",
      "Davies-Bouldin Score:  4.61151592424093\n"
     ]
    },
    {
     "name": "stderr",
     "output_type": "stream",
     "text": [
      "C:\\Users\\Annelie Schridde\\AppData\\Roaming\\Python\\Python38\\site-packages\\sklearn\\decomposition\\_nmf.py:1466: UserWarning:\n",
      "\n",
      "The multiplicative update ('mu') solver cannot update zeros present in the initialization, and so leads to poorer results when used jointly with init='nndsvd'. You may try init='nndsvda' or init='nndsvdar' instead.\n",
      "\n"
     ]
    },
    {
     "name": "stdout",
     "output_type": "stream",
     "text": [
      "\n",
      "Coherence Score CV:  0.3983235403491663\n",
      "\n",
      "Coherence Score UMass:  -3.5809463794327856\n",
      "\n",
      "Coherence Score NPMI:  0.007550137457891649\n",
      "\n",
      "Coherence Score UCI:  -0.6805668867334623\n",
      "\n",
      "Silhouette Score:  -0.07519938915793282\n",
      "\n",
      "Calinski-Harabasz Score:  74.73485150345672\n",
      "\n",
      "Davies-Bouldin Score:  4.575389889888573\n"
     ]
    },
    {
     "name": "stderr",
     "output_type": "stream",
     "text": [
      "C:\\Users\\Annelie Schridde\\AppData\\Roaming\\Python\\Python38\\site-packages\\sklearn\\decomposition\\_nmf.py:1466: UserWarning:\n",
      "\n",
      "The multiplicative update ('mu') solver cannot update zeros present in the initialization, and so leads to poorer results when used jointly with init='nndsvd'. You may try init='nndsvda' or init='nndsvdar' instead.\n",
      "\n"
     ]
    },
    {
     "name": "stdout",
     "output_type": "stream",
     "text": [
      "\n",
      "Coherence Score CV:  0.3911030677781278\n",
      "\n",
      "Coherence Score UMass:  -3.726610188843157\n",
      "\n",
      "Coherence Score NPMI:  -0.006601948833400528\n",
      "\n",
      "Coherence Score UCI:  -1.061254502328038\n",
      "\n",
      "Silhouette Score:  -0.0710244965550436\n",
      "\n",
      "Calinski-Harabasz Score:  71.50429684048358\n",
      "\n",
      "Davies-Bouldin Score:  4.449589080416305\n",
      "FINISHED! Evaluation of 20.000 Documents for topic modelling are evaluated!\n"
     ]
    }
   ],
   "source": [
    "n_components = [2,4,6,8, 10, 15, 20, 25, 30, 35, 40, 45, 50]\n",
    "eval_nmf_tfidf = find_best_k(n_components,\"NMF\", tfidf_fit, tfidf, tfidf_feature_names, 20, df['cut_and_clean'], dictionary)"
   ]
  },
  {
   "cell_type": "code",
   "execution_count": 278,
   "metadata": {},
   "outputs": [
    {
     "data": {
      "application/vnd.plotly.v1+json": {
       "config": {
        "plotlyServerURL": "https://plot.ly"
       },
       "data": [
        {
         "name": "cv",
         "type": "scatter",
         "x": [
          "2 Topics",
          "4 Topics",
          "6 Topics",
          "8 Topics",
          "10 Topics",
          "15 Topics",
          "20 Topics",
          "25 Topics",
          "30 Topics",
          "35 Topics",
          "40 Topics",
          "45 Topics",
          "50 Topics"
         ],
         "xaxis": "x",
         "y": [
          0.361158518412307,
          0.3543589453431503,
          0.3751175949407364,
          0.3863010049932811,
          0.4045166968383139,
          0.414750246718754,
          0.4255105102457437,
          0.4252086387797723,
          0.4080098633679084,
          0.4051910112370229,
          0.3989491592775687,
          0.3983235403491663,
          0.3911030677781278
         ],
         "yaxis": "y"
        },
        {
         "marker": {
          "color": "Red",
          "size": 15,
          "symbol": "star"
         },
         "mode": "markers",
         "type": "scatter",
         "x": [
          "20 Topics"
         ],
         "xaxis": "x",
         "y": [
          0.4255105102457437
         ],
         "yaxis": "y"
        },
        {
         "name": "c_umass",
         "type": "scatter",
         "x": [
          "2 Topics",
          "4 Topics",
          "6 Topics",
          "8 Topics",
          "10 Topics",
          "15 Topics",
          "20 Topics",
          "25 Topics",
          "30 Topics",
          "35 Topics",
          "40 Topics",
          "45 Topics",
          "50 Topics"
         ],
         "xaxis": "x2",
         "y": [
          -3.133744230047029,
          -4.216557107538876,
          -3.8921636174686856,
          -3.8441552866307234,
          -3.7189009353561673,
          -3.6667187630531712,
          -3.634599097060804,
          -3.556551536633851,
          -3.580919922709,
          -3.6118008750087354,
          -3.634183025955044,
          -3.5809463794327856,
          -3.726610188843157
         ],
         "yaxis": "y2"
        },
        {
         "marker": {
          "color": "Red",
          "size": 15,
          "symbol": "star"
         },
         "mode": "markers",
         "type": "scatter",
         "x": [
          "2 Topics"
         ],
         "xaxis": "x2",
         "y": [
          -3.133744230047029
         ],
         "yaxis": "y2"
        },
        {
         "name": "c_npmi",
         "type": "scatter",
         "x": [
          "2 Topics",
          "4 Topics",
          "6 Topics",
          "8 Topics",
          "10 Topics",
          "15 Topics",
          "20 Topics",
          "25 Topics",
          "30 Topics",
          "35 Topics",
          "40 Topics",
          "45 Topics",
          "50 Topics"
         ],
         "xaxis": "x3",
         "y": [
          0.0277118200680638,
          0.0326620174333985,
          0.0240151751749126,
          0.0203812660642018,
          0.0271941615659592,
          0.0305202695333467,
          0.0361273339988448,
          0.0286962741730962,
          0.0247903681221839,
          0.0154614892182241,
          0.0067030243746804,
          0.0075501374578916,
          -0.0066019488334005
         ],
         "yaxis": "y3"
        },
        {
         "marker": {
          "color": "Red",
          "size": 15,
          "symbol": "star"
         },
         "mode": "markers",
         "type": "scatter",
         "x": [
          "20 Topics"
         ],
         "xaxis": "x3",
         "y": [
          0.0361273339988448
         ],
         "yaxis": "y3"
        },
        {
         "name": "c_uci",
         "type": "scatter",
         "x": [
          "2 Topics",
          "4 Topics",
          "6 Topics",
          "8 Topics",
          "10 Topics",
          "15 Topics",
          "20 Topics",
          "25 Topics",
          "30 Topics",
          "35 Topics",
          "40 Topics",
          "45 Topics",
          "50 Topics"
         ],
         "xaxis": "x4",
         "y": [
          0.1655354747471369,
          -0.2791297732044661,
          -0.2701727688423805,
          -0.3686540251718981,
          -0.3236515236157528,
          -0.2756117792658207,
          -0.2049168748734098,
          -0.3425386425810767,
          -0.4629722164039191,
          -0.6283131556961293,
          -0.7519891413106403,
          -0.6805668867334623,
          -1.061254502328038
         ],
         "yaxis": "y4"
        },
        {
         "marker": {
          "color": "Red",
          "size": 15,
          "symbol": "star"
         },
         "mode": "markers",
         "type": "scatter",
         "x": [
          "2 Topics"
         ],
         "xaxis": "x4",
         "y": [
          0.1655354747471369
         ],
         "yaxis": "y4"
        },
        {
         "name": "sil_score",
         "type": "scatter",
         "x": [
          "2 Topics",
          "4 Topics",
          "6 Topics",
          "8 Topics",
          "10 Topics",
          "15 Topics",
          "20 Topics",
          "25 Topics",
          "30 Topics",
          "35 Topics",
          "40 Topics",
          "45 Topics",
          "50 Topics"
         ],
         "xaxis": "x5",
         "y": [
          -0.0899623116938277,
          -0.0913639980643021,
          -0.0892642897221993,
          -0.0826590967505968,
          -0.0869466076137641,
          -0.0845538545955298,
          -0.0896398591296966,
          -0.0858285228101332,
          -0.0828430589594364,
          -0.0819736066507123,
          -0.0775739137068752,
          -0.0751993891579328,
          -0.0710244965550436
         ],
         "yaxis": "y5"
        },
        {
         "marker": {
          "color": "Red",
          "size": 15,
          "symbol": "star"
         },
         "mode": "markers",
         "type": "scatter",
         "x": [
          "50 Topics"
         ],
         "xaxis": "x5",
         "y": [
          -0.0710244965550436
         ],
         "yaxis": "y5"
        },
        {
         "name": "ch_index",
         "type": "scatter",
         "x": [
          "2 Topics",
          "4 Topics",
          "6 Topics",
          "8 Topics",
          "10 Topics",
          "15 Topics",
          "20 Topics",
          "25 Topics",
          "30 Topics",
          "35 Topics",
          "40 Topics",
          "45 Topics",
          "50 Topics"
         ],
         "xaxis": "x6",
         "y": [
          115.33187804323327,
          129.7410448952489,
          130.19128253033156,
          125.74952614349372,
          118.9626210047266,
          110.2021885613671,
          100.76944409281086,
          94.16720793927144,
          87.80250811542118,
          82.17975256378442,
          77.9230406649918,
          74.73485150345672,
          71.50429684048358
         ],
         "yaxis": "y6"
        },
        {
         "marker": {
          "color": "Red",
          "size": 15,
          "symbol": "star"
         },
         "mode": "markers",
         "type": "scatter",
         "x": [
          "6 Topics"
         ],
         "xaxis": "x6",
         "y": [
          130.19128253033156
         ],
         "yaxis": "y6"
        },
        {
         "name": "db_index",
         "type": "scatter",
         "x": [
          "2 Topics",
          "4 Topics",
          "6 Topics",
          "8 Topics",
          "10 Topics",
          "15 Topics",
          "20 Topics",
          "25 Topics",
          "30 Topics",
          "35 Topics",
          "40 Topics",
          "45 Topics",
          "50 Topics"
         ],
         "xaxis": "x7",
         "y": [
          6.00448652824122,
          5.149862882763653,
          4.776509096660938,
          4.547825020901595,
          4.949679350245441,
          4.610010380978618,
          4.699224597858545,
          4.472287916933924,
          4.6651572048373975,
          4.599130594555624,
          4.61151592424093,
          4.575389889888573,
          4.449589080416305
         ],
         "yaxis": "y7"
        },
        {
         "marker": {
          "color": "Red",
          "size": 15,
          "symbol": "star"
         },
         "mode": "markers",
         "type": "scatter",
         "x": [
          "50 Topics"
         ],
         "xaxis": "x7",
         "y": [
          4.449589080416305
         ],
         "yaxis": "y7"
        }
       ],
       "layout": {
        "annotations": [
         {
          "font": {
           "size": 16
          },
          "showarrow": false,
          "text": "Cv",
          "x": 0.5,
          "xanchor": "center",
          "xref": "paper",
          "y": 1,
          "yanchor": "bottom",
          "yref": "paper"
         },
         {
          "font": {
           "size": 16
          },
          "showarrow": false,
          "text": "UMass",
          "x": 0.5,
          "xanchor": "center",
          "xref": "paper",
          "y": 0.8671875,
          "yanchor": "bottom",
          "yref": "paper"
         },
         {
          "font": {
           "size": 16
          },
          "showarrow": false,
          "text": "NPMI",
          "x": 0.5,
          "xanchor": "center",
          "xref": "paper",
          "y": 0.734375,
          "yanchor": "bottom",
          "yref": "paper"
         },
         {
          "font": {
           "size": 16
          },
          "showarrow": false,
          "text": "UCI",
          "x": 0.5,
          "xanchor": "center",
          "xref": "paper",
          "y": 0.6015625,
          "yanchor": "bottom",
          "yref": "paper"
         },
         {
          "font": {
           "size": 16
          },
          "showarrow": false,
          "text": "Silhouette Score",
          "x": 0.5,
          "xanchor": "center",
          "xref": "paper",
          "y": 0.46875,
          "yanchor": "bottom",
          "yref": "paper"
         },
         {
          "font": {
           "size": 16
          },
          "showarrow": false,
          "text": "Calinski-Harabasz Score",
          "x": 0.5,
          "xanchor": "center",
          "xref": "paper",
          "y": 0.3359375,
          "yanchor": "bottom",
          "yref": "paper"
         },
         {
          "font": {
           "size": 16
          },
          "showarrow": false,
          "text": "Davies-Bouldin Score",
          "x": 0.5,
          "xanchor": "center",
          "xref": "paper",
          "y": 0.203125,
          "yanchor": "bottom",
          "yref": "paper"
         },
         {
          "showarrow": false,
          "text": "Best K",
          "x": "20 Topics",
          "xref": "x",
          "y": 0.4255105102457437,
          "yref": "y",
          "yshift": 20
         },
         {
          "showarrow": false,
          "text": "Best K",
          "x": "2 Topics",
          "xref": "x2",
          "y": -3.133744230047029,
          "yref": "y2",
          "yshift": 20
         },
         {
          "showarrow": false,
          "text": "Best K",
          "x": "20 Topics",
          "xref": "x3",
          "y": 0.0361273339988448,
          "yref": "y3",
          "yshift": 20
         },
         {
          "showarrow": false,
          "text": "Best K",
          "x": "2 Topics",
          "xref": "x4",
          "y": 0.1655354747471369,
          "yref": "y4",
          "yshift": 20
         },
         {
          "showarrow": false,
          "text": "Best K",
          "x": "50 Topics",
          "xref": "x5",
          "y": -0.0710244965550436,
          "yref": "y5",
          "yshift": 20
         },
         {
          "showarrow": false,
          "text": "Best K",
          "x": "6 Topics",
          "xref": "x6",
          "y": 130.19128253033156,
          "yref": "y6",
          "yshift": 20
         },
         {
          "showarrow": false,
          "text": "Best K",
          "x": "50 Topics",
          "xref": "x7",
          "y": 4.449589080416305,
          "yref": "y7",
          "yshift": 20
         }
        ],
        "height": 1600,
        "shapes": [
         {
          "line": {
           "color": "SeaGreen",
           "width": 10
          },
          "opacity": 0.5,
          "type": "line",
          "x0": "20 Topics",
          "x1": "20 Topics",
          "xref": "x",
          "y0": 0.3543589453431503,
          "y1": 0.4255105102457437,
          "yref": "y"
         },
         {
          "line": {
           "color": "SeaGreen",
           "width": 10
          },
          "opacity": 0.5,
          "type": "line",
          "x0": "2 Topics",
          "x1": "2 Topics",
          "xref": "x2",
          "y0": -4.216557107538876,
          "y1": -3.133744230047029,
          "yref": "y2"
         },
         {
          "line": {
           "color": "SeaGreen",
           "width": 10
          },
          "opacity": 0.5,
          "type": "line",
          "x0": "20 Topics",
          "x1": "20 Topics",
          "xref": "x3",
          "y0": -0.0066019488334005,
          "y1": 0.0361273339988448,
          "yref": "y3"
         },
         {
          "line": {
           "color": "SeaGreen",
           "width": 10
          },
          "opacity": 0.5,
          "type": "line",
          "x0": "2 Topics",
          "x1": "2 Topics",
          "xref": "x4",
          "y0": -1.061254502328038,
          "y1": 0.1655354747471369,
          "yref": "y4"
         },
         {
          "line": {
           "color": "SeaGreen",
           "width": 10
          },
          "opacity": 0.5,
          "type": "line",
          "x0": "50 Topics",
          "x1": "50 Topics",
          "xref": "x5",
          "y0": -0.0913639980643021,
          "y1": -0.0710244965550436,
          "yref": "y5"
         },
         {
          "line": {
           "color": "SeaGreen",
           "width": 10
          },
          "opacity": 0.5,
          "type": "line",
          "x0": "6 Topics",
          "x1": "6 Topics",
          "xref": "x6",
          "y0": 71.50429684048358,
          "y1": 130.19128253033156,
          "yref": "y6"
         },
         {
          "line": {
           "color": "SeaGreen",
           "width": 10
          },
          "opacity": 0.5,
          "type": "line",
          "x0": "50 Topics",
          "x1": "50 Topics",
          "xref": "x7",
          "y0": 3.449589080416305,
          "y1": 4.449589080416305,
          "yref": "y7"
         }
        ],
        "showlegend": false,
        "template": {
         "data": {
          "bar": [
           {
            "error_x": {
             "color": "#2a3f5f"
            },
            "error_y": {
             "color": "#2a3f5f"
            },
            "marker": {
             "line": {
              "color": "#E5ECF6",
              "width": 0.5
             },
             "pattern": {
              "fillmode": "overlay",
              "size": 10,
              "solidity": 0.2
             }
            },
            "type": "bar"
           }
          ],
          "barpolar": [
           {
            "marker": {
             "line": {
              "color": "#E5ECF6",
              "width": 0.5
             },
             "pattern": {
              "fillmode": "overlay",
              "size": 10,
              "solidity": 0.2
             }
            },
            "type": "barpolar"
           }
          ],
          "carpet": [
           {
            "aaxis": {
             "endlinecolor": "#2a3f5f",
             "gridcolor": "white",
             "linecolor": "white",
             "minorgridcolor": "white",
             "startlinecolor": "#2a3f5f"
            },
            "baxis": {
             "endlinecolor": "#2a3f5f",
             "gridcolor": "white",
             "linecolor": "white",
             "minorgridcolor": "white",
             "startlinecolor": "#2a3f5f"
            },
            "type": "carpet"
           }
          ],
          "choropleth": [
           {
            "colorbar": {
             "outlinewidth": 0,
             "ticks": ""
            },
            "type": "choropleth"
           }
          ],
          "contour": [
           {
            "colorbar": {
             "outlinewidth": 0,
             "ticks": ""
            },
            "colorscale": [
             [
              0,
              "#0d0887"
             ],
             [
              0.1111111111111111,
              "#46039f"
             ],
             [
              0.2222222222222222,
              "#7201a8"
             ],
             [
              0.3333333333333333,
              "#9c179e"
             ],
             [
              0.4444444444444444,
              "#bd3786"
             ],
             [
              0.5555555555555556,
              "#d8576b"
             ],
             [
              0.6666666666666666,
              "#ed7953"
             ],
             [
              0.7777777777777778,
              "#fb9f3a"
             ],
             [
              0.8888888888888888,
              "#fdca26"
             ],
             [
              1,
              "#f0f921"
             ]
            ],
            "type": "contour"
           }
          ],
          "contourcarpet": [
           {
            "colorbar": {
             "outlinewidth": 0,
             "ticks": ""
            },
            "type": "contourcarpet"
           }
          ],
          "heatmap": [
           {
            "colorbar": {
             "outlinewidth": 0,
             "ticks": ""
            },
            "colorscale": [
             [
              0,
              "#0d0887"
             ],
             [
              0.1111111111111111,
              "#46039f"
             ],
             [
              0.2222222222222222,
              "#7201a8"
             ],
             [
              0.3333333333333333,
              "#9c179e"
             ],
             [
              0.4444444444444444,
              "#bd3786"
             ],
             [
              0.5555555555555556,
              "#d8576b"
             ],
             [
              0.6666666666666666,
              "#ed7953"
             ],
             [
              0.7777777777777778,
              "#fb9f3a"
             ],
             [
              0.8888888888888888,
              "#fdca26"
             ],
             [
              1,
              "#f0f921"
             ]
            ],
            "type": "heatmap"
           }
          ],
          "heatmapgl": [
           {
            "colorbar": {
             "outlinewidth": 0,
             "ticks": ""
            },
            "colorscale": [
             [
              0,
              "#0d0887"
             ],
             [
              0.1111111111111111,
              "#46039f"
             ],
             [
              0.2222222222222222,
              "#7201a8"
             ],
             [
              0.3333333333333333,
              "#9c179e"
             ],
             [
              0.4444444444444444,
              "#bd3786"
             ],
             [
              0.5555555555555556,
              "#d8576b"
             ],
             [
              0.6666666666666666,
              "#ed7953"
             ],
             [
              0.7777777777777778,
              "#fb9f3a"
             ],
             [
              0.8888888888888888,
              "#fdca26"
             ],
             [
              1,
              "#f0f921"
             ]
            ],
            "type": "heatmapgl"
           }
          ],
          "histogram": [
           {
            "marker": {
             "pattern": {
              "fillmode": "overlay",
              "size": 10,
              "solidity": 0.2
             }
            },
            "type": "histogram"
           }
          ],
          "histogram2d": [
           {
            "colorbar": {
             "outlinewidth": 0,
             "ticks": ""
            },
            "colorscale": [
             [
              0,
              "#0d0887"
             ],
             [
              0.1111111111111111,
              "#46039f"
             ],
             [
              0.2222222222222222,
              "#7201a8"
             ],
             [
              0.3333333333333333,
              "#9c179e"
             ],
             [
              0.4444444444444444,
              "#bd3786"
             ],
             [
              0.5555555555555556,
              "#d8576b"
             ],
             [
              0.6666666666666666,
              "#ed7953"
             ],
             [
              0.7777777777777778,
              "#fb9f3a"
             ],
             [
              0.8888888888888888,
              "#fdca26"
             ],
             [
              1,
              "#f0f921"
             ]
            ],
            "type": "histogram2d"
           }
          ],
          "histogram2dcontour": [
           {
            "colorbar": {
             "outlinewidth": 0,
             "ticks": ""
            },
            "colorscale": [
             [
              0,
              "#0d0887"
             ],
             [
              0.1111111111111111,
              "#46039f"
             ],
             [
              0.2222222222222222,
              "#7201a8"
             ],
             [
              0.3333333333333333,
              "#9c179e"
             ],
             [
              0.4444444444444444,
              "#bd3786"
             ],
             [
              0.5555555555555556,
              "#d8576b"
             ],
             [
              0.6666666666666666,
              "#ed7953"
             ],
             [
              0.7777777777777778,
              "#fb9f3a"
             ],
             [
              0.8888888888888888,
              "#fdca26"
             ],
             [
              1,
              "#f0f921"
             ]
            ],
            "type": "histogram2dcontour"
           }
          ],
          "mesh3d": [
           {
            "colorbar": {
             "outlinewidth": 0,
             "ticks": ""
            },
            "type": "mesh3d"
           }
          ],
          "parcoords": [
           {
            "line": {
             "colorbar": {
              "outlinewidth": 0,
              "ticks": ""
             }
            },
            "type": "parcoords"
           }
          ],
          "pie": [
           {
            "automargin": true,
            "type": "pie"
           }
          ],
          "scatter": [
           {
            "marker": {
             "colorbar": {
              "outlinewidth": 0,
              "ticks": ""
             }
            },
            "type": "scatter"
           }
          ],
          "scatter3d": [
           {
            "line": {
             "colorbar": {
              "outlinewidth": 0,
              "ticks": ""
             }
            },
            "marker": {
             "colorbar": {
              "outlinewidth": 0,
              "ticks": ""
             }
            },
            "type": "scatter3d"
           }
          ],
          "scattercarpet": [
           {
            "marker": {
             "colorbar": {
              "outlinewidth": 0,
              "ticks": ""
             }
            },
            "type": "scattercarpet"
           }
          ],
          "scattergeo": [
           {
            "marker": {
             "colorbar": {
              "outlinewidth": 0,
              "ticks": ""
             }
            },
            "type": "scattergeo"
           }
          ],
          "scattergl": [
           {
            "marker": {
             "colorbar": {
              "outlinewidth": 0,
              "ticks": ""
             }
            },
            "type": "scattergl"
           }
          ],
          "scattermapbox": [
           {
            "marker": {
             "colorbar": {
              "outlinewidth": 0,
              "ticks": ""
             }
            },
            "type": "scattermapbox"
           }
          ],
          "scatterpolar": [
           {
            "marker": {
             "colorbar": {
              "outlinewidth": 0,
              "ticks": ""
             }
            },
            "type": "scatterpolar"
           }
          ],
          "scatterpolargl": [
           {
            "marker": {
             "colorbar": {
              "outlinewidth": 0,
              "ticks": ""
             }
            },
            "type": "scatterpolargl"
           }
          ],
          "scatterternary": [
           {
            "marker": {
             "colorbar": {
              "outlinewidth": 0,
              "ticks": ""
             }
            },
            "type": "scatterternary"
           }
          ],
          "surface": [
           {
            "colorbar": {
             "outlinewidth": 0,
             "ticks": ""
            },
            "colorscale": [
             [
              0,
              "#0d0887"
             ],
             [
              0.1111111111111111,
              "#46039f"
             ],
             [
              0.2222222222222222,
              "#7201a8"
             ],
             [
              0.3333333333333333,
              "#9c179e"
             ],
             [
              0.4444444444444444,
              "#bd3786"
             ],
             [
              0.5555555555555556,
              "#d8576b"
             ],
             [
              0.6666666666666666,
              "#ed7953"
             ],
             [
              0.7777777777777778,
              "#fb9f3a"
             ],
             [
              0.8888888888888888,
              "#fdca26"
             ],
             [
              1,
              "#f0f921"
             ]
            ],
            "type": "surface"
           }
          ],
          "table": [
           {
            "cells": {
             "fill": {
              "color": "#EBF0F8"
             },
             "line": {
              "color": "white"
             }
            },
            "header": {
             "fill": {
              "color": "#C8D4E3"
             },
             "line": {
              "color": "white"
             }
            },
            "type": "table"
           }
          ]
         },
         "layout": {
          "annotationdefaults": {
           "arrowcolor": "#2a3f5f",
           "arrowhead": 0,
           "arrowwidth": 1
          },
          "autotypenumbers": "strict",
          "coloraxis": {
           "colorbar": {
            "outlinewidth": 0,
            "ticks": ""
           }
          },
          "colorscale": {
           "diverging": [
            [
             0,
             "#8e0152"
            ],
            [
             0.1,
             "#c51b7d"
            ],
            [
             0.2,
             "#de77ae"
            ],
            [
             0.3,
             "#f1b6da"
            ],
            [
             0.4,
             "#fde0ef"
            ],
            [
             0.5,
             "#f7f7f7"
            ],
            [
             0.6,
             "#e6f5d0"
            ],
            [
             0.7,
             "#b8e186"
            ],
            [
             0.8,
             "#7fbc41"
            ],
            [
             0.9,
             "#4d9221"
            ],
            [
             1,
             "#276419"
            ]
           ],
           "sequential": [
            [
             0,
             "#0d0887"
            ],
            [
             0.1111111111111111,
             "#46039f"
            ],
            [
             0.2222222222222222,
             "#7201a8"
            ],
            [
             0.3333333333333333,
             "#9c179e"
            ],
            [
             0.4444444444444444,
             "#bd3786"
            ],
            [
             0.5555555555555556,
             "#d8576b"
            ],
            [
             0.6666666666666666,
             "#ed7953"
            ],
            [
             0.7777777777777778,
             "#fb9f3a"
            ],
            [
             0.8888888888888888,
             "#fdca26"
            ],
            [
             1,
             "#f0f921"
            ]
           ],
           "sequentialminus": [
            [
             0,
             "#0d0887"
            ],
            [
             0.1111111111111111,
             "#46039f"
            ],
            [
             0.2222222222222222,
             "#7201a8"
            ],
            [
             0.3333333333333333,
             "#9c179e"
            ],
            [
             0.4444444444444444,
             "#bd3786"
            ],
            [
             0.5555555555555556,
             "#d8576b"
            ],
            [
             0.6666666666666666,
             "#ed7953"
            ],
            [
             0.7777777777777778,
             "#fb9f3a"
            ],
            [
             0.8888888888888888,
             "#fdca26"
            ],
            [
             1,
             "#f0f921"
            ]
           ]
          },
          "colorway": [
           "#636efa",
           "#EF553B",
           "#00cc96",
           "#ab63fa",
           "#FFA15A",
           "#19d3f3",
           "#FF6692",
           "#B6E880",
           "#FF97FF",
           "#FECB52"
          ],
          "font": {
           "color": "#2a3f5f"
          },
          "geo": {
           "bgcolor": "white",
           "lakecolor": "white",
           "landcolor": "#E5ECF6",
           "showlakes": true,
           "showland": true,
           "subunitcolor": "white"
          },
          "hoverlabel": {
           "align": "left"
          },
          "hovermode": "closest",
          "mapbox": {
           "style": "light"
          },
          "paper_bgcolor": "white",
          "plot_bgcolor": "#E5ECF6",
          "polar": {
           "angularaxis": {
            "gridcolor": "white",
            "linecolor": "white",
            "ticks": ""
           },
           "bgcolor": "#E5ECF6",
           "radialaxis": {
            "gridcolor": "white",
            "linecolor": "white",
            "ticks": ""
           }
          },
          "scene": {
           "xaxis": {
            "backgroundcolor": "#E5ECF6",
            "gridcolor": "white",
            "gridwidth": 2,
            "linecolor": "white",
            "showbackground": true,
            "ticks": "",
            "zerolinecolor": "white"
           },
           "yaxis": {
            "backgroundcolor": "#E5ECF6",
            "gridcolor": "white",
            "gridwidth": 2,
            "linecolor": "white",
            "showbackground": true,
            "ticks": "",
            "zerolinecolor": "white"
           },
           "zaxis": {
            "backgroundcolor": "#E5ECF6",
            "gridcolor": "white",
            "gridwidth": 2,
            "linecolor": "white",
            "showbackground": true,
            "ticks": "",
            "zerolinecolor": "white"
           }
          },
          "shapedefaults": {
           "line": {
            "color": "#2a3f5f"
           }
          },
          "ternary": {
           "aaxis": {
            "gridcolor": "white",
            "linecolor": "white",
            "ticks": ""
           },
           "baxis": {
            "gridcolor": "white",
            "linecolor": "white",
            "ticks": ""
           },
           "bgcolor": "#E5ECF6",
           "caxis": {
            "gridcolor": "white",
            "linecolor": "white",
            "ticks": ""
           }
          },
          "title": {
           "x": 0.05
          },
          "xaxis": {
           "automargin": true,
           "gridcolor": "white",
           "linecolor": "white",
           "ticks": "",
           "title": {
            "standoff": 15
           },
           "zerolinecolor": "white",
           "zerolinewidth": 2
          },
          "yaxis": {
           "automargin": true,
           "gridcolor": "white",
           "linecolor": "white",
           "ticks": "",
           "title": {
            "standoff": 15
           },
           "zerolinecolor": "white",
           "zerolinewidth": 2
          }
         }
        },
        "title": {
         "text": "Results NMF with TF-IDF"
        },
        "width": 900,
        "xaxis": {
         "anchor": "y",
         "domain": [
          0,
          1
         ]
        },
        "xaxis2": {
         "anchor": "y2",
         "domain": [
          0,
          1
         ]
        },
        "xaxis3": {
         "anchor": "y3",
         "domain": [
          0,
          1
         ]
        },
        "xaxis4": {
         "anchor": "y4",
         "domain": [
          0,
          1
         ]
        },
        "xaxis5": {
         "anchor": "y5",
         "domain": [
          0,
          1
         ]
        },
        "xaxis6": {
         "anchor": "y6",
         "domain": [
          0,
          1
         ]
        },
        "xaxis7": {
         "anchor": "y7",
         "domain": [
          0,
          1
         ]
        },
        "xaxis8": {
         "anchor": "y8",
         "domain": [
          0,
          1
         ]
        },
        "yaxis": {
         "anchor": "x",
         "domain": [
          0.9296875,
          1
         ],
         "title": {
          "text": "Metric Values"
         }
        },
        "yaxis2": {
         "anchor": "x2",
         "domain": [
          0.796875,
          0.8671875
         ],
         "title": {
          "text": "Metric Values"
         }
        },
        "yaxis3": {
         "anchor": "x3",
         "domain": [
          0.6640625,
          0.734375
         ],
         "title": {
          "text": "Metric Values"
         }
        },
        "yaxis4": {
         "anchor": "x4",
         "domain": [
          0.53125,
          0.6015625
         ],
         "title": {
          "text": "Metric Values"
         }
        },
        "yaxis5": {
         "anchor": "x5",
         "domain": [
          0.3984375,
          0.46875
         ],
         "title": {
          "text": "Metric Values"
         }
        },
        "yaxis6": {
         "anchor": "x6",
         "domain": [
          0.265625,
          0.3359375
         ],
         "title": {
          "text": "Metric Values"
         }
        },
        "yaxis7": {
         "anchor": "x7",
         "domain": [
          0.1328125,
          0.203125
         ],
         "title": {
          "text": "Metric Values"
         }
        },
        "yaxis8": {
         "anchor": "x8",
         "domain": [
          0,
          0.0703125
         ],
         "title": {
          "text": "Metric Values"
         }
        }
       }
      }
     },
     "metadata": {},
     "output_type": "display_data"
    }
   ],
   "source": [
    "eval_nmf_tfidf = pd.read_csv('../Results/bestk_nmf_tfidf_nndsvd_batch.csv',index_col=\"Unnamed: 0\")\n",
    "plot_results(eval_nmf_tfidf, \"Results NMF with TF-IDF\")"
   ]
  },
  {
   "cell_type": "code",
   "execution_count": null,
   "metadata": {},
   "outputs": [],
   "source": []
  },
  {
   "cell_type": "code",
   "execution_count": null,
   "metadata": {},
   "outputs": [],
   "source": []
  },
  {
   "cell_type": "code",
   "execution_count": null,
   "metadata": {},
   "outputs": [],
   "source": []
  }
 ],
 "metadata": {
  "kernelspec": {
   "display_name": "Python 3.8.2 64-bit",
   "language": "python",
   "name": "python3"
  },
  "language_info": {
   "codemirror_mode": {
    "name": "ipython",
    "version": 3
   },
   "file_extension": ".py",
   "mimetype": "text/x-python",
   "name": "python",
   "nbconvert_exporter": "python",
   "pygments_lexer": "ipython3",
   "version": "3.8.2"
  },
  "orig_nbformat": 4,
  "vscode": {
   "interpreter": {
    "hash": "570feb405e2e27c949193ac68f46852414290d515b0ba6e5d90d076ed2284471"
   }
  }
 },
 "nbformat": 4,
 "nbformat_minor": 2
}
